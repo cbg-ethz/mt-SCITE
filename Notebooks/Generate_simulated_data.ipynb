{
 "cells": [
  {
   "cell_type": "code",
   "execution_count": 1,
   "id": "682cd5dd",
   "metadata": {},
   "outputs": [],
   "source": [
    "import pandas as pd\n",
    "import numpy as np\n",
    "import random\n",
    "from glob import glob\n",
    "import os\n",
    "import re"
   ]
  },
  {
   "cell_type": "markdown",
   "id": "4830af8d",
   "metadata": {},
   "source": [
    "## Generate simulation pmats"
   ]
  },
  {
   "cell_type": "code",
   "execution_count": 1,
   "id": "29fb6508",
   "metadata": {},
   "outputs": [],
   "source": [
    "def generate_gt_pmat(n_rows, clones, samples, n_mutations, high_prob, low_prob): #n_rows, clones, samples, n_mutations, high_prob, low_prob\n",
    "    c = [f'c{w+1}' for w in range(clones)]\n",
    "    s = [f's{w+1}' for w in range(samples)]\n",
    "    mux = pd.MultiIndex.from_product([c, s])\n",
    "    \n",
    "    #Generate a dataframe with with default value\n",
    "    gt = pd.DataFrame(low_prob, index=np.arange(n_rows) // n_mutations, columns=mux)\n",
    "    \n",
    "    # random assign high probability for mutation by random index with no repeat\n",
    "    for c, i in zip(gt.columns.levels[0], \n",
    "                    np.random.choice(np.unique(gt.index), clones, replace=False)):\n",
    "        gt.loc[i, c] = high_prob\n",
    "    \n",
    "    gt.columns = gt.columns.map(lambda clones: f'{clones[0]}_{clones[1]}')\n",
    "    gt = gt.reset_index(drop=True)\n",
    "    \n",
    "    gt.insert(loc=0, column='bulk', value=0.0001)\n",
    "    #gt_size = gt.shape\n",
    "\n",
    "    matrix_path = '../../data/simulated_matrix_output/no_dropout/0_cells_0_pos.csv'\n",
    "    gt.to_csv(matrix_path, index=False, sep=' ', header= False)\n",
    "\n",
    "    return gt\n",
    "\n",
    "\n",
    "## should bulk be removed when adding noise?\n",
    "\n",
    "# max is max len of pmat\n",
    "def add_noise(gt, max):\n",
    "    \n",
    "    # x is n cells sharing a non-informative phylo signal\n",
    "    for x in range(1, 8):\n",
    "        gt_w_noise = gt.copy()\n",
    "        counter = 0\n",
    "        \n",
    "        # i is the number of added non-informative positions\n",
    "        for i in range(1, max):\n",
    "            if len(gt_w_noise) != max:\n",
    "                counter+=1\n",
    "                # add new row with low probability for mutation\n",
    "                gt_w_noise.loc[-1,:] = 0.0001\n",
    "\n",
    "                # reset index\n",
    "                gt_w_noise = gt_w_noise.reset_index(drop=True)\n",
    "\n",
    "                # assign high probability to x randomly selected cells on last row\n",
    "                gt_w_noise.iloc[-1:, random.sample(list(range(gt_w_noise.shape[1])), x)] = 0.9\n",
    "                \n",
    "                # n is number of added non-informative positions\n",
    "                n = str(counter)\n",
    "                \n",
    "                matrix_path = '../../data/simulated_matrix_output/no_dropout/' + str(x) + '_cells_' + n + '_pos.csv'\n",
    "                gt_w_noise.to_csv(matrix_path, index=False, sep=' ', header= False)\n",
    "                #print(len(gt_w_noise))\n"
   ]
  },
  {
   "cell_type": "code",
   "execution_count": 2,
   "id": "6ba8753f",
   "metadata": {},
   "outputs": [],
   "source": [
    "n_rows = 6 #total number of mutations in pmat. This must be clones * n_mutations? #6\n",
    "clones = 6 # number of clones #6\n",
    "samples = 6 # number of cells per clone #6\n",
    "n_mutations = 1 # number of mutations per clone\n",
    "high_prob = 0.9 # probability for presence of mutation\n",
    "low_prob = 0.0001 # probability for absence of mutation\n",
    "\n",
    "max_mut = 18 # max total len of pmat. max_mut - n_rows = number of added noise pos\n",
    "max_samples = 8 # "
   ]
  },
  {
   "cell_type": "code",
   "execution_count": 3,
   "id": "1d734b83",
   "metadata": {},
   "outputs": [
    {
     "ename": "NameError",
     "evalue": "name 'pd' is not defined",
     "output_type": "error",
     "traceback": [
      "\u001b[0;31m---------------------------------------------------------------------------\u001b[0m",
      "\u001b[0;31mNameError\u001b[0m                                 Traceback (most recent call last)",
      "Input \u001b[0;32mIn [3]\u001b[0m, in \u001b[0;36m<cell line: 1>\u001b[0;34m()\u001b[0m\n\u001b[0;32m----> 1\u001b[0m gt \u001b[38;5;241m=\u001b[39m \u001b[43mgenerate_gt_pmat\u001b[49m\u001b[43m(\u001b[49m\u001b[43mn_rows\u001b[49m\u001b[43m,\u001b[49m\u001b[43m \u001b[49m\u001b[43mclones\u001b[49m\u001b[43m,\u001b[49m\u001b[43m \u001b[49m\u001b[43msamples\u001b[49m\u001b[43m,\u001b[49m\u001b[43m \u001b[49m\u001b[43mn_mutations\u001b[49m\u001b[43m,\u001b[49m\u001b[43m \u001b[49m\u001b[43mhigh_prob\u001b[49m\u001b[43m,\u001b[49m\u001b[43m \u001b[49m\u001b[43mlow_prob\u001b[49m\u001b[43m)\u001b[49m\n\u001b[1;32m      2\u001b[0m gt\n",
      "Input \u001b[0;32mIn [1]\u001b[0m, in \u001b[0;36mgenerate_gt_pmat\u001b[0;34m(n_rows, clones, samples, n_mutations, high_prob, low_prob)\u001b[0m\n\u001b[1;32m      2\u001b[0m c \u001b[38;5;241m=\u001b[39m [\u001b[38;5;124mf\u001b[39m\u001b[38;5;124m'\u001b[39m\u001b[38;5;124mc\u001b[39m\u001b[38;5;132;01m{\u001b[39;00mw\u001b[38;5;241m+\u001b[39m\u001b[38;5;241m1\u001b[39m\u001b[38;5;132;01m}\u001b[39;00m\u001b[38;5;124m'\u001b[39m \u001b[38;5;28;01mfor\u001b[39;00m w \u001b[38;5;129;01min\u001b[39;00m \u001b[38;5;28mrange\u001b[39m(clones)]\n\u001b[1;32m      3\u001b[0m s \u001b[38;5;241m=\u001b[39m [\u001b[38;5;124mf\u001b[39m\u001b[38;5;124m'\u001b[39m\u001b[38;5;124ms\u001b[39m\u001b[38;5;132;01m{\u001b[39;00mw\u001b[38;5;241m+\u001b[39m\u001b[38;5;241m1\u001b[39m\u001b[38;5;132;01m}\u001b[39;00m\u001b[38;5;124m'\u001b[39m \u001b[38;5;28;01mfor\u001b[39;00m w \u001b[38;5;129;01min\u001b[39;00m \u001b[38;5;28mrange\u001b[39m(samples)]\n\u001b[0;32m----> 4\u001b[0m mux \u001b[38;5;241m=\u001b[39m \u001b[43mpd\u001b[49m\u001b[38;5;241m.\u001b[39mMultiIndex\u001b[38;5;241m.\u001b[39mfrom_product([c, s])\n\u001b[1;32m      6\u001b[0m \u001b[38;5;66;03m#Generate a dataframe with with default value\u001b[39;00m\n\u001b[1;32m      7\u001b[0m gt \u001b[38;5;241m=\u001b[39m pd\u001b[38;5;241m.\u001b[39mDataFrame(low_prob, index\u001b[38;5;241m=\u001b[39mnp\u001b[38;5;241m.\u001b[39marange(n_rows) \u001b[38;5;241m/\u001b[39m\u001b[38;5;241m/\u001b[39m n_mutations, columns\u001b[38;5;241m=\u001b[39mmux)\n",
      "\u001b[0;31mNameError\u001b[0m: name 'pd' is not defined"
     ]
    }
   ],
   "source": [
    "gt = generate_gt_pmat(n_rows, clones, samples, n_mutations, high_prob, low_prob)\n",
    "gt"
   ]
  },
  {
   "cell_type": "code",
   "execution_count": 25,
   "id": "e86ba949",
   "metadata": {},
   "outputs": [],
   "source": [
    "add_noise(gt, max_mut)"
   ]
  },
  {
   "cell_type": "code",
   "execution_count": 21,
   "id": "f91adff3",
   "metadata": {},
   "outputs": [
    {
     "data": {
      "text/plain": [
       "6"
      ]
     },
     "execution_count": 21,
     "metadata": {},
     "output_type": "execute_result"
    }
   ],
   "source": [
    "len(gt)"
   ]
  },
  {
   "cell_type": "code",
   "execution_count": null,
   "id": "c8e7d436",
   "metadata": {},
   "outputs": [],
   "source": []
  }
 ],
 "metadata": {
  "kernelspec": {
   "display_name": "mtSCITE",
   "language": "python",
   "name": "mtscite"
  },
  "language_info": {
   "codemirror_mode": {
    "name": "ipython",
    "version": 3
   },
   "file_extension": ".py",
   "mimetype": "text/x-python",
   "name": "python",
   "nbconvert_exporter": "python",
   "pygments_lexer": "ipython3",
   "version": "3.10.6"
  }
 },
 "nbformat": 4,
 "nbformat_minor": 5
}
