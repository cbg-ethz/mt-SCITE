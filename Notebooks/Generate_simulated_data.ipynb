{
 "cells": [
  {
   "cell_type": "code",
   "execution_count": 1,
   "id": "682cd5dd",
   "metadata": {},
   "outputs": [],
   "source": [
    "import pandas as pd\n",
    "import numpy as np"
   ]
  },
  {
   "cell_type": "markdown",
   "id": "4830af8d",
   "metadata": {},
   "source": [
    "## Generate a ground truth pmat"
   ]
  },
  {
   "cell_type": "code",
   "execution_count": 72,
   "id": "f3a99d50",
   "metadata": {},
   "outputs": [],
   "source": [
    "\n",
    "n_rows = 6 #total number of mutations in pmat\n",
    "clones = 6 # number of clones\n",
    "samples = 6 # number of cells per clone\n",
    "n_mutations = 1 # number of mutations per clone\n",
    "high_prob = 0.9 # probability for presence of mutation\n",
    "low_prob = 0.0001 # probability for absence of mutation\n",
    "\n",
    "if n_rows != n_mutations * clones:\n",
    "    print('number of mutations per clone is not matching the total number of mutations!')\n",
    "\n",
    "# clone name\n",
    "c = [f'c{w+1}' for w in range(clones)]\n",
    "\n",
    "# cell name\n",
    "s = [f's{w+1}' for w in range(samples)]\n",
    "\n",
    "# multi index by product\n",
    "mux = pd.MultiIndex.from_product([c, s])\n",
    "\n",
    "#Generate a dataframe with with default value\n",
    "gt = pd.DataFrame(low_prob, index=np.arange(n_rows) // n_mutations, columns=mux)\n",
    "\n",
    "# random assign high probability for mutation by random index with no repeat\n",
    "for c, i in zip(gt.columns.levels[0], \n",
    "                np.random.choice(np.unique(gt.index), clones, replace=False)):\n",
    "    gt.loc[i, c] = high_prob\n",
    "\n",
    "gt.columns = gt.columns.map(lambda clones: f'{clones[0]}_{clones[1]}')\n",
    "\n",
    "gt = gt.reset_index(drop=True)\n",
    "\n",
    "# add bulk\n",
    "gt.insert(loc=0, column='bulk', value=0.0001)\n",
    "#gt['bulk'] = 0.0001"
   ]
  },
  {
   "cell_type": "code",
   "execution_count": 74,
   "id": "d75758fa",
   "metadata": {},
   "outputs": [
    {
     "data": {
      "text/plain": [
       "(6, 37)"
      ]
     },
     "execution_count": 74,
     "metadata": {},
     "output_type": "execute_result"
    }
   ],
   "source": [
    "gt.shape"
   ]
  },
  {
   "cell_type": "code",
   "execution_count": 75,
   "id": "8ba8efd6",
   "metadata": {},
   "outputs": [],
   "source": [
    "exp_name = '0'\n",
    "matrix_path = '../../data/simulated_matrix_output/' + exp_name + '.csv'\n",
    "gt.to_csv(matrix_path, index=False, sep=' ', header= False)"
   ]
  },
  {
   "cell_type": "code",
   "execution_count": null,
   "id": "5cbf569c",
   "metadata": {},
   "outputs": [],
   "source": []
  },
  {
   "cell_type": "markdown",
   "id": "83e03c34",
   "metadata": {},
   "source": [
    "## Remove clone specific mutations"
   ]
  },
  {
   "cell_type": "code",
   "execution_count": 78,
   "id": "beaba167",
   "metadata": {},
   "outputs": [],
   "source": [
    "rm_1 = gt.copy()\n",
    "rm_1 = rm_1.drop([1])\n",
    "rm_2 = rm_1.drop([2])\n",
    "rm_3 = rm_2.drop([3])\n",
    "rm_4 = rm_3.drop([4])\n",
    "\n",
    "matrix_path = '../../data/simulated_matrix_output/1.csv'\n",
    "rm_1.to_csv(matrix_path, index=False, sep=' ', header= False)\n",
    "\n",
    "matrix_path = '../../data/simulated_matrix_output/2.csv'\n",
    "rm_2.to_csv(matrix_path, index=False, sep=' ', header= False)\n",
    "\n",
    "matrix_path = '../../data/simulated_matrix_output/3.csv'\n",
    "rm_3.to_csv(matrix_path, index=False, sep=' ', header= False)\n",
    "\n",
    "matrix_path = '../../data/simulated_matrix_output/4.csv'\n",
    "rm_4.to_csv(matrix_path, index=False, sep=' ', header= False)"
   ]
  },
  {
   "cell_type": "code",
   "execution_count": null,
   "id": "79192cc7",
   "metadata": {},
   "outputs": [],
   "source": []
  },
  {
   "cell_type": "markdown",
   "id": "0507303c",
   "metadata": {},
   "source": [
    "## Add non informative mutations"
   ]
  },
  {
   "cell_type": "code",
   "execution_count": 92,
   "id": "9ef3bd3f",
   "metadata": {},
   "outputs": [],
   "source": [
    "cells_w_noise = [2, 4, 8, 16, 32]\n",
    "\n",
    "for n in cells_w_noise:\n",
    "    rm_1_w_noise = rm_1.copy().T\n",
    "    rm_1_w_noise['noise1'] = low_prob # add a position with default value for low probability\n",
    "    noisy_samples = rm_1_w_noise.sample(n) \n",
    "    noisy_samples.noise1=0.9\n",
    "    rm_1_w_noise.update(noisy_samples)\n",
    "    update_list = noisy_samples.index.tolist() # save noise samples in list for checking\n",
    "    n = str(n)\n",
    "    matrix_path = '../../data/simulated_matrix_output/rm1_w_1_noisy_pos_' + n + '_noisy_samples.csv'\n",
    "    rm_1_w_noise.to_csv(matrix_path, index=False, sep=' ', header= False)"
   ]
  },
  {
   "cell_type": "code",
   "execution_count": null,
   "id": "06d401ec",
   "metadata": {},
   "outputs": [],
   "source": [
    "   "
   ]
  }
 ],
 "metadata": {
  "kernelspec": {
   "display_name": "mtSCITE",
   "language": "python",
   "name": "mtscite"
  },
  "language_info": {
   "codemirror_mode": {
    "name": "ipython",
    "version": 3
   },
   "file_extension": ".py",
   "mimetype": "text/x-python",
   "name": "python",
   "nbconvert_exporter": "python",
   "pygments_lexer": "ipython3",
   "version": "3.10.6"
  }
 },
 "nbformat": 4,
 "nbformat_minor": 5
}
