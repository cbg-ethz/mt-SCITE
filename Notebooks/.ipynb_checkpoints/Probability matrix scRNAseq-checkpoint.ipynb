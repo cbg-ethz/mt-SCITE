{
 "cells": [
  {
   "cell_type": "code",
   "execution_count": 3,
   "metadata": {
    "ExecuteTime": {
     "end_time": "2019-12-17T21:39:59.224762Z",
     "start_time": "2019-12-17T21:39:58.268799Z"
    }
   },
   "outputs": [],
   "source": [
    "%matplotlib inline\n",
    "\n",
    "import matplotlib.pyplot as plt\n",
    "import seaborn as sns\n",
    "import numpy as np\n",
    "import pandas as pd\n",
    "from Bio import SeqIO\n",
    "from glob import glob\n",
    "import os\n",
    "\n",
    "from mito.genotyping import nucleotide_mutation_prob, mutation_prob, COUNTS_COLUMNS\n",
    "\n",
    "\n",
    "# Plotting style\n",
    "sns.set_style('white')\n",
    "sns.set_context('notebook')\n",
    "pd.set_option('max_rows', 1000)\n",
    "pd.set_option('max_columns', 100)\n",
    "\n",
    "def plot_style(figsize=(12, 6), labelsize=20, titlesize=24, ticklabelsize=14, **kwargs):\n",
    "   basic_style = {\n",
    "       'figure.figsize': figsize,\n",
    "       'axes.labelsize': labelsize,\n",
    "       'axes.titlesize': titlesize,\n",
    "       'xtick.labelsize': ticklabelsize,\n",
    "       'ytick.labelsize': ticklabelsize,\n",
    "       'axes.spines.top': False,\n",
    "       'axes.spines.right': False,\n",
    "       'axes.spines.left': False,\n",
    "       'axes.grid': False,\n",
    "       'axes.grid.axis': 'y',\n",
    "   }\n",
    "   basic_style.update(kwargs)\n",
    "   return plt.rc_context(rc=basic_style)\n",
    "\n",
    "blue = sns.xkcd_rgb['ocean blue']\n"
   ]
  },
  {
   "cell_type": "markdown",
   "metadata": {},
   "source": [
    "# Load reference"
   ]
  },
  {
   "cell_type": "code",
   "execution_count": 4,
   "metadata": {
    "ExecuteTime": {
     "end_time": "2019-12-17T21:39:59.291882Z",
     "start_time": "2019-12-17T21:39:59.227004Z"
    }
   },
   "outputs": [],
   "source": [
    "reference_path = 'data/reference/mito_GRCh38_gimlet.fasta'\n",
    "\n",
    "with open(reference_path, 'r'):\n",
    "    reference_seq = next(SeqIO.parse(reference_path, \"fasta\"))\n",
    "reference = pd.Series(list(reference_seq.seq))"
   ]
  },
  {
   "cell_type": "markdown",
   "metadata": {},
   "source": [
    "# Load cells read matrixes"
   ]
  },
  {
   "cell_type": "code",
   "execution_count": 5,
   "metadata": {},
   "outputs": [],
   "source": [
    "INPUT_PATH = 'data/invivo_scRNAseq/train_data/'"
   ]
  },
  {
   "cell_type": "code",
   "execution_count": 6,
   "metadata": {},
   "outputs": [
    {
     "name": "stdout",
     "output_type": "stream",
     "text": [
      "Reading data/invivo_scRNAseq/train_data/1_12_P3861_210.txt\n",
      "Reading data/invivo_scRNAseq/train_data/1_150312_BC6BFMANXX_P1902_1009_ac.txt\n",
      "Reading data/invivo_scRNAseq/train_data/1_150312_BC6BFMANXX_P1902_1029_ac.txt\n",
      "Reading data/invivo_scRNAseq/train_data/1_150312_BC6BFMANXX_P1902_1047_ac.txt\n",
      "Reading data/invivo_scRNAseq/train_data/1_150312_BC6BFMANXX_P1902_1051_ac.txt\n",
      "Reading data/invivo_scRNAseq/train_data/1_150312_BC6BFMANXX_P1902_1065_ac.txt\n",
      "Reading data/invivo_scRNAseq/train_data/1_150312_BC6BFMANXX_P1902_1075_ac.txt\n",
      "Reading data/invivo_scRNAseq/train_data/1_150312_BC6BFMANXX_P1902_1082_ac.txt\n",
      "Reading data/invivo_scRNAseq/train_data/1_150312_BC6BFMANXX_P1902_1087_ac.txt\n",
      "Reading data/invivo_scRNAseq/train_data/1_150312_BC6BFMANXX_P1902_1094_ac.txt\n",
      "Reading data/invivo_scRNAseq/train_data/2_140812_AC492YACXX_P1299_1141_ac.txt\n",
      "Reading data/invivo_scRNAseq/train_data/2_140812_AC492YACXX_P1299_1160_ac.txt\n",
      "Reading data/invivo_scRNAseq/train_data/2_150312_BC6BFMANXX_P1902_1099_ac.txt\n",
      "Reading data/invivo_scRNAseq/train_data/2_150312_BC6BFMANXX_P1902_1110_ac.txt\n",
      "Reading data/invivo_scRNAseq/train_data/2_150312_BC6BFMANXX_P1902_1119_ac.txt\n",
      "Reading data/invivo_scRNAseq/train_data/2_150312_BC6BFMANXX_P1902_1127_ac.txt\n",
      "Reading data/invivo_scRNAseq/train_data/2_150312_BC6BFMANXX_P1902_1130_ac.txt\n",
      "Reading data/invivo_scRNAseq/train_data/2_150312_BC6BFMANXX_P1902_1152_ac.txt\n",
      "Reading data/invivo_scRNAseq/train_data/2_150312_BC6BFMANXX_P1902_1165_ac.txt\n",
      "Reading data/invivo_scRNAseq/train_data/2_150312_BC6BFMANXX_P1902_1166_ac.txt\n",
      "Reading data/invivo_scRNAseq/train_data/2_150312_BC6BFMANXX_P1902_1174_ac.txt\n",
      "Reading data/invivo_scRNAseq/train_data/2_150312_BC6BFMANXX_P1902_1178_ac.txt\n",
      "Reading data/invivo_scRNAseq/train_data/2_151109_AC7UAMANXX_P3128_1009_ac.txt\n",
      "Reading data/invivo_scRNAseq/train_data/2_151109_AC7UAMANXX_P3128_1029_ac.txt\n",
      "Reading data/invivo_scRNAseq/train_data/2_151109_AC7UAMANXX_P3128_1030_ac.txt\n",
      "Reading data/invivo_scRNAseq/train_data/2_151109_AC7UAMANXX_P3128_1033_ac.txt\n",
      "Reading data/invivo_scRNAseq/train_data/2_151109_AC7UAMANXX_P3128_1042_ac.txt\n",
      "Reading data/invivo_scRNAseq/train_data/2_151109_AC7UAMANXX_P3128_1049_ac.txt\n",
      "Reading data/invivo_scRNAseq/train_data/2_151109_AC7UAMANXX_P3128_1050_ac.txt\n",
      "Reading data/invivo_scRNAseq/train_data/2_151109_AC7UAMANXX_P3128_1062_ac.txt\n",
      "Reading data/invivo_scRNAseq/train_data/2_151109_AC7UAMANXX_P3128_1065_ac.txt\n",
      "Reading data/invivo_scRNAseq/train_data/2_151109_AC7UAMANXX_P3128_1077_ac.txt\n",
      "Reading data/invivo_scRNAseq/train_data/2_151109_AC7UAMANXX_P3128_1086_ac.txt\n",
      "Reading data/invivo_scRNAseq/train_data/2_151109_AC7UAMANXX_P3128_1089_ac.txt\n",
      "Reading data/invivo_scRNAseq/train_data/3_140812_AC492YACXX_P1299_1276_ac.txt\n",
      "Reading data/invivo_scRNAseq/train_data/3_150312_BC6BFMANXX_P1902_1199_ac.txt\n",
      "Reading data/invivo_scRNAseq/train_data/3_150312_BC6BFMANXX_P1902_1209_ac.txt\n",
      "Reading data/invivo_scRNAseq/train_data/3_150312_BC6BFMANXX_P1902_1247_ac.txt\n",
      "Reading data/invivo_scRNAseq/train_data/3_150312_BC6BFMANXX_P1902_1263_ac.txt\n",
      "Reading data/invivo_scRNAseq/train_data/3_150312_BC6BFMANXX_P1902_1285_ac.txt\n",
      "Reading data/invivo_scRNAseq/train_data/3_151109_AC7UAMANXX_P3128_1098_ac.txt\n",
      "Reading data/invivo_scRNAseq/train_data/3_151109_AC7UAMANXX_P3128_1139_ac.txt\n",
      "Reading data/invivo_scRNAseq/train_data/3_151109_AC7UAMANXX_P3128_1147_ac.txt\n",
      "Reading data/invivo_scRNAseq/train_data/3_151109_AC7UAMANXX_P3128_1154_ac.txt\n",
      "Reading data/invivo_scRNAseq/train_data/3_151109_AC7UAMANXX_P3128_1161_ac.txt\n",
      "Reading data/invivo_scRNAseq/train_data/3_151109_AC7UAMANXX_P3128_1170_ac.txt\n",
      "Reading data/invivo_scRNAseq/train_data/3_151109_AC7UAMANXX_P3128_1172_ac.txt\n",
      "Reading data/invivo_scRNAseq/train_data/4_140812_AC492YACXX_P1299_1372_ac.txt\n",
      "Reading data/invivo_scRNAseq/train_data/4_140812_AC492YACXX_P1299_1375_ac.txt\n",
      "Reading data/invivo_scRNAseq/train_data/5_140812_AC492YACXX_P1299_1415_ac.txt\n",
      "Reading data/invivo_scRNAseq/train_data/5_140812_AC492YACXX_P1299_1442_ac.txt\n",
      "Reading data/invivo_scRNAseq/train_data/6_140812_AC492YACXX_P1299_1482_ac.txt\n",
      "Reading data/invivo_scRNAseq/train_data/6_140812_AC492YACXX_P1299_1488_ac.txt\n",
      "Reading data/invivo_scRNAseq/train_data/6_140812_AC492YACXX_P1299_1492_ac.txt\n",
      "Reading data/invivo_scRNAseq/train_data/6_140812_AC492YACXX_P1299_1514_ac.txt\n",
      "Reading data/invivo_scRNAseq/train_data/6_140812_AC492YACXX_P1299_1529_ac.txt\n",
      "Reading data/invivo_scRNAseq/train_data/6_140812_AC492YACXX_P1299_1535_ac.txt\n",
      "Reading data/invivo_scRNAseq/train_data/6_140812_AC492YACXX_P1299_1536_ac.txt\n",
      "Reading data/invivo_scRNAseq/train_data/6_140812_AC492YACXX_P1299_1555_ac.txt\n",
      "Reading data/invivo_scRNAseq/train_data/6_140812_AC492YACXX_P1299_1556_ac.txt\n",
      "Reading data/invivo_scRNAseq/train_data/6_140812_AC492YACXX_P1299_1562_ac.txt\n",
      "Reading data/invivo_scRNAseq/train_data/6_140812_AC492YACXX_P1299_1575_ac.txt\n",
      "Reading data/invivo_scRNAseq/train_data/7_140812_AC492YACXX_P1299_1603_ac.txt\n",
      "Reading data/invivo_scRNAseq/train_data/7_140812_AC492YACXX_P1299_1653_ac.txt\n",
      "Reading data/invivo_scRNAseq/train_data/7_140812_AC492YACXX_P1299_1663_ac.txt\n",
      "Reading data/invivo_scRNAseq/train_data/8_140812_AC492YACXX_P1299_1678_ac.txt\n",
      "Reading data/invivo_scRNAseq/train_data/8_140812_AC492YACXX_P1299_1685_ac.txt\n",
      "Reading data/invivo_scRNAseq/train_data/8_140812_AC492YACXX_P1299_1709_ac.txt\n",
      "Reading data/invivo_scRNAseq/train_data/8_140812_AC492YACXX_P1299_1747_ac.txt\n",
      "Reading data/invivo_scRNAseq/train_data/8_140812_AC492YACXX_P1299_1756_ac.txt\n",
      "Reading data/invivo_scRNAseq/train_data/8_140812_AC492YACXX_P1299_1757_ac.txt\n",
      "Reading data/invivo_scRNAseq/train_data/8_140812_AC492YACXX_P1299_1759_ac.txt\n",
      "Reading data/invivo_scRNAseq/train_data/8_140812_AC492YACXX_P1299_1760_ac.txt\n"
     ]
    }
   ],
   "source": [
    "cell_count = []\n",
    "\n",
    "# Get all cell counts files in the input path\n",
    "cell_count_filenames = list(glob(os.path.join(INPUT_PATH, '*.txt'))) #*.txt\n",
    "\n",
    "for filename in sorted(cell_count_filenames):\n",
    "    print('Reading {}'.format(filename))\n",
    "    name = os.path.basename(filename).split('.')[0]\n",
    "    \n",
    "\n",
    "    # Load one cell count file\n",
    "    counts = pd.read_csv(filename, sep='\\t')\n",
    "    counts.name = name\n",
    "    cell_count.append(counts)\n"
   ]
  },
  {
   "cell_type": "code",
   "execution_count": 11,
   "metadata": {},
   "outputs": [],
   "source": [
    "e_rate = 0.2"
   ]
  },
  {
   "cell_type": "markdown",
   "metadata": {},
   "source": [
    "## Construct matrix"
   ]
  },
  {
   "cell_type": "code",
   "execution_count": 12,
   "metadata": {
    "ExecuteTime": {
     "end_time": "2019-12-17T21:39:59.948918Z",
     "start_time": "2019-12-17T21:39:59.374857Z"
    }
   },
   "outputs": [
    {
     "name": "stdout",
     "output_type": "stream",
     "text": [
      "CPU times: user 4 µs, sys: 1 µs, total: 5 µs\n",
      "Wall time: 9.06 µs\n"
     ]
    },
    {
     "name": "stderr",
     "output_type": "stream",
     "text": [
      "/Users/joanha/Documents/fatemapping_analys/mito/kth_data_science_assignment_4_aug2020/mito/genotyping.py:139: FutureWarning: The pandas.np module is deprecated and will be removed from pandas in a future version. Import numpy directly instead\n",
      "  prob_mutation[col] = pd.np.nan\n",
      "/Users/joanha/Documents/fatemapping_analys/mito/kth_data_science_assignment_4_aug2020/mito/genotyping.py:139: FutureWarning: The pandas.np module is deprecated and will be removed from pandas in a future version. Import numpy directly instead\n",
      "  prob_mutation[col] = pd.np.nan\n",
      "/Users/joanha/Documents/fatemapping_analys/mito/kth_data_science_assignment_4_aug2020/mito/genotyping.py:139: FutureWarning: The pandas.np module is deprecated and will be removed from pandas in a future version. Import numpy directly instead\n",
      "  prob_mutation[col] = pd.np.nan\n",
      "/Users/joanha/Documents/fatemapping_analys/mito/kth_data_science_assignment_4_aug2020/mito/genotyping.py:139: FutureWarning: The pandas.np module is deprecated and will be removed from pandas in a future version. Import numpy directly instead\n",
      "  prob_mutation[col] = pd.np.nan\n",
      "/Users/joanha/Documents/fatemapping_analys/mito/kth_data_science_assignment_4_aug2020/mito/genotyping.py:139: FutureWarning: The pandas.np module is deprecated and will be removed from pandas in a future version. Import numpy directly instead\n",
      "  prob_mutation[col] = pd.np.nan\n",
      "/Users/joanha/Documents/fatemapping_analys/mito/kth_data_science_assignment_4_aug2020/mito/genotyping.py:139: FutureWarning: The pandas.np module is deprecated and will be removed from pandas in a future version. Import numpy directly instead\n",
      "  prob_mutation[col] = pd.np.nan\n",
      "/Users/joanha/Documents/fatemapping_analys/mito/kth_data_science_assignment_4_aug2020/mito/genotyping.py:139: FutureWarning: The pandas.np module is deprecated and will be removed from pandas in a future version. Import numpy directly instead\n",
      "  prob_mutation[col] = pd.np.nan\n",
      "/Users/joanha/Documents/fatemapping_analys/mito/kth_data_science_assignment_4_aug2020/mito/genotyping.py:139: FutureWarning: The pandas.np module is deprecated and will be removed from pandas in a future version. Import numpy directly instead\n",
      "  prob_mutation[col] = pd.np.nan\n",
      "/Users/joanha/Documents/fatemapping_analys/mito/kth_data_science_assignment_4_aug2020/mito/genotyping.py:139: FutureWarning: The pandas.np module is deprecated and will be removed from pandas in a future version. Import numpy directly instead\n",
      "  prob_mutation[col] = pd.np.nan\n",
      "/Users/joanha/Documents/fatemapping_analys/mito/kth_data_science_assignment_4_aug2020/mito/genotyping.py:139: FutureWarning: The pandas.np module is deprecated and will be removed from pandas in a future version. Import numpy directly instead\n",
      "  prob_mutation[col] = pd.np.nan\n",
      "/Users/joanha/Documents/fatemapping_analys/mito/kth_data_science_assignment_4_aug2020/mito/genotyping.py:139: FutureWarning: The pandas.np module is deprecated and will be removed from pandas in a future version. Import numpy directly instead\n",
      "  prob_mutation[col] = pd.np.nan\n",
      "/Users/joanha/Documents/fatemapping_analys/mito/kth_data_science_assignment_4_aug2020/mito/genotyping.py:139: FutureWarning: The pandas.np module is deprecated and will be removed from pandas in a future version. Import numpy directly instead\n",
      "  prob_mutation[col] = pd.np.nan\n",
      "/Users/joanha/Documents/fatemapping_analys/mito/kth_data_science_assignment_4_aug2020/mito/genotyping.py:139: FutureWarning: The pandas.np module is deprecated and will be removed from pandas in a future version. Import numpy directly instead\n",
      "  prob_mutation[col] = pd.np.nan\n",
      "/Users/joanha/Documents/fatemapping_analys/mito/kth_data_science_assignment_4_aug2020/mito/genotyping.py:139: FutureWarning: The pandas.np module is deprecated and will be removed from pandas in a future version. Import numpy directly instead\n",
      "  prob_mutation[col] = pd.np.nan\n",
      "/Users/joanha/Documents/fatemapping_analys/mito/kth_data_science_assignment_4_aug2020/mito/genotyping.py:139: FutureWarning: The pandas.np module is deprecated and will be removed from pandas in a future version. Import numpy directly instead\n",
      "  prob_mutation[col] = pd.np.nan\n",
      "/Users/joanha/Documents/fatemapping_analys/mito/kth_data_science_assignment_4_aug2020/mito/genotyping.py:139: FutureWarning: The pandas.np module is deprecated and will be removed from pandas in a future version. Import numpy directly instead\n",
      "  prob_mutation[col] = pd.np.nan\n",
      "/Users/joanha/Documents/fatemapping_analys/mito/kth_data_science_assignment_4_aug2020/mito/genotyping.py:139: FutureWarning: The pandas.np module is deprecated and will be removed from pandas in a future version. Import numpy directly instead\n",
      "  prob_mutation[col] = pd.np.nan\n",
      "/Users/joanha/Documents/fatemapping_analys/mito/kth_data_science_assignment_4_aug2020/mito/genotyping.py:139: FutureWarning: The pandas.np module is deprecated and will be removed from pandas in a future version. Import numpy directly instead\n",
      "  prob_mutation[col] = pd.np.nan\n",
      "/Users/joanha/Documents/fatemapping_analys/mito/kth_data_science_assignment_4_aug2020/mito/genotyping.py:139: FutureWarning: The pandas.np module is deprecated and will be removed from pandas in a future version. Import numpy directly instead\n",
      "  prob_mutation[col] = pd.np.nan\n",
      "/Users/joanha/Documents/fatemapping_analys/mito/kth_data_science_assignment_4_aug2020/mito/genotyping.py:139: FutureWarning: The pandas.np module is deprecated and will be removed from pandas in a future version. Import numpy directly instead\n",
      "  prob_mutation[col] = pd.np.nan\n",
      "/Users/joanha/Documents/fatemapping_analys/mito/kth_data_science_assignment_4_aug2020/mito/genotyping.py:139: FutureWarning: The pandas.np module is deprecated and will be removed from pandas in a future version. Import numpy directly instead\n",
      "  prob_mutation[col] = pd.np.nan\n",
      "/Users/joanha/Documents/fatemapping_analys/mito/kth_data_science_assignment_4_aug2020/mito/genotyping.py:139: FutureWarning: The pandas.np module is deprecated and will be removed from pandas in a future version. Import numpy directly instead\n",
      "  prob_mutation[col] = pd.np.nan\n",
      "/Users/joanha/Documents/fatemapping_analys/mito/kth_data_science_assignment_4_aug2020/mito/genotyping.py:139: FutureWarning: The pandas.np module is deprecated and will be removed from pandas in a future version. Import numpy directly instead\n",
      "  prob_mutation[col] = pd.np.nan\n",
      "/Users/joanha/Documents/fatemapping_analys/mito/kth_data_science_assignment_4_aug2020/mito/genotyping.py:139: FutureWarning: The pandas.np module is deprecated and will be removed from pandas in a future version. Import numpy directly instead\n",
      "  prob_mutation[col] = pd.np.nan\n",
      "/Users/joanha/Documents/fatemapping_analys/mito/kth_data_science_assignment_4_aug2020/mito/genotyping.py:139: FutureWarning: The pandas.np module is deprecated and will be removed from pandas in a future version. Import numpy directly instead\n",
      "  prob_mutation[col] = pd.np.nan\n",
      "/Users/joanha/Documents/fatemapping_analys/mito/kth_data_science_assignment_4_aug2020/mito/genotyping.py:139: FutureWarning: The pandas.np module is deprecated and will be removed from pandas in a future version. Import numpy directly instead\n",
      "  prob_mutation[col] = pd.np.nan\n",
      "/Users/joanha/Documents/fatemapping_analys/mito/kth_data_science_assignment_4_aug2020/mito/genotyping.py:139: FutureWarning: The pandas.np module is deprecated and will be removed from pandas in a future version. Import numpy directly instead\n",
      "  prob_mutation[col] = pd.np.nan\n",
      "/Users/joanha/Documents/fatemapping_analys/mito/kth_data_science_assignment_4_aug2020/mito/genotyping.py:139: FutureWarning: The pandas.np module is deprecated and will be removed from pandas in a future version. Import numpy directly instead\n",
      "  prob_mutation[col] = pd.np.nan\n",
      "/Users/joanha/Documents/fatemapping_analys/mito/kth_data_science_assignment_4_aug2020/mito/genotyping.py:139: FutureWarning: The pandas.np module is deprecated and will be removed from pandas in a future version. Import numpy directly instead\n",
      "  prob_mutation[col] = pd.np.nan\n",
      "/Users/joanha/Documents/fatemapping_analys/mito/kth_data_science_assignment_4_aug2020/mito/genotyping.py:139: FutureWarning: The pandas.np module is deprecated and will be removed from pandas in a future version. Import numpy directly instead\n",
      "  prob_mutation[col] = pd.np.nan\n"
     ]
    },
    {
     "name": "stderr",
     "output_type": "stream",
     "text": [
      "/Users/joanha/Documents/fatemapping_analys/mito/kth_data_science_assignment_4_aug2020/mito/genotyping.py:139: FutureWarning: The pandas.np module is deprecated and will be removed from pandas in a future version. Import numpy directly instead\n",
      "  prob_mutation[col] = pd.np.nan\n",
      "/Users/joanha/Documents/fatemapping_analys/mito/kth_data_science_assignment_4_aug2020/mito/genotyping.py:139: FutureWarning: The pandas.np module is deprecated and will be removed from pandas in a future version. Import numpy directly instead\n",
      "  prob_mutation[col] = pd.np.nan\n",
      "/Users/joanha/Documents/fatemapping_analys/mito/kth_data_science_assignment_4_aug2020/mito/genotyping.py:139: FutureWarning: The pandas.np module is deprecated and will be removed from pandas in a future version. Import numpy directly instead\n",
      "  prob_mutation[col] = pd.np.nan\n",
      "/Users/joanha/Documents/fatemapping_analys/mito/kth_data_science_assignment_4_aug2020/mito/genotyping.py:139: FutureWarning: The pandas.np module is deprecated and will be removed from pandas in a future version. Import numpy directly instead\n",
      "  prob_mutation[col] = pd.np.nan\n",
      "/Users/joanha/Documents/fatemapping_analys/mito/kth_data_science_assignment_4_aug2020/mito/genotyping.py:139: FutureWarning: The pandas.np module is deprecated and will be removed from pandas in a future version. Import numpy directly instead\n",
      "  prob_mutation[col] = pd.np.nan\n",
      "/Users/joanha/Documents/fatemapping_analys/mito/kth_data_science_assignment_4_aug2020/mito/genotyping.py:139: FutureWarning: The pandas.np module is deprecated and will be removed from pandas in a future version. Import numpy directly instead\n",
      "  prob_mutation[col] = pd.np.nan\n",
      "/Users/joanha/Documents/fatemapping_analys/mito/kth_data_science_assignment_4_aug2020/mito/genotyping.py:139: FutureWarning: The pandas.np module is deprecated and will be removed from pandas in a future version. Import numpy directly instead\n",
      "  prob_mutation[col] = pd.np.nan\n",
      "/Users/joanha/Documents/fatemapping_analys/mito/kth_data_science_assignment_4_aug2020/mito/genotyping.py:139: FutureWarning: The pandas.np module is deprecated and will be removed from pandas in a future version. Import numpy directly instead\n",
      "  prob_mutation[col] = pd.np.nan\n",
      "/Users/joanha/Documents/fatemapping_analys/mito/kth_data_science_assignment_4_aug2020/mito/genotyping.py:139: FutureWarning: The pandas.np module is deprecated and will be removed from pandas in a future version. Import numpy directly instead\n",
      "  prob_mutation[col] = pd.np.nan\n",
      "/Users/joanha/Documents/fatemapping_analys/mito/kth_data_science_assignment_4_aug2020/mito/genotyping.py:139: FutureWarning: The pandas.np module is deprecated and will be removed from pandas in a future version. Import numpy directly instead\n",
      "  prob_mutation[col] = pd.np.nan\n",
      "/Users/joanha/Documents/fatemapping_analys/mito/kth_data_science_assignment_4_aug2020/mito/genotyping.py:139: FutureWarning: The pandas.np module is deprecated and will be removed from pandas in a future version. Import numpy directly instead\n",
      "  prob_mutation[col] = pd.np.nan\n",
      "/Users/joanha/Documents/fatemapping_analys/mito/kth_data_science_assignment_4_aug2020/mito/genotyping.py:139: FutureWarning: The pandas.np module is deprecated and will be removed from pandas in a future version. Import numpy directly instead\n",
      "  prob_mutation[col] = pd.np.nan\n",
      "/Users/joanha/Documents/fatemapping_analys/mito/kth_data_science_assignment_4_aug2020/mito/genotyping.py:139: FutureWarning: The pandas.np module is deprecated and will be removed from pandas in a future version. Import numpy directly instead\n",
      "  prob_mutation[col] = pd.np.nan\n",
      "/Users/joanha/Documents/fatemapping_analys/mito/kth_data_science_assignment_4_aug2020/mito/genotyping.py:139: FutureWarning: The pandas.np module is deprecated and will be removed from pandas in a future version. Import numpy directly instead\n",
      "  prob_mutation[col] = pd.np.nan\n",
      "/Users/joanha/Documents/fatemapping_analys/mito/kth_data_science_assignment_4_aug2020/mito/genotyping.py:139: FutureWarning: The pandas.np module is deprecated and will be removed from pandas in a future version. Import numpy directly instead\n",
      "  prob_mutation[col] = pd.np.nan\n",
      "/Users/joanha/Documents/fatemapping_analys/mito/kth_data_science_assignment_4_aug2020/mito/genotyping.py:139: FutureWarning: The pandas.np module is deprecated and will be removed from pandas in a future version. Import numpy directly instead\n",
      "  prob_mutation[col] = pd.np.nan\n",
      "/Users/joanha/Documents/fatemapping_analys/mito/kth_data_science_assignment_4_aug2020/mito/genotyping.py:139: FutureWarning: The pandas.np module is deprecated and will be removed from pandas in a future version. Import numpy directly instead\n",
      "  prob_mutation[col] = pd.np.nan\n",
      "/Users/joanha/Documents/fatemapping_analys/mito/kth_data_science_assignment_4_aug2020/mito/genotyping.py:139: FutureWarning: The pandas.np module is deprecated and will be removed from pandas in a future version. Import numpy directly instead\n",
      "  prob_mutation[col] = pd.np.nan\n",
      "/Users/joanha/Documents/fatemapping_analys/mito/kth_data_science_assignment_4_aug2020/mito/genotyping.py:139: FutureWarning: The pandas.np module is deprecated and will be removed from pandas in a future version. Import numpy directly instead\n",
      "  prob_mutation[col] = pd.np.nan\n",
      "/Users/joanha/Documents/fatemapping_analys/mito/kth_data_science_assignment_4_aug2020/mito/genotyping.py:139: FutureWarning: The pandas.np module is deprecated and will be removed from pandas in a future version. Import numpy directly instead\n",
      "  prob_mutation[col] = pd.np.nan\n",
      "/Users/joanha/Documents/fatemapping_analys/mito/kth_data_science_assignment_4_aug2020/mito/genotyping.py:139: FutureWarning: The pandas.np module is deprecated and will be removed from pandas in a future version. Import numpy directly instead\n",
      "  prob_mutation[col] = pd.np.nan\n",
      "/Users/joanha/Documents/fatemapping_analys/mito/kth_data_science_assignment_4_aug2020/mito/genotyping.py:139: FutureWarning: The pandas.np module is deprecated and will be removed from pandas in a future version. Import numpy directly instead\n",
      "  prob_mutation[col] = pd.np.nan\n",
      "/Users/joanha/Documents/fatemapping_analys/mito/kth_data_science_assignment_4_aug2020/mito/genotyping.py:139: FutureWarning: The pandas.np module is deprecated and will be removed from pandas in a future version. Import numpy directly instead\n",
      "  prob_mutation[col] = pd.np.nan\n",
      "/Users/joanha/Documents/fatemapping_analys/mito/kth_data_science_assignment_4_aug2020/mito/genotyping.py:139: FutureWarning: The pandas.np module is deprecated and will be removed from pandas in a future version. Import numpy directly instead\n",
      "  prob_mutation[col] = pd.np.nan\n",
      "/Users/joanha/Documents/fatemapping_analys/mito/kth_data_science_assignment_4_aug2020/mito/genotyping.py:139: FutureWarning: The pandas.np module is deprecated and will be removed from pandas in a future version. Import numpy directly instead\n",
      "  prob_mutation[col] = pd.np.nan\n",
      "/Users/joanha/Documents/fatemapping_analys/mito/kth_data_science_assignment_4_aug2020/mito/genotyping.py:139: FutureWarning: The pandas.np module is deprecated and will be removed from pandas in a future version. Import numpy directly instead\n",
      "  prob_mutation[col] = pd.np.nan\n",
      "/Users/joanha/Documents/fatemapping_analys/mito/kth_data_science_assignment_4_aug2020/mito/genotyping.py:139: FutureWarning: The pandas.np module is deprecated and will be removed from pandas in a future version. Import numpy directly instead\n",
      "  prob_mutation[col] = pd.np.nan\n",
      "/Users/joanha/Documents/fatemapping_analys/mito/kth_data_science_assignment_4_aug2020/mito/genotyping.py:139: FutureWarning: The pandas.np module is deprecated and will be removed from pandas in a future version. Import numpy directly instead\n",
      "  prob_mutation[col] = pd.np.nan\n",
      "/Users/joanha/Documents/fatemapping_analys/mito/kth_data_science_assignment_4_aug2020/mito/genotyping.py:139: FutureWarning: The pandas.np module is deprecated and will be removed from pandas in a future version. Import numpy directly instead\n",
      "  prob_mutation[col] = pd.np.nan\n",
      "/Users/joanha/Documents/fatemapping_analys/mito/kth_data_science_assignment_4_aug2020/mito/genotyping.py:139: FutureWarning: The pandas.np module is deprecated and will be removed from pandas in a future version. Import numpy directly instead\n",
      "  prob_mutation[col] = pd.np.nan\n"
     ]
    },
    {
     "name": "stderr",
     "output_type": "stream",
     "text": [
      "/Users/joanha/Documents/fatemapping_analys/mito/kth_data_science_assignment_4_aug2020/mito/genotyping.py:139: FutureWarning: The pandas.np module is deprecated and will be removed from pandas in a future version. Import numpy directly instead\n",
      "  prob_mutation[col] = pd.np.nan\n",
      "/Users/joanha/Documents/fatemapping_analys/mito/kth_data_science_assignment_4_aug2020/mito/genotyping.py:139: FutureWarning: The pandas.np module is deprecated and will be removed from pandas in a future version. Import numpy directly instead\n",
      "  prob_mutation[col] = pd.np.nan\n",
      "/Users/joanha/Documents/fatemapping_analys/mito/kth_data_science_assignment_4_aug2020/mito/genotyping.py:139: FutureWarning: The pandas.np module is deprecated and will be removed from pandas in a future version. Import numpy directly instead\n",
      "  prob_mutation[col] = pd.np.nan\n",
      "/Users/joanha/Documents/fatemapping_analys/mito/kth_data_science_assignment_4_aug2020/mito/genotyping.py:139: FutureWarning: The pandas.np module is deprecated and will be removed from pandas in a future version. Import numpy directly instead\n",
      "  prob_mutation[col] = pd.np.nan\n",
      "/Users/joanha/Documents/fatemapping_analys/mito/kth_data_science_assignment_4_aug2020/mito/genotyping.py:139: FutureWarning: The pandas.np module is deprecated and will be removed from pandas in a future version. Import numpy directly instead\n",
      "  prob_mutation[col] = pd.np.nan\n",
      "/Users/joanha/Documents/fatemapping_analys/mito/kth_data_science_assignment_4_aug2020/mito/genotyping.py:139: FutureWarning: The pandas.np module is deprecated and will be removed from pandas in a future version. Import numpy directly instead\n",
      "  prob_mutation[col] = pd.np.nan\n",
      "/Users/joanha/Documents/fatemapping_analys/mito/kth_data_science_assignment_4_aug2020/mito/genotyping.py:139: FutureWarning: The pandas.np module is deprecated and will be removed from pandas in a future version. Import numpy directly instead\n",
      "  prob_mutation[col] = pd.np.nan\n",
      "/Users/joanha/Documents/fatemapping_analys/mito/kth_data_science_assignment_4_aug2020/mito/genotyping.py:139: FutureWarning: The pandas.np module is deprecated and will be removed from pandas in a future version. Import numpy directly instead\n",
      "  prob_mutation[col] = pd.np.nan\n",
      "/Users/joanha/Documents/fatemapping_analys/mito/kth_data_science_assignment_4_aug2020/mito/genotyping.py:139: FutureWarning: The pandas.np module is deprecated and will be removed from pandas in a future version. Import numpy directly instead\n",
      "  prob_mutation[col] = pd.np.nan\n",
      "/Users/joanha/Documents/fatemapping_analys/mito/kth_data_science_assignment_4_aug2020/mito/genotyping.py:139: FutureWarning: The pandas.np module is deprecated and will be removed from pandas in a future version. Import numpy directly instead\n",
      "  prob_mutation[col] = pd.np.nan\n",
      "/Users/joanha/Documents/fatemapping_analys/mito/kth_data_science_assignment_4_aug2020/mito/genotyping.py:139: FutureWarning: The pandas.np module is deprecated and will be removed from pandas in a future version. Import numpy directly instead\n",
      "  prob_mutation[col] = pd.np.nan\n",
      "/Users/joanha/Documents/fatemapping_analys/mito/kth_data_science_assignment_4_aug2020/mito/genotyping.py:139: FutureWarning: The pandas.np module is deprecated and will be removed from pandas in a future version. Import numpy directly instead\n",
      "  prob_mutation[col] = pd.np.nan\n",
      "/Users/joanha/Documents/fatemapping_analys/mito/kth_data_science_assignment_4_aug2020/mito/genotyping.py:139: FutureWarning: The pandas.np module is deprecated and will be removed from pandas in a future version. Import numpy directly instead\n",
      "  prob_mutation[col] = pd.np.nan\n"
     ]
    }
   ],
   "source": [
    "# Compute P(mutation at X | read counts)\n",
    "\n",
    "%time\n",
    "error_rate_when_no_mutation = error_rate_when_mutation = e_rate\n",
    "p_mutation = 1 / 500.0\n",
    "\n",
    "\n",
    "cell_prob = []\n",
    "for count in cell_count:\n",
    "    count = count.iloc[:reference.shape[0]]  # discard trailing positions\n",
    "    p = nucleotide_mutation_prob(\n",
    "        cell_counts=count,\n",
    "        reference=reference,\n",
    "        error_rate_when_no_mutation=error_rate_when_no_mutation,\n",
    "        error_rate_when_mutation=error_rate_when_mutation,\n",
    "        p_mutation=p_mutation,\n",
    "    )\n",
    "\n",
    "    cell_prob.append(p)\n",
    "    \n",
    "    \n",
    "# Compute P(mutation | read counts)\n",
    "cells_p_mutation = []\n",
    "for cell_prob in cell_prob:\n",
    "    p = mutation_prob(cell_prob, reference)\n",
    "    cells_p_mutation.append(p)\n",
    "    \n",
    "    \n",
    "# Mutation matrix\n",
    "\n",
    "mutation_matrix = cells_p_mutation[0][['#CHR', 'POS']].copy()\n",
    "mutation_matrix_data = pd.DataFrame(np.dstack([c['Prob_mutation'].values for c in cells_p_mutation]).squeeze())\n",
    "mutation_matrix = pd.concat([mutation_matrix, mutation_matrix_data], axis=1)\n",
    "\n"
   ]
  },
  {
   "cell_type": "markdown",
   "metadata": {},
   "source": [
    "### Matrix filter"
   ]
  },
  {
   "cell_type": "code",
   "execution_count": 13,
   "metadata": {},
   "outputs": [
    {
     "data": {
      "text/plain": [
       "(16569, 75)"
      ]
     },
     "execution_count": 13,
     "metadata": {},
     "output_type": "execute_result"
    }
   ],
   "source": [
    "mutation_matrix.shape"
   ]
  },
  {
   "cell_type": "code",
   "execution_count": 14,
   "metadata": {},
   "outputs": [
    {
     "data": {
      "text/plain": [
       "(6523, 75)"
      ]
     },
     "execution_count": 14,
     "metadata": {},
     "output_type": "execute_result"
    }
   ],
   "source": [
    "# Remove germline mutations\n",
    "mutation_matrix = mutation_matrix.loc[mutation_matrix[0] < 0.9]\n",
    "mutation_matrix.shape"
   ]
  },
  {
   "cell_type": "code",
   "execution_count": 22,
   "metadata": {},
   "outputs": [
    {
     "data": {
      "text/plain": [
       "(119, 73)"
      ]
     },
     "execution_count": 22,
     "metadata": {},
     "output_type": "execute_result"
    }
   ],
   "source": [
    "# Probabilities for location with mutation at any of the cells\n",
    "mutation_threshold = 0.9\n",
    "data = mutation_matrix.set_index('POS').drop('#CHR', axis=1)\n",
    "mutation_any_cell = data[(data > mutation_threshold).any(axis=1)]\n",
    "mutation_any_cell.shape"
   ]
  },
  {
   "cell_type": "code",
   "execution_count": 23,
   "metadata": {},
   "outputs": [
    {
     "data": {
      "text/plain": [
       "(17, 73)"
      ]
     },
     "execution_count": 23,
     "metadata": {},
     "output_type": "execute_result"
    }
   ],
   "source": [
    "# select rows that have a value greater than mutation_threshold in >1 cells\n",
    "mutation_threshold = 0.9\n",
    "mask = (data.values > mutation_threshold).sum(axis=1) > 1\n",
    "two_cells_have_mut = data[mask]\n",
    "two_cells_have_mut.shape"
   ]
  },
  {
   "cell_type": "code",
   "execution_count": 24,
   "metadata": {},
   "outputs": [
    {
     "data": {
      "text/plain": [
       "(17, 73)"
      ]
     },
     "execution_count": 24,
     "metadata": {},
     "output_type": "execute_result"
    }
   ],
   "source": [
    "# Remove rows if more than 50% have missing data\n",
    "halva = len(two_cells_have_mut.columns) / 2\n",
    "nan_rows = two_cells_have_mut.drop(two_cells_have_mut[(two_cells_have_mut.isna()).sum(axis=1)> halva].index)\n",
    "nan_rows.shape"
   ]
  },
  {
   "cell_type": "code",
   "execution_count": 25,
   "metadata": {},
   "outputs": [
    {
     "data": {
      "text/plain": [
       "(17, 73)"
      ]
     },
     "execution_count": 25,
     "metadata": {},
     "output_type": "execute_result"
    }
   ],
   "source": [
    "# Fill nans with row mean\n",
    "imputed = nan_rows.transpose().fillna(nan_rows.mean(axis=1)).transpose()\n",
    "imputed.shape"
   ]
  },
  {
   "cell_type": "code",
   "execution_count": 26,
   "metadata": {},
   "outputs": [
    {
     "data": {
      "text/plain": [
       "(17, 73)"
      ]
     },
     "execution_count": 26,
     "metadata": {},
     "output_type": "execute_result"
    }
   ],
   "source": [
    "# To skip removal of sites with overall high probability for mut\n",
    "#high_prob_rows = imputed.copy()\n",
    "\n",
    "# Replace 1.0\n",
    "imputed = imputed.apply(lambda x: [y if y <= 0.9999 else 0.99 for y in x])\n",
    "imputed.shape"
   ]
  },
  {
   "cell_type": "code",
   "execution_count": 28,
   "metadata": {},
   "outputs": [
    {
     "data": {
      "text/plain": [
       "(12, 73)"
      ]
     },
     "execution_count": 28,
     "metadata": {},
     "output_type": "execute_result"
    }
   ],
   "source": [
    "# remove locations close to another location\n",
    "ind = [ a for a,b in zip(imputed.index,imputed.index[1:]) if b-a > 4]\n",
    "clust = imputed.loc[ind]\n",
    "clust.shape"
   ]
  },
  {
   "cell_type": "code",
   "execution_count": null,
   "metadata": {},
   "outputs": [],
   "source": [
    "#Save matrix\n",
    "e_rate_name = str(e_rate)\n",
    "matrix_path = 'data/matrix_output/' + e_rate_name + '.csv'\n",
    "clust.to_csv(matrix_path, index=False, sep=' ', header= False)"
   ]
  },
  {
   "cell_type": "code",
   "execution_count": null,
   "metadata": {},
   "outputs": [],
   "source": [
    "# TODO\n",
    "# remove positions were the average total counts < x"
   ]
  },
  {
   "cell_type": "markdown",
   "metadata": {},
   "source": [
    "# Now run mito-SCITE..."
   ]
  }
 ],
 "metadata": {
  "hide_input": false,
  "kernelspec": {
   "display_name": "tree_env",
   "language": "python",
   "name": "tree_env"
  },
  "language_info": {
   "codemirror_mode": {
    "name": "ipython",
    "version": 3
   },
   "file_extension": ".py",
   "mimetype": "text/x-python",
   "name": "python",
   "nbconvert_exporter": "python",
   "pygments_lexer": "ipython3",
   "version": "3.8.3"
  },
  "toc": {
   "nav_menu": {
    "height": "12px",
    "width": "252px"
   },
   "navigate_menu": true,
   "number_sections": true,
   "sideBar": true,
   "threshold": 4,
   "toc_cell": false,
   "toc_section_display": "block",
   "toc_window_display": false
  }
 },
 "nbformat": 4,
 "nbformat_minor": 2
}
