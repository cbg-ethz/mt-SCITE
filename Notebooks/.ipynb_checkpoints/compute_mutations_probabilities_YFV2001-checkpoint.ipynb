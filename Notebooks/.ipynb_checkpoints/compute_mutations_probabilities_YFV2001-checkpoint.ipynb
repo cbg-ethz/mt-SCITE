{
 "cells": [
  {
   "cell_type": "code",
   "execution_count": 1,
   "id": "9ee5105e",
   "metadata": {},
   "outputs": [],
   "source": [
    "from Bio import SeqIO\n",
    "from glob import glob\n",
    "import os"
   ]
  },
  {
   "cell_type": "code",
   "execution_count": 2,
   "id": "7c005ade",
   "metadata": {},
   "outputs": [
    {
     "data": {
      "text/plain": [
       "'1.22.3'"
      ]
     },
     "execution_count": 2,
     "metadata": {},
     "output_type": "execute_result"
    }
   ],
   "source": [
    "import numpy\n",
    "numpy.__version__"
   ]
  },
  {
   "cell_type": "code",
   "execution_count": 3,
   "id": "f926611e",
   "metadata": {},
   "outputs": [],
   "source": [
    "from mito.genotyping import *"
   ]
  },
  {
   "cell_type": "markdown",
   "id": "539f4957",
   "metadata": {},
   "source": [
    "## Load reference"
   ]
  },
  {
   "cell_type": "code",
   "execution_count": 4,
   "id": "5a956aef",
   "metadata": {},
   "outputs": [],
   "source": [
    "# Path to reference genome\n",
    "reference_path = '../../data/reference/mito_GRCh38_gimlet.fasta'\n",
    "\n",
    "with open(reference_path, 'r'):\n",
    "    reference_seq = next(SeqIO.parse(reference_path, \"fasta\"))\n",
    "reference = pd.Series(list(reference_seq.seq))"
   ]
  },
  {
   "cell_type": "markdown",
   "id": "3e899e2e",
   "metadata": {},
   "source": [
    "## Load read matrices"
   ]
  },
  {
   "cell_type": "code",
   "execution_count": 5,
   "id": "22cacc26",
   "metadata": {},
   "outputs": [],
   "source": [
    "# Path to allele count files\n",
    "INPUT_PATH = '../../data/YFV2001_scRNAseq_sub1/'"
   ]
  },
  {
   "cell_type": "code",
   "execution_count": 6,
   "id": "c5e26b1b",
   "metadata": {},
   "outputs": [
    {
     "name": "stdout",
     "output_type": "stream",
     "text": [
      "Reading ../../data/YFV2001_scRNAseq_sub1/1_12_P3861_210.txt\n",
      "Reading ../../data/YFV2001_scRNAseq_sub1/1_150312_BC6BFMANXX_P1902_1009_ac.txt\n",
      "Reading ../../data/YFV2001_scRNAseq_sub1/1_150312_BC6BFMANXX_P1902_1029_ac.txt\n",
      "Reading ../../data/YFV2001_scRNAseq_sub1/1_150312_BC6BFMANXX_P1902_1047_ac.txt\n",
      "Reading ../../data/YFV2001_scRNAseq_sub1/1_150312_BC6BFMANXX_P1902_1051_ac.txt\n",
      "Reading ../../data/YFV2001_scRNAseq_sub1/1_150312_BC6BFMANXX_P1902_1065_ac.txt\n",
      "Reading ../../data/YFV2001_scRNAseq_sub1/1_150312_BC6BFMANXX_P1902_1075_ac.txt\n",
      "Reading ../../data/YFV2001_scRNAseq_sub1/1_150312_BC6BFMANXX_P1902_1082_ac.txt\n",
      "Reading ../../data/YFV2001_scRNAseq_sub1/1_150312_BC6BFMANXX_P1902_1087_ac.txt\n",
      "Reading ../../data/YFV2001_scRNAseq_sub1/1_150312_BC6BFMANXX_P1902_1094_ac.txt\n",
      "Reading ../../data/YFV2001_scRNAseq_sub1/2_140812_AC492YACXX_P1299_1141_ac.txt\n",
      "Reading ../../data/YFV2001_scRNAseq_sub1/2_140812_AC492YACXX_P1299_1160_ac.txt\n",
      "Reading ../../data/YFV2001_scRNAseq_sub1/2_150312_BC6BFMANXX_P1902_1099_ac.txt\n",
      "Reading ../../data/YFV2001_scRNAseq_sub1/2_150312_BC6BFMANXX_P1902_1110_ac.txt\n",
      "Reading ../../data/YFV2001_scRNAseq_sub1/2_150312_BC6BFMANXX_P1902_1119_ac.txt\n",
      "Reading ../../data/YFV2001_scRNAseq_sub1/2_150312_BC6BFMANXX_P1902_1127_ac.txt\n",
      "Reading ../../data/YFV2001_scRNAseq_sub1/2_150312_BC6BFMANXX_P1902_1130_ac.txt\n",
      "Reading ../../data/YFV2001_scRNAseq_sub1/2_150312_BC6BFMANXX_P1902_1152_ac.txt\n",
      "Reading ../../data/YFV2001_scRNAseq_sub1/2_150312_BC6BFMANXX_P1902_1165_ac.txt\n",
      "Reading ../../data/YFV2001_scRNAseq_sub1/2_150312_BC6BFMANXX_P1902_1166_ac.txt\n",
      "Reading ../../data/YFV2001_scRNAseq_sub1/2_150312_BC6BFMANXX_P1902_1174_ac.txt\n",
      "Reading ../../data/YFV2001_scRNAseq_sub1/2_150312_BC6BFMANXX_P1902_1178_ac.txt\n",
      "Reading ../../data/YFV2001_scRNAseq_sub1/2_151109_AC7UAMANXX_P3128_1009_ac.txt\n",
      "Reading ../../data/YFV2001_scRNAseq_sub1/2_151109_AC7UAMANXX_P3128_1029_ac.txt\n",
      "Reading ../../data/YFV2001_scRNAseq_sub1/2_151109_AC7UAMANXX_P3128_1030_ac.txt\n",
      "Reading ../../data/YFV2001_scRNAseq_sub1/2_151109_AC7UAMANXX_P3128_1033_ac.txt\n",
      "Reading ../../data/YFV2001_scRNAseq_sub1/2_151109_AC7UAMANXX_P3128_1042_ac.txt\n",
      "Reading ../../data/YFV2001_scRNAseq_sub1/2_151109_AC7UAMANXX_P3128_1049_ac.txt\n",
      "Reading ../../data/YFV2001_scRNAseq_sub1/2_151109_AC7UAMANXX_P3128_1050_ac.txt\n",
      "Reading ../../data/YFV2001_scRNAseq_sub1/2_151109_AC7UAMANXX_P3128_1062_ac.txt\n",
      "Reading ../../data/YFV2001_scRNAseq_sub1/2_151109_AC7UAMANXX_P3128_1065_ac.txt\n",
      "Reading ../../data/YFV2001_scRNAseq_sub1/2_151109_AC7UAMANXX_P3128_1077_ac.txt\n",
      "Reading ../../data/YFV2001_scRNAseq_sub1/2_151109_AC7UAMANXX_P3128_1086_ac.txt\n",
      "Reading ../../data/YFV2001_scRNAseq_sub1/2_151109_AC7UAMANXX_P3128_1089_ac.txt\n",
      "Reading ../../data/YFV2001_scRNAseq_sub1/3_140812_AC492YACXX_P1299_1276_ac.txt\n",
      "Reading ../../data/YFV2001_scRNAseq_sub1/3_150312_BC6BFMANXX_P1902_1199_ac.txt\n",
      "Reading ../../data/YFV2001_scRNAseq_sub1/3_150312_BC6BFMANXX_P1902_1209_ac.txt\n",
      "Reading ../../data/YFV2001_scRNAseq_sub1/3_150312_BC6BFMANXX_P1902_1247_ac.txt\n",
      "Reading ../../data/YFV2001_scRNAseq_sub1/3_150312_BC6BFMANXX_P1902_1263_ac.txt\n",
      "Reading ../../data/YFV2001_scRNAseq_sub1/3_150312_BC6BFMANXX_P1902_1285_ac.txt\n",
      "Reading ../../data/YFV2001_scRNAseq_sub1/3_151109_AC7UAMANXX_P3128_1098_ac.txt\n",
      "Reading ../../data/YFV2001_scRNAseq_sub1/3_151109_AC7UAMANXX_P3128_1139_ac.txt\n",
      "Reading ../../data/YFV2001_scRNAseq_sub1/3_151109_AC7UAMANXX_P3128_1147_ac.txt\n",
      "Reading ../../data/YFV2001_scRNAseq_sub1/3_151109_AC7UAMANXX_P3128_1154_ac.txt\n",
      "Reading ../../data/YFV2001_scRNAseq_sub1/3_151109_AC7UAMANXX_P3128_1161_ac.txt\n",
      "Reading ../../data/YFV2001_scRNAseq_sub1/3_151109_AC7UAMANXX_P3128_1170_ac.txt\n",
      "Reading ../../data/YFV2001_scRNAseq_sub1/3_151109_AC7UAMANXX_P3128_1172_ac.txt\n",
      "Reading ../../data/YFV2001_scRNAseq_sub1/4_140812_AC492YACXX_P1299_1372_ac.txt\n",
      "Reading ../../data/YFV2001_scRNAseq_sub1/4_140812_AC492YACXX_P1299_1375_ac.txt\n",
      "Reading ../../data/YFV2001_scRNAseq_sub1/5_140812_AC492YACXX_P1299_1415_ac.txt\n",
      "Reading ../../data/YFV2001_scRNAseq_sub1/5_140812_AC492YACXX_P1299_1442_ac.txt\n",
      "Reading ../../data/YFV2001_scRNAseq_sub1/6_140812_AC492YACXX_P1299_1482_ac.txt\n",
      "Reading ../../data/YFV2001_scRNAseq_sub1/6_140812_AC492YACXX_P1299_1488_ac.txt\n",
      "Reading ../../data/YFV2001_scRNAseq_sub1/6_140812_AC492YACXX_P1299_1492_ac.txt\n",
      "Reading ../../data/YFV2001_scRNAseq_sub1/6_140812_AC492YACXX_P1299_1514_ac.txt\n",
      "Reading ../../data/YFV2001_scRNAseq_sub1/6_140812_AC492YACXX_P1299_1529_ac.txt\n",
      "Reading ../../data/YFV2001_scRNAseq_sub1/6_140812_AC492YACXX_P1299_1535_ac.txt\n",
      "Reading ../../data/YFV2001_scRNAseq_sub1/6_140812_AC492YACXX_P1299_1536_ac.txt\n",
      "Reading ../../data/YFV2001_scRNAseq_sub1/6_140812_AC492YACXX_P1299_1555_ac.txt\n",
      "Reading ../../data/YFV2001_scRNAseq_sub1/6_140812_AC492YACXX_P1299_1556_ac.txt\n",
      "Reading ../../data/YFV2001_scRNAseq_sub1/6_140812_AC492YACXX_P1299_1562_ac.txt\n",
      "Reading ../../data/YFV2001_scRNAseq_sub1/6_140812_AC492YACXX_P1299_1575_ac.txt\n",
      "Reading ../../data/YFV2001_scRNAseq_sub1/7_140812_AC492YACXX_P1299_1603_ac.txt\n",
      "Reading ../../data/YFV2001_scRNAseq_sub1/7_140812_AC492YACXX_P1299_1653_ac.txt\n",
      "Reading ../../data/YFV2001_scRNAseq_sub1/7_140812_AC492YACXX_P1299_1663_ac.txt\n",
      "Reading ../../data/YFV2001_scRNAseq_sub1/8_140812_AC492YACXX_P1299_1678_ac.txt\n",
      "Reading ../../data/YFV2001_scRNAseq_sub1/8_140812_AC492YACXX_P1299_1685_ac.txt\n",
      "Reading ../../data/YFV2001_scRNAseq_sub1/8_140812_AC492YACXX_P1299_1709_ac.txt\n",
      "Reading ../../data/YFV2001_scRNAseq_sub1/8_140812_AC492YACXX_P1299_1747_ac.txt\n",
      "Reading ../../data/YFV2001_scRNAseq_sub1/8_140812_AC492YACXX_P1299_1756_ac.txt\n",
      "Reading ../../data/YFV2001_scRNAseq_sub1/8_140812_AC492YACXX_P1299_1757_ac.txt\n",
      "Reading ../../data/YFV2001_scRNAseq_sub1/8_140812_AC492YACXX_P1299_1759_ac.txt\n",
      "Reading ../../data/YFV2001_scRNAseq_sub1/8_140812_AC492YACXX_P1299_1760_ac.txt\n"
     ]
    }
   ],
   "source": [
    "cell_count = []\n",
    "\n",
    "# Get all allele counts files in the input path\n",
    "cell_count_filenames = list(glob(os.path.join(INPUT_PATH, '*.txt'))) #*.txt\n",
    "\n",
    "for filename in sorted(cell_count_filenames):\n",
    "    print('Reading {}'.format(filename))\n",
    "    name = os.path.basename(filename).split('.')[0]\n",
    "    \n",
    "\n",
    "    # Load one allele count file\n",
    "    counts = pd.read_csv(filename, sep='\\t')\n",
    "    counts.name = name\n",
    "    cell_count.append(counts)\n",
    "    \n",
    "# Get sample order\n",
    "\n",
    "sample_list = []\n",
    "\n",
    "for filename in sorted(cell_count_filenames):\n",
    "    name = os.path.basename(filename).split('-')[0]#.split('_')[-1]\n",
    "    sample_list.append(name)\n",
    "\n",
    "sample_list_df = pd.DataFrame(sample_list)\n",
    "sample_list_df = sample_list_df.rename(columns={0: 'cell'})"
   ]
  },
  {
   "cell_type": "code",
   "execution_count": 7,
   "id": "ee56b739",
   "metadata": {},
   "outputs": [],
   "source": [
    "def remove_low_cov_pos(cell_count):\n",
    "    \n",
    "    # Filter positions with low mean coverage\n",
    "    \n",
    "    # First make list with positions with low coverage\n",
    "    # concat cell counts into new df\n",
    "    cc_flt = pd.concat(cell_count, axis=1)\n",
    "    # drop unwanted cols\n",
    "    cc_flt.drop(['#CHR', 'POS', 'Count_A', 'Count_C', 'Count_G', 'Count_T'], axis=1, inplace=True)\n",
    "    # drop bulk col\n",
    "    column_numbers = [x for x in range(cc_flt.shape[1])] # list of columns' integer indices\n",
    "    column_numbers.remove(0) #removing column integer index 0\n",
    "    cc_flt = cc_flt.iloc[:, column_numbers] #return all columns except the 0th column\n",
    "    \n",
    "    # compute average coverage\n",
    "    cc_flt['mean'] = cc_flt.mean(axis=1)\n",
    "    \n",
    "    # Get positions in new col\n",
    "    cc_flt.reset_index(inplace=True)\n",
    "    cc_flt['POS'] = cc_flt['index']+1\n",
    "    \n",
    "    # make new df with only relevant info\n",
    "    cc_flt_pos = cc_flt[['mean', 'POS']]\n",
    "    \n",
    "    # reset index\n",
    "    cc_flt_pos.set_index('POS', inplace=True)\n",
    "    \n",
    "    # Select rows with low coverage\n",
    "    threshold = 100\n",
    "    below_thres = cc_flt_pos.loc[cc_flt_pos['mean'] < threshold]\n",
    "\n",
    "    # save index (which is POS) to list\n",
    "    below_thres_lst = below_thres.index.tolist()\n",
    "    \n",
    "    return below_thres_lst"
   ]
  },
  {
   "cell_type": "code",
   "execution_count": 8,
   "id": "a27ec2ee",
   "metadata": {},
   "outputs": [
    {
     "data": {
      "text/plain": [
       "[0.0001,\n",
       " 0.0112,\n",
       " 0.0223,\n",
       " 0.0334,\n",
       " 0.0445,\n",
       " 0.0556,\n",
       " 0.0667,\n",
       " 0.0778,\n",
       " 0.0889,\n",
       " 0.1,\n",
       " 0.2,\n",
       " 0.22]"
      ]
     },
     "execution_count": 8,
     "metadata": {},
     "output_type": "execute_result"
    }
   ],
   "source": [
    "# Obtain a set of error rates to test\n",
    "\n",
    "\n",
    "e_rates = [0.0001 ,0.0112 ,0.0223 ,0.0334 ,0.0445 ,0.0556 ,0.0667 ,0.0778,0.0889 ,0.1 ,0.2 ,0.22]\n",
    "\n",
    "#e_rates = np.linspace(0.0001, 0.0009, 10).round(4)\n",
    "#extra_error_rates = [0.001, 0.002, 0.005]\n",
    "#extra_error_rates_ar = np.array(extra_error_rates)\n",
    "#all_e_rates = np.concatenate((e_rates1, extra_error_rates_ar))\n",
    "\n",
    "all_e_rates = e_rates\n",
    "all_e_rates"
   ]
  },
  {
   "cell_type": "code",
   "execution_count": 9,
   "id": "e5be8989",
   "metadata": {},
   "outputs": [],
   "source": [
    "#np.linspace(0.0001, 0.22, 10).round(4)"
   ]
  },
  {
   "cell_type": "markdown",
   "id": "ac213a64",
   "metadata": {},
   "source": [
    "## Compute mutations probabilities"
   ]
  },
  {
   "cell_type": "code",
   "execution_count": 10,
   "id": "535f29c4",
   "metadata": {},
   "outputs": [],
   "source": [
    "def cell_prob(e_rate):\n",
    "    \n",
    "    error_rate_when_no_mutation = error_rate_when_mutation = e_rate\n",
    "    p_mutation = 1 / 500.0\n",
    "\n",
    "    cell_prob = []\n",
    "    for count in cell_count:\n",
    "        count = count.iloc[:reference.shape[0]]  # discard trailing positions\n",
    "        p = nucleotide_mutation_prob(\n",
    "            cell_counts=count,\n",
    "            reference=reference,\n",
    "            error_rate_when_no_mutation=error_rate_when_no_mutation,\n",
    "            error_rate_when_mutation=error_rate_when_mutation,\n",
    "            p_mutation=p_mutation,\n",
    "        )\n",
    "\n",
    "        cell_prob.append(p)\n",
    "        \n",
    "    # Compute P(mutation | read counts)\n",
    "    cells_p_mutation = []\n",
    "    for cell_prob in cell_prob:\n",
    "        p = mutation_prob(cell_prob, reference)\n",
    "        cells_p_mutation.append(p)\n",
    "        \n",
    "        \n",
    "    # Make mutation matrix\n",
    "    mutation_matrix = cells_p_mutation[0][['#CHR', 'POS']].copy()\n",
    "    mutation_matrix_data = pd.DataFrame(np.dstack([c['Prob_mutation'].values for c in cells_p_mutation]).squeeze())\n",
    "    mutation_matrix = pd.concat([mutation_matrix, mutation_matrix_data], axis=1)\n",
    "    return mutation_matrix      "
   ]
  },
  {
   "cell_type": "markdown",
   "id": "cfa83fce",
   "metadata": {},
   "source": [
    "## Filter pmat"
   ]
  },
  {
   "cell_type": "code",
   "execution_count": 11,
   "id": "4d0bc336",
   "metadata": {},
   "outputs": [],
   "source": [
    "def flt_pmat(e_rate, cell_count):\n",
    "    mutation_matrix = cell_prob(e_rate)\n",
    "\n",
    "    # Remove germline mutations\n",
    "    mutation_matrix = mutation_matrix.loc[mutation_matrix[0] < 0.9]\n",
    "    \n",
    "    # Probabilities for location with mutation at any of the cells\n",
    "    mutation_threshold = 0.9\n",
    "    data = mutation_matrix.set_index('POS').drop('#CHR', axis=1)\n",
    "    mutation_any_cell = data[(data > mutation_threshold).any(axis=1)]\n",
    "    \n",
    "    # select rows that have a value greater than mutation_threshold in more than x cells\n",
    "    mutation_threshold = 0.9\n",
    "    mask = (data.values > mutation_threshold).sum(axis=1) > 1 #create an array with boolean values and sum these along the axis and select rows with more than 1 True\n",
    "    two_cells_have_mut = data[mask]\n",
    "\n",
    "    # Define size of 50% of the population\n",
    "    half = len(two_cells_have_mut.columns) / 2\n",
    "\n",
    "    # Remove rows where 50% of cols are nan and save in new df\n",
    "    nan_rows = two_cells_have_mut.drop(two_cells_have_mut[(two_cells_have_mut.isna()).sum(axis=1)> half].index)\n",
    "\n",
    "    # Replace NaN with row mean\n",
    "    imputed = nan_rows.transpose().fillna(nan_rows.mean(axis=1)).transpose()\n",
    "    \n",
    "    # To skip removal of sites with overall high probability for mut\n",
    "    #high_prob_rows = imputed.copy()\n",
    "    \n",
    "    # remove locations close to another location\n",
    "    index = imputed.index.tolist() + [2000000]\n",
    "    ind = [ a for a,b in zip(index[:-1], index[1:]) if b-a > 4]\n",
    "    clust = imputed.loc[ind]\n",
    "    #clust.shape\n",
    "    \n",
    "    # Replace 1.0\n",
    "    replaced = clust.replace(1.0, 0.99999)\n",
    "        \n",
    "    # Remove pos with low cov\n",
    "    below_thres_lst = remove_low_cov_pos(cell_count)\n",
    "    \n",
    "    low_dp = replaced.copy()\n",
    "    low_dp.reset_index(inplace = True)\n",
    "    low_dp = low_dp[~low_dp['POS'].isin(below_thres_lst)]\n",
    "    low_dp.set_index('POS', inplace=True)\n",
    "\n",
    "    # save matrix\n",
    "    np.set_printoptions(suppress=True)\n",
    "    e_rate_name = str(e_rate)\n",
    "    matrix_path = '../../data/YFV2001_matrix_output_2/' + e_rate_name + '.csv'\n",
    "    low_dp.to_csv(matrix_path, index=False, sep=' ', header= False)\n",
    "    \n"
   ]
  },
  {
   "cell_type": "code",
   "execution_count": null,
   "id": "cbbd7b15",
   "metadata": {},
   "outputs": [],
   "source": []
  },
  {
   "cell_type": "code",
   "execution_count": 12,
   "id": "f22cc071",
   "metadata": {},
   "outputs": [
    {
     "name": "stdout",
     "output_type": "stream",
     "text": [
      "1\n"
     ]
    },
    {
     "name": "stderr",
     "output_type": "stream",
     "text": [
      "/Users/carljohan.eriksson/KI/jf_lab/joanna_phylogeny_model/MCMT/Notebooks/mito/genotyping.py:258: FutureWarning: The 'lookup' method is deprecated and will be removed in a future version. You can use DataFrame.melt and DataFrame.loc as a substitute.\n",
      "  print(p.lookup(p.index, reference.values))\n",
      "/Users/carljohan.eriksson/KI/jf_lab/joanna_phylogeny_model/MCMT/Notebooks/mito/genotyping.py:259: FutureWarning: The 'lookup' method is deprecated and will be removed in a future version. You can use DataFrame.melt and DataFrame.loc as a substitute.\n",
      "  print(len(p.lookup(p.index, reference.values)))\n",
      "/Users/carljohan.eriksson/KI/jf_lab/joanna_phylogeny_model/MCMT/Notebooks/mito/genotyping.py:260: FutureWarning: The 'lookup' method is deprecated and will be removed in a future version. You can use DataFrame.melt and DataFrame.loc as a substitute.\n",
      "  print(type(p.lookup(p.index, reference.values)))\n"
     ]
    },
    {
     "name": "stdout",
     "output_type": "stream",
     "text": [
      "[0.9999955  0.99999561 0.99999564 ... 0.99999735 0.99999731 0.99999725]\n",
      "16569\n",
      "<class 'numpy.ndarray'>\n",
      "2\n",
      "                  A             C             G             T   N\n",
      "0      1.501123e-06  1.501123e-06  9.999955e-01  1.501123e-06 NaN\n",
      "1      9.999956e-01  1.461706e-06  1.461706e-06  1.461706e-06 NaN\n",
      "2      1.452173e-06  1.452173e-06  1.452173e-06  9.999956e-01 NaN\n",
      "3      1.397489e-06  9.999958e-01  1.397489e-06  1.397489e-06 NaN\n",
      "4      9.999959e-01  1.371663e-06  1.371663e-06  1.371663e-06 NaN\n",
      "...             ...           ...           ...           ...  ..\n",
      "16564  8.498740e-07  9.999975e-01  8.498740e-07  8.498740e-07 NaN\n",
      "16565  8.686618e-07  8.686618e-07  9.999974e-01  8.686618e-07 NaN\n",
      "16566  9.999973e-01  8.835991e-07  8.835991e-07  8.835991e-07 NaN\n",
      "16567  8.966455e-07  8.966455e-07  8.966455e-07  9.999973e-01 NaN\n",
      "16568  9.150696e-07  9.150696e-07  9.999973e-01  9.150696e-07 NaN\n",
      "\n",
      "[16569 rows x 5 columns]\n",
      "3\n",
      "['G' 'A' 'T' ... 'A' 'T' 'G']\n",
      "16569\n"
     ]
    },
    {
     "ename": "NameError",
     "evalue": "name 'quit' is not defined",
     "output_type": "error",
     "traceback": [
      "\u001b[0;31m---------------------------------------------------------------------------\u001b[0m",
      "\u001b[0;31mNameError\u001b[0m                                 Traceback (most recent call last)",
      "Cell \u001b[0;32mIn[12], line 2\u001b[0m\n\u001b[1;32m      1\u001b[0m \u001b[38;5;28;01mfor\u001b[39;00m e_rate \u001b[38;5;129;01min\u001b[39;00m all_e_rates:\n\u001b[0;32m----> 2\u001b[0m     \u001b[43mflt_pmat\u001b[49m\u001b[43m(\u001b[49m\u001b[43me_rate\u001b[49m\u001b[43m,\u001b[49m\u001b[43m \u001b[49m\u001b[43mcell_count\u001b[49m\u001b[43m)\u001b[49m\n",
      "Cell \u001b[0;32mIn[11], line 2\u001b[0m, in \u001b[0;36mflt_pmat\u001b[0;34m(e_rate, cell_count)\u001b[0m\n\u001b[1;32m      1\u001b[0m \u001b[38;5;28;01mdef\u001b[39;00m \u001b[38;5;21mflt_pmat\u001b[39m(e_rate, cell_count):\n\u001b[0;32m----> 2\u001b[0m     mutation_matrix \u001b[38;5;241m=\u001b[39m \u001b[43mcell_prob\u001b[49m\u001b[43m(\u001b[49m\u001b[43me_rate\u001b[49m\u001b[43m)\u001b[49m\n\u001b[1;32m      4\u001b[0m     \u001b[38;5;66;03m# Remove germline mutations\u001b[39;00m\n\u001b[1;32m      5\u001b[0m     mutation_matrix \u001b[38;5;241m=\u001b[39m mutation_matrix\u001b[38;5;241m.\u001b[39mloc[mutation_matrix[\u001b[38;5;241m0\u001b[39m] \u001b[38;5;241m<\u001b[39m \u001b[38;5;241m0.9\u001b[39m]\n",
      "Cell \u001b[0;32mIn[10], line 22\u001b[0m, in \u001b[0;36mcell_prob\u001b[0;34m(e_rate)\u001b[0m\n\u001b[1;32m     20\u001b[0m cells_p_mutation \u001b[38;5;241m=\u001b[39m []\n\u001b[1;32m     21\u001b[0m \u001b[38;5;28;01mfor\u001b[39;00m cell_prob \u001b[38;5;129;01min\u001b[39;00m cell_prob:\n\u001b[0;32m---> 22\u001b[0m     p \u001b[38;5;241m=\u001b[39m \u001b[43mmutation_prob\u001b[49m\u001b[43m(\u001b[49m\u001b[43mcell_prob\u001b[49m\u001b[43m,\u001b[49m\u001b[43m \u001b[49m\u001b[43mreference\u001b[49m\u001b[43m)\u001b[49m\n\u001b[1;32m     23\u001b[0m     cells_p_mutation\u001b[38;5;241m.\u001b[39mappend(p)\n\u001b[1;32m     26\u001b[0m \u001b[38;5;66;03m# Make mutation matrix\u001b[39;00m\n",
      "File \u001b[0;32m~/KI/jf_lab/joanna_phylogeny_model/MCMT/Notebooks/mito/genotyping.py:271\u001b[0m, in \u001b[0;36mmutation_prob\u001b[0;34m(nucleotide_mutation_prob, reference)\u001b[0m\n\u001b[1;32m    265\u001b[0m     \u001b[38;5;28mprint\u001b[39m(\u001b[38;5;28mlen\u001b[39m(reference\u001b[38;5;241m.\u001b[39mvalues))\n\u001b[1;32m    266\u001b[0m \u001b[38;5;66;03m#    df2 = p.melt(p.columns) \u001b[39;00m\n\u001b[1;32m    267\u001b[0m \u001b[38;5;66;03m#    print(df2)\u001b[39;00m\n\u001b[1;32m    268\u001b[0m \u001b[38;5;66;03m#    print(df.loc[df2[df2.columns]==df2['variable']]['value'].values)\u001b[39;00m\n\u001b[1;32m    269\u001b[0m \u001b[38;5;66;03m#    print(\"2\")    \u001b[39;00m\n\u001b[0;32m--> 271\u001b[0m     \u001b[43mquit\u001b[49m()\n\u001b[1;32m    273\u001b[0m     \u001b[38;5;28;01mreturn\u001b[39;00m prob_mutation\n",
      "\u001b[0;31mNameError\u001b[0m: name 'quit' is not defined"
     ]
    }
   ],
   "source": [
    "for e_rate in all_e_rates:\n",
    "    flt_pmat(e_rate, cell_count)"
   ]
  },
  {
   "cell_type": "markdown",
   "id": "c16fb41a",
   "metadata": {},
   "source": [
    "## Now run mt-SCITE"
   ]
  },
  {
   "cell_type": "code",
   "execution_count": null,
   "id": "0d893638",
   "metadata": {},
   "outputs": [],
   "source": []
  }
 ],
 "metadata": {
  "kernelspec": {
   "display_name": "Python 3 (ipykernel)",
   "language": "python",
   "name": "python3"
  },
  "language_info": {
   "codemirror_mode": {
    "name": "ipython",
    "version": 3
   },
   "file_extension": ".py",
   "mimetype": "text/x-python",
   "name": "python",
   "nbconvert_exporter": "python",
   "pygments_lexer": "ipython3",
   "version": "3.10.8"
  }
 },
 "nbformat": 4,
 "nbformat_minor": 5
}
