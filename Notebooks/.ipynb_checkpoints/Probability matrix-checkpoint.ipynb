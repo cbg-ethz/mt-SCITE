{
 "cells": [
  {
   "cell_type": "code",
   "execution_count": 1,
   "metadata": {
    "ExecuteTime": {
     "end_time": "2019-12-17T21:39:59.224762Z",
     "start_time": "2019-12-17T21:39:58.268799Z"
    }
   },
   "outputs": [],
   "source": [
    "%matplotlib inline\n",
    "\n",
    "import matplotlib.pyplot as plt\n",
    "import seaborn as sns\n",
    "import numpy as np\n",
    "import pandas as pd\n",
    "from Bio import SeqIO\n",
    "from glob import glob\n",
    "import os\n",
    "\n",
    "from mito.genotyping import nucleotide_mutation_prob, mutation_prob, COUNTS_COLUMNS\n",
    "\n",
    "\n",
    "# Plotting style\n",
    "sns.set_style('white')\n",
    "sns.set_context('notebook')\n",
    "pd.set_option('max_rows', 1000)\n",
    "pd.set_option('max_columns', 100)\n",
    "\n",
    "def plot_style(figsize=(12, 6), labelsize=20, titlesize=24, ticklabelsize=14, **kwargs):\n",
    "   basic_style = {\n",
    "       'figure.figsize': figsize,\n",
    "       'axes.labelsize': labelsize,\n",
    "       'axes.titlesize': titlesize,\n",
    "       'xtick.labelsize': ticklabelsize,\n",
    "       'ytick.labelsize': ticklabelsize,\n",
    "       'axes.spines.top': False,\n",
    "       'axes.spines.right': False,\n",
    "       'axes.spines.left': False,\n",
    "       'axes.grid': False,\n",
    "       'axes.grid.axis': 'y',\n",
    "   }\n",
    "   basic_style.update(kwargs)\n",
    "   return plt.rc_context(rc=basic_style)\n",
    "\n",
    "blue = sns.xkcd_rgb['ocean blue']\n"
   ]
  },
  {
   "cell_type": "markdown",
   "metadata": {},
   "source": [
    "# Load reference"
   ]
  },
  {
   "cell_type": "code",
   "execution_count": 4,
   "metadata": {
    "ExecuteTime": {
     "end_time": "2019-12-17T21:39:59.291882Z",
     "start_time": "2019-12-17T21:39:59.227004Z"
    }
   },
   "outputs": [],
   "source": [
    "#reference_path = 'data/reference/mito_GRCh38_gimlet.fasta'\n",
    "\n",
    "reference_path = '../../../../pberkes/data/reference/mito_GRCh38_gimlet.fasta'\n",
    "\n",
    "with open(reference_path, 'r'):\n",
    "    reference_seq = next(SeqIO.parse(reference_path, \"fasta\"))\n",
    "reference = pd.Series(list(reference_seq.seq))"
   ]
  },
  {
   "cell_type": "markdown",
   "metadata": {},
   "source": [
    "# Load cells read matrixes"
   ]
  },
  {
   "cell_type": "code",
   "execution_count": 12,
   "metadata": {},
   "outputs": [],
   "source": [
    "# Path with the cell count files\n",
    "\n",
    "\n",
    "INPUT_PATH = '../../../kth_data_science_assignment_4_aug2020/data/atac/train_atac_data'\n",
    "\n",
    "#INPUT_PATH = '../kth_data_science_assignment_4_aug2020/data/atac/train_atac_data'\n",
    "#INPUT_PATH = '../kth_data_science_assignment_4_aug2020/data/atac/test_atac_data'"
   ]
  },
  {
   "cell_type": "code",
   "execution_count": 13,
   "metadata": {},
   "outputs": [
    {
     "name": "stdout",
     "output_type": "stream",
     "text": [
      "Reading ../../../kth_data_science_assignment_4_aug2020/data/atac/train_atac_data/P3861_218.clean.dedup_ac.txt\n",
      "Reading ../../../kth_data_science_assignment_4_aug2020/data/atac/train_atac_data/P9855_2089_S112_L004_ac.txt\n",
      "Reading ../../../kth_data_science_assignment_4_aug2020/data/atac/train_atac_data/P9855_2090_S113_L004_ac.txt\n",
      "Reading ../../../kth_data_science_assignment_4_aug2020/data/atac/train_atac_data/P9855_2104_S127_L006_ac.txt\n",
      "Reading ../../../kth_data_science_assignment_4_aug2020/data/atac/train_atac_data/P9855_2110_S133_L007_ac.txt\n",
      "Reading ../../../kth_data_science_assignment_4_aug2020/data/atac/train_atac_data/P9855_2111_S134_L007_ac.txt\n",
      "Reading ../../../kth_data_science_assignment_4_aug2020/data/atac/train_atac_data/P9855_2112_S135_L007_ac.txt\n"
     ]
    }
   ],
   "source": [
    "cell_count = []\n",
    "\n",
    "# Get all cell counts files in the input path\n",
    "cell_count_filenames = list(glob(os.path.join(INPUT_PATH, '*.txt'))) #*.txt\n",
    "\n",
    "for filename in sorted(cell_count_filenames):\n",
    "    print('Reading {}'.format(filename))\n",
    "    name = os.path.basename(filename).split('.')[0]\n",
    "    \n",
    "\n",
    "    # Load one cell count file\n",
    "    counts = pd.read_csv(filename, sep='\\t')\n",
    "    counts.name = name\n",
    "    cell_count.append(counts)\n",
    "    \n",
    "# Get sample order\n",
    "\n",
    "sample_list = []\n",
    "\n",
    "for filename in sorted(cell_count_filenames):\n",
    "    name = os.path.basename(filename).split('-')[0]#.split('_')[-1]\n",
    "    sample_list.append(name)\n",
    "\n",
    "sample_list_df = pd.DataFrame(sample_list)\n",
    "sample_list_df = sample_list_df.rename(columns={0: 'cell'})\n",
    "\n",
    "#sample_list_df\n",
    "#sample_list_df.to_csv('data/matrix_output/sample_order_test.txt', sep=',')\n",
    "#sample_list_df.to_csv('data/matrix_output/sample_order_train.txt', sep=',')\n",
    "#sample_list_df.to_csv('data/matrix_output/sample_order_full.txt', sep=',')\n",
    "#sample_list_df.to_csv('data/matrix_output/sample_order_test.txt', sep=',')"
   ]
  },
  {
   "cell_type": "code",
   "execution_count": 90,
   "metadata": {},
   "outputs": [
    {
     "data": {
      "text/plain": [
       "array([0.0001, 0.0112, 0.0223, 0.0334, 0.0445, 0.0556, 0.0667, 0.0778,\n",
       "       0.0889, 0.1   ])"
      ]
     },
     "execution_count": 90,
     "metadata": {},
     "output_type": "execute_result"
    }
   ],
   "source": [
    "# Obtain a set of error rates to test\n",
    "e_rates = np.linspace(0.0001, 0.1, 10) \n",
    "e_rates\n"
   ]
  },
  {
   "cell_type": "code",
   "execution_count": null,
   "metadata": {},
   "outputs": [],
   "source": []
  },
  {
   "cell_type": "code",
   "execution_count": 14,
   "metadata": {
    "ExecuteTime": {
     "end_time": "2019-12-17T21:39:59.948918Z",
     "start_time": "2019-12-17T21:39:59.374857Z"
    }
   },
   "outputs": [
    {
     "name": "stdout",
     "output_type": "stream",
     "text": [
      "CPU times: user 3 µs, sys: 1 µs, total: 4 µs\n",
      "Wall time: 7.87 µs\n"
     ]
    },
    {
     "name": "stderr",
     "output_type": "stream",
     "text": [
      "/Users/joanha/OneDrive - Karolinska Institutet/Mac/Documents/fatemapping_analys/mito/Sent_to_Henrik/Assignment_4/Assignment_4_notebook/mito/genotyping.py:139: FutureWarning: The pandas.np module is deprecated and will be removed from pandas in a future version. Import numpy directly instead\n",
      "  prob_mutation[col] = pd.np.nan\n",
      "/Users/joanha/OneDrive - Karolinska Institutet/Mac/Documents/fatemapping_analys/mito/Sent_to_Henrik/Assignment_4/Assignment_4_notebook/mito/genotyping.py:139: FutureWarning: The pandas.np module is deprecated and will be removed from pandas in a future version. Import numpy directly instead\n",
      "  prob_mutation[col] = pd.np.nan\n",
      "/Users/joanha/OneDrive - Karolinska Institutet/Mac/Documents/fatemapping_analys/mito/Sent_to_Henrik/Assignment_4/Assignment_4_notebook/mito/genotyping.py:139: FutureWarning: The pandas.np module is deprecated and will be removed from pandas in a future version. Import numpy directly instead\n",
      "  prob_mutation[col] = pd.np.nan\n",
      "/Users/joanha/OneDrive - Karolinska Institutet/Mac/Documents/fatemapping_analys/mito/Sent_to_Henrik/Assignment_4/Assignment_4_notebook/mito/genotyping.py:139: FutureWarning: The pandas.np module is deprecated and will be removed from pandas in a future version. Import numpy directly instead\n",
      "  prob_mutation[col] = pd.np.nan\n",
      "/Users/joanha/OneDrive - Karolinska Institutet/Mac/Documents/fatemapping_analys/mito/Sent_to_Henrik/Assignment_4/Assignment_4_notebook/mito/genotyping.py:139: FutureWarning: The pandas.np module is deprecated and will be removed from pandas in a future version. Import numpy directly instead\n",
      "  prob_mutation[col] = pd.np.nan\n",
      "/Users/joanha/OneDrive - Karolinska Institutet/Mac/Documents/fatemapping_analys/mito/Sent_to_Henrik/Assignment_4/Assignment_4_notebook/mito/genotyping.py:139: FutureWarning: The pandas.np module is deprecated and will be removed from pandas in a future version. Import numpy directly instead\n",
      "  prob_mutation[col] = pd.np.nan\n",
      "/Users/joanha/OneDrive - Karolinska Institutet/Mac/Documents/fatemapping_analys/mito/Sent_to_Henrik/Assignment_4/Assignment_4_notebook/mito/genotyping.py:139: FutureWarning: The pandas.np module is deprecated and will be removed from pandas in a future version. Import numpy directly instead\n",
      "  prob_mutation[col] = pd.np.nan\n"
     ]
    },
    {
     "ename": "FileNotFoundError",
     "evalue": "[Errno 2] No such file or directory: 'data/matrix_output/0.0112.csv'",
     "output_type": "error",
     "traceback": [
      "\u001b[0;31m---------------------------------------------------------------------------\u001b[0m",
      "\u001b[0;31mFileNotFoundError\u001b[0m                         Traceback (most recent call last)",
      "\u001b[0;32m<ipython-input-14-fb167f900f5d>\u001b[0m in \u001b[0;36m<module>\u001b[0;34m\u001b[0m\n\u001b[1;32m     94\u001b[0m \u001b[0me_rate_name\u001b[0m \u001b[0;34m=\u001b[0m \u001b[0mstr\u001b[0m\u001b[0;34m(\u001b[0m\u001b[0me_rate\u001b[0m\u001b[0;34m)\u001b[0m\u001b[0;34m\u001b[0m\u001b[0;34m\u001b[0m\u001b[0m\n\u001b[1;32m     95\u001b[0m \u001b[0mmatrix_path\u001b[0m \u001b[0;34m=\u001b[0m \u001b[0;34m'data/matrix_output/'\u001b[0m \u001b[0;34m+\u001b[0m \u001b[0me_rate_name\u001b[0m \u001b[0;34m+\u001b[0m \u001b[0;34m'.csv'\u001b[0m\u001b[0;34m\u001b[0m\u001b[0;34m\u001b[0m\u001b[0m\n\u001b[0;32m---> 96\u001b[0;31m \u001b[0mclust\u001b[0m\u001b[0;34m.\u001b[0m\u001b[0mto_csv\u001b[0m\u001b[0;34m(\u001b[0m\u001b[0mmatrix_path\u001b[0m\u001b[0;34m,\u001b[0m \u001b[0mindex\u001b[0m\u001b[0;34m=\u001b[0m\u001b[0;32mFalse\u001b[0m\u001b[0;34m,\u001b[0m \u001b[0msep\u001b[0m\u001b[0;34m=\u001b[0m\u001b[0;34m' '\u001b[0m\u001b[0;34m,\u001b[0m \u001b[0mheader\u001b[0m\u001b[0;34m=\u001b[0m \u001b[0;32mFalse\u001b[0m\u001b[0;34m)\u001b[0m\u001b[0;34m\u001b[0m\u001b[0;34m\u001b[0m\u001b[0m\n\u001b[0m",
      "\u001b[0;32m~/anaconda3/envs/tree_env/lib/python3.8/site-packages/pandas/core/generic.py\u001b[0m in \u001b[0;36mto_csv\u001b[0;34m(self, path_or_buf, sep, na_rep, float_format, columns, header, index, index_label, mode, encoding, compression, quoting, quotechar, line_terminator, chunksize, date_format, doublequote, escapechar, decimal, errors)\u001b[0m\n\u001b[1;32m   3165\u001b[0m             \u001b[0mdecimal\u001b[0m\u001b[0;34m=\u001b[0m\u001b[0mdecimal\u001b[0m\u001b[0;34m,\u001b[0m\u001b[0;34m\u001b[0m\u001b[0;34m\u001b[0m\u001b[0m\n\u001b[1;32m   3166\u001b[0m         )\n\u001b[0;32m-> 3167\u001b[0;31m         \u001b[0mformatter\u001b[0m\u001b[0;34m.\u001b[0m\u001b[0msave\u001b[0m\u001b[0;34m(\u001b[0m\u001b[0;34m)\u001b[0m\u001b[0;34m\u001b[0m\u001b[0;34m\u001b[0m\u001b[0m\n\u001b[0m\u001b[1;32m   3168\u001b[0m \u001b[0;34m\u001b[0m\u001b[0m\n\u001b[1;32m   3169\u001b[0m         \u001b[0;32mif\u001b[0m \u001b[0mpath_or_buf\u001b[0m \u001b[0;32mis\u001b[0m \u001b[0;32mNone\u001b[0m\u001b[0;34m:\u001b[0m\u001b[0;34m\u001b[0m\u001b[0;34m\u001b[0m\u001b[0m\n",
      "\u001b[0;32m~/anaconda3/envs/tree_env/lib/python3.8/site-packages/pandas/io/formats/csvs.py\u001b[0m in \u001b[0;36msave\u001b[0;34m(self)\u001b[0m\n\u001b[1;32m    183\u001b[0m             \u001b[0mclose\u001b[0m \u001b[0;34m=\u001b[0m \u001b[0;32mFalse\u001b[0m\u001b[0;34m\u001b[0m\u001b[0;34m\u001b[0m\u001b[0m\n\u001b[1;32m    184\u001b[0m         \u001b[0;32melse\u001b[0m\u001b[0;34m:\u001b[0m\u001b[0;34m\u001b[0m\u001b[0;34m\u001b[0m\u001b[0m\n\u001b[0;32m--> 185\u001b[0;31m             f, handles = get_handle(\n\u001b[0m\u001b[1;32m    186\u001b[0m                 \u001b[0mself\u001b[0m\u001b[0;34m.\u001b[0m\u001b[0mpath_or_buf\u001b[0m\u001b[0;34m,\u001b[0m\u001b[0;34m\u001b[0m\u001b[0;34m\u001b[0m\u001b[0m\n\u001b[1;32m    187\u001b[0m                 \u001b[0mself\u001b[0m\u001b[0;34m.\u001b[0m\u001b[0mmode\u001b[0m\u001b[0;34m,\u001b[0m\u001b[0;34m\u001b[0m\u001b[0;34m\u001b[0m\u001b[0m\n",
      "\u001b[0;32m~/anaconda3/envs/tree_env/lib/python3.8/site-packages/pandas/io/common.py\u001b[0m in \u001b[0;36mget_handle\u001b[0;34m(path_or_buf, mode, encoding, compression, memory_map, is_text, errors)\u001b[0m\n\u001b[1;32m    491\u001b[0m         \u001b[0;32mif\u001b[0m \u001b[0mencoding\u001b[0m\u001b[0;34m:\u001b[0m\u001b[0;34m\u001b[0m\u001b[0;34m\u001b[0m\u001b[0m\n\u001b[1;32m    492\u001b[0m             \u001b[0;31m# Encoding\u001b[0m\u001b[0;34m\u001b[0m\u001b[0;34m\u001b[0m\u001b[0;34m\u001b[0m\u001b[0m\n\u001b[0;32m--> 493\u001b[0;31m             \u001b[0mf\u001b[0m \u001b[0;34m=\u001b[0m \u001b[0mopen\u001b[0m\u001b[0;34m(\u001b[0m\u001b[0mpath_or_buf\u001b[0m\u001b[0;34m,\u001b[0m \u001b[0mmode\u001b[0m\u001b[0;34m,\u001b[0m \u001b[0mencoding\u001b[0m\u001b[0;34m=\u001b[0m\u001b[0mencoding\u001b[0m\u001b[0;34m,\u001b[0m \u001b[0merrors\u001b[0m\u001b[0;34m=\u001b[0m\u001b[0merrors\u001b[0m\u001b[0;34m,\u001b[0m \u001b[0mnewline\u001b[0m\u001b[0;34m=\u001b[0m\u001b[0;34m\"\"\u001b[0m\u001b[0;34m)\u001b[0m\u001b[0;34m\u001b[0m\u001b[0;34m\u001b[0m\u001b[0m\n\u001b[0m\u001b[1;32m    494\u001b[0m         \u001b[0;32melif\u001b[0m \u001b[0mis_text\u001b[0m\u001b[0;34m:\u001b[0m\u001b[0;34m\u001b[0m\u001b[0;34m\u001b[0m\u001b[0m\n\u001b[1;32m    495\u001b[0m             \u001b[0;31m# No explicit encoding\u001b[0m\u001b[0;34m\u001b[0m\u001b[0;34m\u001b[0m\u001b[0;34m\u001b[0m\u001b[0m\n",
      "\u001b[0;31mFileNotFoundError\u001b[0m: [Errno 2] No such file or directory: 'data/matrix_output/0.0112.csv'"
     ]
    }
   ],
   "source": [
    "\n",
    "# Run this cell for each error rate\n",
    "e_rate = 0.0112\n",
    "\n",
    "# Make matrix\n",
    "\n",
    "# Compute P(mutation at X | read counts)\n",
    "\n",
    "%time\n",
    "error_rate_when_no_mutation = error_rate_when_mutation = e_rate\n",
    "p_mutation = 1 / 500.0\n",
    "\n",
    "\n",
    "cell_prob = []\n",
    "for count in cell_count:\n",
    "    count = count.iloc[:reference.shape[0]]  # discard trailing positions\n",
    "    p = nucleotide_mutation_prob(\n",
    "        cell_counts=count,\n",
    "        reference=reference,\n",
    "        error_rate_when_no_mutation=error_rate_when_no_mutation,\n",
    "        error_rate_when_mutation=error_rate_when_mutation,\n",
    "        p_mutation=p_mutation,\n",
    "    )\n",
    "\n",
    "    cell_prob.append(p)\n",
    "    \n",
    "    \n",
    "# Compute P(mutation | read counts)\n",
    "cells_p_mutation = []\n",
    "for cell_prob in cell_prob:\n",
    "    p = mutation_prob(cell_prob, reference)\n",
    "    cells_p_mutation.append(p)\n",
    "    \n",
    "    \n",
    "# Make mutation matrix\n",
    "\n",
    "mutation_matrix = cells_p_mutation[0][['#CHR', 'POS']].copy()\n",
    "mutation_matrix_data = pd.DataFrame(np.dstack([c['Prob_mutation'].values for c in cells_p_mutation]).squeeze())\n",
    "mutation_matrix = pd.concat([mutation_matrix, mutation_matrix_data], axis=1)\n",
    "\n",
    "\n",
    "# Remove germline mutations\n",
    "mutation_matrix = mutation_matrix.loc[mutation_matrix[0] < 0.9]\n",
    "#print('no germline: ' + str(len(mutation_matrix)))\n",
    "\n",
    "\n",
    "# Probabilities for location with mutation at any of the cells\n",
    "mutation_threshold = 0.9\n",
    "data = mutation_matrix.set_index('POS').drop('#CHR', axis=1)\n",
    "mutation_any_cell = data[(data > mutation_threshold).any(axis=1)]\n",
    "#print('any cell: ' + str(len(mutation_any_cell)))\n",
    "\n",
    "\n",
    "# select rows that have a value greater than mutation_threshold in more than x cells\n",
    "mutation_threshold = 0.9\n",
    "mask = (data.values > mutation_threshold).sum(axis=1) > 1 #create an array with boolean values and sum these along the axis and select rows with more than 1 True\n",
    "two_cells_have_mut = data[mask]\n",
    "#print('two cells: ' + str(len(two_cells_have_mut)))\n",
    "\n",
    "\n",
    "# Fix matrix\n",
    "\n",
    "half = len(two_cells_have_mut.columns) / 2\n",
    "\n",
    "# Remove rows where 50% of cols are nan and save in new df\n",
    "nan_rows = two_cells_have_mut.drop(two_cells_have_mut[(two_cells_have_mut.isna()).sum(axis=1)> half].index)\n",
    "#print('no nans: ' + str(len(nan_rows)))\n",
    "\n",
    "\n",
    "# Replace NaN with row mean\n",
    "imputed = nan_rows.transpose().fillna(nan_rows.mean(axis=1)).transpose()\n",
    "#print(len(imputed))\n",
    "\n",
    "\n",
    "# To skip removal of sites with overall high probability for mut\n",
    "high_prob_rows = imputed.copy()\n",
    "\n",
    "\n",
    "# Replace 1.0\n",
    "high_prob_rows = high_prob_rows.apply(lambda x: [y if y <= 0.9999 else 0.99 for y in x])\n",
    "#len(high_prob_rows)\n",
    "\n",
    "\n",
    "# To skip removal of cluster muts\n",
    "#clust = high_prob_rows.copy()\n",
    "\n",
    "##### for scRNAseq ####\n",
    "ind = [ a for a,b in zip(high_prob_rows.index,high_prob_rows.index[1:]) if b-a > 4]\n",
    "clust = high_prob_rows.loc[ind]\n",
    "#print('clust flt: ' + str(len(clust)))\n",
    "\n",
    "#len(high_prob_rows)\n",
    "\n",
    "# Turn e_rate float variable into str and save matrix\n",
    "e_rate_name = str(e_rate)\n",
    "matrix_path = 'data/matrix_output/' + e_rate_name + '.csv'\n",
    "clust.to_csv(matrix_path, index=False, sep=' ', header= False)\n"
   ]
  },
  {
   "cell_type": "code",
   "execution_count": null,
   "metadata": {},
   "outputs": [],
   "source": []
  },
  {
   "cell_type": "code",
   "execution_count": 43,
   "metadata": {},
   "outputs": [
    {
     "data": {
      "text/plain": [
       "[(739, 139),\n",
       " (286, 139),\n",
       " (175, 139),\n",
       " (130, 139),\n",
       " (114, 139),\n",
       " (107, 139),\n",
       " (105, 139),\n",
       " (102, 139),\n",
       " (101, 139),\n",
       " (99, 139),\n",
       " (39, 139),\n",
       " (13, 139)]"
      ]
     },
     "execution_count": 43,
     "metadata": {},
     "output_type": "execute_result"
    }
   ],
   "source": [
    "# list with shapes of matrices\n",
    "#mx_shape = []\n",
    "shape = clust.shape\n",
    "mx_shape.append(shape)\n",
    "mx_shape"
   ]
  },
  {
   "cell_type": "markdown",
   "metadata": {},
   "source": [
    "# Now run mtSCITE..."
   ]
  },
  {
   "cell_type": "code",
   "execution_count": 216,
   "metadata": {},
   "outputs": [],
   "source": [
    "#sc RNAseq train\n",
    "\n",
    "train_stats = {'error_rate':[0.0001, 0.0112, 0.0223, 0.0334, 0.0445, 0.0556, 0.0667, 0.0778, 0.0889, 0.1], \n",
    "               'n_mutations': [804, 158, 110, 98, 91, 84, 84, 80, 76, 73], \n",
    "               'n_trees':[110, 14, 1, 3, 1, 3, 3, 2, 13, 2], \n",
    "               'log_lhood':[-15864.824542912322, -2255.3024230724359, -1747.5377732338588, -1556.7459523984112, -1510.4281888874198, -1358.8919474351001, -1527.6094153251213, -1282.9984406630792, -1485.6061285236638, -1197.0117054675788]}\n",
    "train_df = pd.DataFrame(train_stats)\n",
    "#train_df\n",
    "#train_df.to_csv('data/invivo_scRNAseq/train_results/invivo_scRNAseq_train_stats.csv', header=True, sep='\\t', index=None)\n",
    "sc_RNAseq = train_df.copy()\n"
   ]
  },
  {
   "cell_type": "code",
   "execution_count": 217,
   "metadata": {},
   "outputs": [],
   "source": [
    "#sc RNAseq train no clust muts (nc)\n",
    "\n",
    "train_stats = {'error_rate':[0.0001, 0.0112, 0.0223, 0.0334, 0.0445, 0.0556, 0.0667, 0.0778, 0.0889, 0.1], \n",
    "               'n_mutations': [482, 116, 74, 63, 57, 51, 51, 48, 46, 44], \n",
    "               'n_trees':[22, 5, 3, 1, 1, 1, 1, 3, 1, 1], \n",
    "               'log_lhood':[-8211.3977585565463, -1358.4833067070274, -982.45894518366504, -899.11114827340623, -743.79017348788091, -713.17903779946141, -686.14027150293055, -661.00174275164545, -654.25592210320633, -641.02502373188327]}\n",
    "train_df = pd.DataFrame(train_stats)\n",
    "train_df\n",
    "sc_RNAseq_nc = train_df.copy()\n",
    "\n",
    "#train_df.to_csv('data/invivo_scRNAseq/train_results_nc/invivo_scRNAseq_train_nc_stats.csv', header=True, sep='\\t', index=None)\n",
    "\n"
   ]
  },
  {
   "cell_type": "markdown",
   "metadata": {},
   "source": [
    "## Plots"
   ]
  },
  {
   "cell_type": "code",
   "execution_count": 219,
   "metadata": {},
   "outputs": [],
   "source": [
    "atac.set_index('error_rate', inplace=True)\n",
    "sc_RNAseq.set_index('error_rate', inplace=True)\n",
    "sc_RNAseq_nc.set_index('error_rate', inplace=True)"
   ]
  },
  {
   "cell_type": "code",
   "execution_count": 276,
   "metadata": {},
   "outputs": [
    {
     "data": {
      "text/html": [
       "<div>\n",
       "<style scoped>\n",
       "    .dataframe tbody tr th:only-of-type {\n",
       "        vertical-align: middle;\n",
       "    }\n",
       "\n",
       "    .dataframe tbody tr th {\n",
       "        vertical-align: top;\n",
       "    }\n",
       "\n",
       "    .dataframe thead th {\n",
       "        text-align: right;\n",
       "    }\n",
       "</style>\n",
       "<table border=\"1\" class=\"dataframe\">\n",
       "  <thead>\n",
       "    <tr style=\"text-align: right;\">\n",
       "      <th></th>\n",
       "      <th>n_mutations</th>\n",
       "      <th>n_trees</th>\n",
       "      <th>log_lhood</th>\n",
       "    </tr>\n",
       "    <tr>\n",
       "      <th>error_rate</th>\n",
       "      <th></th>\n",
       "      <th></th>\n",
       "      <th></th>\n",
       "    </tr>\n",
       "  </thead>\n",
       "  <tbody>\n",
       "    <tr>\n",
       "      <th>0.0001</th>\n",
       "      <td>804</td>\n",
       "      <td>110</td>\n",
       "      <td>-15864.824543</td>\n",
       "    </tr>\n",
       "    <tr>\n",
       "      <th>0.0112</th>\n",
       "      <td>158</td>\n",
       "      <td>14</td>\n",
       "      <td>-2255.302423</td>\n",
       "    </tr>\n",
       "    <tr>\n",
       "      <th>0.0223</th>\n",
       "      <td>110</td>\n",
       "      <td>1</td>\n",
       "      <td>-1747.537773</td>\n",
       "    </tr>\n",
       "    <tr>\n",
       "      <th>0.0334</th>\n",
       "      <td>98</td>\n",
       "      <td>3</td>\n",
       "      <td>-1556.745952</td>\n",
       "    </tr>\n",
       "    <tr>\n",
       "      <th>0.0445</th>\n",
       "      <td>91</td>\n",
       "      <td>1</td>\n",
       "      <td>-1510.428189</td>\n",
       "    </tr>\n",
       "    <tr>\n",
       "      <th>0.0556</th>\n",
       "      <td>84</td>\n",
       "      <td>3</td>\n",
       "      <td>-1358.891947</td>\n",
       "    </tr>\n",
       "    <tr>\n",
       "      <th>0.0667</th>\n",
       "      <td>84</td>\n",
       "      <td>3</td>\n",
       "      <td>-1527.609415</td>\n",
       "    </tr>\n",
       "    <tr>\n",
       "      <th>0.0778</th>\n",
       "      <td>80</td>\n",
       "      <td>2</td>\n",
       "      <td>-1282.998441</td>\n",
       "    </tr>\n",
       "    <tr>\n",
       "      <th>0.0889</th>\n",
       "      <td>76</td>\n",
       "      <td>13</td>\n",
       "      <td>-1485.606129</td>\n",
       "    </tr>\n",
       "    <tr>\n",
       "      <th>0.1000</th>\n",
       "      <td>73</td>\n",
       "      <td>2</td>\n",
       "      <td>-1197.011705</td>\n",
       "    </tr>\n",
       "  </tbody>\n",
       "</table>\n",
       "</div>"
      ],
      "text/plain": [
       "            n_mutations  n_trees     log_lhood\n",
       "error_rate                                    \n",
       "0.0001              804      110 -15864.824543\n",
       "0.0112              158       14  -2255.302423\n",
       "0.0223              110        1  -1747.537773\n",
       "0.0334               98        3  -1556.745952\n",
       "0.0445               91        1  -1510.428189\n",
       "0.0556               84        3  -1358.891947\n",
       "0.0667               84        3  -1527.609415\n",
       "0.0778               80        2  -1282.998441\n",
       "0.0889               76       13  -1485.606129\n",
       "0.1000               73        2  -1197.011705"
      ]
     },
     "execution_count": 276,
     "metadata": {},
     "output_type": "execute_result"
    }
   ],
   "source": [
    "sc_RNAseq"
   ]
  },
  {
   "cell_type": "code",
   "execution_count": null,
   "metadata": {},
   "outputs": [],
   "source": []
  },
  {
   "cell_type": "code",
   "execution_count": null,
   "metadata": {},
   "outputs": [],
   "source": []
  }
 ],
 "metadata": {
  "hide_input": false,
  "kernelspec": {
   "display_name": "tree_env",
   "language": "python",
   "name": "tree_env"
  },
  "language_info": {
   "codemirror_mode": {
    "name": "ipython",
    "version": 3
   },
   "file_extension": ".py",
   "mimetype": "text/x-python",
   "name": "python",
   "nbconvert_exporter": "python",
   "pygments_lexer": "ipython3",
   "version": "3.8.3"
  },
  "toc": {
   "nav_menu": {
    "height": "12px",
    "width": "252px"
   },
   "navigate_menu": true,
   "number_sections": true,
   "sideBar": true,
   "threshold": 4,
   "toc_cell": false,
   "toc_section_display": "block",
   "toc_window_display": false
  }
 },
 "nbformat": 4,
 "nbformat_minor": 2
}
