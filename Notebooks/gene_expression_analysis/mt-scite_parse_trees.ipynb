{
 "cells": [
  {
   "cell_type": "code",
   "execution_count": 1,
   "metadata": {},
   "outputs": [],
   "source": [
    "from collections import Counter\n",
    "import os\n",
    "from glob import glob\n",
    "\n",
    "from graphviz import Source\n",
    "from IPython.display import display, Markdown\n",
    "import matplotlib.pyplot as plt\n",
    "from matplotlib.ticker import EngFormatter\n",
    "from networkx.drawing.nx_agraph import to_agraph\n",
    "from networkx.readwrite.gpickle import read_gpickle\n",
    "import networkx as nx\n",
    "import numpy as np\n",
    "from scipy import stats\n",
    "import pandas as pd\n",
    "import seaborn as sns\n",
    "\n",
    "import numbers\n",
    "\n",
    "\n",
    "sns.set_style('white')\n",
    "sns.set_context('notebook')\n",
    "\n",
    "def plot_style(figsize=(12, 6), labelsize=20, titlesize=24, ticklabelsize=14, **kwargs):\n",
    "   basic_style = {\n",
    "       'figure.figsize': figsize,\n",
    "       'axes.labelsize': labelsize,\n",
    "       'axes.titlesize': titlesize,\n",
    "       'xtick.labelsize': ticklabelsize,\n",
    "       'ytick.labelsize': ticklabelsize,\n",
    "       'axes.spines.top': False,\n",
    "       'axes.spines.right': False,\n",
    "       'axes.spines.left': False,\n",
    "       'axes.grid': False,\n",
    "       'axes.grid.axis': 'y',\n",
    "   }\n",
    "   basic_style.update(kwargs)\n",
    "   return plt.rc_context(rc=basic_style)\n",
    "\n",
    "blue = sns.xkcd_rgb['ocean blue']"
   ]
  },
  {
   "cell_type": "code",
   "execution_count": 2,
   "metadata": {},
   "outputs": [],
   "source": [
    "# Function to convert adjacency matrix (in the form of a pandas dataframe) to adjacency list\n",
    "def adjacency_matrix_to_list(adj_matrix):\n",
    "    adj_list = {}\n",
    "    for node in adj_matrix.index:\n",
    "        adj_list[node] = list(adj_matrix.columns[adj_matrix.loc[node] == 1])\n",
    "    return adj_list\n",
    "\n",
    "# Function to perform DFS and find all root-to-leaf paths\n",
    "def find_paths(adj_list, node, path, paths):\n",
    "    path.append(node)\n",
    "    if len(adj_list[node]) == 0:\n",
    "        paths.append(path.copy())\n",
    "    else:\n",
    "        for neighbor in adj_list[node]:\n",
    "            find_paths(adj_list, neighbor, path, paths)\n",
    "    path.pop()\n",
    "    \n",
    "def get_nodes(adj_matrix):\n",
    "    nodes = list(adj_matrix.index)\n",
    "    internal_nodes = [node for node in nodes if adj_matrix.loc[node].sum() > 0]\n",
    "    return internal_nodes\n",
    "\n",
    "\n",
    "# Function to create dataframe where leaf nodes are index and internal nodes are columns\n",
    "def create_leaf_internal_df(adj_matrix):\n",
    "    # Get list of leaf nodes\n",
    "    leaf_nodes = [node for node in adj_matrix.index if adj_matrix.loc[node].sum() == 0]\n",
    "    # Get list of internal nodes\n",
    "    internal_nodes = [node for node in adj_matrix.index if adj_matrix.loc[node].sum() > 0]\n",
    "    # Initialize dataframe with leaf nodes as index and internal nodes as columns\n",
    "    leaf_internal_df = pd.DataFrame(0, index=leaf_nodes, columns=internal_nodes)\n",
    "    return leaf_internal_df\n",
    "\n",
    "def set_groups(leaf_internal_df, paths):\n",
    "    leaf_internal_df = leaf_internal_df.copy()\n",
    "    for path in paths: \n",
    "        leaf_node = path[-1]\n",
    "        for node in path[:-1]:\n",
    "            leaf_internal_df.loc[leaf_node, node] = 1 \n",
    "    return leaf_internal_df\n",
    "\n",
    "\n",
    "\n",
    "def group_nodes_with_same_values(df):\n",
    "    # Group columns by unique rows\n",
    "    grouped = df.groupby(df.columns.tolist()).groups\n",
    "\n",
    "    # Extract column names as lists\n",
    "    grouped_columns = [list(group) for group in grouped.values()]\n",
    "\n",
    "    return grouped_columns"
   ]
  },
  {
   "cell_type": "code",
   "execution_count": 3,
   "metadata": {},
   "outputs": [],
   "source": [
    "datasets = ['A1_06', 'A1_30']#, 'JH', 'YFV2003']\n"
   ]
  },
  {
   "cell_type": "code",
   "execution_count": 4,
   "metadata": {},
   "outputs": [],
   "source": [
    "meta_data_timepoint = pd.read_csv('/home/carler/lab/t_cell/meta_data/2023_04_06_A1_06_A1_30_YFV2003_JH_meta_data_invivo_t_cell_mito_project.csv', index_col=0)\n"
   ]
  },
  {
   "cell_type": "code",
   "execution_count": 5,
   "metadata": {},
   "outputs": [],
   "source": [
    "mem_eff_score = {}\n",
    "for donor in datasets: \n",
    "    mem_eff_score[donor] = pd.read_csv(f'/home/carler/lab/t_cell/meta_data/mem_eff_score/{donor}_mem_eff.csv', index_col=0)\n"
   ]
  },
  {
   "cell_type": "code",
   "execution_count": 46,
   "metadata": {},
   "outputs": [],
   "source": [
    "graph_dicts_all = {}\n",
    "meta_data_all = {}\n",
    "test = \"\"\n",
    "for donor in datasets: \n",
    "    graph_dict = {}\n",
    "    meta_data = {}\n",
    "    for path in list(glob(os.path.join(f'/home/carler/lab/t_cell/phylogeny/data/output/P20407/2023_4_27_mt-scite_2_pos_filter/{donor}/0.0556*'))):\n",
    "        clone = path.split('0.0556_')[1]\n",
    "        if clone in [\"A39\", \"A397\", \"A41\", \"A171\", \"A28\", \"A48\", \"B102\", \"B243\"]: \n",
    "            continue\n",
    "        adj_matrix_clone = nx.drawing.nx_pydot.read_dot(f\"{path}/0.0556_{clone}_map0.gv\")\n",
    "        adj_matrix_clone.remove_node('\\\\n')\n",
    "        adj_matrix_clone = nx.to_pandas_adjacency(adj_matrix_clone)\n",
    "        if clone == 'A1': \n",
    "            test = adj_matrix_clone\n",
    "#        adj_matrix_clone = adj_matrix_clone.loc[adj_matrix_clone.index[1:], adj_matrix_clone.columns[1:]]    \n",
    "        graph_dict[clone] = adj_matrix_clone\n",
    "        meta_data[clone] = pd.read_csv(f\"{path}/0.0556_meta_data_{clone}.csv\", index_col=0).T\n",
    "    graph_dicts_all[donor] = graph_dict\n",
    "    meta_data_all[donor] = meta_data\n",
    "\n",
    "for donor in datasets: \n",
    "    graph_dict = graph_dicts_all[donor]     \n",
    "    meta_data = meta_data_all[donor]   \n",
    "    for clone in graph_dict.keys(): \n",
    "        nodes = get_nodes(graph_dict[clone])\n",
    "        root = max(nodes)\n",
    "        adj_list = adjacency_matrix_to_list(graph_dict[clone])\n",
    "        paths = []\n",
    "        path = []\n",
    "        find_paths(adj_list, root, path, paths)\n",
    "        leaf_internal_df = create_leaf_internal_df(graph_dict[clone])\n",
    "        leaf_internal_df = set_groups(leaf_internal_df, paths)\n",
    "        leaf_internal_df.index = [int(x[1:]) for x in leaf_internal_df.index]\n",
    "        leaf_internal_df = leaf_internal_df.sort_index()[leaf_internal_df.columns.sort_values()]\n",
    "        graph_dict[clone] = leaf_internal_df\n",
    "        graph_dict[clone] = graph_dict[clone].drop(graph_dict[clone].columns[-1], axis=1)\n",
    "        graph_dict[clone].index = meta_data[clone].index\n",
    "        graph_dict[clone].columns = meta_data[clone].columns\n",
    "        graph_dict[clone] = graph_dict[clone]\n",
    "    graph_dicts_all[donor] = graph_dict    "
   ]
  },
  {
   "cell_type": "code",
   "execution_count": 7,
   "metadata": {},
   "outputs": [],
   "source": [
    "test_shuff = graph_dicts_all['A1_06']['A1']"
   ]
  },
  {
   "cell_type": "code",
   "execution_count": 8,
   "metadata": {},
   "outputs": [],
   "source": [
    "grouped_by_node = {}\n",
    "for donor in datasets: \n",
    "    grouped_by_node[donor] = {}\n",
    "    for clone, matrix in graph_dicts_all[donor].items(): \n",
    "        prev_index = matrix.index\n",
    "        group_input = matrix.sample(frac=1).reset_index(drop=True)\n",
    "        group_input.index = prev_index\n",
    "        grouped_by_node[donor][clone] = group_nodes_with_same_values(group_input)\n",
    "        #grouped_by_node[donor][clone] = group_nodes_with_same_values(matrix)"
   ]
  },
  {
   "cell_type": "code",
   "execution_count": 9,
   "metadata": {},
   "outputs": [],
   "source": [
    "mean_mem_eff_different_clone = {}\n",
    "for donor in datasets: \n",
    "    mean_mem_eff_different_clone[donor] = {}\n",
    "    for clone, groups in grouped_by_node[donor].items(): \n",
    "        clone_group_difference = []\n",
    "        for group in groups: \n",
    "            if len(group) < 2 or len(group) > 7: \n",
    "                continue\n",
    "            try:\n",
    "                clone_group_difference.append(mem_eff_score[donor].loc[group, 'Celltype'].mean())\n",
    "            except: \n",
    "                print(group)\n",
    "        if len(clone_group_difference) < 2: \n",
    "            continue\n",
    "        mean_mem_eff_different_clone[donor][clone] = clone_group_difference"
   ]
  },
  {
   "cell_type": "code",
   "execution_count": null,
   "metadata": {},
   "outputs": [],
   "source": [
    "for donor in datasets: \n",
    "    plot_list = []\n",
    "    for clone, mean_values in mean_mem_eff_different_clone[donor].items(): \n",
    "        plot_list = plot_list + mean_values\n",
    "\n",
    "    fig, ax = plt.subplots()\n",
    "    sns.scatterplot(plot_list, ax=ax)\n",
    "    plt.ylim((-0.5, 0.5))\n",
    "    plt.xticks((0, len(plot_list)))\n",
    "    plt.title(clone)\n",
    "    plt.show()"
   ]
  },
  {
   "cell_type": "code",
   "execution_count": null,
   "metadata": {},
   "outputs": [],
   "source": [
    "for donor in datasets: \n",
    "    plot_list = []\n",
    "    for clone, mean_values in mean_mem_eff_different_clone[donor].items(): \n",
    "        plot_list = plot_list + mean_values\n",
    "\n",
    "    fig, ax = plt.subplots()\n",
    "    sns.scatterplot(plot_list, ax=ax)\n",
    "    plt.ylim((-0.5, 0.5))\n",
    "    plt.xticks((0, len(plot_list)))\n",
    "    plt.title(clone)\n",
    "    plt.show()"
   ]
  },
  {
   "cell_type": "code",
   "execution_count": 12,
   "metadata": {},
   "outputs": [],
   "source": [
    "grouped_by_node = {}\n",
    "for donor in datasets: \n",
    "    grouped_by_node[donor] = {}\n",
    "    for clone, matrix in graph_dicts_all[donor].items(): \n",
    "        prev_index = matrix.index\n",
    "        group_input = matrix.sample(frac=1).reset_index(drop=True)\n",
    "        group_input.index = prev_index\n",
    "        grouped_by_node[donor][clone] = group_nodes_with_same_values(group_input)\n",
    "        #grouped_by_node[donor][clone] = group_nodes_with_same_values(matrix)"
   ]
  },
  {
   "cell_type": "code",
   "execution_count": 13,
   "metadata": {},
   "outputs": [],
   "source": [
    "mem_eff_different_clone = {}\n",
    "for donor in datasets: \n",
    "    mem_eff_different_clone[donor] = {}\n",
    "    for clone, groups in grouped_by_node[donor].items(): \n",
    "        clone_group_difference = []\n",
    "        for group in groups: \n",
    "            if len(group) < 2 or len(group) > 2: \n",
    "                continue\n",
    "            try:\n",
    "                clone_group_difference.append(list(mem_eff_score[donor].loc[group, 'Celltype'].values)) \n",
    "            except: \n",
    "                print(group)\n",
    "        if len(clone_group_difference) < 2: \n",
    "            continue\n",
    "        mem_eff_different_clone[donor][clone] = clone_group_difference"
   ]
  },
  {
   "cell_type": "code",
   "execution_count": null,
   "metadata": {},
   "outputs": [],
   "source": [
    "for donor in datasets: \n",
    "    plot_list = []\n",
    "    for clone, all_values in mem_eff_different_clone[donor].items(): \n",
    "        plot_list = plot_list + all_values\n",
    "    fig, ax = plt.subplots(figsize=(15, 5))\n",
    "    sns.scatterplot(list(map(list, zip(*plot_list))), ax=ax)#, legend=False)\n",
    "    plt.ylim((-0.5, 0.5))\n",
    "    plt.title(donor + ' real')\n",
    "    plt.show()\n",
    "    plt.figure()\n",
    "    reg_test = pd.DataFrame(plot_list)\n",
    "    sns.regplot(x=reg_test[0], y=reg_test[1])\n",
    "    plt.title(donor + ' real')"
   ]
  },
  {
   "cell_type": "code",
   "execution_count": null,
   "metadata": {},
   "outputs": [],
   "source": [
    "for donor in datasets: \n",
    "    plot_list = []\n",
    "    for clone, all_values in mem_eff_different_clone[donor].items(): \n",
    "        plot_list = plot_list + all_values\n",
    "    fig, ax = plt.subplots(figsize=(15, 5))\n",
    "    sns.scatterplot(list(map(list, zip(*plot_list))), ax=ax)#, legend=False)\n",
    "    plt.ylim((-0.5, 0.5))\n",
    "    plt.title(donor + ' shuff')\n",
    "    plt.show()\n",
    "    plt.figure()\n",
    "    reg_test = pd.DataFrame(plot_list)\n",
    "    sns.regplot(x=reg_test[0], y=reg_test[1])\n",
    "    plt.title(donor + ' shuff')"
   ]
  },
  {
   "cell_type": "code",
   "execution_count": 47,
   "metadata": {},
   "outputs": [],
   "source": [
    "removed_all_singleton_mutations = {}\n",
    "\n",
    "for donor in datasets: \n",
    "    removed_all_singleton_mutations[donor] = {}\n",
    "    for clone, matrix in graph_dicts_all[donor].items(): \n",
    "        drop_cols = []\n",
    "        for col in matrix.columns:\n",
    "            if matrix[col].sum() == 1: \n",
    "                drop_cols.append(col)\n",
    "        temp_df = matrix.drop(drop_cols, axis=1)\n",
    "        removed_all_singleton_mutations[donor][clone] = temp_df"
   ]
  },
  {
   "cell_type": "code",
   "execution_count": 48,
   "metadata": {},
   "outputs": [],
   "source": [
    "grouped_by_node_no_single = {}\n",
    "for donor in datasets: \n",
    "    grouped_by_node_no_single[donor] = {}\n",
    "    for clone, matrix in removed_all_singleton_mutations[donor].items(): \n",
    "        prev_index = matrix.index\n",
    "        group_input = matrix.sample(frac=1).reset_index(drop=True)\n",
    "        group_input.index = prev_index\n",
    "        grouped_by_node_no_single[donor][clone] = group_nodes_with_same_values(group_input)\n",
    "        #grouped_by_node[donor][clone] = group_nodes_with_same_values(matrix)"
   ]
  },
  {
   "cell_type": "code",
   "execution_count": 61,
   "metadata": {},
   "outputs": [],
   "source": [
    "mem_eff_different_clone_no_single = {}\n",
    "for donor in datasets: \n",
    "    mem_eff_different_clone_no_single[donor] = {}\n",
    "    for clone, groups in grouped_by_node_no_single[donor].items(): \n",
    "        clone_group_difference = []\n",
    "        for group in groups: \n",
    "            #if len(group) < 2: \n",
    "            #    continue\n",
    "            try:\n",
    "                clone_group_difference.append(list(mem_eff_score[donor].loc[group, 'Celltype'].values)) \n",
    "            except: \n",
    "                print(group)\n",
    "        if len(clone_group_difference) < 2: \n",
    "            continue\n",
    "        mem_eff_different_clone_no_single[donor][clone] = clone_group_difference"
   ]
  },
  {
   "cell_type": "code",
   "execution_count": 62,
   "metadata": {},
   "outputs": [],
   "source": [
    "from scipy.stats import f_oneway\n"
   ]
  },
  {
   "cell_type": "code",
   "execution_count": 67,
   "metadata": {},
   "outputs": [
    {
     "name": "stdout",
     "output_type": "stream",
     "text": [
      "A362\n",
      "0.006709104963168622\n",
      "8.162009496343414\n",
      "A0\n",
      "0.030909531285210064\n",
      "5.539747645170977\n",
      "A212\n",
      "0.03613682881873213\n",
      "5.85050253258801\n",
      "B7\n",
      "0.03123324074004964\n",
      "5.329702710770986\n"
     ]
    }
   ],
   "source": [
    "p_vals = {}\n",
    "f_stats = {}\n",
    "for donor in datasets:\n",
    "    p_vals[donor] = []\n",
    "    f_stats[donor] = []\n",
    "    for clone, groups in mem_eff_different_clone_no_single[donor].items(): \n",
    "        f_stat, p_val = f_oneway(*groups)\n",
    "        p_vals[donor].append(p_val)\n",
    "        f_stats[donor].append(f_stat)\n",
    "        if p_val < 0.05: \n",
    "            print(clone)\n",
    "            print(p_val)\n",
    "            print(f_stat)\n",
    "    "
   ]
  },
  {
   "cell_type": "code",
   "execution_count": 99,
   "metadata": {},
   "outputs": [
    {
     "data": {
      "image/png": "[encoded data removed]",
      "text/plain": [
       "<Figure size 500x350 with 1 Axes>"
      ]
     },
     "metadata": {},
     "output_type": "display_data"
    },
    {
     "data": {
      "image/png": "[encoded data removed]",
      "text/plain": [
       "<Figure size 500x350 with 1 Axes>"
      ]
     },
     "metadata": {},
     "output_type": "display_data"
    }
   ],
   "source": [
    "for donor in datasets: \n",
    "    sns.set_style('white')\n",
    "    fig, ax = plt.subplots(figsize=(5,3.5))\n",
    "    sns.scatterplot(x=p_vals[donor], y=f_stats[donor], ax=ax, label='Clone', s=50, edgecolor='black', color='green', alpha=0.90)\n",
    "    ax.axvline(x=0.05, linestyle='--', color='red', label='p = 0.05')\n",
    "    plt.xlabel(\"p value\")\n",
    "    plt.ylabel('anova F statistic')\n",
    "    plt.title(donor)\n",
    "    plt.legend()\n",
    "    plt.xticks(np.arange(0, 1.1, 0.2))\n",
    "    plt.yticks(np.arange(0, max(f_stats[donor]), 2))\n",
    "    plt.savefig(f'anova_oneway_{donor}.pdf')"
   ]
  },
  {
   "cell_type": "code",
   "execution_count": 69,
   "metadata": {},
   "outputs": [
    {
     "data": {
      "text/plain": [
       "dict_keys(['B71', 'B7', 'B305', 'B67', 'B191', 'B63', 'B664', 'B257', 'B73', 'B24', 'B39', 'B60', 'B324', 'B14', 'B101', 'B122', 'B51', 'B85', 'B325', 'B18', 'B225', 'B72', 'B66', 'B83', 'B488', 'B293', 'B44', 'B12', 'B94', 'B214', 'B211', 'B100', 'B81', 'B185', 'B117', 'B165', 'B57', 'B858', 'B121'])"
      ]
     },
     "execution_count": 69,
     "metadata": {},
     "output_type": "execute_result"
    }
   ],
   "source": [
    "mem_eff_different_clone_no_single[donor].keys()"
   ]
  },
  {
   "cell_type": "code",
   "execution_count": null,
   "metadata": {},
   "outputs": [],
   "source": []
  }
 ],
 "metadata": {
  "kernelspec": {
   "display_name": "mtSCITE",
   "language": "python",
   "name": "python3"
  },
  "language_info": {
   "codemirror_mode": {
    "name": "ipython",
    "version": 3
   },
   "file_extension": ".py",
   "mimetype": "text/x-python",
   "name": "python",
   "nbconvert_exporter": "python",
   "pygments_lexer": "ipython3",
   "version": "3.10.10"
  },
  "orig_nbformat": 4,
  "vscode": {
   "interpreter": {
    "hash": "d25eb58dbdc5df937ab56d6baf0a7f59a3b22951a58d86ce9757a0701dc3152a"
   }
  }
 },
 "nbformat": 4,
 "nbformat_minor": 2
}
