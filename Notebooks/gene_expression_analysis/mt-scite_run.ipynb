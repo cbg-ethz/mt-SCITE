{
 "cells": [
  {
   "attachments": {},
   "cell_type": "markdown",
   "metadata": {},
   "source": [
    "# Running mtSCITE "
   ]
  },
  {
   "cell_type": "code",
   "execution_count": 1,
   "metadata": {},
   "outputs": [],
   "source": [
    "import pandas as pd \n",
    "import numpy as np \n",
    "import scipy.stats as stats\n",
    "import matplotlib.pyplot as plt\n",
    "import seaborn as sns\n",
    "import os\n"
   ]
  },
  {
   "cell_type": "code",
   "execution_count": 2,
   "metadata": {},
   "outputs": [],
   "source": [
    "# Create directory if it does not exist\n",
    "def create_directory(directory_path):\n",
    "    if not os.path.exists(directory_path):\n",
    "        os.makedirs(directory_path)"
   ]
  },
  {
   "cell_type": "code",
   "execution_count": 3,
   "metadata": {},
   "outputs": [],
   "source": [
    "donors = ['A1_06', 'A1_30', 'JH', 'YFV2003']"
   ]
  },
  {
   "cell_type": "code",
   "execution_count": 4,
   "metadata": {},
   "outputs": [],
   "source": [
    "meta_data = {}\n",
    "for donor in donors:\n",
    "    meta_data[donor] = pd.read_csv('../../../meta_data/' + donor + '_MasterSheet_CJ_01-06_2021.csv', index_col=0)"
   ]
  },
  {
   "cell_type": "code",
   "execution_count": 6,
   "metadata": {},
   "outputs": [],
   "source": [
    "meta_data_mt_SCITE = {}\n",
    "for donor in donors:\n",
    "    meta_data_mt_SCITE[donor] = pd.read_csv('../../../data/' + donor + '_matrix_output/0.0556_samples_meta_data.csv', index_col=0)\n",
    "    meta_data_mt_SCITE[donor].columns = [x.split('.')[0] for x in meta_data_mt_SCITE[donor].columns]"
   ]
  },
  {
   "cell_type": "code",
   "execution_count": 7,
   "metadata": {},
   "outputs": [],
   "source": [
    "mcmt_data = {}\n",
    "for donor in donors:\n",
    "    mcmt_data[donor] = pd.read_csv('../../../data/' + donor + '_matrix_output/0.0556.csv', sep='\\s', names=meta_data_mt_SCITE[donor].columns, dtype=np.float64, engine='python')\n",
    "    mcmt_data[donor].index = meta_data_mt_SCITE[donor].index"
   ]
  },
  {
   "attachments": {},
   "cell_type": "markdown",
   "metadata": {},
   "source": [
    "## Check to see if any mutations are present in a large number of cells \n",
    "\n",
    "Over 10% likelyhood in at least 20% of cells"
   ]
  },
  {
   "cell_type": "code",
   "execution_count": 8,
   "metadata": {},
   "outputs": [],
   "source": [
    "all_positions = []\n",
    "\n",
    "for donor in donors:\n",
    "    positions = []\n",
    "    positions = mcmt_data[donor][((mcmt_data[donor] > 0.1).sum(axis=1) /len(mcmt_data[donor].columns)) >= 0.2].index\n",
    "    all_positions.append(positions)"
   ]
  },
  {
   "cell_type": "code",
   "execution_count": 13,
   "metadata": {},
   "outputs": [
    {
     "name": "stdout",
     "output_type": "stream",
     "text": [
      "Number of positions for A1_06: 0 \n",
      "Number of positions for A1_30: 0 \n",
      "Number of positions for JH: 0 \n",
      "Number of positions for YFV2003: 0 \n",
      "\n"
     ]
    }
   ],
   "source": [
    "print(f'Number of positions for {donors[0]}: {len(all_positions[0])} \\nNumber of positions for {donors[1]}: {len(all_positions[1])} \\nNumber of positions for {donors[2]}: {len(all_positions[2])} \\nNumber of positions for {donors[3]}: {len(all_positions[3])} \\n') "
   ]
  },
  {
   "attachments": {},
   "cell_type": "markdown",
   "metadata": {},
   "source": [
    "# Generate mtSCITE commands \n",
    "\n",
    "This will generate a mtSCITE command for each clone meeting the criteria, in this case at least 10 cells in the clone. "
   ]
  },
  {
   "cell_type": "code",
   "execution_count": 14,
   "metadata": {},
   "outputs": [],
   "source": [
    "scite_command_total = []\n",
    "i = 0\n",
    "j = 0 \n",
    "k = 0 \n",
    "for donor in donors: \n",
    "    idx_clones = meta_data[donor].groupby('clone_id')['Donor'].count()\n",
    "    idx_clones = idx_clones.loc[(idx_clones >= 10) & (idx_clones.index != -1)].index\n",
    "    for clone in idx_clones: \n",
    "        clone = int(clone)\n",
    "        sample_names = meta_data[donor].loc[meta_data[donor]['clone_id'] == clone, 'Sample_id'].values\n",
    "        mcmt_data_current_clone = mcmt_data[donor][np.intersect1d(mcmt_data[donor].columns, sample_names)]\n",
    "        pos_with_mut = mcmt_data_current_clone[(mcmt_data_current_clone > 0.5).sum(axis=1) > 1].index\n",
    "        mcmt_data_current_clone = mcmt_data_current_clone.loc[pos_with_mut, :]\n",
    "        if pos_with_mut.size == 0: \n",
    "            j += 1\n",
    "            continue\n",
    "        elif pos_with_mut.size > 1:\n",
    "            k += 1\n",
    "        if pos_with_mut.size == 1:\n",
    "            i += 1\n",
    "            new_row = pd.DataFrame([[0.99] * len(mcmt_data_current_clone.columns)], columns=mcmt_data_current_clone.columns, index=[0])\n",
    "            mcmt_data_current_clone = pd.concat([mcmt_data_current_clone, new_row], axis=0)\n",
    "        create_directory(f'../../../mt-SCITE_output/{donor}/0.0556_{clone}/')\n",
    "        create_directory(f'../../../mt-SCITE_output/{donor}/stdout/')\n",
    "        create_directory(f'../../../data/{donor}_matrix_output_clonal/')\n",
    "        mcmt_data_current_clone.to_csv(f'../../../data/{donor}_matrix_output_clonal/0.0556_{clone}.csv', sep=' ', index=False, header=False)\n",
    "        mcmt_data_current_clone.to_csv(f'../../../mt-SCITE_output/{donor}/0.0556_{clone}//0.0556_meta_data_{clone}.csv', sep=',')\n",
    "        scite_command = f'../../../mt-SCITE/scite -i  ../../../data/{donor}_matrix_output_clonal/0.0556_{clone}.csv -n {mcmt_data_current_clone.index.size} -m {mcmt_data_current_clone.columns.size} -r 1 -l 200000 -fd 0.0001 -ad 0.0001 -cc 0.0 -s -a -o ../../../mt-SCITE_output/{donor}/0.0556_{clone}/0.0556_{clone} 1> ../../../mt-SCITE_output/{donor}/stdout/0.0556.stdout.txt' \n",
    "        #print(f\"Running SCITE for {donor} clone {clone} with {mcmt_data_current_clone.index.size} number of positions and {mcmt_data_current_clone.columns.size} samples \\n specific posistions {mcmt_data_current_clone.index} \\n command: {scite_command} \")\n",
    "        scite_command_total.append(scite_command)\n",
    "\n"
   ]
  },
  {
   "cell_type": "code",
   "execution_count": 16,
   "metadata": {},
   "outputs": [
    {
     "name": "stdout",
     "output_type": "stream",
     "text": [
      "Number of clones that have no mutations: 100\n",
      "Number of clones that have one mutation: 63\n",
      "Number of clones that have more than one mutation: 45\n",
      "Number of clones that are used for mtSCITE: 108\n"
     ]
    }
   ],
   "source": [
    "print(f'Number of clones that have no mutations: {j}')\n",
    "print(f'Number of clones that have one mutation: {i}')\n",
    "print(f'Number of clones that have more than one mutation: {k}')\n",
    "print(f'Number of clones that are used for mtSCITE: {len(scite_command_total)}')\n"
   ]
  },
  {
   "attachments": {},
   "cell_type": "markdown",
   "metadata": {},
   "source": [
    "# Run mtSCITE through command line "
   ]
  },
  {
   "cell_type": "code",
   "execution_count": 82,
   "metadata": {},
   "outputs": [],
   "source": [
    "for scite_command in scite_command_total:\n",
    "    !{scite_command}"
   ]
  },
  {
   "attachments": {},
   "cell_type": "markdown",
   "metadata": {},
   "source": [
    "# Run for a single Donor and Single clone"
   ]
  },
  {
   "cell_type": "code",
   "execution_count": 17,
   "metadata": {},
   "outputs": [],
   "source": [
    "donor_to_use = 'JH'\n",
    "clone_to_use = 26"
   ]
  },
  {
   "cell_type": "code",
   "execution_count": 77,
   "metadata": {},
   "outputs": [],
   "source": [
    "sample_names = meta_data[donor_to_use].loc[meta_data[donor_to_use]['clone_id'] == clone_to_use, 'Sample_id'].values\n",
    "mcmt_data_current_clone = mcmt_data[donor_to_use][np.intersect1d(mcmt_data[donor_to_use].columns, sample_names)]"
   ]
  },
  {
   "cell_type": "code",
   "execution_count": 82,
   "metadata": {},
   "outputs": [],
   "source": [
    "create_directory(f'../../../mt-SCITE_output/{donor_to_use}/0.0556_{clone_to_use}/')\n",
    "create_directory(f'../../../mt-SCITE_output/{donor_to_use}/stdout/')\n",
    "create_directory(f'../../../data/{donor_to_use}_matrix_output_clonal/')\n"
   ]
  },
  {
   "cell_type": "code",
   "execution_count": 83,
   "metadata": {},
   "outputs": [],
   "source": [
    "pos_with_mut = mcmt_data_current_clone[(mcmt_data_current_clone > 0.5).sum(axis=1) > 1].index\n",
    "mcmt_data_current_clone = mcmt_data_current_clone.loc[pos_with_mut, :]\n",
    "mcmt_data_current_clone.to_csv(f'../../../data/{donor_to_use}_matrix_output_clonal/0.0556_{clone_to_use}.csv', sep=' ', index=False, header=False)"
   ]
  },
  {
   "cell_type": "code",
   "execution_count": 85,
   "metadata": {},
   "outputs": [],
   "source": [
    "scite_command = f'../../../mt-SCITE/scite -i  ../../../data/{donor_to_use}_matrix_output_clonal/0.0556_{clone_to_use}.csv -n {mcmt_data_current_clone.index.size} -m {mcmt_data_current_clone.columns.size} -r 1 -l 200000 -fd 0.0001 -ad 0.0001 -cc 0.0 -s -a -o ../../../mt-SCITE_output/{donor_to_use}/0.0556_{clone_to_use}/0.0556_{clone_to_use} 1> ../../../mt-SCITE_output/{donor_to_use}/stdout/0.0556.stdout.txt' \n",
    "print(scite_command)"
   ]
  },
  {
   "cell_type": "code",
   "execution_count": 87,
   "metadata": {},
   "outputs": [],
   "source": [
    "! {scite_command}\n"
   ]
  }
 ],
 "metadata": {
  "kernelspec": {
   "display_name": "mtSCITE",
   "language": "python",
   "name": "python3"
  },
  "language_info": {
   "codemirror_mode": {
    "name": "ipython",
    "version": 3
   },
   "file_extension": ".py",
   "mimetype": "text/x-python",
   "name": "python",
   "nbconvert_exporter": "python",
   "pygments_lexer": "ipython3",
   "version": "3.10.8"
  },
  "orig_nbformat": 4,
  "vscode": {
   "interpreter": {
    "hash": "d25eb58dbdc5df937ab56d6baf0a7f59a3b22951a58d86ce9757a0701dc3152a"
   }
  }
 },
 "nbformat": 4,
 "nbformat_minor": 2
}
