{
 "cells": [
  {
   "attachments": {},
   "cell_type": "markdown",
   "metadata": {},
   "source": [
    "# Running mtSCITE "
   ]
  },
  {
   "cell_type": "code",
   "execution_count": 8,
   "metadata": {},
   "outputs": [],
   "source": [
    "import pandas as pd \n",
    "import numpy as np \n",
    "import scipy.stats as stats\n",
    "import matplotlib.pyplot as plt\n",
    "import seaborn as sns\n",
    "import os\n",
    "import datetime\n"
   ]
  },
  {
   "cell_type": "code",
   "execution_count": 9,
   "metadata": {},
   "outputs": [],
   "source": [
    "# Create directory if it does not exist\n",
    "def create_directory(directory_path):\n",
    "    if not os.path.exists(directory_path):\n",
    "        os.makedirs(directory_path)"
   ]
  },
  {
   "cell_type": "code",
   "execution_count": 10,
   "metadata": {},
   "outputs": [],
   "source": [
    "donors = ['A1_06', 'A1_30']#, 'JH', 'YFV2003']"
   ]
  },
  {
   "cell_type": "code",
   "execution_count": 11,
   "metadata": {},
   "outputs": [],
   "source": [
    "meta_data = pd.read_csv('/home/carler/lab/t_cell/meta_data/2023_04_06_A1_06_A1_30_YFV2003_JH_meta_data_invivo_t_cell_mito_project.csv', index_col=0)\n"
   ]
  },
  {
   "cell_type": "code",
   "execution_count": 12,
   "metadata": {},
   "outputs": [],
   "source": [
    "# Get current date\n",
    "today = datetime.date.today()\n",
    "\n",
    "# Format date as a string in the format \"YYYY_M_D\"\n",
    "date_string = today.strftime(\"%Y_%-m_%-d\")\n",
    "\n",
    "\n",
    "INPUT_PATH = '/home/carler/lab/t_cell/phylogeny/data/output/P20407/2023_4_27_pmat_clust_mutations_0/'\n",
    "OUTPUT_PATH = '/home/carler/lab/t_cell/phylogeny/data/output/P20407/' + date_string + '_mt-scite_2_pos_filter/'\n",
    "SCITE_PATH = '/home/carler/lab/t_cell/phylogeny/mt-SCITE/'\n",
    "create_directory(OUTPUT_PATH)\n"
   ]
  },
  {
   "cell_type": "code",
   "execution_count": 13,
   "metadata": {},
   "outputs": [],
   "source": [
    "meta_data_mt_SCITE = {}\n",
    "for donor in donors:\n",
    "    meta_data_mt_SCITE[donor] = pd.read_csv(INPUT_PATH + '0.0556_' + donor + '_samples_meta_data.csv', index_col=0)\n",
    "    meta_data_mt_SCITE[donor].columns = [x.split('.')[0] for x in meta_data_mt_SCITE[donor].columns]"
   ]
  },
  {
   "cell_type": "code",
   "execution_count": 14,
   "metadata": {},
   "outputs": [],
   "source": [
    "mcmt_data = {}\n",
    "for donor in donors:\n",
    "    mcmt_data[donor] = pd.read_csv(INPUT_PATH + '0.0556_' + donor + '.csv', sep='\\s', names=meta_data_mt_SCITE[donor].columns, dtype=np.float64, engine='python')\n",
    "    mcmt_data[donor].index = meta_data_mt_SCITE[donor].index"
   ]
  },
  {
   "attachments": {},
   "cell_type": "markdown",
   "metadata": {},
   "source": [
    "## Check to see if any mutations are present in a large number of cells \n",
    "\n",
    "Over 10% likelyhood in at least 20% of cells"
   ]
  },
  {
   "cell_type": "code",
   "execution_count": 15,
   "metadata": {},
   "outputs": [],
   "source": [
    "all_positions = []\n",
    "\n",
    "for donor in donors:\n",
    "    positions = []\n",
    "    positions = mcmt_data[donor][((mcmt_data[donor] > 0.1).sum(axis=1) /len(mcmt_data[donor].columns)) >= 0.2].index\n",
    "    all_positions.append(positions)"
   ]
  },
  {
   "cell_type": "code",
   "execution_count": 16,
   "metadata": {},
   "outputs": [
    {
     "name": "stdout",
     "output_type": "stream",
     "text": [
      "Number of positions for A1_06: 0 \n",
      "Number of positions for A1_30: 0\n"
     ]
    }
   ],
   "source": [
    "print(f'Number of positions for {donors[0]}: {len(all_positions[0])} \\nNumber of positions for {donors[1]}: {len(all_positions[1])}') #\\nNumber of positions for {donors[2]}: {len(all_positions[2])} \\nNumber of positions for {donors[3]}: {len(all_positions[3])} \\n') "
   ]
  },
  {
   "attachments": {},
   "cell_type": "markdown",
   "metadata": {},
   "source": [
    "# Generate mtSCITE commands \n",
    "\n",
    "This will generate a mtSCITE command for each clone meeting the criteria, in this case at least 10 cells in the clone. "
   ]
  },
  {
   "cell_type": "code",
   "execution_count": 17,
   "metadata": {},
   "outputs": [],
   "source": [
    "scite_command_total = []\n",
    "i = 0\n",
    "j = 0 \n",
    "k = 0 \n",
    "for donor in donors: \n",
    "    idx_clones = meta_data.loc[meta_data.Donor == donor].groupby('clone_id')['Donor'].count()\n",
    "    idx_clones = idx_clones.loc[(idx_clones >= 10) & (idx_clones.index.str[1] != '-')].index\n",
    "    for clone in idx_clones:\n",
    "        sample_names = meta_data.loc[meta_data.Donor == donor].loc[meta_data.loc[meta_data.Donor == donor]['clone_id'] == clone].index\n",
    "        mcmt_data_current_clone = mcmt_data[donor][np.intersect1d(mcmt_data[donor].columns, sample_names)]\n",
    "        pos_with_mut = mcmt_data_current_clone[(mcmt_data_current_clone > 0.5).sum(axis=1) > 1].index\n",
    "        mcmt_data_current_clone = mcmt_data_current_clone.loc[pos_with_mut, :]\n",
    "        if pos_with_mut.size == 0: \n",
    "            j += 1\n",
    "            continue\n",
    "        elif pos_with_mut.size > 1:\n",
    "            k += 1\n",
    "        if pos_with_mut.size == 1:\n",
    "            i += 1\n",
    "            new_row = pd.DataFrame([[0.99] * len(mcmt_data_current_clone.columns)], columns=mcmt_data_current_clone.columns, index=[0])\n",
    "            mcmt_data_current_clone = pd.concat([mcmt_data_current_clone, new_row], axis=0)\n",
    "        create_directory(f'{OUTPUT_PATH}{donor}/0.0556_{clone}/')\n",
    "        #create_directory(f'{OUTPUT_PATH}{donor}/stdout/')\n",
    "        create_directory(f'{OUTPUT_PATH}{donor}_matrix_output_clonal/')\n",
    "        mcmt_data_current_clone.to_csv(f'{OUTPUT_PATH}{donor}_matrix_output_clonal/0.0556_{clone}.csv', sep=' ', index=False, header=False)\n",
    "        mcmt_data_current_clone.to_csv(f'{OUTPUT_PATH}{donor}/0.0556_{clone}/0.0556_meta_data_{clone}.csv', sep=',')\n",
    "        scite_command = f'{SCITE_PATH}scite -i  {OUTPUT_PATH}{donor}_matrix_output_clonal/0.0556_{clone}.csv -n {mcmt_data_current_clone.index.size} -m {mcmt_data_current_clone.columns.size} -r 1 -l 200000 -fd 0.0001 -ad 0.0001 -cc 0.0 -s -a -o {OUTPUT_PATH}{donor}/0.0556_{clone}/0.0556_{clone} 1> {OUTPUT_PATH}{donor}/0.0556_{clone}/0.0556_{clone}.stdout.txt' \n",
    "        #print(f\"Running SCITE for {donor} clone {clone} with {mcmt_data_current_clone.index.size} number of positions and {mcmt_data_current_clone.columns.size} samples \\n specific posistions {mcmt_data_current_clone.index} \\n command: {scite_command} \")\n",
    "        scite_command_total.append(scite_command)\n",
    "\n"
   ]
  },
  {
   "cell_type": "code",
   "execution_count": 18,
   "metadata": {},
   "outputs": [
    {
     "name": "stdout",
     "output_type": "stream",
     "text": [
      "Number of clones that have no mutations: 10\n",
      "Number of clones that have one mutation: 16\n",
      "Number of clones that have more than one mutation: 90\n",
      "Number of clones that are used for mtSCITE: 106\n"
     ]
    }
   ],
   "source": [
    "print(f'Number of clones that have no mutations: {j}')\n",
    "print(f'Number of clones that have one mutation: {i}')\n",
    "print(f'Number of clones that have more than one mutation: {k}')\n",
    "print(f'Number of clones that are used for mtSCITE: {len(scite_command_total)}')\n"
   ]
  },
  {
   "cell_type": "code",
   "execution_count": 20,
   "metadata": {},
   "outputs": [
    {
     "data": {
      "text/plain": [
       "['/home/carler/lab/t_cell/phylogeny/mt-SCITE/scite -i  /home/carler/lab/t_cell/phylogeny/data/output/P20407/2023_4_27_mt-scite_2_pos_filter/A1_06_matrix_output_clonal/0.0556_A0.csv -n 4 -m 11 -r 1 -l 200000 -fd 0.0001 -ad 0.0001 -cc 0.0 -s -a -o /home/carler/lab/t_cell/phylogeny/data/output/P20407/2023_4_27_mt-scite_2_pos_filter/A1_06/0.0556_A0/0.0556_A0 1> /home/carler/lab/t_cell/phylogeny/data/output/P20407/2023_4_27_mt-scite_2_pos_filter/A1_06/0.0556_A0/0.0556_A0.stdout.txt',\n",
       " '/home/carler/lab/t_cell/phylogeny/mt-SCITE/scite -i  /home/carler/lab/t_cell/phylogeny/data/output/P20407/2023_4_27_mt-scite_2_pos_filter/A1_06_matrix_output_clonal/0.0556_A1.csv -n 2 -m 20 -r 1 -l 200000 -fd 0.0001 -ad 0.0001 -cc 0.0 -s -a -o /home/carler/lab/t_cell/phylogeny/data/output/P20407/2023_4_27_mt-scite_2_pos_filter/A1_06/0.0556_A1/0.0556_A1 1> /home/carler/lab/t_cell/phylogeny/data/output/P20407/2023_4_27_mt-scite_2_pos_filter/A1_06/0.0556_A1/0.0556_A1.stdout.txt',\n",
       " '/home/carler/lab/t_cell/phylogeny/mt-SCITE/scite -i  /home/carler/lab/t_cell/phylogeny/data/output/P20407/2023_4_27_mt-scite_2_pos_filter/A1_06_matrix_output_clonal/0.0556_A100.csv -n 2 -m 11 -r 1 -l 200000 -fd 0.0001 -ad 0.0001 -cc 0.0 -s -a -o /home/carler/lab/t_cell/phylogeny/data/output/P20407/2023_4_27_mt-scite_2_pos_filter/A1_06/0.0556_A100/0.0556_A100 1> /home/carler/lab/t_cell/phylogeny/data/output/P20407/2023_4_27_mt-scite_2_pos_filter/A1_06/0.0556_A100/0.0556_A100.stdout.txt',\n",
       " '/home/carler/lab/t_cell/phylogeny/mt-SCITE/scite -i  /home/carler/lab/t_cell/phylogeny/data/output/P20407/2023_4_27_mt-scite_2_pos_filter/A1_06_matrix_output_clonal/0.0556_A106.csv -n 3 -m 12 -r 1 -l 200000 -fd 0.0001 -ad 0.0001 -cc 0.0 -s -a -o /home/carler/lab/t_cell/phylogeny/data/output/P20407/2023_4_27_mt-scite_2_pos_filter/A1_06/0.0556_A106/0.0556_A106 1> /home/carler/lab/t_cell/phylogeny/data/output/P20407/2023_4_27_mt-scite_2_pos_filter/A1_06/0.0556_A106/0.0556_A106.stdout.txt',\n",
       " '/home/carler/lab/t_cell/phylogeny/mt-SCITE/scite -i  /home/carler/lab/t_cell/phylogeny/data/output/P20407/2023_4_27_mt-scite_2_pos_filter/A1_06_matrix_output_clonal/0.0556_A107.csv -n 3 -m 10 -r 1 -l 200000 -fd 0.0001 -ad 0.0001 -cc 0.0 -s -a -o /home/carler/lab/t_cell/phylogeny/data/output/P20407/2023_4_27_mt-scite_2_pos_filter/A1_06/0.0556_A107/0.0556_A107 1> /home/carler/lab/t_cell/phylogeny/data/output/P20407/2023_4_27_mt-scite_2_pos_filter/A1_06/0.0556_A107/0.0556_A107.stdout.txt',\n",
       " '/home/carler/lab/t_cell/phylogeny/mt-SCITE/scite -i  /home/carler/lab/t_cell/phylogeny/data/output/P20407/2023_4_27_mt-scite_2_pos_filter/A1_06_matrix_output_clonal/0.0556_A113.csv -n 2 -m 13 -r 1 -l 200000 -fd 0.0001 -ad 0.0001 -cc 0.0 -s -a -o /home/carler/lab/t_cell/phylogeny/data/output/P20407/2023_4_27_mt-scite_2_pos_filter/A1_06/0.0556_A113/0.0556_A113 1> /home/carler/lab/t_cell/phylogeny/data/output/P20407/2023_4_27_mt-scite_2_pos_filter/A1_06/0.0556_A113/0.0556_A113.stdout.txt',\n",
       " '/home/carler/lab/t_cell/phylogeny/mt-SCITE/scite -i  /home/carler/lab/t_cell/phylogeny/data/output/P20407/2023_4_27_mt-scite_2_pos_filter/A1_06_matrix_output_clonal/0.0556_A13.csv -n 12 -m 12 -r 1 -l 200000 -fd 0.0001 -ad 0.0001 -cc 0.0 -s -a -o /home/carler/lab/t_cell/phylogeny/data/output/P20407/2023_4_27_mt-scite_2_pos_filter/A1_06/0.0556_A13/0.0556_A13 1> /home/carler/lab/t_cell/phylogeny/data/output/P20407/2023_4_27_mt-scite_2_pos_filter/A1_06/0.0556_A13/0.0556_A13.stdout.txt',\n",
       " '/home/carler/lab/t_cell/phylogeny/mt-SCITE/scite -i  /home/carler/lab/t_cell/phylogeny/data/output/P20407/2023_4_27_mt-scite_2_pos_filter/A1_06_matrix_output_clonal/0.0556_A130.csv -n 2 -m 8 -r 1 -l 200000 -fd 0.0001 -ad 0.0001 -cc 0.0 -s -a -o /home/carler/lab/t_cell/phylogeny/data/output/P20407/2023_4_27_mt-scite_2_pos_filter/A1_06/0.0556_A130/0.0556_A130 1> /home/carler/lab/t_cell/phylogeny/data/output/P20407/2023_4_27_mt-scite_2_pos_filter/A1_06/0.0556_A130/0.0556_A130.stdout.txt',\n",
       " '/home/carler/lab/t_cell/phylogeny/mt-SCITE/scite -i  /home/carler/lab/t_cell/phylogeny/data/output/P20407/2023_4_27_mt-scite_2_pos_filter/A1_06_matrix_output_clonal/0.0556_A137.csv -n 4 -m 19 -r 1 -l 200000 -fd 0.0001 -ad 0.0001 -cc 0.0 -s -a -o /home/carler/lab/t_cell/phylogeny/data/output/P20407/2023_4_27_mt-scite_2_pos_filter/A1_06/0.0556_A137/0.0556_A137 1> /home/carler/lab/t_cell/phylogeny/data/output/P20407/2023_4_27_mt-scite_2_pos_filter/A1_06/0.0556_A137/0.0556_A137.stdout.txt',\n",
       " '/home/carler/lab/t_cell/phylogeny/mt-SCITE/scite -i  /home/carler/lab/t_cell/phylogeny/data/output/P20407/2023_4_27_mt-scite_2_pos_filter/A1_06_matrix_output_clonal/0.0556_A142.csv -n 6 -m 27 -r 1 -l 200000 -fd 0.0001 -ad 0.0001 -cc 0.0 -s -a -o /home/carler/lab/t_cell/phylogeny/data/output/P20407/2023_4_27_mt-scite_2_pos_filter/A1_06/0.0556_A142/0.0556_A142 1> /home/carler/lab/t_cell/phylogeny/data/output/P20407/2023_4_27_mt-scite_2_pos_filter/A1_06/0.0556_A142/0.0556_A142.stdout.txt',\n",
       " '/home/carler/lab/t_cell/phylogeny/mt-SCITE/scite -i  /home/carler/lab/t_cell/phylogeny/data/output/P20407/2023_4_27_mt-scite_2_pos_filter/A1_06_matrix_output_clonal/0.0556_A151.csv -n 2 -m 12 -r 1 -l 200000 -fd 0.0001 -ad 0.0001 -cc 0.0 -s -a -o /home/carler/lab/t_cell/phylogeny/data/output/P20407/2023_4_27_mt-scite_2_pos_filter/A1_06/0.0556_A151/0.0556_A151 1> /home/carler/lab/t_cell/phylogeny/data/output/P20407/2023_4_27_mt-scite_2_pos_filter/A1_06/0.0556_A151/0.0556_A151.stdout.txt',\n",
       " '/home/carler/lab/t_cell/phylogeny/mt-SCITE/scite -i  /home/carler/lab/t_cell/phylogeny/data/output/P20407/2023_4_27_mt-scite_2_pos_filter/A1_06_matrix_output_clonal/0.0556_A154.csv -n 13 -m 65 -r 1 -l 200000 -fd 0.0001 -ad 0.0001 -cc 0.0 -s -a -o /home/carler/lab/t_cell/phylogeny/data/output/P20407/2023_4_27_mt-scite_2_pos_filter/A1_06/0.0556_A154/0.0556_A154 1> /home/carler/lab/t_cell/phylogeny/data/output/P20407/2023_4_27_mt-scite_2_pos_filter/A1_06/0.0556_A154/0.0556_A154.stdout.txt',\n",
       " '/home/carler/lab/t_cell/phylogeny/mt-SCITE/scite -i  /home/carler/lab/t_cell/phylogeny/data/output/P20407/2023_4_27_mt-scite_2_pos_filter/A1_06_matrix_output_clonal/0.0556_A155.csv -n 3 -m 23 -r 1 -l 200000 -fd 0.0001 -ad 0.0001 -cc 0.0 -s -a -o /home/carler/lab/t_cell/phylogeny/data/output/P20407/2023_4_27_mt-scite_2_pos_filter/A1_06/0.0556_A155/0.0556_A155 1> /home/carler/lab/t_cell/phylogeny/data/output/P20407/2023_4_27_mt-scite_2_pos_filter/A1_06/0.0556_A155/0.0556_A155.stdout.txt',\n",
       " '/home/carler/lab/t_cell/phylogeny/mt-SCITE/scite -i  /home/carler/lab/t_cell/phylogeny/data/output/P20407/2023_4_27_mt-scite_2_pos_filter/A1_06_matrix_output_clonal/0.0556_A159.csv -n 16 -m 19 -r 1 -l 200000 -fd 0.0001 -ad 0.0001 -cc 0.0 -s -a -o /home/carler/lab/t_cell/phylogeny/data/output/P20407/2023_4_27_mt-scite_2_pos_filter/A1_06/0.0556_A159/0.0556_A159 1> /home/carler/lab/t_cell/phylogeny/data/output/P20407/2023_4_27_mt-scite_2_pos_filter/A1_06/0.0556_A159/0.0556_A159.stdout.txt',\n",
       " '/home/carler/lab/t_cell/phylogeny/mt-SCITE/scite -i  /home/carler/lab/t_cell/phylogeny/data/output/P20407/2023_4_27_mt-scite_2_pos_filter/A1_06_matrix_output_clonal/0.0556_A161.csv -n 3 -m 11 -r 1 -l 200000 -fd 0.0001 -ad 0.0001 -cc 0.0 -s -a -o /home/carler/lab/t_cell/phylogeny/data/output/P20407/2023_4_27_mt-scite_2_pos_filter/A1_06/0.0556_A161/0.0556_A161 1> /home/carler/lab/t_cell/phylogeny/data/output/P20407/2023_4_27_mt-scite_2_pos_filter/A1_06/0.0556_A161/0.0556_A161.stdout.txt',\n",
       " '/home/carler/lab/t_cell/phylogeny/mt-SCITE/scite -i  /home/carler/lab/t_cell/phylogeny/data/output/P20407/2023_4_27_mt-scite_2_pos_filter/A1_06_matrix_output_clonal/0.0556_A171.csv -n 8 -m 19 -r 1 -l 200000 -fd 0.0001 -ad 0.0001 -cc 0.0 -s -a -o /home/carler/lab/t_cell/phylogeny/data/output/P20407/2023_4_27_mt-scite_2_pos_filter/A1_06/0.0556_A171/0.0556_A171 1> /home/carler/lab/t_cell/phylogeny/data/output/P20407/2023_4_27_mt-scite_2_pos_filter/A1_06/0.0556_A171/0.0556_A171.stdout.txt',\n",
       " '/home/carler/lab/t_cell/phylogeny/mt-SCITE/scite -i  /home/carler/lab/t_cell/phylogeny/data/output/P20407/2023_4_27_mt-scite_2_pos_filter/A1_06_matrix_output_clonal/0.0556_A177.csv -n 14 -m 44 -r 1 -l 200000 -fd 0.0001 -ad 0.0001 -cc 0.0 -s -a -o /home/carler/lab/t_cell/phylogeny/data/output/P20407/2023_4_27_mt-scite_2_pos_filter/A1_06/0.0556_A177/0.0556_A177 1> /home/carler/lab/t_cell/phylogeny/data/output/P20407/2023_4_27_mt-scite_2_pos_filter/A1_06/0.0556_A177/0.0556_A177.stdout.txt',\n",
       " '/home/carler/lab/t_cell/phylogeny/mt-SCITE/scite -i  /home/carler/lab/t_cell/phylogeny/data/output/P20407/2023_4_27_mt-scite_2_pos_filter/A1_06_matrix_output_clonal/0.0556_A181.csv -n 4 -m 9 -r 1 -l 200000 -fd 0.0001 -ad 0.0001 -cc 0.0 -s -a -o /home/carler/lab/t_cell/phylogeny/data/output/P20407/2023_4_27_mt-scite_2_pos_filter/A1_06/0.0556_A181/0.0556_A181 1> /home/carler/lab/t_cell/phylogeny/data/output/P20407/2023_4_27_mt-scite_2_pos_filter/A1_06/0.0556_A181/0.0556_A181.stdout.txt',\n",
       " '/home/carler/lab/t_cell/phylogeny/mt-SCITE/scite -i  /home/carler/lab/t_cell/phylogeny/data/output/P20407/2023_4_27_mt-scite_2_pos_filter/A1_06_matrix_output_clonal/0.0556_A187.csv -n 6 -m 13 -r 1 -l 200000 -fd 0.0001 -ad 0.0001 -cc 0.0 -s -a -o /home/carler/lab/t_cell/phylogeny/data/output/P20407/2023_4_27_mt-scite_2_pos_filter/A1_06/0.0556_A187/0.0556_A187 1> /home/carler/lab/t_cell/phylogeny/data/output/P20407/2023_4_27_mt-scite_2_pos_filter/A1_06/0.0556_A187/0.0556_A187.stdout.txt',\n",
       " '/home/carler/lab/t_cell/phylogeny/mt-SCITE/scite -i  /home/carler/lab/t_cell/phylogeny/data/output/P20407/2023_4_27_mt-scite_2_pos_filter/A1_06_matrix_output_clonal/0.0556_A19.csv -n 3 -m 15 -r 1 -l 200000 -fd 0.0001 -ad 0.0001 -cc 0.0 -s -a -o /home/carler/lab/t_cell/phylogeny/data/output/P20407/2023_4_27_mt-scite_2_pos_filter/A1_06/0.0556_A19/0.0556_A19 1> /home/carler/lab/t_cell/phylogeny/data/output/P20407/2023_4_27_mt-scite_2_pos_filter/A1_06/0.0556_A19/0.0556_A19.stdout.txt',\n",
       " '/home/carler/lab/t_cell/phylogeny/mt-SCITE/scite -i  /home/carler/lab/t_cell/phylogeny/data/output/P20407/2023_4_27_mt-scite_2_pos_filter/A1_06_matrix_output_clonal/0.0556_A204.csv -n 3 -m 10 -r 1 -l 200000 -fd 0.0001 -ad 0.0001 -cc 0.0 -s -a -o /home/carler/lab/t_cell/phylogeny/data/output/P20407/2023_4_27_mt-scite_2_pos_filter/A1_06/0.0556_A204/0.0556_A204 1> /home/carler/lab/t_cell/phylogeny/data/output/P20407/2023_4_27_mt-scite_2_pos_filter/A1_06/0.0556_A204/0.0556_A204.stdout.txt',\n",
       " '/home/carler/lab/t_cell/phylogeny/mt-SCITE/scite -i  /home/carler/lab/t_cell/phylogeny/data/output/P20407/2023_4_27_mt-scite_2_pos_filter/A1_06_matrix_output_clonal/0.0556_A212.csv -n 2 -m 12 -r 1 -l 200000 -fd 0.0001 -ad 0.0001 -cc 0.0 -s -a -o /home/carler/lab/t_cell/phylogeny/data/output/P20407/2023_4_27_mt-scite_2_pos_filter/A1_06/0.0556_A212/0.0556_A212 1> /home/carler/lab/t_cell/phylogeny/data/output/P20407/2023_4_27_mt-scite_2_pos_filter/A1_06/0.0556_A212/0.0556_A212.stdout.txt',\n",
       " '/home/carler/lab/t_cell/phylogeny/mt-SCITE/scite -i  /home/carler/lab/t_cell/phylogeny/data/output/P20407/2023_4_27_mt-scite_2_pos_filter/A1_06_matrix_output_clonal/0.0556_A22.csv -n 4 -m 21 -r 1 -l 200000 -fd 0.0001 -ad 0.0001 -cc 0.0 -s -a -o /home/carler/lab/t_cell/phylogeny/data/output/P20407/2023_4_27_mt-scite_2_pos_filter/A1_06/0.0556_A22/0.0556_A22 1> /home/carler/lab/t_cell/phylogeny/data/output/P20407/2023_4_27_mt-scite_2_pos_filter/A1_06/0.0556_A22/0.0556_A22.stdout.txt',\n",
       " '/home/carler/lab/t_cell/phylogeny/mt-SCITE/scite -i  /home/carler/lab/t_cell/phylogeny/data/output/P20407/2023_4_27_mt-scite_2_pos_filter/A1_06_matrix_output_clonal/0.0556_A247.csv -n 2 -m 8 -r 1 -l 200000 -fd 0.0001 -ad 0.0001 -cc 0.0 -s -a -o /home/carler/lab/t_cell/phylogeny/data/output/P20407/2023_4_27_mt-scite_2_pos_filter/A1_06/0.0556_A247/0.0556_A247 1> /home/carler/lab/t_cell/phylogeny/data/output/P20407/2023_4_27_mt-scite_2_pos_filter/A1_06/0.0556_A247/0.0556_A247.stdout.txt',\n",
       " '/home/carler/lab/t_cell/phylogeny/mt-SCITE/scite -i  /home/carler/lab/t_cell/phylogeny/data/output/P20407/2023_4_27_mt-scite_2_pos_filter/A1_06_matrix_output_clonal/0.0556_A28.csv -n 9 -m 37 -r 1 -l 200000 -fd 0.0001 -ad 0.0001 -cc 0.0 -s -a -o /home/carler/lab/t_cell/phylogeny/data/output/P20407/2023_4_27_mt-scite_2_pos_filter/A1_06/0.0556_A28/0.0556_A28 1> /home/carler/lab/t_cell/phylogeny/data/output/P20407/2023_4_27_mt-scite_2_pos_filter/A1_06/0.0556_A28/0.0556_A28.stdout.txt',\n",
       " '/home/carler/lab/t_cell/phylogeny/mt-SCITE/scite -i  /home/carler/lab/t_cell/phylogeny/data/output/P20407/2023_4_27_mt-scite_2_pos_filter/A1_06_matrix_output_clonal/0.0556_A3.csv -n 9 -m 50 -r 1 -l 200000 -fd 0.0001 -ad 0.0001 -cc 0.0 -s -a -o /home/carler/lab/t_cell/phylogeny/data/output/P20407/2023_4_27_mt-scite_2_pos_filter/A1_06/0.0556_A3/0.0556_A3 1> /home/carler/lab/t_cell/phylogeny/data/output/P20407/2023_4_27_mt-scite_2_pos_filter/A1_06/0.0556_A3/0.0556_A3.stdout.txt',\n",
       " '/home/carler/lab/t_cell/phylogeny/mt-SCITE/scite -i  /home/carler/lab/t_cell/phylogeny/data/output/P20407/2023_4_27_mt-scite_2_pos_filter/A1_06_matrix_output_clonal/0.0556_A30.csv -n 2 -m 9 -r 1 -l 200000 -fd 0.0001 -ad 0.0001 -cc 0.0 -s -a -o /home/carler/lab/t_cell/phylogeny/data/output/P20407/2023_4_27_mt-scite_2_pos_filter/A1_06/0.0556_A30/0.0556_A30 1> /home/carler/lab/t_cell/phylogeny/data/output/P20407/2023_4_27_mt-scite_2_pos_filter/A1_06/0.0556_A30/0.0556_A30.stdout.txt',\n",
       " '/home/carler/lab/t_cell/phylogeny/mt-SCITE/scite -i  /home/carler/lab/t_cell/phylogeny/data/output/P20407/2023_4_27_mt-scite_2_pos_filter/A1_06_matrix_output_clonal/0.0556_A31.csv -n 3 -m 15 -r 1 -l 200000 -fd 0.0001 -ad 0.0001 -cc 0.0 -s -a -o /home/carler/lab/t_cell/phylogeny/data/output/P20407/2023_4_27_mt-scite_2_pos_filter/A1_06/0.0556_A31/0.0556_A31 1> /home/carler/lab/t_cell/phylogeny/data/output/P20407/2023_4_27_mt-scite_2_pos_filter/A1_06/0.0556_A31/0.0556_A31.stdout.txt',\n",
       " '/home/carler/lab/t_cell/phylogeny/mt-SCITE/scite -i  /home/carler/lab/t_cell/phylogeny/data/output/P20407/2023_4_27_mt-scite_2_pos_filter/A1_06_matrix_output_clonal/0.0556_A327.csv -n 6 -m 14 -r 1 -l 200000 -fd 0.0001 -ad 0.0001 -cc 0.0 -s -a -o /home/carler/lab/t_cell/phylogeny/data/output/P20407/2023_4_27_mt-scite_2_pos_filter/A1_06/0.0556_A327/0.0556_A327 1> /home/carler/lab/t_cell/phylogeny/data/output/P20407/2023_4_27_mt-scite_2_pos_filter/A1_06/0.0556_A327/0.0556_A327.stdout.txt',\n",
       " '/home/carler/lab/t_cell/phylogeny/mt-SCITE/scite -i  /home/carler/lab/t_cell/phylogeny/data/output/P20407/2023_4_27_mt-scite_2_pos_filter/A1_06_matrix_output_clonal/0.0556_A330.csv -n 11 -m 14 -r 1 -l 200000 -fd 0.0001 -ad 0.0001 -cc 0.0 -s -a -o /home/carler/lab/t_cell/phylogeny/data/output/P20407/2023_4_27_mt-scite_2_pos_filter/A1_06/0.0556_A330/0.0556_A330 1> /home/carler/lab/t_cell/phylogeny/data/output/P20407/2023_4_27_mt-scite_2_pos_filter/A1_06/0.0556_A330/0.0556_A330.stdout.txt',\n",
       " '/home/carler/lab/t_cell/phylogeny/mt-SCITE/scite -i  /home/carler/lab/t_cell/phylogeny/data/output/P20407/2023_4_27_mt-scite_2_pos_filter/A1_06_matrix_output_clonal/0.0556_A345.csv -n 2 -m 12 -r 1 -l 200000 -fd 0.0001 -ad 0.0001 -cc 0.0 -s -a -o /home/carler/lab/t_cell/phylogeny/data/output/P20407/2023_4_27_mt-scite_2_pos_filter/A1_06/0.0556_A345/0.0556_A345 1> /home/carler/lab/t_cell/phylogeny/data/output/P20407/2023_4_27_mt-scite_2_pos_filter/A1_06/0.0556_A345/0.0556_A345.stdout.txt',\n",
       " '/home/carler/lab/t_cell/phylogeny/mt-SCITE/scite -i  /home/carler/lab/t_cell/phylogeny/data/output/P20407/2023_4_27_mt-scite_2_pos_filter/A1_06_matrix_output_clonal/0.0556_A36.csv -n 5 -m 32 -r 1 -l 200000 -fd 0.0001 -ad 0.0001 -cc 0.0 -s -a -o /home/carler/lab/t_cell/phylogeny/data/output/P20407/2023_4_27_mt-scite_2_pos_filter/A1_06/0.0556_A36/0.0556_A36 1> /home/carler/lab/t_cell/phylogeny/data/output/P20407/2023_4_27_mt-scite_2_pos_filter/A1_06/0.0556_A36/0.0556_A36.stdout.txt',\n",
       " '/home/carler/lab/t_cell/phylogeny/mt-SCITE/scite -i  /home/carler/lab/t_cell/phylogeny/data/output/P20407/2023_4_27_mt-scite_2_pos_filter/A1_06_matrix_output_clonal/0.0556_A360.csv -n 2 -m 9 -r 1 -l 200000 -fd 0.0001 -ad 0.0001 -cc 0.0 -s -a -o /home/carler/lab/t_cell/phylogeny/data/output/P20407/2023_4_27_mt-scite_2_pos_filter/A1_06/0.0556_A360/0.0556_A360 1> /home/carler/lab/t_cell/phylogeny/data/output/P20407/2023_4_27_mt-scite_2_pos_filter/A1_06/0.0556_A360/0.0556_A360.stdout.txt',\n",
       " '/home/carler/lab/t_cell/phylogeny/mt-SCITE/scite -i  /home/carler/lab/t_cell/phylogeny/data/output/P20407/2023_4_27_mt-scite_2_pos_filter/A1_06_matrix_output_clonal/0.0556_A362.csv -n 2 -m 14 -r 1 -l 200000 -fd 0.0001 -ad 0.0001 -cc 0.0 -s -a -o /home/carler/lab/t_cell/phylogeny/data/output/P20407/2023_4_27_mt-scite_2_pos_filter/A1_06/0.0556_A362/0.0556_A362 1> /home/carler/lab/t_cell/phylogeny/data/output/P20407/2023_4_27_mt-scite_2_pos_filter/A1_06/0.0556_A362/0.0556_A362.stdout.txt',\n",
       " '/home/carler/lab/t_cell/phylogeny/mt-SCITE/scite -i  /home/carler/lab/t_cell/phylogeny/data/output/P20407/2023_4_27_mt-scite_2_pos_filter/A1_06_matrix_output_clonal/0.0556_A39.csv -n 13 -m 37 -r 1 -l 200000 -fd 0.0001 -ad 0.0001 -cc 0.0 -s -a -o /home/carler/lab/t_cell/phylogeny/data/output/P20407/2023_4_27_mt-scite_2_pos_filter/A1_06/0.0556_A39/0.0556_A39 1> /home/carler/lab/t_cell/phylogeny/data/output/P20407/2023_4_27_mt-scite_2_pos_filter/A1_06/0.0556_A39/0.0556_A39.stdout.txt',\n",
       " '/home/carler/lab/t_cell/phylogeny/mt-SCITE/scite -i  /home/carler/lab/t_cell/phylogeny/data/output/P20407/2023_4_27_mt-scite_2_pos_filter/A1_06_matrix_output_clonal/0.0556_A397.csv -n 6 -m 12 -r 1 -l 200000 -fd 0.0001 -ad 0.0001 -cc 0.0 -s -a -o /home/carler/lab/t_cell/phylogeny/data/output/P20407/2023_4_27_mt-scite_2_pos_filter/A1_06/0.0556_A397/0.0556_A397 1> /home/carler/lab/t_cell/phylogeny/data/output/P20407/2023_4_27_mt-scite_2_pos_filter/A1_06/0.0556_A397/0.0556_A397.stdout.txt',\n",
       " '/home/carler/lab/t_cell/phylogeny/mt-SCITE/scite -i  /home/carler/lab/t_cell/phylogeny/data/output/P20407/2023_4_27_mt-scite_2_pos_filter/A1_06_matrix_output_clonal/0.0556_A40.csv -n 2 -m 10 -r 1 -l 200000 -fd 0.0001 -ad 0.0001 -cc 0.0 -s -a -o /home/carler/lab/t_cell/phylogeny/data/output/P20407/2023_4_27_mt-scite_2_pos_filter/A1_06/0.0556_A40/0.0556_A40 1> /home/carler/lab/t_cell/phylogeny/data/output/P20407/2023_4_27_mt-scite_2_pos_filter/A1_06/0.0556_A40/0.0556_A40.stdout.txt',\n",
       " '/home/carler/lab/t_cell/phylogeny/mt-SCITE/scite -i  /home/carler/lab/t_cell/phylogeny/data/output/P20407/2023_4_27_mt-scite_2_pos_filter/A1_06_matrix_output_clonal/0.0556_A41.csv -n 3 -m 8 -r 1 -l 200000 -fd 0.0001 -ad 0.0001 -cc 0.0 -s -a -o /home/carler/lab/t_cell/phylogeny/data/output/P20407/2023_4_27_mt-scite_2_pos_filter/A1_06/0.0556_A41/0.0556_A41 1> /home/carler/lab/t_cell/phylogeny/data/output/P20407/2023_4_27_mt-scite_2_pos_filter/A1_06/0.0556_A41/0.0556_A41.stdout.txt',\n",
       " '/home/carler/lab/t_cell/phylogeny/mt-SCITE/scite -i  /home/carler/lab/t_cell/phylogeny/data/output/P20407/2023_4_27_mt-scite_2_pos_filter/A1_06_matrix_output_clonal/0.0556_A47.csv -n 17 -m 61 -r 1 -l 200000 -fd 0.0001 -ad 0.0001 -cc 0.0 -s -a -o /home/carler/lab/t_cell/phylogeny/data/output/P20407/2023_4_27_mt-scite_2_pos_filter/A1_06/0.0556_A47/0.0556_A47 1> /home/carler/lab/t_cell/phylogeny/data/output/P20407/2023_4_27_mt-scite_2_pos_filter/A1_06/0.0556_A47/0.0556_A47.stdout.txt',\n",
       " '/home/carler/lab/t_cell/phylogeny/mt-SCITE/scite -i  /home/carler/lab/t_cell/phylogeny/data/output/P20407/2023_4_27_mt-scite_2_pos_filter/A1_06_matrix_output_clonal/0.0556_A48.csv -n 14 -m 49 -r 1 -l 200000 -fd 0.0001 -ad 0.0001 -cc 0.0 -s -a -o /home/carler/lab/t_cell/phylogeny/data/output/P20407/2023_4_27_mt-scite_2_pos_filter/A1_06/0.0556_A48/0.0556_A48 1> /home/carler/lab/t_cell/phylogeny/data/output/P20407/2023_4_27_mt-scite_2_pos_filter/A1_06/0.0556_A48/0.0556_A48.stdout.txt',\n",
       " '/home/carler/lab/t_cell/phylogeny/mt-SCITE/scite -i  /home/carler/lab/t_cell/phylogeny/data/output/P20407/2023_4_27_mt-scite_2_pos_filter/A1_06_matrix_output_clonal/0.0556_A480.csv -n 2 -m 8 -r 1 -l 200000 -fd 0.0001 -ad 0.0001 -cc 0.0 -s -a -o /home/carler/lab/t_cell/phylogeny/data/output/P20407/2023_4_27_mt-scite_2_pos_filter/A1_06/0.0556_A480/0.0556_A480 1> /home/carler/lab/t_cell/phylogeny/data/output/P20407/2023_4_27_mt-scite_2_pos_filter/A1_06/0.0556_A480/0.0556_A480.stdout.txt',\n",
       " '/home/carler/lab/t_cell/phylogeny/mt-SCITE/scite -i  /home/carler/lab/t_cell/phylogeny/data/output/P20407/2023_4_27_mt-scite_2_pos_filter/A1_06_matrix_output_clonal/0.0556_A5.csv -n 2 -m 18 -r 1 -l 200000 -fd 0.0001 -ad 0.0001 -cc 0.0 -s -a -o /home/carler/lab/t_cell/phylogeny/data/output/P20407/2023_4_27_mt-scite_2_pos_filter/A1_06/0.0556_A5/0.0556_A5 1> /home/carler/lab/t_cell/phylogeny/data/output/P20407/2023_4_27_mt-scite_2_pos_filter/A1_06/0.0556_A5/0.0556_A5.stdout.txt',\n",
       " '/home/carler/lab/t_cell/phylogeny/mt-SCITE/scite -i  /home/carler/lab/t_cell/phylogeny/data/output/P20407/2023_4_27_mt-scite_2_pos_filter/A1_06_matrix_output_clonal/0.0556_A50.csv -n 5 -m 12 -r 1 -l 200000 -fd 0.0001 -ad 0.0001 -cc 0.0 -s -a -o /home/carler/lab/t_cell/phylogeny/data/output/P20407/2023_4_27_mt-scite_2_pos_filter/A1_06/0.0556_A50/0.0556_A50 1> /home/carler/lab/t_cell/phylogeny/data/output/P20407/2023_4_27_mt-scite_2_pos_filter/A1_06/0.0556_A50/0.0556_A50.stdout.txt',\n",
       " '/home/carler/lab/t_cell/phylogeny/mt-SCITE/scite -i  /home/carler/lab/t_cell/phylogeny/data/output/P20407/2023_4_27_mt-scite_2_pos_filter/A1_06_matrix_output_clonal/0.0556_A53.csv -n 2 -m 14 -r 1 -l 200000 -fd 0.0001 -ad 0.0001 -cc 0.0 -s -a -o /home/carler/lab/t_cell/phylogeny/data/output/P20407/2023_4_27_mt-scite_2_pos_filter/A1_06/0.0556_A53/0.0556_A53 1> /home/carler/lab/t_cell/phylogeny/data/output/P20407/2023_4_27_mt-scite_2_pos_filter/A1_06/0.0556_A53/0.0556_A53.stdout.txt',\n",
       " '/home/carler/lab/t_cell/phylogeny/mt-SCITE/scite -i  /home/carler/lab/t_cell/phylogeny/data/output/P20407/2023_4_27_mt-scite_2_pos_filter/A1_06_matrix_output_clonal/0.0556_A55.csv -n 2 -m 14 -r 1 -l 200000 -fd 0.0001 -ad 0.0001 -cc 0.0 -s -a -o /home/carler/lab/t_cell/phylogeny/data/output/P20407/2023_4_27_mt-scite_2_pos_filter/A1_06/0.0556_A55/0.0556_A55 1> /home/carler/lab/t_cell/phylogeny/data/output/P20407/2023_4_27_mt-scite_2_pos_filter/A1_06/0.0556_A55/0.0556_A55.stdout.txt',\n",
       " '/home/carler/lab/t_cell/phylogeny/mt-SCITE/scite -i  /home/carler/lab/t_cell/phylogeny/data/output/P20407/2023_4_27_mt-scite_2_pos_filter/A1_06_matrix_output_clonal/0.0556_A57.csv -n 3 -m 21 -r 1 -l 200000 -fd 0.0001 -ad 0.0001 -cc 0.0 -s -a -o /home/carler/lab/t_cell/phylogeny/data/output/P20407/2023_4_27_mt-scite_2_pos_filter/A1_06/0.0556_A57/0.0556_A57 1> /home/carler/lab/t_cell/phylogeny/data/output/P20407/2023_4_27_mt-scite_2_pos_filter/A1_06/0.0556_A57/0.0556_A57.stdout.txt',\n",
       " '/home/carler/lab/t_cell/phylogeny/mt-SCITE/scite -i  /home/carler/lab/t_cell/phylogeny/data/output/P20407/2023_4_27_mt-scite_2_pos_filter/A1_06_matrix_output_clonal/0.0556_A584.csv -n 2 -m 9 -r 1 -l 200000 -fd 0.0001 -ad 0.0001 -cc 0.0 -s -a -o /home/carler/lab/t_cell/phylogeny/data/output/P20407/2023_4_27_mt-scite_2_pos_filter/A1_06/0.0556_A584/0.0556_A584 1> /home/carler/lab/t_cell/phylogeny/data/output/P20407/2023_4_27_mt-scite_2_pos_filter/A1_06/0.0556_A584/0.0556_A584.stdout.txt',\n",
       " '/home/carler/lab/t_cell/phylogeny/mt-SCITE/scite -i  /home/carler/lab/t_cell/phylogeny/data/output/P20407/2023_4_27_mt-scite_2_pos_filter/A1_06_matrix_output_clonal/0.0556_A60.csv -n 14 -m 25 -r 1 -l 200000 -fd 0.0001 -ad 0.0001 -cc 0.0 -s -a -o /home/carler/lab/t_cell/phylogeny/data/output/P20407/2023_4_27_mt-scite_2_pos_filter/A1_06/0.0556_A60/0.0556_A60 1> /home/carler/lab/t_cell/phylogeny/data/output/P20407/2023_4_27_mt-scite_2_pos_filter/A1_06/0.0556_A60/0.0556_A60.stdout.txt',\n",
       " '/home/carler/lab/t_cell/phylogeny/mt-SCITE/scite -i  /home/carler/lab/t_cell/phylogeny/data/output/P20407/2023_4_27_mt-scite_2_pos_filter/A1_06_matrix_output_clonal/0.0556_A61.csv -n 20 -m 88 -r 1 -l 200000 -fd 0.0001 -ad 0.0001 -cc 0.0 -s -a -o /home/carler/lab/t_cell/phylogeny/data/output/P20407/2023_4_27_mt-scite_2_pos_filter/A1_06/0.0556_A61/0.0556_A61 1> /home/carler/lab/t_cell/phylogeny/data/output/P20407/2023_4_27_mt-scite_2_pos_filter/A1_06/0.0556_A61/0.0556_A61.stdout.txt',\n",
       " '/home/carler/lab/t_cell/phylogeny/mt-SCITE/scite -i  /home/carler/lab/t_cell/phylogeny/data/output/P20407/2023_4_27_mt-scite_2_pos_filter/A1_06_matrix_output_clonal/0.0556_A64.csv -n 2 -m 11 -r 1 -l 200000 -fd 0.0001 -ad 0.0001 -cc 0.0 -s -a -o /home/carler/lab/t_cell/phylogeny/data/output/P20407/2023_4_27_mt-scite_2_pos_filter/A1_06/0.0556_A64/0.0556_A64 1> /home/carler/lab/t_cell/phylogeny/data/output/P20407/2023_4_27_mt-scite_2_pos_filter/A1_06/0.0556_A64/0.0556_A64.stdout.txt',\n",
       " '/home/carler/lab/t_cell/phylogeny/mt-SCITE/scite -i  /home/carler/lab/t_cell/phylogeny/data/output/P20407/2023_4_27_mt-scite_2_pos_filter/A1_06_matrix_output_clonal/0.0556_A65.csv -n 4 -m 10 -r 1 -l 200000 -fd 0.0001 -ad 0.0001 -cc 0.0 -s -a -o /home/carler/lab/t_cell/phylogeny/data/output/P20407/2023_4_27_mt-scite_2_pos_filter/A1_06/0.0556_A65/0.0556_A65 1> /home/carler/lab/t_cell/phylogeny/data/output/P20407/2023_4_27_mt-scite_2_pos_filter/A1_06/0.0556_A65/0.0556_A65.stdout.txt',\n",
       " '/home/carler/lab/t_cell/phylogeny/mt-SCITE/scite -i  /home/carler/lab/t_cell/phylogeny/data/output/P20407/2023_4_27_mt-scite_2_pos_filter/A1_06_matrix_output_clonal/0.0556_A68.csv -n 2 -m 14 -r 1 -l 200000 -fd 0.0001 -ad 0.0001 -cc 0.0 -s -a -o /home/carler/lab/t_cell/phylogeny/data/output/P20407/2023_4_27_mt-scite_2_pos_filter/A1_06/0.0556_A68/0.0556_A68 1> /home/carler/lab/t_cell/phylogeny/data/output/P20407/2023_4_27_mt-scite_2_pos_filter/A1_06/0.0556_A68/0.0556_A68.stdout.txt',\n",
       " '/home/carler/lab/t_cell/phylogeny/mt-SCITE/scite -i  /home/carler/lab/t_cell/phylogeny/data/output/P20407/2023_4_27_mt-scite_2_pos_filter/A1_06_matrix_output_clonal/0.0556_A69.csv -n 2 -m 11 -r 1 -l 200000 -fd 0.0001 -ad 0.0001 -cc 0.0 -s -a -o /home/carler/lab/t_cell/phylogeny/data/output/P20407/2023_4_27_mt-scite_2_pos_filter/A1_06/0.0556_A69/0.0556_A69 1> /home/carler/lab/t_cell/phylogeny/data/output/P20407/2023_4_27_mt-scite_2_pos_filter/A1_06/0.0556_A69/0.0556_A69.stdout.txt',\n",
       " '/home/carler/lab/t_cell/phylogeny/mt-SCITE/scite -i  /home/carler/lab/t_cell/phylogeny/data/output/P20407/2023_4_27_mt-scite_2_pos_filter/A1_06_matrix_output_clonal/0.0556_A7.csv -n 2 -m 9 -r 1 -l 200000 -fd 0.0001 -ad 0.0001 -cc 0.0 -s -a -o /home/carler/lab/t_cell/phylogeny/data/output/P20407/2023_4_27_mt-scite_2_pos_filter/A1_06/0.0556_A7/0.0556_A7 1> /home/carler/lab/t_cell/phylogeny/data/output/P20407/2023_4_27_mt-scite_2_pos_filter/A1_06/0.0556_A7/0.0556_A7.stdout.txt',\n",
       " '/home/carler/lab/t_cell/phylogeny/mt-SCITE/scite -i  /home/carler/lab/t_cell/phylogeny/data/output/P20407/2023_4_27_mt-scite_2_pos_filter/A1_06_matrix_output_clonal/0.0556_A70.csv -n 4 -m 13 -r 1 -l 200000 -fd 0.0001 -ad 0.0001 -cc 0.0 -s -a -o /home/carler/lab/t_cell/phylogeny/data/output/P20407/2023_4_27_mt-scite_2_pos_filter/A1_06/0.0556_A70/0.0556_A70 1> /home/carler/lab/t_cell/phylogeny/data/output/P20407/2023_4_27_mt-scite_2_pos_filter/A1_06/0.0556_A70/0.0556_A70.stdout.txt',\n",
       " '/home/carler/lab/t_cell/phylogeny/mt-SCITE/scite -i  /home/carler/lab/t_cell/phylogeny/data/output/P20407/2023_4_27_mt-scite_2_pos_filter/A1_06_matrix_output_clonal/0.0556_A74.csv -n 2 -m 17 -r 1 -l 200000 -fd 0.0001 -ad 0.0001 -cc 0.0 -s -a -o /home/carler/lab/t_cell/phylogeny/data/output/P20407/2023_4_27_mt-scite_2_pos_filter/A1_06/0.0556_A74/0.0556_A74 1> /home/carler/lab/t_cell/phylogeny/data/output/P20407/2023_4_27_mt-scite_2_pos_filter/A1_06/0.0556_A74/0.0556_A74.stdout.txt',\n",
       " '/home/carler/lab/t_cell/phylogeny/mt-SCITE/scite -i  /home/carler/lab/t_cell/phylogeny/data/output/P20407/2023_4_27_mt-scite_2_pos_filter/A1_06_matrix_output_clonal/0.0556_A80.csv -n 3 -m 19 -r 1 -l 200000 -fd 0.0001 -ad 0.0001 -cc 0.0 -s -a -o /home/carler/lab/t_cell/phylogeny/data/output/P20407/2023_4_27_mt-scite_2_pos_filter/A1_06/0.0556_A80/0.0556_A80 1> /home/carler/lab/t_cell/phylogeny/data/output/P20407/2023_4_27_mt-scite_2_pos_filter/A1_06/0.0556_A80/0.0556_A80.stdout.txt',\n",
       " '/home/carler/lab/t_cell/phylogeny/mt-SCITE/scite -i  /home/carler/lab/t_cell/phylogeny/data/output/P20407/2023_4_27_mt-scite_2_pos_filter/A1_06_matrix_output_clonal/0.0556_A9.csv -n 4 -m 43 -r 1 -l 200000 -fd 0.0001 -ad 0.0001 -cc 0.0 -s -a -o /home/carler/lab/t_cell/phylogeny/data/output/P20407/2023_4_27_mt-scite_2_pos_filter/A1_06/0.0556_A9/0.0556_A9 1> /home/carler/lab/t_cell/phylogeny/data/output/P20407/2023_4_27_mt-scite_2_pos_filter/A1_06/0.0556_A9/0.0556_A9.stdout.txt',\n",
       " '/home/carler/lab/t_cell/phylogeny/mt-SCITE/scite -i  /home/carler/lab/t_cell/phylogeny/data/output/P20407/2023_4_27_mt-scite_2_pos_filter/A1_06_matrix_output_clonal/0.0556_A94.csv -n 4 -m 13 -r 1 -l 200000 -fd 0.0001 -ad 0.0001 -cc 0.0 -s -a -o /home/carler/lab/t_cell/phylogeny/data/output/P20407/2023_4_27_mt-scite_2_pos_filter/A1_06/0.0556_A94/0.0556_A94 1> /home/carler/lab/t_cell/phylogeny/data/output/P20407/2023_4_27_mt-scite_2_pos_filter/A1_06/0.0556_A94/0.0556_A94.stdout.txt',\n",
       " '/home/carler/lab/t_cell/phylogeny/mt-SCITE/scite -i  /home/carler/lab/t_cell/phylogeny/data/output/P20407/2023_4_27_mt-scite_2_pos_filter/A1_30_matrix_output_clonal/0.0556_B0.csv -n 10 -m 23 -r 1 -l 200000 -fd 0.0001 -ad 0.0001 -cc 0.0 -s -a -o /home/carler/lab/t_cell/phylogeny/data/output/P20407/2023_4_27_mt-scite_2_pos_filter/A1_30/0.0556_B0/0.0556_B0 1> /home/carler/lab/t_cell/phylogeny/data/output/P20407/2023_4_27_mt-scite_2_pos_filter/A1_30/0.0556_B0/0.0556_B0.stdout.txt',\n",
       " '/home/carler/lab/t_cell/phylogeny/mt-SCITE/scite -i  /home/carler/lab/t_cell/phylogeny/data/output/P20407/2023_4_27_mt-scite_2_pos_filter/A1_30_matrix_output_clonal/0.0556_B100.csv -n 5 -m 20 -r 1 -l 200000 -fd 0.0001 -ad 0.0001 -cc 0.0 -s -a -o /home/carler/lab/t_cell/phylogeny/data/output/P20407/2023_4_27_mt-scite_2_pos_filter/A1_30/0.0556_B100/0.0556_B100 1> /home/carler/lab/t_cell/phylogeny/data/output/P20407/2023_4_27_mt-scite_2_pos_filter/A1_30/0.0556_B100/0.0556_B100.stdout.txt',\n",
       " '/home/carler/lab/t_cell/phylogeny/mt-SCITE/scite -i  /home/carler/lab/t_cell/phylogeny/data/output/P20407/2023_4_27_mt-scite_2_pos_filter/A1_30_matrix_output_clonal/0.0556_B101.csv -n 11 -m 20 -r 1 -l 200000 -fd 0.0001 -ad 0.0001 -cc 0.0 -s -a -o /home/carler/lab/t_cell/phylogeny/data/output/P20407/2023_4_27_mt-scite_2_pos_filter/A1_30/0.0556_B101/0.0556_B101 1> /home/carler/lab/t_cell/phylogeny/data/output/P20407/2023_4_27_mt-scite_2_pos_filter/A1_30/0.0556_B101/0.0556_B101.stdout.txt',\n",
       " '/home/carler/lab/t_cell/phylogeny/mt-SCITE/scite -i  /home/carler/lab/t_cell/phylogeny/data/output/P20407/2023_4_27_mt-scite_2_pos_filter/A1_30_matrix_output_clonal/0.0556_B102.csv -n 16 -m 39 -r 1 -l 200000 -fd 0.0001 -ad 0.0001 -cc 0.0 -s -a -o /home/carler/lab/t_cell/phylogeny/data/output/P20407/2023_4_27_mt-scite_2_pos_filter/A1_30/0.0556_B102/0.0556_B102 1> /home/carler/lab/t_cell/phylogeny/data/output/P20407/2023_4_27_mt-scite_2_pos_filter/A1_30/0.0556_B102/0.0556_B102.stdout.txt',\n",
       " '/home/carler/lab/t_cell/phylogeny/mt-SCITE/scite -i  /home/carler/lab/t_cell/phylogeny/data/output/P20407/2023_4_27_mt-scite_2_pos_filter/A1_30_matrix_output_clonal/0.0556_B117.csv -n 7 -m 9 -r 1 -l 200000 -fd 0.0001 -ad 0.0001 -cc 0.0 -s -a -o /home/carler/lab/t_cell/phylogeny/data/output/P20407/2023_4_27_mt-scite_2_pos_filter/A1_30/0.0556_B117/0.0556_B117 1> /home/carler/lab/t_cell/phylogeny/data/output/P20407/2023_4_27_mt-scite_2_pos_filter/A1_30/0.0556_B117/0.0556_B117.stdout.txt',\n",
       " '/home/carler/lab/t_cell/phylogeny/mt-SCITE/scite -i  /home/carler/lab/t_cell/phylogeny/data/output/P20407/2023_4_27_mt-scite_2_pos_filter/A1_30_matrix_output_clonal/0.0556_B12.csv -n 6 -m 27 -r 1 -l 200000 -fd 0.0001 -ad 0.0001 -cc 0.0 -s -a -o /home/carler/lab/t_cell/phylogeny/data/output/P20407/2023_4_27_mt-scite_2_pos_filter/A1_30/0.0556_B12/0.0556_B12 1> /home/carler/lab/t_cell/phylogeny/data/output/P20407/2023_4_27_mt-scite_2_pos_filter/A1_30/0.0556_B12/0.0556_B12.stdout.txt',\n",
       " '/home/carler/lab/t_cell/phylogeny/mt-SCITE/scite -i  /home/carler/lab/t_cell/phylogeny/data/output/P20407/2023_4_27_mt-scite_2_pos_filter/A1_30_matrix_output_clonal/0.0556_B121.csv -n 3 -m 12 -r 1 -l 200000 -fd 0.0001 -ad 0.0001 -cc 0.0 -s -a -o /home/carler/lab/t_cell/phylogeny/data/output/P20407/2023_4_27_mt-scite_2_pos_filter/A1_30/0.0556_B121/0.0556_B121 1> /home/carler/lab/t_cell/phylogeny/data/output/P20407/2023_4_27_mt-scite_2_pos_filter/A1_30/0.0556_B121/0.0556_B121.stdout.txt',\n",
       " '/home/carler/lab/t_cell/phylogeny/mt-SCITE/scite -i  /home/carler/lab/t_cell/phylogeny/data/output/P20407/2023_4_27_mt-scite_2_pos_filter/A1_30_matrix_output_clonal/0.0556_B122.csv -n 2 -m 13 -r 1 -l 200000 -fd 0.0001 -ad 0.0001 -cc 0.0 -s -a -o /home/carler/lab/t_cell/phylogeny/data/output/P20407/2023_4_27_mt-scite_2_pos_filter/A1_30/0.0556_B122/0.0556_B122 1> /home/carler/lab/t_cell/phylogeny/data/output/P20407/2023_4_27_mt-scite_2_pos_filter/A1_30/0.0556_B122/0.0556_B122.stdout.txt',\n",
       " '/home/carler/lab/t_cell/phylogeny/mt-SCITE/scite -i  /home/carler/lab/t_cell/phylogeny/data/output/P20407/2023_4_27_mt-scite_2_pos_filter/A1_30_matrix_output_clonal/0.0556_B14.csv -n 6 -m 13 -r 1 -l 200000 -fd 0.0001 -ad 0.0001 -cc 0.0 -s -a -o /home/carler/lab/t_cell/phylogeny/data/output/P20407/2023_4_27_mt-scite_2_pos_filter/A1_30/0.0556_B14/0.0556_B14 1> /home/carler/lab/t_cell/phylogeny/data/output/P20407/2023_4_27_mt-scite_2_pos_filter/A1_30/0.0556_B14/0.0556_B14.stdout.txt',\n",
       " '/home/carler/lab/t_cell/phylogeny/mt-SCITE/scite -i  /home/carler/lab/t_cell/phylogeny/data/output/P20407/2023_4_27_mt-scite_2_pos_filter/A1_30_matrix_output_clonal/0.0556_B165.csv -n 6 -m 21 -r 1 -l 200000 -fd 0.0001 -ad 0.0001 -cc 0.0 -s -a -o /home/carler/lab/t_cell/phylogeny/data/output/P20407/2023_4_27_mt-scite_2_pos_filter/A1_30/0.0556_B165/0.0556_B165 1> /home/carler/lab/t_cell/phylogeny/data/output/P20407/2023_4_27_mt-scite_2_pos_filter/A1_30/0.0556_B165/0.0556_B165.stdout.txt',\n",
       " '/home/carler/lab/t_cell/phylogeny/mt-SCITE/scite -i  /home/carler/lab/t_cell/phylogeny/data/output/P20407/2023_4_27_mt-scite_2_pos_filter/A1_30_matrix_output_clonal/0.0556_B18.csv -n 8 -m 14 -r 1 -l 200000 -fd 0.0001 -ad 0.0001 -cc 0.0 -s -a -o /home/carler/lab/t_cell/phylogeny/data/output/P20407/2023_4_27_mt-scite_2_pos_filter/A1_30/0.0556_B18/0.0556_B18 1> /home/carler/lab/t_cell/phylogeny/data/output/P20407/2023_4_27_mt-scite_2_pos_filter/A1_30/0.0556_B18/0.0556_B18.stdout.txt',\n",
       " '/home/carler/lab/t_cell/phylogeny/mt-SCITE/scite -i  /home/carler/lab/t_cell/phylogeny/data/output/P20407/2023_4_27_mt-scite_2_pos_filter/A1_30_matrix_output_clonal/0.0556_B185.csv -n 6 -m 16 -r 1 -l 200000 -fd 0.0001 -ad 0.0001 -cc 0.0 -s -a -o /home/carler/lab/t_cell/phylogeny/data/output/P20407/2023_4_27_mt-scite_2_pos_filter/A1_30/0.0556_B185/0.0556_B185 1> /home/carler/lab/t_cell/phylogeny/data/output/P20407/2023_4_27_mt-scite_2_pos_filter/A1_30/0.0556_B185/0.0556_B185.stdout.txt',\n",
       " '/home/carler/lab/t_cell/phylogeny/mt-SCITE/scite -i  /home/carler/lab/t_cell/phylogeny/data/output/P20407/2023_4_27_mt-scite_2_pos_filter/A1_30_matrix_output_clonal/0.0556_B191.csv -n 2 -m 8 -r 1 -l 200000 -fd 0.0001 -ad 0.0001 -cc 0.0 -s -a -o /home/carler/lab/t_cell/phylogeny/data/output/P20407/2023_4_27_mt-scite_2_pos_filter/A1_30/0.0556_B191/0.0556_B191 1> /home/carler/lab/t_cell/phylogeny/data/output/P20407/2023_4_27_mt-scite_2_pos_filter/A1_30/0.0556_B191/0.0556_B191.stdout.txt',\n",
       " '/home/carler/lab/t_cell/phylogeny/mt-SCITE/scite -i  /home/carler/lab/t_cell/phylogeny/data/output/P20407/2023_4_27_mt-scite_2_pos_filter/A1_30_matrix_output_clonal/0.0556_B205.csv -n 9 -m 39 -r 1 -l 200000 -fd 0.0001 -ad 0.0001 -cc 0.0 -s -a -o /home/carler/lab/t_cell/phylogeny/data/output/P20407/2023_4_27_mt-scite_2_pos_filter/A1_30/0.0556_B205/0.0556_B205 1> /home/carler/lab/t_cell/phylogeny/data/output/P20407/2023_4_27_mt-scite_2_pos_filter/A1_30/0.0556_B205/0.0556_B205.stdout.txt',\n",
       " '/home/carler/lab/t_cell/phylogeny/mt-SCITE/scite -i  /home/carler/lab/t_cell/phylogeny/data/output/P20407/2023_4_27_mt-scite_2_pos_filter/A1_30_matrix_output_clonal/0.0556_B211.csv -n 2 -m 17 -r 1 -l 200000 -fd 0.0001 -ad 0.0001 -cc 0.0 -s -a -o /home/carler/lab/t_cell/phylogeny/data/output/P20407/2023_4_27_mt-scite_2_pos_filter/A1_30/0.0556_B211/0.0556_B211 1> /home/carler/lab/t_cell/phylogeny/data/output/P20407/2023_4_27_mt-scite_2_pos_filter/A1_30/0.0556_B211/0.0556_B211.stdout.txt',\n",
       " '/home/carler/lab/t_cell/phylogeny/mt-SCITE/scite -i  /home/carler/lab/t_cell/phylogeny/data/output/P20407/2023_4_27_mt-scite_2_pos_filter/A1_30_matrix_output_clonal/0.0556_B212.csv -n 11 -m 26 -r 1 -l 200000 -fd 0.0001 -ad 0.0001 -cc 0.0 -s -a -o /home/carler/lab/t_cell/phylogeny/data/output/P20407/2023_4_27_mt-scite_2_pos_filter/A1_30/0.0556_B212/0.0556_B212 1> /home/carler/lab/t_cell/phylogeny/data/output/P20407/2023_4_27_mt-scite_2_pos_filter/A1_30/0.0556_B212/0.0556_B212.stdout.txt',\n",
       " '/home/carler/lab/t_cell/phylogeny/mt-SCITE/scite -i  /home/carler/lab/t_cell/phylogeny/data/output/P20407/2023_4_27_mt-scite_2_pos_filter/A1_30_matrix_output_clonal/0.0556_B214.csv -n 2 -m 8 -r 1 -l 200000 -fd 0.0001 -ad 0.0001 -cc 0.0 -s -a -o /home/carler/lab/t_cell/phylogeny/data/output/P20407/2023_4_27_mt-scite_2_pos_filter/A1_30/0.0556_B214/0.0556_B214 1> /home/carler/lab/t_cell/phylogeny/data/output/P20407/2023_4_27_mt-scite_2_pos_filter/A1_30/0.0556_B214/0.0556_B214.stdout.txt',\n",
       " '/home/carler/lab/t_cell/phylogeny/mt-SCITE/scite -i  /home/carler/lab/t_cell/phylogeny/data/output/P20407/2023_4_27_mt-scite_2_pos_filter/A1_30_matrix_output_clonal/0.0556_B225.csv -n 2 -m 9 -r 1 -l 200000 -fd 0.0001 -ad 0.0001 -cc 0.0 -s -a -o /home/carler/lab/t_cell/phylogeny/data/output/P20407/2023_4_27_mt-scite_2_pos_filter/A1_30/0.0556_B225/0.0556_B225 1> /home/carler/lab/t_cell/phylogeny/data/output/P20407/2023_4_27_mt-scite_2_pos_filter/A1_30/0.0556_B225/0.0556_B225.stdout.txt',\n",
       " '/home/carler/lab/t_cell/phylogeny/mt-SCITE/scite -i  /home/carler/lab/t_cell/phylogeny/data/output/P20407/2023_4_27_mt-scite_2_pos_filter/A1_30_matrix_output_clonal/0.0556_B24.csv -n 4 -m 19 -r 1 -l 200000 -fd 0.0001 -ad 0.0001 -cc 0.0 -s -a -o /home/carler/lab/t_cell/phylogeny/data/output/P20407/2023_4_27_mt-scite_2_pos_filter/A1_30/0.0556_B24/0.0556_B24 1> /home/carler/lab/t_cell/phylogeny/data/output/P20407/2023_4_27_mt-scite_2_pos_filter/A1_30/0.0556_B24/0.0556_B24.stdout.txt',\n",
       " '/home/carler/lab/t_cell/phylogeny/mt-SCITE/scite -i  /home/carler/lab/t_cell/phylogeny/data/output/P20407/2023_4_27_mt-scite_2_pos_filter/A1_30_matrix_output_clonal/0.0556_B243.csv -n 7 -m 16 -r 1 -l 200000 -fd 0.0001 -ad 0.0001 -cc 0.0 -s -a -o /home/carler/lab/t_cell/phylogeny/data/output/P20407/2023_4_27_mt-scite_2_pos_filter/A1_30/0.0556_B243/0.0556_B243 1> /home/carler/lab/t_cell/phylogeny/data/output/P20407/2023_4_27_mt-scite_2_pos_filter/A1_30/0.0556_B243/0.0556_B243.stdout.txt',\n",
       " '/home/carler/lab/t_cell/phylogeny/mt-SCITE/scite -i  /home/carler/lab/t_cell/phylogeny/data/output/P20407/2023_4_27_mt-scite_2_pos_filter/A1_30_matrix_output_clonal/0.0556_B257.csv -n 2 -m 9 -r 1 -l 200000 -fd 0.0001 -ad 0.0001 -cc 0.0 -s -a -o /home/carler/lab/t_cell/phylogeny/data/output/P20407/2023_4_27_mt-scite_2_pos_filter/A1_30/0.0556_B257/0.0556_B257 1> /home/carler/lab/t_cell/phylogeny/data/output/P20407/2023_4_27_mt-scite_2_pos_filter/A1_30/0.0556_B257/0.0556_B257.stdout.txt',\n",
       " '/home/carler/lab/t_cell/phylogeny/mt-SCITE/scite -i  /home/carler/lab/t_cell/phylogeny/data/output/P20407/2023_4_27_mt-scite_2_pos_filter/A1_30_matrix_output_clonal/0.0556_B293.csv -n 2 -m 14 -r 1 -l 200000 -fd 0.0001 -ad 0.0001 -cc 0.0 -s -a -o /home/carler/lab/t_cell/phylogeny/data/output/P20407/2023_4_27_mt-scite_2_pos_filter/A1_30/0.0556_B293/0.0556_B293 1> /home/carler/lab/t_cell/phylogeny/data/output/P20407/2023_4_27_mt-scite_2_pos_filter/A1_30/0.0556_B293/0.0556_B293.stdout.txt',\n",
       " '/home/carler/lab/t_cell/phylogeny/mt-SCITE/scite -i  /home/carler/lab/t_cell/phylogeny/data/output/P20407/2023_4_27_mt-scite_2_pos_filter/A1_30_matrix_output_clonal/0.0556_B305.csv -n 2 -m 8 -r 1 -l 200000 -fd 0.0001 -ad 0.0001 -cc 0.0 -s -a -o /home/carler/lab/t_cell/phylogeny/data/output/P20407/2023_4_27_mt-scite_2_pos_filter/A1_30/0.0556_B305/0.0556_B305 1> /home/carler/lab/t_cell/phylogeny/data/output/P20407/2023_4_27_mt-scite_2_pos_filter/A1_30/0.0556_B305/0.0556_B305.stdout.txt',\n",
       " '/home/carler/lab/t_cell/phylogeny/mt-SCITE/scite -i  /home/carler/lab/t_cell/phylogeny/data/output/P20407/2023_4_27_mt-scite_2_pos_filter/A1_30_matrix_output_clonal/0.0556_B324.csv -n 2 -m 7 -r 1 -l 200000 -fd 0.0001 -ad 0.0001 -cc 0.0 -s -a -o /home/carler/lab/t_cell/phylogeny/data/output/P20407/2023_4_27_mt-scite_2_pos_filter/A1_30/0.0556_B324/0.0556_B324 1> /home/carler/lab/t_cell/phylogeny/data/output/P20407/2023_4_27_mt-scite_2_pos_filter/A1_30/0.0556_B324/0.0556_B324.stdout.txt',\n",
       " '/home/carler/lab/t_cell/phylogeny/mt-SCITE/scite -i  /home/carler/lab/t_cell/phylogeny/data/output/P20407/2023_4_27_mt-scite_2_pos_filter/A1_30_matrix_output_clonal/0.0556_B325.csv -n 7 -m 12 -r 1 -l 200000 -fd 0.0001 -ad 0.0001 -cc 0.0 -s -a -o /home/carler/lab/t_cell/phylogeny/data/output/P20407/2023_4_27_mt-scite_2_pos_filter/A1_30/0.0556_B325/0.0556_B325 1> /home/carler/lab/t_cell/phylogeny/data/output/P20407/2023_4_27_mt-scite_2_pos_filter/A1_30/0.0556_B325/0.0556_B325.stdout.txt',\n",
       " '/home/carler/lab/t_cell/phylogeny/mt-SCITE/scite -i  /home/carler/lab/t_cell/phylogeny/data/output/P20407/2023_4_27_mt-scite_2_pos_filter/A1_30_matrix_output_clonal/0.0556_B33.csv -n 2 -m 8 -r 1 -l 200000 -fd 0.0001 -ad 0.0001 -cc 0.0 -s -a -o /home/carler/lab/t_cell/phylogeny/data/output/P20407/2023_4_27_mt-scite_2_pos_filter/A1_30/0.0556_B33/0.0556_B33 1> /home/carler/lab/t_cell/phylogeny/data/output/P20407/2023_4_27_mt-scite_2_pos_filter/A1_30/0.0556_B33/0.0556_B33.stdout.txt',\n",
       " '/home/carler/lab/t_cell/phylogeny/mt-SCITE/scite -i  /home/carler/lab/t_cell/phylogeny/data/output/P20407/2023_4_27_mt-scite_2_pos_filter/A1_30_matrix_output_clonal/0.0556_B39.csv -n 17 -m 48 -r 1 -l 200000 -fd 0.0001 -ad 0.0001 -cc 0.0 -s -a -o /home/carler/lab/t_cell/phylogeny/data/output/P20407/2023_4_27_mt-scite_2_pos_filter/A1_30/0.0556_B39/0.0556_B39 1> /home/carler/lab/t_cell/phylogeny/data/output/P20407/2023_4_27_mt-scite_2_pos_filter/A1_30/0.0556_B39/0.0556_B39.stdout.txt',\n",
       " '/home/carler/lab/t_cell/phylogeny/mt-SCITE/scite -i  /home/carler/lab/t_cell/phylogeny/data/output/P20407/2023_4_27_mt-scite_2_pos_filter/A1_30_matrix_output_clonal/0.0556_B44.csv -n 10 -m 18 -r 1 -l 200000 -fd 0.0001 -ad 0.0001 -cc 0.0 -s -a -o /home/carler/lab/t_cell/phylogeny/data/output/P20407/2023_4_27_mt-scite_2_pos_filter/A1_30/0.0556_B44/0.0556_B44 1> /home/carler/lab/t_cell/phylogeny/data/output/P20407/2023_4_27_mt-scite_2_pos_filter/A1_30/0.0556_B44/0.0556_B44.stdout.txt',\n",
       " '/home/carler/lab/t_cell/phylogeny/mt-SCITE/scite -i  /home/carler/lab/t_cell/phylogeny/data/output/P20407/2023_4_27_mt-scite_2_pos_filter/A1_30_matrix_output_clonal/0.0556_B488.csv -n 2 -m 16 -r 1 -l 200000 -fd 0.0001 -ad 0.0001 -cc 0.0 -s -a -o /home/carler/lab/t_cell/phylogeny/data/output/P20407/2023_4_27_mt-scite_2_pos_filter/A1_30/0.0556_B488/0.0556_B488 1> /home/carler/lab/t_cell/phylogeny/data/output/P20407/2023_4_27_mt-scite_2_pos_filter/A1_30/0.0556_B488/0.0556_B488.stdout.txt',\n",
       " '/home/carler/lab/t_cell/phylogeny/mt-SCITE/scite -i  /home/carler/lab/t_cell/phylogeny/data/output/P20407/2023_4_27_mt-scite_2_pos_filter/A1_30_matrix_output_clonal/0.0556_B51.csv -n 2 -m 9 -r 1 -l 200000 -fd 0.0001 -ad 0.0001 -cc 0.0 -s -a -o /home/carler/lab/t_cell/phylogeny/data/output/P20407/2023_4_27_mt-scite_2_pos_filter/A1_30/0.0556_B51/0.0556_B51 1> /home/carler/lab/t_cell/phylogeny/data/output/P20407/2023_4_27_mt-scite_2_pos_filter/A1_30/0.0556_B51/0.0556_B51.stdout.txt',\n",
       " '/home/carler/lab/t_cell/phylogeny/mt-SCITE/scite -i  /home/carler/lab/t_cell/phylogeny/data/output/P20407/2023_4_27_mt-scite_2_pos_filter/A1_30_matrix_output_clonal/0.0556_B57.csv -n 2 -m 16 -r 1 -l 200000 -fd 0.0001 -ad 0.0001 -cc 0.0 -s -a -o /home/carler/lab/t_cell/phylogeny/data/output/P20407/2023_4_27_mt-scite_2_pos_filter/A1_30/0.0556_B57/0.0556_B57 1> /home/carler/lab/t_cell/phylogeny/data/output/P20407/2023_4_27_mt-scite_2_pos_filter/A1_30/0.0556_B57/0.0556_B57.stdout.txt',\n",
       " '/home/carler/lab/t_cell/phylogeny/mt-SCITE/scite -i  /home/carler/lab/t_cell/phylogeny/data/output/P20407/2023_4_27_mt-scite_2_pos_filter/A1_30_matrix_output_clonal/0.0556_B60.csv -n 2 -m 11 -r 1 -l 200000 -fd 0.0001 -ad 0.0001 -cc 0.0 -s -a -o /home/carler/lab/t_cell/phylogeny/data/output/P20407/2023_4_27_mt-scite_2_pos_filter/A1_30/0.0556_B60/0.0556_B60 1> /home/carler/lab/t_cell/phylogeny/data/output/P20407/2023_4_27_mt-scite_2_pos_filter/A1_30/0.0556_B60/0.0556_B60.stdout.txt',\n",
       " '/home/carler/lab/t_cell/phylogeny/mt-SCITE/scite -i  /home/carler/lab/t_cell/phylogeny/data/output/P20407/2023_4_27_mt-scite_2_pos_filter/A1_30_matrix_output_clonal/0.0556_B63.csv -n 4 -m 29 -r 1 -l 200000 -fd 0.0001 -ad 0.0001 -cc 0.0 -s -a -o /home/carler/lab/t_cell/phylogeny/data/output/P20407/2023_4_27_mt-scite_2_pos_filter/A1_30/0.0556_B63/0.0556_B63 1> /home/carler/lab/t_cell/phylogeny/data/output/P20407/2023_4_27_mt-scite_2_pos_filter/A1_30/0.0556_B63/0.0556_B63.stdout.txt',\n",
       " '/home/carler/lab/t_cell/phylogeny/mt-SCITE/scite -i  /home/carler/lab/t_cell/phylogeny/data/output/P20407/2023_4_27_mt-scite_2_pos_filter/A1_30_matrix_output_clonal/0.0556_B66.csv -n 6 -m 36 -r 1 -l 200000 -fd 0.0001 -ad 0.0001 -cc 0.0 -s -a -o /home/carler/lab/t_cell/phylogeny/data/output/P20407/2023_4_27_mt-scite_2_pos_filter/A1_30/0.0556_B66/0.0556_B66 1> /home/carler/lab/t_cell/phylogeny/data/output/P20407/2023_4_27_mt-scite_2_pos_filter/A1_30/0.0556_B66/0.0556_B66.stdout.txt',\n",
       " '/home/carler/lab/t_cell/phylogeny/mt-SCITE/scite -i  /home/carler/lab/t_cell/phylogeny/data/output/P20407/2023_4_27_mt-scite_2_pos_filter/A1_30_matrix_output_clonal/0.0556_B664.csv -n 2 -m 10 -r 1 -l 200000 -fd 0.0001 -ad 0.0001 -cc 0.0 -s -a -o /home/carler/lab/t_cell/phylogeny/data/output/P20407/2023_4_27_mt-scite_2_pos_filter/A1_30/0.0556_B664/0.0556_B664 1> /home/carler/lab/t_cell/phylogeny/data/output/P20407/2023_4_27_mt-scite_2_pos_filter/A1_30/0.0556_B664/0.0556_B664.stdout.txt',\n",
       " '/home/carler/lab/t_cell/phylogeny/mt-SCITE/scite -i  /home/carler/lab/t_cell/phylogeny/data/output/P20407/2023_4_27_mt-scite_2_pos_filter/A1_30_matrix_output_clonal/0.0556_B67.csv -n 4 -m 8 -r 1 -l 200000 -fd 0.0001 -ad 0.0001 -cc 0.0 -s -a -o /home/carler/lab/t_cell/phylogeny/data/output/P20407/2023_4_27_mt-scite_2_pos_filter/A1_30/0.0556_B67/0.0556_B67 1> /home/carler/lab/t_cell/phylogeny/data/output/P20407/2023_4_27_mt-scite_2_pos_filter/A1_30/0.0556_B67/0.0556_B67.stdout.txt',\n",
       " '/home/carler/lab/t_cell/phylogeny/mt-SCITE/scite -i  /home/carler/lab/t_cell/phylogeny/data/output/P20407/2023_4_27_mt-scite_2_pos_filter/A1_30_matrix_output_clonal/0.0556_B69.csv -n 11 -m 15 -r 1 -l 200000 -fd 0.0001 -ad 0.0001 -cc 0.0 -s -a -o /home/carler/lab/t_cell/phylogeny/data/output/P20407/2023_4_27_mt-scite_2_pos_filter/A1_30/0.0556_B69/0.0556_B69 1> /home/carler/lab/t_cell/phylogeny/data/output/P20407/2023_4_27_mt-scite_2_pos_filter/A1_30/0.0556_B69/0.0556_B69.stdout.txt',\n",
       " '/home/carler/lab/t_cell/phylogeny/mt-SCITE/scite -i  /home/carler/lab/t_cell/phylogeny/data/output/P20407/2023_4_27_mt-scite_2_pos_filter/A1_30_matrix_output_clonal/0.0556_B7.csv -n 12 -m 23 -r 1 -l 200000 -fd 0.0001 -ad 0.0001 -cc 0.0 -s -a -o /home/carler/lab/t_cell/phylogeny/data/output/P20407/2023_4_27_mt-scite_2_pos_filter/A1_30/0.0556_B7/0.0556_B7 1> /home/carler/lab/t_cell/phylogeny/data/output/P20407/2023_4_27_mt-scite_2_pos_filter/A1_30/0.0556_B7/0.0556_B7.stdout.txt',\n",
       " '/home/carler/lab/t_cell/phylogeny/mt-SCITE/scite -i  /home/carler/lab/t_cell/phylogeny/data/output/P20407/2023_4_27_mt-scite_2_pos_filter/A1_30_matrix_output_clonal/0.0556_B71.csv -n 7 -m 38 -r 1 -l 200000 -fd 0.0001 -ad 0.0001 -cc 0.0 -s -a -o /home/carler/lab/t_cell/phylogeny/data/output/P20407/2023_4_27_mt-scite_2_pos_filter/A1_30/0.0556_B71/0.0556_B71 1> /home/carler/lab/t_cell/phylogeny/data/output/P20407/2023_4_27_mt-scite_2_pos_filter/A1_30/0.0556_B71/0.0556_B71.stdout.txt',\n",
       " '/home/carler/lab/t_cell/phylogeny/mt-SCITE/scite -i  /home/carler/lab/t_cell/phylogeny/data/output/P20407/2023_4_27_mt-scite_2_pos_filter/A1_30_matrix_output_clonal/0.0556_B72.csv -n 2 -m 12 -r 1 -l 200000 -fd 0.0001 -ad 0.0001 -cc 0.0 -s -a -o /home/carler/lab/t_cell/phylogeny/data/output/P20407/2023_4_27_mt-scite_2_pos_filter/A1_30/0.0556_B72/0.0556_B72 1> /home/carler/lab/t_cell/phylogeny/data/output/P20407/2023_4_27_mt-scite_2_pos_filter/A1_30/0.0556_B72/0.0556_B72.stdout.txt',\n",
       " '/home/carler/lab/t_cell/phylogeny/mt-SCITE/scite -i  /home/carler/lab/t_cell/phylogeny/data/output/P20407/2023_4_27_mt-scite_2_pos_filter/A1_30_matrix_output_clonal/0.0556_B73.csv -n 5 -m 16 -r 1 -l 200000 -fd 0.0001 -ad 0.0001 -cc 0.0 -s -a -o /home/carler/lab/t_cell/phylogeny/data/output/P20407/2023_4_27_mt-scite_2_pos_filter/A1_30/0.0556_B73/0.0556_B73 1> /home/carler/lab/t_cell/phylogeny/data/output/P20407/2023_4_27_mt-scite_2_pos_filter/A1_30/0.0556_B73/0.0556_B73.stdout.txt',\n",
       " '/home/carler/lab/t_cell/phylogeny/mt-SCITE/scite -i  /home/carler/lab/t_cell/phylogeny/data/output/P20407/2023_4_27_mt-scite_2_pos_filter/A1_30_matrix_output_clonal/0.0556_B8.csv -n 10 -m 35 -r 1 -l 200000 -fd 0.0001 -ad 0.0001 -cc 0.0 -s -a -o /home/carler/lab/t_cell/phylogeny/data/output/P20407/2023_4_27_mt-scite_2_pos_filter/A1_30/0.0556_B8/0.0556_B8 1> /home/carler/lab/t_cell/phylogeny/data/output/P20407/2023_4_27_mt-scite_2_pos_filter/A1_30/0.0556_B8/0.0556_B8.stdout.txt',\n",
       " '/home/carler/lab/t_cell/phylogeny/mt-SCITE/scite -i  /home/carler/lab/t_cell/phylogeny/data/output/P20407/2023_4_27_mt-scite_2_pos_filter/A1_30_matrix_output_clonal/0.0556_B81.csv -n 9 -m 17 -r 1 -l 200000 -fd 0.0001 -ad 0.0001 -cc 0.0 -s -a -o /home/carler/lab/t_cell/phylogeny/data/output/P20407/2023_4_27_mt-scite_2_pos_filter/A1_30/0.0556_B81/0.0556_B81 1> /home/carler/lab/t_cell/phylogeny/data/output/P20407/2023_4_27_mt-scite_2_pos_filter/A1_30/0.0556_B81/0.0556_B81.stdout.txt',\n",
       " '/home/carler/lab/t_cell/phylogeny/mt-SCITE/scite -i  /home/carler/lab/t_cell/phylogeny/data/output/P20407/2023_4_27_mt-scite_2_pos_filter/A1_30_matrix_output_clonal/0.0556_B83.csv -n 6 -m 18 -r 1 -l 200000 -fd 0.0001 -ad 0.0001 -cc 0.0 -s -a -o /home/carler/lab/t_cell/phylogeny/data/output/P20407/2023_4_27_mt-scite_2_pos_filter/A1_30/0.0556_B83/0.0556_B83 1> /home/carler/lab/t_cell/phylogeny/data/output/P20407/2023_4_27_mt-scite_2_pos_filter/A1_30/0.0556_B83/0.0556_B83.stdout.txt',\n",
       " '/home/carler/lab/t_cell/phylogeny/mt-SCITE/scite -i  /home/carler/lab/t_cell/phylogeny/data/output/P20407/2023_4_27_mt-scite_2_pos_filter/A1_30_matrix_output_clonal/0.0556_B85.csv -n 3 -m 20 -r 1 -l 200000 -fd 0.0001 -ad 0.0001 -cc 0.0 -s -a -o /home/carler/lab/t_cell/phylogeny/data/output/P20407/2023_4_27_mt-scite_2_pos_filter/A1_30/0.0556_B85/0.0556_B85 1> /home/carler/lab/t_cell/phylogeny/data/output/P20407/2023_4_27_mt-scite_2_pos_filter/A1_30/0.0556_B85/0.0556_B85.stdout.txt',\n",
       " '/home/carler/lab/t_cell/phylogeny/mt-SCITE/scite -i  /home/carler/lab/t_cell/phylogeny/data/output/P20407/2023_4_27_mt-scite_2_pos_filter/A1_30_matrix_output_clonal/0.0556_B858.csv -n 2 -m 12 -r 1 -l 200000 -fd 0.0001 -ad 0.0001 -cc 0.0 -s -a -o /home/carler/lab/t_cell/phylogeny/data/output/P20407/2023_4_27_mt-scite_2_pos_filter/A1_30/0.0556_B858/0.0556_B858 1> /home/carler/lab/t_cell/phylogeny/data/output/P20407/2023_4_27_mt-scite_2_pos_filter/A1_30/0.0556_B858/0.0556_B858.stdout.txt',\n",
       " '/home/carler/lab/t_cell/phylogeny/mt-SCITE/scite -i  /home/carler/lab/t_cell/phylogeny/data/output/P20407/2023_4_27_mt-scite_2_pos_filter/A1_30_matrix_output_clonal/0.0556_B94.csv -n 4 -m 11 -r 1 -l 200000 -fd 0.0001 -ad 0.0001 -cc 0.0 -s -a -o /home/carler/lab/t_cell/phylogeny/data/output/P20407/2023_4_27_mt-scite_2_pos_filter/A1_30/0.0556_B94/0.0556_B94 1> /home/carler/lab/t_cell/phylogeny/data/output/P20407/2023_4_27_mt-scite_2_pos_filter/A1_30/0.0556_B94/0.0556_B94.stdout.txt']"
      ]
     },
     "execution_count": 20,
     "metadata": {},
     "output_type": "execute_result"
    }
   ],
   "source": [
    "scite_command_total"
   ]
  },
  {
   "attachments": {},
   "cell_type": "markdown",
   "metadata": {},
   "source": [
    "# Run mtSCITE through command line "
   ]
  },
  {
   "cell_type": "code",
   "execution_count": 21,
   "metadata": {},
   "outputs": [],
   "source": [
    "#for scite_command in scite_command_total:\n",
    "#    !{scite_command}"
   ]
  },
  {
   "cell_type": "code",
   "execution_count": 22,
   "metadata": {},
   "outputs": [],
   "source": [
    "import subprocess\n",
    "\n",
    "for i in range(0, len(scite_command_total), 40):\n",
    "    # start 40 processes at a time\n",
    "    processes = []\n",
    "    for cmd in scite_command_total[i:i+40]:\n",
    "        processes.append(subprocess.Popen(cmd, shell=True))\n",
    "    # wait for all processes to finish\n",
    "    for process in processes:\n",
    "        process.communicate()"
   ]
  },
  {
   "cell_type": "code",
   "execution_count": 17,
   "metadata": {},
   "outputs": [
    {
     "name": "stdout",
     "output_type": "stream",
     "text": [
      "/home/carler/lab/t_cell/phylogeny/mt-SCITE/scite -i  /home/carler/lab/t_cell/phylogeny/data/output/P20407/2023_4_25_mt-scite/A1_06_matrix_output_clonal/0.0556_A0.csv -n 2 -m 15 -r 1 -l 2000000 -fd 0.0001 -ad 0.0001 -cc 0.0 -s -a -o /home/carler/lab/t_cell/phylogeny/data/output/P20407/2023_4_25_mt-scite/A1_06/0.0556_A0/0.0556_A0 1> /home/carler/lab/t_cell/phylogeny/data/output/P20407/2023_4_25_mt-scite/A1_06/0.0556_A0/0.0556_A0.stdout.txt\n",
      "/home/carler/lab/t_cell/phylogeny/mt-SCITE/scite -i  /home/carler/lab/t_cell/phylogeny/data/output/P20407/2023_4_25_mt-scite/A1_06_matrix_output_clonal/0.0556_A1.csv -n 2 -m 24 -r 1 -l 2000000 -fd 0.0001 -ad 0.0001 -cc 0.0 -s -a -o /home/carler/lab/t_cell/phylogeny/data/output/P20407/2023_4_25_mt-scite/A1_06/0.0556_A1/0.0556_A1 1> /home/carler/lab/t_cell/phylogeny/data/output/P20407/2023_4_25_mt-scite/A1_06/0.0556_A1/0.0556_A1.stdout.txt\n",
      "/home/carler/lab/t_cell/phylogeny/mt-SCITE/scite -i  /home/carler/lab/t_cell/phylogeny/data/output/P20407/2023_4_25_mt-scite/A1_06_matrix_output_clonal/0.0556_A106.csv -n 2 -m 13 -r 1 -l 2000000 -fd 0.0001 -ad 0.0001 -cc 0.0 -s -a -o /home/carler/lab/t_cell/phylogeny/data/output/P20407/2023_4_25_mt-scite/A1_06/0.0556_A106/0.0556_A106 1> /home/carler/lab/t_cell/phylogeny/data/output/P20407/2023_4_25_mt-scite/A1_06/0.0556_A106/0.0556_A106.stdout.txt\n",
      "/home/carler/lab/t_cell/phylogeny/mt-SCITE/scite -i  /home/carler/lab/t_cell/phylogeny/data/output/P20407/2023_4_25_mt-scite/A1_06_matrix_output_clonal/0.0556_A107.csv -n 2 -m 13 -r 1 -l 2000000 -fd 0.0001 -ad 0.0001 -cc 0.0 -s -a -o /home/carler/lab/t_cell/phylogeny/data/output/P20407/2023_4_25_mt-scite/A1_06/0.0556_A107/0.0556_A107 1> /home/carler/lab/t_cell/phylogeny/data/output/P20407/2023_4_25_mt-scite/A1_06/0.0556_A107/0.0556_A107.stdout.txt\n",
      "/home/carler/lab/t_cell/phylogeny/mt-SCITE/scite -i  /home/carler/lab/t_cell/phylogeny/data/output/P20407/2023_4_25_mt-scite/A1_06_matrix_output_clonal/0.0556_A113.csv -n 2 -m 15 -r 1 -l 2000000 -fd 0.0001 -ad 0.0001 -cc 0.0 -s -a -o /home/carler/lab/t_cell/phylogeny/data/output/P20407/2023_4_25_mt-scite/A1_06/0.0556_A113/0.0556_A113 1> /home/carler/lab/t_cell/phylogeny/data/output/P20407/2023_4_25_mt-scite/A1_06/0.0556_A113/0.0556_A113.stdout.txt\n",
      "/home/carler/lab/t_cell/phylogeny/mt-SCITE/scite -i  /home/carler/lab/t_cell/phylogeny/data/output/P20407/2023_4_25_mt-scite/A1_06_matrix_output_clonal/0.0556_A137.csv -n 2 -m 24 -r 1 -l 2000000 -fd 0.0001 -ad 0.0001 -cc 0.0 -s -a -o /home/carler/lab/t_cell/phylogeny/data/output/P20407/2023_4_25_mt-scite/A1_06/0.0556_A137/0.0556_A137 1> /home/carler/lab/t_cell/phylogeny/data/output/P20407/2023_4_25_mt-scite/A1_06/0.0556_A137/0.0556_A137.stdout.txt\n",
      "/home/carler/lab/t_cell/phylogeny/mt-SCITE/scite -i  /home/carler/lab/t_cell/phylogeny/data/output/P20407/2023_4_25_mt-scite/A1_06_matrix_output_clonal/0.0556_A142.csv -n 4 -m 29 -r 1 -l 2000000 -fd 0.0001 -ad 0.0001 -cc 0.0 -s -a -o /home/carler/lab/t_cell/phylogeny/data/output/P20407/2023_4_25_mt-scite/A1_06/0.0556_A142/0.0556_A142 1> /home/carler/lab/t_cell/phylogeny/data/output/P20407/2023_4_25_mt-scite/A1_06/0.0556_A142/0.0556_A142.stdout.txt\n",
      "/home/carler/lab/t_cell/phylogeny/mt-SCITE/scite -i  /home/carler/lab/t_cell/phylogeny/data/output/P20407/2023_4_25_mt-scite/A1_06_matrix_output_clonal/0.0556_A154.csv -n 5 -m 72 -r 1 -l 2000000 -fd 0.0001 -ad 0.0001 -cc 0.0 -s -a -o /home/carler/lab/t_cell/phylogeny/data/output/P20407/2023_4_25_mt-scite/A1_06/0.0556_A154/0.0556_A154 1> /home/carler/lab/t_cell/phylogeny/data/output/P20407/2023_4_25_mt-scite/A1_06/0.0556_A154/0.0556_A154.stdout.txt\n",
      "/home/carler/lab/t_cell/phylogeny/mt-SCITE/scite -i  /home/carler/lab/t_cell/phylogeny/data/output/P20407/2023_4_25_mt-scite/A1_06_matrix_output_clonal/0.0556_A155.csv -n 2 -m 31 -r 1 -l 2000000 -fd 0.0001 -ad 0.0001 -cc 0.0 -s -a -o /home/carler/lab/t_cell/phylogeny/data/output/P20407/2023_4_25_mt-scite/A1_06/0.0556_A155/0.0556_A155 1> /home/carler/lab/t_cell/phylogeny/data/output/P20407/2023_4_25_mt-scite/A1_06/0.0556_A155/0.0556_A155.stdout.txt\n",
      "/home/carler/lab/t_cell/phylogeny/mt-SCITE/scite -i  /home/carler/lab/t_cell/phylogeny/data/output/P20407/2023_4_25_mt-scite/A1_06_matrix_output_clonal/0.0556_A159.csv -n 4 -m 19 -r 1 -l 2000000 -fd 0.0001 -ad 0.0001 -cc 0.0 -s -a -o /home/carler/lab/t_cell/phylogeny/data/output/P20407/2023_4_25_mt-scite/A1_06/0.0556_A159/0.0556_A159 1> /home/carler/lab/t_cell/phylogeny/data/output/P20407/2023_4_25_mt-scite/A1_06/0.0556_A159/0.0556_A159.stdout.txt\n",
      "/home/carler/lab/t_cell/phylogeny/mt-SCITE/scite -i  /home/carler/lab/t_cell/phylogeny/data/output/P20407/2023_4_25_mt-scite/A1_06_matrix_output_clonal/0.0556_A161.csv -n 2 -m 11 -r 1 -l 2000000 -fd 0.0001 -ad 0.0001 -cc 0.0 -s -a -o /home/carler/lab/t_cell/phylogeny/data/output/P20407/2023_4_25_mt-scite/A1_06/0.0556_A161/0.0556_A161 1> /home/carler/lab/t_cell/phylogeny/data/output/P20407/2023_4_25_mt-scite/A1_06/0.0556_A161/0.0556_A161.stdout.txt\n",
      "/home/carler/lab/t_cell/phylogeny/mt-SCITE/scite -i  /home/carler/lab/t_cell/phylogeny/data/output/P20407/2023_4_25_mt-scite/A1_06_matrix_output_clonal/0.0556_A171.csv -n 2 -m 20 -r 1 -l 2000000 -fd 0.0001 -ad 0.0001 -cc 0.0 -s -a -o /home/carler/lab/t_cell/phylogeny/data/output/P20407/2023_4_25_mt-scite/A1_06/0.0556_A171/0.0556_A171 1> /home/carler/lab/t_cell/phylogeny/data/output/P20407/2023_4_25_mt-scite/A1_06/0.0556_A171/0.0556_A171.stdout.txt\n",
      "/home/carler/lab/t_cell/phylogeny/mt-SCITE/scite -i  /home/carler/lab/t_cell/phylogeny/data/output/P20407/2023_4_25_mt-scite/A1_06_matrix_output_clonal/0.0556_A177.csv -n 3 -m 44 -r 1 -l 2000000 -fd 0.0001 -ad 0.0001 -cc 0.0 -s -a -o /home/carler/lab/t_cell/phylogeny/data/output/P20407/2023_4_25_mt-scite/A1_06/0.0556_A177/0.0556_A177 1> /home/carler/lab/t_cell/phylogeny/data/output/P20407/2023_4_25_mt-scite/A1_06/0.0556_A177/0.0556_A177.stdout.txt\n",
      "/home/carler/lab/t_cell/phylogeny/mt-SCITE/scite -i  /home/carler/lab/t_cell/phylogeny/data/output/P20407/2023_4_25_mt-scite/A1_06_matrix_output_clonal/0.0556_A181.csv -n 2 -m 10 -r 1 -l 2000000 -fd 0.0001 -ad 0.0001 -cc 0.0 -s -a -o /home/carler/lab/t_cell/phylogeny/data/output/P20407/2023_4_25_mt-scite/A1_06/0.0556_A181/0.0556_A181 1> /home/carler/lab/t_cell/phylogeny/data/output/P20407/2023_4_25_mt-scite/A1_06/0.0556_A181/0.0556_A181.stdout.txt\n",
      "/home/carler/lab/t_cell/phylogeny/mt-SCITE/scite -i  /home/carler/lab/t_cell/phylogeny/data/output/P20407/2023_4_25_mt-scite/A1_06_matrix_output_clonal/0.0556_A187.csv -n 2 -m 15 -r 1 -l 2000000 -fd 0.0001 -ad 0.0001 -cc 0.0 -s -a -o /home/carler/lab/t_cell/phylogeny/data/output/P20407/2023_4_25_mt-scite/A1_06/0.0556_A187/0.0556_A187 1> /home/carler/lab/t_cell/phylogeny/data/output/P20407/2023_4_25_mt-scite/A1_06/0.0556_A187/0.0556_A187.stdout.txt\n",
      "/home/carler/lab/t_cell/phylogeny/mt-SCITE/scite -i  /home/carler/lab/t_cell/phylogeny/data/output/P20407/2023_4_25_mt-scite/A1_06_matrix_output_clonal/0.0556_A204.csv -n 2 -m 10 -r 1 -l 2000000 -fd 0.0001 -ad 0.0001 -cc 0.0 -s -a -o /home/carler/lab/t_cell/phylogeny/data/output/P20407/2023_4_25_mt-scite/A1_06/0.0556_A204/0.0556_A204 1> /home/carler/lab/t_cell/phylogeny/data/output/P20407/2023_4_25_mt-scite/A1_06/0.0556_A204/0.0556_A204.stdout.txt\n",
      "/home/carler/lab/t_cell/phylogeny/mt-SCITE/scite -i  /home/carler/lab/t_cell/phylogeny/data/output/P20407/2023_4_25_mt-scite/A1_06_matrix_output_clonal/0.0556_A247.csv -n 2 -m 9 -r 1 -l 2000000 -fd 0.0001 -ad 0.0001 -cc 0.0 -s -a -o /home/carler/lab/t_cell/phylogeny/data/output/P20407/2023_4_25_mt-scite/A1_06/0.0556_A247/0.0556_A247 1> /home/carler/lab/t_cell/phylogeny/data/output/P20407/2023_4_25_mt-scite/A1_06/0.0556_A247/0.0556_A247.stdout.txt\n",
      "/home/carler/lab/t_cell/phylogeny/mt-SCITE/scite -i  /home/carler/lab/t_cell/phylogeny/data/output/P20407/2023_4_25_mt-scite/A1_06_matrix_output_clonal/0.0556_A28.csv -n 6 -m 45 -r 1 -l 2000000 -fd 0.0001 -ad 0.0001 -cc 0.0 -s -a -o /home/carler/lab/t_cell/phylogeny/data/output/P20407/2023_4_25_mt-scite/A1_06/0.0556_A28/0.0556_A28 1> /home/carler/lab/t_cell/phylogeny/data/output/P20407/2023_4_25_mt-scite/A1_06/0.0556_A28/0.0556_A28.stdout.txt\n",
      "/home/carler/lab/t_cell/phylogeny/mt-SCITE/scite -i  /home/carler/lab/t_cell/phylogeny/data/output/P20407/2023_4_25_mt-scite/A1_06_matrix_output_clonal/0.0556_A3.csv -n 2 -m 51 -r 1 -l 2000000 -fd 0.0001 -ad 0.0001 -cc 0.0 -s -a -o /home/carler/lab/t_cell/phylogeny/data/output/P20407/2023_4_25_mt-scite/A1_06/0.0556_A3/0.0556_A3 1> /home/carler/lab/t_cell/phylogeny/data/output/P20407/2023_4_25_mt-scite/A1_06/0.0556_A3/0.0556_A3.stdout.txt\n",
      "/home/carler/lab/t_cell/phylogeny/mt-SCITE/scite -i  /home/carler/lab/t_cell/phylogeny/data/output/P20407/2023_4_25_mt-scite/A1_06_matrix_output_clonal/0.0556_A31.csv -n 2 -m 15 -r 1 -l 2000000 -fd 0.0001 -ad 0.0001 -cc 0.0 -s -a -o /home/carler/lab/t_cell/phylogeny/data/output/P20407/2023_4_25_mt-scite/A1_06/0.0556_A31/0.0556_A31 1> /home/carler/lab/t_cell/phylogeny/data/output/P20407/2023_4_25_mt-scite/A1_06/0.0556_A31/0.0556_A31.stdout.txt\n",
      "/home/carler/lab/t_cell/phylogeny/mt-SCITE/scite -i  /home/carler/lab/t_cell/phylogeny/data/output/P20407/2023_4_25_mt-scite/A1_06_matrix_output_clonal/0.0556_A327.csv -n 2 -m 14 -r 1 -l 2000000 -fd 0.0001 -ad 0.0001 -cc 0.0 -s -a -o /home/carler/lab/t_cell/phylogeny/data/output/P20407/2023_4_25_mt-scite/A1_06/0.0556_A327/0.0556_A327 1> /home/carler/lab/t_cell/phylogeny/data/output/P20407/2023_4_25_mt-scite/A1_06/0.0556_A327/0.0556_A327.stdout.txt\n",
      "/home/carler/lab/t_cell/phylogeny/mt-SCITE/scite -i  /home/carler/lab/t_cell/phylogeny/data/output/P20407/2023_4_25_mt-scite/A1_06_matrix_output_clonal/0.0556_A330.csv -n 5 -m 14 -r 1 -l 2000000 -fd 0.0001 -ad 0.0001 -cc 0.0 -s -a -o /home/carler/lab/t_cell/phylogeny/data/output/P20407/2023_4_25_mt-scite/A1_06/0.0556_A330/0.0556_A330 1> /home/carler/lab/t_cell/phylogeny/data/output/P20407/2023_4_25_mt-scite/A1_06/0.0556_A330/0.0556_A330.stdout.txt\n",
      "/home/carler/lab/t_cell/phylogeny/mt-SCITE/scite -i  /home/carler/lab/t_cell/phylogeny/data/output/P20407/2023_4_25_mt-scite/A1_06_matrix_output_clonal/0.0556_A36.csv -n 3 -m 42 -r 1 -l 2000000 -fd 0.0001 -ad 0.0001 -cc 0.0 -s -a -o /home/carler/lab/t_cell/phylogeny/data/output/P20407/2023_4_25_mt-scite/A1_06/0.0556_A36/0.0556_A36 1> /home/carler/lab/t_cell/phylogeny/data/output/P20407/2023_4_25_mt-scite/A1_06/0.0556_A36/0.0556_A36.stdout.txt\n",
      "/home/carler/lab/t_cell/phylogeny/mt-SCITE/scite -i  /home/carler/lab/t_cell/phylogeny/data/output/P20407/2023_4_25_mt-scite/A1_06_matrix_output_clonal/0.0556_A360.csv -n 2 -m 9 -r 1 -l 2000000 -fd 0.0001 -ad 0.0001 -cc 0.0 -s -a -o /home/carler/lab/t_cell/phylogeny/data/output/P20407/2023_4_25_mt-scite/A1_06/0.0556_A360/0.0556_A360 1> /home/carler/lab/t_cell/phylogeny/data/output/P20407/2023_4_25_mt-scite/A1_06/0.0556_A360/0.0556_A360.stdout.txt\n",
      "/home/carler/lab/t_cell/phylogeny/mt-SCITE/scite -i  /home/carler/lab/t_cell/phylogeny/data/output/P20407/2023_4_25_mt-scite/A1_06_matrix_output_clonal/0.0556_A39.csv -n 9 -m 47 -r 1 -l 2000000 -fd 0.0001 -ad 0.0001 -cc 0.0 -s -a -o /home/carler/lab/t_cell/phylogeny/data/output/P20407/2023_4_25_mt-scite/A1_06/0.0556_A39/0.0556_A39 1> /home/carler/lab/t_cell/phylogeny/data/output/P20407/2023_4_25_mt-scite/A1_06/0.0556_A39/0.0556_A39.stdout.txt\n",
      "/home/carler/lab/t_cell/phylogeny/mt-SCITE/scite -i  /home/carler/lab/t_cell/phylogeny/data/output/P20407/2023_4_25_mt-scite/A1_06_matrix_output_clonal/0.0556_A397.csv -n 2 -m 12 -r 1 -l 2000000 -fd 0.0001 -ad 0.0001 -cc 0.0 -s -a -o /home/carler/lab/t_cell/phylogeny/data/output/P20407/2023_4_25_mt-scite/A1_06/0.0556_A397/0.0556_A397 1> /home/carler/lab/t_cell/phylogeny/data/output/P20407/2023_4_25_mt-scite/A1_06/0.0556_A397/0.0556_A397.stdout.txt\n",
      "/home/carler/lab/t_cell/phylogeny/mt-SCITE/scite -i  /home/carler/lab/t_cell/phylogeny/data/output/P20407/2023_4_25_mt-scite/A1_06_matrix_output_clonal/0.0556_A40.csv -n 2 -m 12 -r 1 -l 2000000 -fd 0.0001 -ad 0.0001 -cc 0.0 -s -a -o /home/carler/lab/t_cell/phylogeny/data/output/P20407/2023_4_25_mt-scite/A1_06/0.0556_A40/0.0556_A40 1> /home/carler/lab/t_cell/phylogeny/data/output/P20407/2023_4_25_mt-scite/A1_06/0.0556_A40/0.0556_A40.stdout.txt\n",
      "/home/carler/lab/t_cell/phylogeny/mt-SCITE/scite -i  /home/carler/lab/t_cell/phylogeny/data/output/P20407/2023_4_25_mt-scite/A1_06_matrix_output_clonal/0.0556_A41.csv -n 2 -m 8 -r 1 -l 2000000 -fd 0.0001 -ad 0.0001 -cc 0.0 -s -a -o /home/carler/lab/t_cell/phylogeny/data/output/P20407/2023_4_25_mt-scite/A1_06/0.0556_A41/0.0556_A41 1> /home/carler/lab/t_cell/phylogeny/data/output/P20407/2023_4_25_mt-scite/A1_06/0.0556_A41/0.0556_A41.stdout.txt\n",
      "/home/carler/lab/t_cell/phylogeny/mt-SCITE/scite -i  /home/carler/lab/t_cell/phylogeny/data/output/P20407/2023_4_25_mt-scite/A1_06_matrix_output_clonal/0.0556_A47.csv -n 3 -m 69 -r 1 -l 2000000 -fd 0.0001 -ad 0.0001 -cc 0.0 -s -a -o /home/carler/lab/t_cell/phylogeny/data/output/P20407/2023_4_25_mt-scite/A1_06/0.0556_A47/0.0556_A47 1> /home/carler/lab/t_cell/phylogeny/data/output/P20407/2023_4_25_mt-scite/A1_06/0.0556_A47/0.0556_A47.stdout.txt\n",
      "/home/carler/lab/t_cell/phylogeny/mt-SCITE/scite -i  /home/carler/lab/t_cell/phylogeny/data/output/P20407/2023_4_25_mt-scite/A1_06_matrix_output_clonal/0.0556_A48.csv -n 7 -m 53 -r 1 -l 2000000 -fd 0.0001 -ad 0.0001 -cc 0.0 -s -a -o /home/carler/lab/t_cell/phylogeny/data/output/P20407/2023_4_25_mt-scite/A1_06/0.0556_A48/0.0556_A48 1> /home/carler/lab/t_cell/phylogeny/data/output/P20407/2023_4_25_mt-scite/A1_06/0.0556_A48/0.0556_A48.stdout.txt\n",
      "/home/carler/lab/t_cell/phylogeny/mt-SCITE/scite -i  /home/carler/lab/t_cell/phylogeny/data/output/P20407/2023_4_25_mt-scite/A1_06_matrix_output_clonal/0.0556_A50.csv -n 2 -m 12 -r 1 -l 2000000 -fd 0.0001 -ad 0.0001 -cc 0.0 -s -a -o /home/carler/lab/t_cell/phylogeny/data/output/P20407/2023_4_25_mt-scite/A1_06/0.0556_A50/0.0556_A50 1> /home/carler/lab/t_cell/phylogeny/data/output/P20407/2023_4_25_mt-scite/A1_06/0.0556_A50/0.0556_A50.stdout.txt\n",
      "/home/carler/lab/t_cell/phylogeny/mt-SCITE/scite -i  /home/carler/lab/t_cell/phylogeny/data/output/P20407/2023_4_25_mt-scite/A1_06_matrix_output_clonal/0.0556_A53.csv -n 2 -m 16 -r 1 -l 2000000 -fd 0.0001 -ad 0.0001 -cc 0.0 -s -a -o /home/carler/lab/t_cell/phylogeny/data/output/P20407/2023_4_25_mt-scite/A1_06/0.0556_A53/0.0556_A53 1> /home/carler/lab/t_cell/phylogeny/data/output/P20407/2023_4_25_mt-scite/A1_06/0.0556_A53/0.0556_A53.stdout.txt\n",
      "/home/carler/lab/t_cell/phylogeny/mt-SCITE/scite -i  /home/carler/lab/t_cell/phylogeny/data/output/P20407/2023_4_25_mt-scite/A1_06_matrix_output_clonal/0.0556_A55.csv -n 2 -m 18 -r 1 -l 2000000 -fd 0.0001 -ad 0.0001 -cc 0.0 -s -a -o /home/carler/lab/t_cell/phylogeny/data/output/P20407/2023_4_25_mt-scite/A1_06/0.0556_A55/0.0556_A55 1> /home/carler/lab/t_cell/phylogeny/data/output/P20407/2023_4_25_mt-scite/A1_06/0.0556_A55/0.0556_A55.stdout.txt\n",
      "/home/carler/lab/t_cell/phylogeny/mt-SCITE/scite -i  /home/carler/lab/t_cell/phylogeny/data/output/P20407/2023_4_25_mt-scite/A1_06_matrix_output_clonal/0.0556_A555.csv -n 2 -m 9 -r 1 -l 2000000 -fd 0.0001 -ad 0.0001 -cc 0.0 -s -a -o /home/carler/lab/t_cell/phylogeny/data/output/P20407/2023_4_25_mt-scite/A1_06/0.0556_A555/0.0556_A555 1> /home/carler/lab/t_cell/phylogeny/data/output/P20407/2023_4_25_mt-scite/A1_06/0.0556_A555/0.0556_A555.stdout.txt\n",
      "/home/carler/lab/t_cell/phylogeny/mt-SCITE/scite -i  /home/carler/lab/t_cell/phylogeny/data/output/P20407/2023_4_25_mt-scite/A1_06_matrix_output_clonal/0.0556_A57.csv -n 2 -m 23 -r 1 -l 2000000 -fd 0.0001 -ad 0.0001 -cc 0.0 -s -a -o /home/carler/lab/t_cell/phylogeny/data/output/P20407/2023_4_25_mt-scite/A1_06/0.0556_A57/0.0556_A57 1> /home/carler/lab/t_cell/phylogeny/data/output/P20407/2023_4_25_mt-scite/A1_06/0.0556_A57/0.0556_A57.stdout.txt\n",
      "/home/carler/lab/t_cell/phylogeny/mt-SCITE/scite -i  /home/carler/lab/t_cell/phylogeny/data/output/P20407/2023_4_25_mt-scite/A1_06_matrix_output_clonal/0.0556_A584.csv -n 2 -m 13 -r 1 -l 2000000 -fd 0.0001 -ad 0.0001 -cc 0.0 -s -a -o /home/carler/lab/t_cell/phylogeny/data/output/P20407/2023_4_25_mt-scite/A1_06/0.0556_A584/0.0556_A584 1> /home/carler/lab/t_cell/phylogeny/data/output/P20407/2023_4_25_mt-scite/A1_06/0.0556_A584/0.0556_A584.stdout.txt\n",
      "/home/carler/lab/t_cell/phylogeny/mt-SCITE/scite -i  /home/carler/lab/t_cell/phylogeny/data/output/P20407/2023_4_25_mt-scite/A1_06_matrix_output_clonal/0.0556_A60.csv -n 3 -m 26 -r 1 -l 2000000 -fd 0.0001 -ad 0.0001 -cc 0.0 -s -a -o /home/carler/lab/t_cell/phylogeny/data/output/P20407/2023_4_25_mt-scite/A1_06/0.0556_A60/0.0556_A60 1> /home/carler/lab/t_cell/phylogeny/data/output/P20407/2023_4_25_mt-scite/A1_06/0.0556_A60/0.0556_A60.stdout.txt\n",
      "/home/carler/lab/t_cell/phylogeny/mt-SCITE/scite -i  /home/carler/lab/t_cell/phylogeny/data/output/P20407/2023_4_25_mt-scite/A1_06_matrix_output_clonal/0.0556_A61.csv -n 8 -m 98 -r 1 -l 2000000 -fd 0.0001 -ad 0.0001 -cc 0.0 -s -a -o /home/carler/lab/t_cell/phylogeny/data/output/P20407/2023_4_25_mt-scite/A1_06/0.0556_A61/0.0556_A61 1> /home/carler/lab/t_cell/phylogeny/data/output/P20407/2023_4_25_mt-scite/A1_06/0.0556_A61/0.0556_A61.stdout.txt\n",
      "/home/carler/lab/t_cell/phylogeny/mt-SCITE/scite -i  /home/carler/lab/t_cell/phylogeny/data/output/P20407/2023_4_25_mt-scite/A1_06_matrix_output_clonal/0.0556_A64.csv -n 2 -m 14 -r 1 -l 2000000 -fd 0.0001 -ad 0.0001 -cc 0.0 -s -a -o /home/carler/lab/t_cell/phylogeny/data/output/P20407/2023_4_25_mt-scite/A1_06/0.0556_A64/0.0556_A64 1> /home/carler/lab/t_cell/phylogeny/data/output/P20407/2023_4_25_mt-scite/A1_06/0.0556_A64/0.0556_A64.stdout.txt\n",
      "/home/carler/lab/t_cell/phylogeny/mt-SCITE/scite -i  /home/carler/lab/t_cell/phylogeny/data/output/P20407/2023_4_25_mt-scite/A1_06_matrix_output_clonal/0.0556_A65.csv -n 2 -m 10 -r 1 -l 2000000 -fd 0.0001 -ad 0.0001 -cc 0.0 -s -a -o /home/carler/lab/t_cell/phylogeny/data/output/P20407/2023_4_25_mt-scite/A1_06/0.0556_A65/0.0556_A65 1> /home/carler/lab/t_cell/phylogeny/data/output/P20407/2023_4_25_mt-scite/A1_06/0.0556_A65/0.0556_A65.stdout.txt\n",
      "/home/carler/lab/t_cell/phylogeny/mt-SCITE/scite -i  /home/carler/lab/t_cell/phylogeny/data/output/P20407/2023_4_25_mt-scite/A1_06_matrix_output_clonal/0.0556_A68.csv -n 2 -m 15 -r 1 -l 2000000 -fd 0.0001 -ad 0.0001 -cc 0.0 -s -a -o /home/carler/lab/t_cell/phylogeny/data/output/P20407/2023_4_25_mt-scite/A1_06/0.0556_A68/0.0556_A68 1> /home/carler/lab/t_cell/phylogeny/data/output/P20407/2023_4_25_mt-scite/A1_06/0.0556_A68/0.0556_A68.stdout.txt\n",
      "/home/carler/lab/t_cell/phylogeny/mt-SCITE/scite -i  /home/carler/lab/t_cell/phylogeny/data/output/P20407/2023_4_25_mt-scite/A1_06_matrix_output_clonal/0.0556_A7.csv -n 2 -m 9 -r 1 -l 2000000 -fd 0.0001 -ad 0.0001 -cc 0.0 -s -a -o /home/carler/lab/t_cell/phylogeny/data/output/P20407/2023_4_25_mt-scite/A1_06/0.0556_A7/0.0556_A7 1> /home/carler/lab/t_cell/phylogeny/data/output/P20407/2023_4_25_mt-scite/A1_06/0.0556_A7/0.0556_A7.stdout.txt\n",
      "/home/carler/lab/t_cell/phylogeny/mt-SCITE/scite -i  /home/carler/lab/t_cell/phylogeny/data/output/P20407/2023_4_25_mt-scite/A1_06_matrix_output_clonal/0.0556_A80.csv -n 2 -m 19 -r 1 -l 2000000 -fd 0.0001 -ad 0.0001 -cc 0.0 -s -a -o /home/carler/lab/t_cell/phylogeny/data/output/P20407/2023_4_25_mt-scite/A1_06/0.0556_A80/0.0556_A80 1> /home/carler/lab/t_cell/phylogeny/data/output/P20407/2023_4_25_mt-scite/A1_06/0.0556_A80/0.0556_A80.stdout.txt\n",
      "/home/carler/lab/t_cell/phylogeny/mt-SCITE/scite -i  /home/carler/lab/t_cell/phylogeny/data/output/P20407/2023_4_25_mt-scite/A1_06_matrix_output_clonal/0.0556_A9.csv -n 2 -m 45 -r 1 -l 2000000 -fd 0.0001 -ad 0.0001 -cc 0.0 -s -a -o /home/carler/lab/t_cell/phylogeny/data/output/P20407/2023_4_25_mt-scite/A1_06/0.0556_A9/0.0556_A9 1> /home/carler/lab/t_cell/phylogeny/data/output/P20407/2023_4_25_mt-scite/A1_06/0.0556_A9/0.0556_A9.stdout.txt\n",
      "/home/carler/lab/t_cell/phylogeny/mt-SCITE/scite -i  /home/carler/lab/t_cell/phylogeny/data/output/P20407/2023_4_25_mt-scite/A1_06_matrix_output_clonal/0.0556_A94.csv -n 3 -m 16 -r 1 -l 2000000 -fd 0.0001 -ad 0.0001 -cc 0.0 -s -a -o /home/carler/lab/t_cell/phylogeny/data/output/P20407/2023_4_25_mt-scite/A1_06/0.0556_A94/0.0556_A94 1> /home/carler/lab/t_cell/phylogeny/data/output/P20407/2023_4_25_mt-scite/A1_06/0.0556_A94/0.0556_A94.stdout.txt\n",
      "/home/carler/lab/t_cell/phylogeny/mt-SCITE/scite -i  /home/carler/lab/t_cell/phylogeny/data/output/P20407/2023_4_25_mt-scite/A1_30_matrix_output_clonal/0.0556_B0.csv -n 4 -m 23 -r 1 -l 2000000 -fd 0.0001 -ad 0.0001 -cc 0.0 -s -a -o /home/carler/lab/t_cell/phylogeny/data/output/P20407/2023_4_25_mt-scite/A1_30/0.0556_B0/0.0556_B0 1> /home/carler/lab/t_cell/phylogeny/data/output/P20407/2023_4_25_mt-scite/A1_30/0.0556_B0/0.0556_B0.stdout.txt\n",
      "/home/carler/lab/t_cell/phylogeny/mt-SCITE/scite -i  /home/carler/lab/t_cell/phylogeny/data/output/P20407/2023_4_25_mt-scite/A1_30_matrix_output_clonal/0.0556_B100.csv -n 3 -m 20 -r 1 -l 2000000 -fd 0.0001 -ad 0.0001 -cc 0.0 -s -a -o /home/carler/lab/t_cell/phylogeny/data/output/P20407/2023_4_25_mt-scite/A1_30/0.0556_B100/0.0556_B100 1> /home/carler/lab/t_cell/phylogeny/data/output/P20407/2023_4_25_mt-scite/A1_30/0.0556_B100/0.0556_B100.stdout.txt\n",
      "/home/carler/lab/t_cell/phylogeny/mt-SCITE/scite -i  /home/carler/lab/t_cell/phylogeny/data/output/P20407/2023_4_25_mt-scite/A1_30_matrix_output_clonal/0.0556_B101.csv -n 2 -m 20 -r 1 -l 2000000 -fd 0.0001 -ad 0.0001 -cc 0.0 -s -a -o /home/carler/lab/t_cell/phylogeny/data/output/P20407/2023_4_25_mt-scite/A1_30/0.0556_B101/0.0556_B101 1> /home/carler/lab/t_cell/phylogeny/data/output/P20407/2023_4_25_mt-scite/A1_30/0.0556_B101/0.0556_B101.stdout.txt\n",
      "/home/carler/lab/t_cell/phylogeny/mt-SCITE/scite -i  /home/carler/lab/t_cell/phylogeny/data/output/P20407/2023_4_25_mt-scite/A1_30_matrix_output_clonal/0.0556_B102.csv -n 4 -m 39 -r 1 -l 2000000 -fd 0.0001 -ad 0.0001 -cc 0.0 -s -a -o /home/carler/lab/t_cell/phylogeny/data/output/P20407/2023_4_25_mt-scite/A1_30/0.0556_B102/0.0556_B102 1> /home/carler/lab/t_cell/phylogeny/data/output/P20407/2023_4_25_mt-scite/A1_30/0.0556_B102/0.0556_B102.stdout.txt\n",
      "/home/carler/lab/t_cell/phylogeny/mt-SCITE/scite -i  /home/carler/lab/t_cell/phylogeny/data/output/P20407/2023_4_25_mt-scite/A1_30_matrix_output_clonal/0.0556_B117.csv -n 2 -m 9 -r 1 -l 2000000 -fd 0.0001 -ad 0.0001 -cc 0.0 -s -a -o /home/carler/lab/t_cell/phylogeny/data/output/P20407/2023_4_25_mt-scite/A1_30/0.0556_B117/0.0556_B117 1> /home/carler/lab/t_cell/phylogeny/data/output/P20407/2023_4_25_mt-scite/A1_30/0.0556_B117/0.0556_B117.stdout.txt\n",
      "/home/carler/lab/t_cell/phylogeny/mt-SCITE/scite -i  /home/carler/lab/t_cell/phylogeny/data/output/P20407/2023_4_25_mt-scite/A1_30_matrix_output_clonal/0.0556_B12.csv -n 3 -m 27 -r 1 -l 2000000 -fd 0.0001 -ad 0.0001 -cc 0.0 -s -a -o /home/carler/lab/t_cell/phylogeny/data/output/P20407/2023_4_25_mt-scite/A1_30/0.0556_B12/0.0556_B12 1> /home/carler/lab/t_cell/phylogeny/data/output/P20407/2023_4_25_mt-scite/A1_30/0.0556_B12/0.0556_B12.stdout.txt\n",
      "/home/carler/lab/t_cell/phylogeny/mt-SCITE/scite -i  /home/carler/lab/t_cell/phylogeny/data/output/P20407/2023_4_25_mt-scite/A1_30_matrix_output_clonal/0.0556_B121.csv -n 2 -m 12 -r 1 -l 2000000 -fd 0.0001 -ad 0.0001 -cc 0.0 -s -a -o /home/carler/lab/t_cell/phylogeny/data/output/P20407/2023_4_25_mt-scite/A1_30/0.0556_B121/0.0556_B121 1> /home/carler/lab/t_cell/phylogeny/data/output/P20407/2023_4_25_mt-scite/A1_30/0.0556_B121/0.0556_B121.stdout.txt\n",
      "/home/carler/lab/t_cell/phylogeny/mt-SCITE/scite -i  /home/carler/lab/t_cell/phylogeny/data/output/P20407/2023_4_25_mt-scite/A1_30_matrix_output_clonal/0.0556_B122.csv -n 2 -m 13 -r 1 -l 2000000 -fd 0.0001 -ad 0.0001 -cc 0.0 -s -a -o /home/carler/lab/t_cell/phylogeny/data/output/P20407/2023_4_25_mt-scite/A1_30/0.0556_B122/0.0556_B122 1> /home/carler/lab/t_cell/phylogeny/data/output/P20407/2023_4_25_mt-scite/A1_30/0.0556_B122/0.0556_B122.stdout.txt\n",
      "/home/carler/lab/t_cell/phylogeny/mt-SCITE/scite -i  /home/carler/lab/t_cell/phylogeny/data/output/P20407/2023_4_25_mt-scite/A1_30_matrix_output_clonal/0.0556_B14.csv -n 2 -m 13 -r 1 -l 2000000 -fd 0.0001 -ad 0.0001 -cc 0.0 -s -a -o /home/carler/lab/t_cell/phylogeny/data/output/P20407/2023_4_25_mt-scite/A1_30/0.0556_B14/0.0556_B14 1> /home/carler/lab/t_cell/phylogeny/data/output/P20407/2023_4_25_mt-scite/A1_30/0.0556_B14/0.0556_B14.stdout.txt\n",
      "/home/carler/lab/t_cell/phylogeny/mt-SCITE/scite -i  /home/carler/lab/t_cell/phylogeny/data/output/P20407/2023_4_25_mt-scite/A1_30_matrix_output_clonal/0.0556_B18.csv -n 3 -m 14 -r 1 -l 2000000 -fd 0.0001 -ad 0.0001 -cc 0.0 -s -a -o /home/carler/lab/t_cell/phylogeny/data/output/P20407/2023_4_25_mt-scite/A1_30/0.0556_B18/0.0556_B18 1> /home/carler/lab/t_cell/phylogeny/data/output/P20407/2023_4_25_mt-scite/A1_30/0.0556_B18/0.0556_B18.stdout.txt\n",
      "/home/carler/lab/t_cell/phylogeny/mt-SCITE/scite -i  /home/carler/lab/t_cell/phylogeny/data/output/P20407/2023_4_25_mt-scite/A1_30_matrix_output_clonal/0.0556_B185.csv -n 2 -m 16 -r 1 -l 2000000 -fd 0.0001 -ad 0.0001 -cc 0.0 -s -a -o /home/carler/lab/t_cell/phylogeny/data/output/P20407/2023_4_25_mt-scite/A1_30/0.0556_B185/0.0556_B185 1> /home/carler/lab/t_cell/phylogeny/data/output/P20407/2023_4_25_mt-scite/A1_30/0.0556_B185/0.0556_B185.stdout.txt\n",
      "/home/carler/lab/t_cell/phylogeny/mt-SCITE/scite -i  /home/carler/lab/t_cell/phylogeny/data/output/P20407/2023_4_25_mt-scite/A1_30_matrix_output_clonal/0.0556_B205.csv -n 2 -m 39 -r 1 -l 2000000 -fd 0.0001 -ad 0.0001 -cc 0.0 -s -a -o /home/carler/lab/t_cell/phylogeny/data/output/P20407/2023_4_25_mt-scite/A1_30/0.0556_B205/0.0556_B205 1> /home/carler/lab/t_cell/phylogeny/data/output/P20407/2023_4_25_mt-scite/A1_30/0.0556_B205/0.0556_B205.stdout.txt\n",
      "/home/carler/lab/t_cell/phylogeny/mt-SCITE/scite -i  /home/carler/lab/t_cell/phylogeny/data/output/P20407/2023_4_25_mt-scite/A1_30_matrix_output_clonal/0.0556_B212.csv -n 3 -m 26 -r 1 -l 2000000 -fd 0.0001 -ad 0.0001 -cc 0.0 -s -a -o /home/carler/lab/t_cell/phylogeny/data/output/P20407/2023_4_25_mt-scite/A1_30/0.0556_B212/0.0556_B212 1> /home/carler/lab/t_cell/phylogeny/data/output/P20407/2023_4_25_mt-scite/A1_30/0.0556_B212/0.0556_B212.stdout.txt\n",
      "/home/carler/lab/t_cell/phylogeny/mt-SCITE/scite -i  /home/carler/lab/t_cell/phylogeny/data/output/P20407/2023_4_25_mt-scite/A1_30_matrix_output_clonal/0.0556_B24.csv -n 3 -m 19 -r 1 -l 2000000 -fd 0.0001 -ad 0.0001 -cc 0.0 -s -a -o /home/carler/lab/t_cell/phylogeny/data/output/P20407/2023_4_25_mt-scite/A1_30/0.0556_B24/0.0556_B24 1> /home/carler/lab/t_cell/phylogeny/data/output/P20407/2023_4_25_mt-scite/A1_30/0.0556_B24/0.0556_B24.stdout.txt\n",
      "/home/carler/lab/t_cell/phylogeny/mt-SCITE/scite -i  /home/carler/lab/t_cell/phylogeny/data/output/P20407/2023_4_25_mt-scite/A1_30_matrix_output_clonal/0.0556_B257.csv -n 2 -m 9 -r 1 -l 2000000 -fd 0.0001 -ad 0.0001 -cc 0.0 -s -a -o /home/carler/lab/t_cell/phylogeny/data/output/P20407/2023_4_25_mt-scite/A1_30/0.0556_B257/0.0556_B257 1> /home/carler/lab/t_cell/phylogeny/data/output/P20407/2023_4_25_mt-scite/A1_30/0.0556_B257/0.0556_B257.stdout.txt\n",
      "/home/carler/lab/t_cell/phylogeny/mt-SCITE/scite -i  /home/carler/lab/t_cell/phylogeny/data/output/P20407/2023_4_25_mt-scite/A1_30_matrix_output_clonal/0.0556_B293.csv -n 2 -m 14 -r 1 -l 2000000 -fd 0.0001 -ad 0.0001 -cc 0.0 -s -a -o /home/carler/lab/t_cell/phylogeny/data/output/P20407/2023_4_25_mt-scite/A1_30/0.0556_B293/0.0556_B293 1> /home/carler/lab/t_cell/phylogeny/data/output/P20407/2023_4_25_mt-scite/A1_30/0.0556_B293/0.0556_B293.stdout.txt\n",
      "/home/carler/lab/t_cell/phylogeny/mt-SCITE/scite -i  /home/carler/lab/t_cell/phylogeny/data/output/P20407/2023_4_25_mt-scite/A1_30_matrix_output_clonal/0.0556_B305.csv -n 2 -m 8 -r 1 -l 2000000 -fd 0.0001 -ad 0.0001 -cc 0.0 -s -a -o /home/carler/lab/t_cell/phylogeny/data/output/P20407/2023_4_25_mt-scite/A1_30/0.0556_B305/0.0556_B305 1> /home/carler/lab/t_cell/phylogeny/data/output/P20407/2023_4_25_mt-scite/A1_30/0.0556_B305/0.0556_B305.stdout.txt\n",
      "/home/carler/lab/t_cell/phylogeny/mt-SCITE/scite -i  /home/carler/lab/t_cell/phylogeny/data/output/P20407/2023_4_25_mt-scite/A1_30_matrix_output_clonal/0.0556_B324.csv -n 2 -m 7 -r 1 -l 2000000 -fd 0.0001 -ad 0.0001 -cc 0.0 -s -a -o /home/carler/lab/t_cell/phylogeny/data/output/P20407/2023_4_25_mt-scite/A1_30/0.0556_B324/0.0556_B324 1> /home/carler/lab/t_cell/phylogeny/data/output/P20407/2023_4_25_mt-scite/A1_30/0.0556_B324/0.0556_B324.stdout.txt\n",
      "/home/carler/lab/t_cell/phylogeny/mt-SCITE/scite -i  /home/carler/lab/t_cell/phylogeny/data/output/P20407/2023_4_25_mt-scite/A1_30_matrix_output_clonal/0.0556_B325.csv -n 3 -m 12 -r 1 -l 2000000 -fd 0.0001 -ad 0.0001 -cc 0.0 -s -a -o /home/carler/lab/t_cell/phylogeny/data/output/P20407/2023_4_25_mt-scite/A1_30/0.0556_B325/0.0556_B325 1> /home/carler/lab/t_cell/phylogeny/data/output/P20407/2023_4_25_mt-scite/A1_30/0.0556_B325/0.0556_B325.stdout.txt\n",
      "/home/carler/lab/t_cell/phylogeny/mt-SCITE/scite -i  /home/carler/lab/t_cell/phylogeny/data/output/P20407/2023_4_25_mt-scite/A1_30_matrix_output_clonal/0.0556_B39.csv -n 4 -m 48 -r 1 -l 2000000 -fd 0.0001 -ad 0.0001 -cc 0.0 -s -a -o /home/carler/lab/t_cell/phylogeny/data/output/P20407/2023_4_25_mt-scite/A1_30/0.0556_B39/0.0556_B39 1> /home/carler/lab/t_cell/phylogeny/data/output/P20407/2023_4_25_mt-scite/A1_30/0.0556_B39/0.0556_B39.stdout.txt\n",
      "/home/carler/lab/t_cell/phylogeny/mt-SCITE/scite -i  /home/carler/lab/t_cell/phylogeny/data/output/P20407/2023_4_25_mt-scite/A1_30_matrix_output_clonal/0.0556_B44.csv -n 3 -m 18 -r 1 -l 2000000 -fd 0.0001 -ad 0.0001 -cc 0.0 -s -a -o /home/carler/lab/t_cell/phylogeny/data/output/P20407/2023_4_25_mt-scite/A1_30/0.0556_B44/0.0556_B44 1> /home/carler/lab/t_cell/phylogeny/data/output/P20407/2023_4_25_mt-scite/A1_30/0.0556_B44/0.0556_B44.stdout.txt\n",
      "/home/carler/lab/t_cell/phylogeny/mt-SCITE/scite -i  /home/carler/lab/t_cell/phylogeny/data/output/P20407/2023_4_25_mt-scite/A1_30_matrix_output_clonal/0.0556_B51.csv -n 2 -m 9 -r 1 -l 2000000 -fd 0.0001 -ad 0.0001 -cc 0.0 -s -a -o /home/carler/lab/t_cell/phylogeny/data/output/P20407/2023_4_25_mt-scite/A1_30/0.0556_B51/0.0556_B51 1> /home/carler/lab/t_cell/phylogeny/data/output/P20407/2023_4_25_mt-scite/A1_30/0.0556_B51/0.0556_B51.stdout.txt\n",
      "/home/carler/lab/t_cell/phylogeny/mt-SCITE/scite -i  /home/carler/lab/t_cell/phylogeny/data/output/P20407/2023_4_25_mt-scite/A1_30_matrix_output_clonal/0.0556_B63.csv -n 2 -m 29 -r 1 -l 2000000 -fd 0.0001 -ad 0.0001 -cc 0.0 -s -a -o /home/carler/lab/t_cell/phylogeny/data/output/P20407/2023_4_25_mt-scite/A1_30/0.0556_B63/0.0556_B63 1> /home/carler/lab/t_cell/phylogeny/data/output/P20407/2023_4_25_mt-scite/A1_30/0.0556_B63/0.0556_B63.stdout.txt\n",
      "/home/carler/lab/t_cell/phylogeny/mt-SCITE/scite -i  /home/carler/lab/t_cell/phylogeny/data/output/P20407/2023_4_25_mt-scite/A1_30_matrix_output_clonal/0.0556_B66.csv -n 3 -m 36 -r 1 -l 2000000 -fd 0.0001 -ad 0.0001 -cc 0.0 -s -a -o /home/carler/lab/t_cell/phylogeny/data/output/P20407/2023_4_25_mt-scite/A1_30/0.0556_B66/0.0556_B66 1> /home/carler/lab/t_cell/phylogeny/data/output/P20407/2023_4_25_mt-scite/A1_30/0.0556_B66/0.0556_B66.stdout.txt\n",
      "/home/carler/lab/t_cell/phylogeny/mt-SCITE/scite -i  /home/carler/lab/t_cell/phylogeny/data/output/P20407/2023_4_25_mt-scite/A1_30_matrix_output_clonal/0.0556_B67.csv -n 3 -m 8 -r 1 -l 2000000 -fd 0.0001 -ad 0.0001 -cc 0.0 -s -a -o /home/carler/lab/t_cell/phylogeny/data/output/P20407/2023_4_25_mt-scite/A1_30/0.0556_B67/0.0556_B67 1> /home/carler/lab/t_cell/phylogeny/data/output/P20407/2023_4_25_mt-scite/A1_30/0.0556_B67/0.0556_B67.stdout.txt\n",
      "/home/carler/lab/t_cell/phylogeny/mt-SCITE/scite -i  /home/carler/lab/t_cell/phylogeny/data/output/P20407/2023_4_25_mt-scite/A1_30_matrix_output_clonal/0.0556_B69.csv -n 2 -m 15 -r 1 -l 2000000 -fd 0.0001 -ad 0.0001 -cc 0.0 -s -a -o /home/carler/lab/t_cell/phylogeny/data/output/P20407/2023_4_25_mt-scite/A1_30/0.0556_B69/0.0556_B69 1> /home/carler/lab/t_cell/phylogeny/data/output/P20407/2023_4_25_mt-scite/A1_30/0.0556_B69/0.0556_B69.stdout.txt\n",
      "/home/carler/lab/t_cell/phylogeny/mt-SCITE/scite -i  /home/carler/lab/t_cell/phylogeny/data/output/P20407/2023_4_25_mt-scite/A1_30_matrix_output_clonal/0.0556_B7.csv -n 3 -m 23 -r 1 -l 2000000 -fd 0.0001 -ad 0.0001 -cc 0.0 -s -a -o /home/carler/lab/t_cell/phylogeny/data/output/P20407/2023_4_25_mt-scite/A1_30/0.0556_B7/0.0556_B7 1> /home/carler/lab/t_cell/phylogeny/data/output/P20407/2023_4_25_mt-scite/A1_30/0.0556_B7/0.0556_B7.stdout.txt\n",
      "/home/carler/lab/t_cell/phylogeny/mt-SCITE/scite -i  /home/carler/lab/t_cell/phylogeny/data/output/P20407/2023_4_25_mt-scite/A1_30_matrix_output_clonal/0.0556_B71.csv -n 3 -m 38 -r 1 -l 2000000 -fd 0.0001 -ad 0.0001 -cc 0.0 -s -a -o /home/carler/lab/t_cell/phylogeny/data/output/P20407/2023_4_25_mt-scite/A1_30/0.0556_B71/0.0556_B71 1> /home/carler/lab/t_cell/phylogeny/data/output/P20407/2023_4_25_mt-scite/A1_30/0.0556_B71/0.0556_B71.stdout.txt\n",
      "/home/carler/lab/t_cell/phylogeny/mt-SCITE/scite -i  /home/carler/lab/t_cell/phylogeny/data/output/P20407/2023_4_25_mt-scite/A1_30_matrix_output_clonal/0.0556_B72.csv -n 2 -m 12 -r 1 -l 2000000 -fd 0.0001 -ad 0.0001 -cc 0.0 -s -a -o /home/carler/lab/t_cell/phylogeny/data/output/P20407/2023_4_25_mt-scite/A1_30/0.0556_B72/0.0556_B72 1> /home/carler/lab/t_cell/phylogeny/data/output/P20407/2023_4_25_mt-scite/A1_30/0.0556_B72/0.0556_B72.stdout.txt\n",
      "/home/carler/lab/t_cell/phylogeny/mt-SCITE/scite -i  /home/carler/lab/t_cell/phylogeny/data/output/P20407/2023_4_25_mt-scite/A1_30_matrix_output_clonal/0.0556_B73.csv -n 3 -m 16 -r 1 -l 2000000 -fd 0.0001 -ad 0.0001 -cc 0.0 -s -a -o /home/carler/lab/t_cell/phylogeny/data/output/P20407/2023_4_25_mt-scite/A1_30/0.0556_B73/0.0556_B73 1> /home/carler/lab/t_cell/phylogeny/data/output/P20407/2023_4_25_mt-scite/A1_30/0.0556_B73/0.0556_B73.stdout.txt\n",
      "/home/carler/lab/t_cell/phylogeny/mt-SCITE/scite -i  /home/carler/lab/t_cell/phylogeny/data/output/P20407/2023_4_25_mt-scite/A1_30_matrix_output_clonal/0.0556_B8.csv -n 3 -m 35 -r 1 -l 2000000 -fd 0.0001 -ad 0.0001 -cc 0.0 -s -a -o /home/carler/lab/t_cell/phylogeny/data/output/P20407/2023_4_25_mt-scite/A1_30/0.0556_B8/0.0556_B8 1> /home/carler/lab/t_cell/phylogeny/data/output/P20407/2023_4_25_mt-scite/A1_30/0.0556_B8/0.0556_B8.stdout.txt\n",
      "/home/carler/lab/t_cell/phylogeny/mt-SCITE/scite -i  /home/carler/lab/t_cell/phylogeny/data/output/P20407/2023_4_25_mt-scite/A1_30_matrix_output_clonal/0.0556_B81.csv -n 2 -m 17 -r 1 -l 2000000 -fd 0.0001 -ad 0.0001 -cc 0.0 -s -a -o /home/carler/lab/t_cell/phylogeny/data/output/P20407/2023_4_25_mt-scite/A1_30/0.0556_B81/0.0556_B81 1> /home/carler/lab/t_cell/phylogeny/data/output/P20407/2023_4_25_mt-scite/A1_30/0.0556_B81/0.0556_B81.stdout.txt\n",
      "/home/carler/lab/t_cell/phylogeny/mt-SCITE/scite -i  /home/carler/lab/t_cell/phylogeny/data/output/P20407/2023_4_25_mt-scite/A1_30_matrix_output_clonal/0.0556_B83.csv -n 3 -m 18 -r 1 -l 2000000 -fd 0.0001 -ad 0.0001 -cc 0.0 -s -a -o /home/carler/lab/t_cell/phylogeny/data/output/P20407/2023_4_25_mt-scite/A1_30/0.0556_B83/0.0556_B83 1> /home/carler/lab/t_cell/phylogeny/data/output/P20407/2023_4_25_mt-scite/A1_30/0.0556_B83/0.0556_B83.stdout.txt\n",
      "/home/carler/lab/t_cell/phylogeny/mt-SCITE/scite -i  /home/carler/lab/t_cell/phylogeny/data/output/P20407/2023_4_25_mt-scite/A1_30_matrix_output_clonal/0.0556_B85.csv -n 2 -m 20 -r 1 -l 2000000 -fd 0.0001 -ad 0.0001 -cc 0.0 -s -a -o /home/carler/lab/t_cell/phylogeny/data/output/P20407/2023_4_25_mt-scite/A1_30/0.0556_B85/0.0556_B85 1> /home/carler/lab/t_cell/phylogeny/data/output/P20407/2023_4_25_mt-scite/A1_30/0.0556_B85/0.0556_B85.stdout.txt\n",
      "/home/carler/lab/t_cell/phylogeny/mt-SCITE/scite -i  /home/carler/lab/t_cell/phylogeny/data/output/P20407/2023_4_25_mt-scite/A1_30_matrix_output_clonal/0.0556_B858.csv -n 2 -m 12 -r 1 -l 2000000 -fd 0.0001 -ad 0.0001 -cc 0.0 -s -a -o /home/carler/lab/t_cell/phylogeny/data/output/P20407/2023_4_25_mt-scite/A1_30/0.0556_B858/0.0556_B858 1> /home/carler/lab/t_cell/phylogeny/data/output/P20407/2023_4_25_mt-scite/A1_30/0.0556_B858/0.0556_B858.stdout.txt\n",
      "/home/carler/lab/t_cell/phylogeny/mt-SCITE/scite -i  /home/carler/lab/t_cell/phylogeny/data/output/P20407/2023_4_25_mt-scite/A1_30_matrix_output_clonal/0.0556_B94.csv -n 2 -m 11 -r 1 -l 2000000 -fd 0.0001 -ad 0.0001 -cc 0.0 -s -a -o /home/carler/lab/t_cell/phylogeny/data/output/P20407/2023_4_25_mt-scite/A1_30/0.0556_B94/0.0556_B94 1> /home/carler/lab/t_cell/phylogeny/data/output/P20407/2023_4_25_mt-scite/A1_30/0.0556_B94/0.0556_B94.stdout.txt\n"
     ]
    }
   ],
   "source": [
    "j = 0 \n",
    "for i in range(0, len(scite_command_total), 40):\n",
    "    # start 40 processes at a time\n",
    "    processes = []\n",
    "    for cmd in scite_command_total[i:i+40]:\n",
    "        j += 1 \n",
    "        print(cmd)"
   ]
  },
  {
   "cell_type": "code",
   "execution_count": 18,
   "metadata": {},
   "outputs": [
    {
     "data": {
      "text/plain": [
       "81"
      ]
     },
     "execution_count": 18,
     "metadata": {},
     "output_type": "execute_result"
    }
   ],
   "source": [
    "j"
   ]
  },
  {
   "attachments": {},
   "cell_type": "markdown",
   "metadata": {},
   "source": [
    "# Run for a single Donor and Single clone"
   ]
  },
  {
   "cell_type": "code",
   "execution_count": 17,
   "metadata": {},
   "outputs": [],
   "source": [
    "donor_to_use = 'JH'\n",
    "clone_to_use = 26"
   ]
  },
  {
   "cell_type": "code",
   "execution_count": 77,
   "metadata": {},
   "outputs": [],
   "source": [
    "sample_names = meta_data[donor_to_use].loc[meta_data[donor_to_use]['clone_id'] == clone_to_use, 'Sample_id'].values\n",
    "mcmt_data_current_clone = mcmt_data[donor_to_use][np.intersect1d(mcmt_data[donor_to_use].columns, sample_names)]"
   ]
  },
  {
   "cell_type": "code",
   "execution_count": 82,
   "metadata": {},
   "outputs": [],
   "source": [
    "create_directory(f'../../../mt-SCITE_output/{donor_to_use}/0.0556_{clone_to_use}/')\n",
    "create_directory(f'../../../mt-SCITE_output/{donor_to_use}/stdout/')\n",
    "create_directory(f'../../../data/{donor_to_use}_matrix_output_clonal/')\n"
   ]
  },
  {
   "cell_type": "code",
   "execution_count": 83,
   "metadata": {},
   "outputs": [],
   "source": [
    "pos_with_mut = mcmt_data_current_clone[(mcmt_data_current_clone > 0.5).sum(axis=1) > 1].index\n",
    "mcmt_data_current_clone = mcmt_data_current_clone.loc[pos_with_mut, :]\n",
    "mcmt_data_current_clone.to_csv(f'../../../data/{donor_to_use}_matrix_output_clonal/0.0556_{clone_to_use}.csv', sep=' ', index=False, header=False)"
   ]
  },
  {
   "cell_type": "code",
   "execution_count": 85,
   "metadata": {},
   "outputs": [],
   "source": [
    "scite_command = f'../../../mt-SCITE/scite -i  ../../../data/{donor_to_use}_matrix_output_clonal/0.0556_{clone_to_use}.csv -n {mcmt_data_current_clone.index.size} -m {mcmt_data_current_clone.columns.size} -r 1 -l 200000 -fd 0.0001 -ad 0.0001 -cc 0.0 -s -a -o ../../../mt-SCITE_output/{donor_to_use}/0.0556_{clone_to_use}/0.0556_{clone_to_use} 1> ../../../mt-SCITE_output/{donor_to_use}/stdout/0.0556.stdout.txt' \n",
    "print(scite_command)"
   ]
  },
  {
   "cell_type": "code",
   "execution_count": 87,
   "metadata": {},
   "outputs": [],
   "source": [
    "! {scite_command}\n"
   ]
  }
 ],
 "metadata": {
  "kernelspec": {
   "display_name": "mtSCITE",
   "language": "python",
   "name": "python3"
  },
  "language_info": {
   "codemirror_mode": {
    "name": "ipython",
    "version": 3
   },
   "file_extension": ".py",
   "mimetype": "text/x-python",
   "name": "python",
   "nbconvert_exporter": "python",
   "pygments_lexer": "ipython3",
   "version": "3.10.10"
  },
  "orig_nbformat": 4,
  "vscode": {
   "interpreter": {
    "hash": "d25eb58dbdc5df937ab56d6baf0a7f59a3b22951a58d86ce9757a0701dc3152a"
   }
  }
 },
 "nbformat": 4,
 "nbformat_minor": 2
}
