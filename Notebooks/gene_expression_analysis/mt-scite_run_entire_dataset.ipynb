{
 "cells": [
  {
   "attachments": {},
   "cell_type": "markdown",
   "metadata": {},
   "source": [
    "# Running mtSCITE "
   ]
  },
  {
   "cell_type": "code",
   "execution_count": 1,
   "metadata": {},
   "outputs": [],
   "source": [
    "import pandas as pd \n",
    "import numpy as np \n",
    "import scipy.stats as stats\n",
    "import matplotlib.pyplot as plt\n",
    "import seaborn as sns\n",
    "import os\n",
    "import datetime\n"
   ]
  },
  {
   "cell_type": "code",
   "execution_count": 2,
   "metadata": {},
   "outputs": [],
   "source": [
    "# Create directory if it does not exist\n",
    "def create_directory(directory_path):\n",
    "    if not os.path.exists(directory_path):\n",
    "        os.makedirs(directory_path)"
   ]
  },
  {
   "cell_type": "code",
   "execution_count": 3,
   "metadata": {},
   "outputs": [],
   "source": [
    "donors = ['A1_06', 'A1_30']#, 'JH', 'YFV2003']"
   ]
  },
  {
   "cell_type": "code",
   "execution_count": 4,
   "metadata": {},
   "outputs": [],
   "source": [
    "meta_data = pd.read_csv('/home/carler/lab/t_cell/meta_data/2023_04_06_A1_06_A1_30_YFV2003_JH_meta_data_invivo_t_cell_mito_project.csv', index_col=0)\n"
   ]
  },
  {
   "cell_type": "code",
   "execution_count": 5,
   "metadata": {},
   "outputs": [],
   "source": [
    "# Get current date\n",
    "today = datetime.date.today()\n",
    "\n",
    "# Format date as a string in the format \"YYYY_M_D\"\n",
    "date_string = today.strftime(\"%Y_%-m_%-d\")\n",
    "\n",
    "\n",
    "INPUT_PATH = '/home/carler/lab/t_cell/phylogeny/data/output/P20407/2023_4_27_pmat_clust_mutations_0/'\n",
    "OUTPUT_PATH = f'/home/carler/lab/t_cell/phylogeny/data/output/P20407/{date_string}_mt_scite_entire_dataset/'\n",
    "SCITE_PATH = '/home/carler/lab/t_cell/phylogeny/mt-SCITE/'\n",
    "create_directory(OUTPUT_PATH)\n"
   ]
  },
  {
   "cell_type": "code",
   "execution_count": 6,
   "metadata": {},
   "outputs": [],
   "source": [
    "meta_data_mt_SCITE = {}\n",
    "for donor in donors:\n",
    "    meta_data_mt_SCITE[donor] = pd.read_csv(INPUT_PATH + '0.0556_' + donor + '_samples_meta_data.csv', index_col=0)\n",
    "    meta_data_mt_SCITE[donor].columns = [x.split('.')[0] for x in meta_data_mt_SCITE[donor].columns]"
   ]
  },
  {
   "cell_type": "code",
   "execution_count": 7,
   "metadata": {},
   "outputs": [],
   "source": [
    "mcmt_data = {}\n",
    "for donor in donors:\n",
    "    mcmt_data[donor] = pd.read_csv(INPUT_PATH + '0.0556_' + donor + '.csv', sep='\\s', names=meta_data_mt_SCITE[donor].columns, dtype=np.float64, engine='python')\n",
    "    mcmt_data[donor].index = meta_data_mt_SCITE[donor].index"
   ]
  },
  {
   "attachments": {},
   "cell_type": "markdown",
   "metadata": {},
   "source": [
    "## Check to see if any mutations are present in a large number of cells \n",
    "\n",
    "Over 10% likelyhood in at least 20% of cells"
   ]
  },
  {
   "cell_type": "code",
   "execution_count": 17,
   "metadata": {},
   "outputs": [
    {
     "data": {
      "text/plain": [
       "'A61'"
      ]
     },
     "execution_count": 17,
     "metadata": {},
     "output_type": "execute_result"
    }
   ],
   "source": [
    "meta_for_donor.loc['A1_06_D14_p1_A14', 'clone_id']"
   ]
  },
  {
   "cell_type": "code",
   "execution_count": 18,
   "metadata": {},
   "outputs": [],
   "source": [
    "test_concat = pd.concat([mcmt_data['A1_06'], test_df])"
   ]
  },
  {
   "cell_type": "code",
   "execution_count": 12,
   "metadata": {},
   "outputs": [],
   "source": [
    "all_positions = []\n",
    "\n",
    "for donor in donors:\n",
    "    positions = []\n",
    "    positions = mcmt_data[donor][((mcmt_data[donor] > 0.1).sum(axis=1) /len(mcmt_data[donor].columns)) >= 0.2].index\n",
    "    all_positions.append(positions)"
   ]
  },
  {
   "cell_type": "code",
   "execution_count": 13,
   "metadata": {},
   "outputs": [
    {
     "name": "stdout",
     "output_type": "stream",
     "text": [
      "Number of positions for A1_06: 0 \n",
      "Number of positions for A1_30: 0\n"
     ]
    }
   ],
   "source": [
    "print(f'Number of positions for {donors[0]}: {len(all_positions[0])} \\nNumber of positions for {donors[1]}: {len(all_positions[1])}') #\\nNumber of positions for {donors[2]}: {len(all_positions[2])} \\nNumber of positions for {donors[3]}: {len(all_positions[3])} \\n') "
   ]
  },
  {
   "attachments": {},
   "cell_type": "markdown",
   "metadata": {},
   "source": [
    "# Generate mtSCITE commands "
   ]
  },
  {
   "cell_type": "code",
   "execution_count": 38,
   "metadata": {},
   "outputs": [],
   "source": [
    "n_repetitions = 20000000"
   ]
  },
  {
   "cell_type": "code",
   "execution_count": 39,
   "metadata": {},
   "outputs": [],
   "source": [
    "scite_command_total = []\n",
    "for donor in donors: \n",
    "    create_directory(f'{OUTPUT_PATH}{donor}_{n_repetitions}/')\n",
    "    scite_command = f'{SCITE_PATH}scite -i  {INPUT_PATH}0.0556_{donor}.csv -n {mcmt_data[donor].index.size} -m {mcmt_data[donor].columns.size} -r 1 -l {n_repetitions} -fd 0.0001 -ad 0.0001 -cc 0.0 -s -a -o {OUTPUT_PATH}{donor}_{n_repetitions}/0.0556_{donor} 1> {OUTPUT_PATH}{donor}_{n_repetitions}/0.0556_{donor}.stdout.txt' \n",
    "    #print(f\"Running SCITE for {donor} clone {clone} with {mcmt_data_current_clone.index.size} number of positions and {mcmt_data_current_clone.columns.size} samples \\n specific posistions {mcmt_data_current_clone.index} \\n command: {scite_command} \")\n",
    "    scite_command_total.append(scite_command)\n",
    "\n"
   ]
  },
  {
   "cell_type": "code",
   "execution_count": 41,
   "metadata": {},
   "outputs": [
    {
     "data": {
      "text/plain": [
       "'/home/carler/lab/t_cell/phylogeny/mt-SCITE/scite -i  /home/carler/lab/t_cell/phylogeny/data/output/P20407/2023_4_27_pmat_clust_mutations_0/0.0556_A1_30.csv -n 577 -m 1169 -r 1 -l 20000000 -fd 0.0001 -ad 0.0001 -cc 0.0 -s -a -o /home/carler/lab/t_cell/phylogeny/data/output/P20407/2023_4_27_mt_scite_entire_dataset/A1_30_20000000/0.0556_A1_30 1> /home/carler/lab/t_cell/phylogeny/data/output/P20407/2023_4_27_mt_scite_entire_dataset/A1_30_20000000/0.0556_A1_30.stdout.txt'"
      ]
     },
     "execution_count": 41,
     "metadata": {},
     "output_type": "execute_result"
    }
   ],
   "source": [
    "scite_command_total[1]"
   ]
  },
  {
   "attachments": {},
   "cell_type": "markdown",
   "metadata": {},
   "source": [
    "# Run imputed TCR "
   ]
  },
  {
   "cell_type": "code",
   "execution_count": 36,
   "metadata": {},
   "outputs": [],
   "source": [
    "n_repetitions = 1000001\n",
    "scite_command_total = []\n",
    "RUN_SCREEN = False\n",
    "for donor in donors: \n",
    "    clones = meta_data.loc[mcmt_data[donor].columns].clone_id.unique()\n",
    "    clone_impute_df = pd.DataFrame(index=clones, columns=mcmt_data[donor].columns).fillna(0)\n",
    "    meta_for_donor = meta_data.loc[clone_impute_df.columns]\n",
    "    for clone  in clones: \n",
    "        clone_impute_df.loc[clone, meta_for_donor.loc[meta_for_donor['clone_id'] == clone].index] = 0.99 \n",
    "    donor_imputed_mcmt_df = pd.concat([mcmt_data[donor], clone_impute_df])\n",
    "    create_directory(f'{OUTPUT_PATH}{donor}_{n_repetitions}/')\n",
    "    create_directory(f'{OUTPUT_PATH}{donor}_{n_repetitions}/imputed_input')\n",
    "    donor_imputed_mcmt_df.to_csv(f'{OUTPUT_PATH}{donor}_{n_repetitions}/imputed_input/{donor}_imputed_t_cell.csv', sep=' ', index=False, header=False)\n",
    "    donor_imputed_mcmt_df.to_csv(f'{OUTPUT_PATH}{donor}_{n_repetitions}/imputed_input/{donor}_imputed_t_cell_meta_data.csv')\n",
    "    scite_command = f'{SCITE_PATH}scite -i  {OUTPUT_PATH}{donor}_{n_repetitions}/imputed_input/{donor}_imputed_t_cell.csv -n {donor_imputed_mcmt_df.index.size} -m {donor_imputed_mcmt_df.columns.size} -r 1 -l {n_repetitions} -fd 0.0001 -ad 0.0001 -cc 0.0 -s -a -o {OUTPUT_PATH}{donor}_{n_repetitions}/0.0556_{donor} 1> {OUTPUT_PATH}{donor}_{n_repetitions}/0.0556_{donor}.stdout.txt' \n",
    "    #print(f\"Running SCITE for {donor} clone {clone} with {mcmt_data_current_clone.index.size} number of positions and {mcmt_data_current_clone.columns.size} samples \\n specific posistions {mcmt_data_current_clone.index} \\n command: {scite_command} \")\n",
    "    scite_command_total.append(scite_command)"
   ]
  },
  {
   "cell_type": "code",
   "execution_count": 40,
   "metadata": {},
   "outputs": [],
   "source": [
    "import subprocess\n",
    "\n",
    "import time\n",
    "\n",
    "\n",
    "if len(scite_command_total) < 10: \n",
    "    for i, donor in enumerate(donors):\n",
    "        session_name = f\"{donor}_mt-scite_{n_repetitions}\"\n",
    "        subprocess.run(f\"screen -S {session_name} -d -m\", shell=True, check=True)\n",
    "        time.sleep(1)\n",
    "        subprocess.run(f\"screen -S {session_name} -X stuff '{scite_command_total[i]}\\n'\", shell=True, check=True)\n",
    "else: \n",
    "    print(f\"Make sure you really want to start {len(scite_command_total)} before you run this..\")"
   ]
  },
  {
   "cell_type": "code",
   "execution_count": 39,
   "metadata": {},
   "outputs": [
    {
     "data": {
      "text/plain": [
       "'h'"
      ]
     },
     "execution_count": 39,
     "metadata": {},
     "output_type": "execute_result"
    }
   ],
   "source": [
    "scite_command[i]"
   ]
  },
  {
   "cell_type": "code",
   "execution_count": null,
   "metadata": {},
   "outputs": [],
   "source": []
  }
 ],
 "metadata": {
  "kernelspec": {
   "display_name": "mtSCITE",
   "language": "python",
   "name": "python3"
  },
  "language_info": {
   "codemirror_mode": {
    "name": "ipython",
    "version": 3
   },
   "file_extension": ".py",
   "mimetype": "text/x-python",
   "name": "python",
   "nbconvert_exporter": "python",
   "pygments_lexer": "ipython3",
   "version": "3.10.10"
  },
  "orig_nbformat": 4,
  "vscode": {
   "interpreter": {
    "hash": "d25eb58dbdc5df937ab56d6baf0a7f59a3b22951a58d86ce9757a0701dc3152a"
   }
  }
 },
 "nbformat": 4,
 "nbformat_minor": 2
}
