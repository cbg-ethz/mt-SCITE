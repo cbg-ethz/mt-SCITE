{
 "cells": [
  {
   "cell_type": "code",
   "execution_count": 2,
   "metadata": {
    "ExecuteTime": {
     "end_time": "2021-05-28T13:49:38.375032Z",
     "start_time": "2021-05-28T13:49:38.363941Z"
    }
   },
   "outputs": [],
   "source": [
    "%matplotlib inline\n",
    "\n",
    "import matplotlib.pyplot as plt\n",
    "import seaborn as sns\n",
    "import numpy as np\n",
    "import pandas as pd\n",
    "#from Bio import SeqIO\n",
    "from glob import glob\n",
    "import os\n",
    "\n",
    "from mito.genotyping import nucleotide_mutation_prob, mutation_prob, COUNTS_COLUMNS\n",
    "\n",
    "\n",
    "# Plotting style\n",
    "sns.set_style('white')\n",
    "sns.set_context('notebook')\n",
    "#pd.set_option('max_rows', 1000)\n",
    "#pd.set_option('max_columns', 100)\n",
    "\n",
    "def plot_style(figsize=(12, 6), labelsize=20, titlesize=24, ticklabelsize=14, **kwargs):\n",
    "   basic_style = {\n",
    "       'figure.figsize': figsize,\n",
    "       'axes.labelsize': labelsize,\n",
    "       'axes.titlesize': titlesize,\n",
    "       'xtick.labelsize': ticklabelsize,\n",
    "       'ytick.labelsize': ticklabelsize,\n",
    "       'axes.spines.top': False,\n",
    "       'axes.spines.right': False,\n",
    "       'axes.spines.left': False,\n",
    "       'axes.grid': False,\n",
    "       'axes.grid.axis': 'y',\n",
    "   }\n",
    "   basic_style.update(kwargs)\n",
    "   return plt.rc_context(rc=basic_style)\n",
    "\n",
    "blue = sns.xkcd_rgb['ocean blue']"
   ]
  },
  {
   "cell_type": "code",
   "execution_count": 3,
   "metadata": {},
   "outputs": [],
   "source": [
    "import scanpy as sc"
   ]
  },
  {
   "cell_type": "markdown",
   "metadata": {},
   "source": [
    "# Load metadata and expression matrix and combine them in a neat AnnData object"
   ]
  },
  {
   "cell_type": "markdown",
   "metadata": {},
   "source": [
    "## Load cell metadata"
   ]
  },
  {
   "cell_type": "code",
   "execution_count": 4,
   "metadata": {
    "ExecuteTime": {
     "end_time": "2021-05-28T13:49:39.203733Z",
     "start_time": "2021-05-28T13:49:39.196289Z"
    }
   },
   "outputs": [],
   "source": [
    "def get_meta(experiment=None, filename='', report=True, invivo=True, bulks=False):\n",
    "    df = pd.read_csv(filename, sep=',', index_col=1, header=0, low_memory=False)\n",
    "    print(f'Data loaded,  {df.shape[0]} samples.')\n",
    "    df = df.loc[df['Sample_ID'].notnull()] # Only keep cells with sample ID.\n",
    "    print('Discarding samples without Sample ID.  {} samples remaining.'.format(len(df)))\n",
    "\n",
    "    df['Project_ID'] = [sid[:5] for sid in df.index] \n",
    "    if experiment:\n",
    "        df = df[ df['Project_ID'] == experiment] # Only cells from the experiment.\n",
    "        print('{} samples found in experiment {}.'.format(len(df), experiment))\n",
    "    else:\n",
    "        print('{} samples found in experiments {}.'.format(len(df), \n",
    "                                                          list(df['Project_ID'].unique())))\n",
    "    df = df.loc[df['Clone_ID'].notnull()] # Only keep cells with Clone ID.\n",
    "    print('Discarding samples without Clone ID.  {} samples remaining.'.format(len(df)))\n",
    "    if invivo:\n",
    "        df = df.loc[df['Condition'] == 'In_Vivo'] \n",
    "        print('Discarding samples that are not in-vivo.  {} samples remaining'.format(len(df)))\n",
    "    df.drop('Sample_ID', axis=1, inplace=True)\n",
    "    df.index = [cn[:-1] for cn in df.index]\n",
    "    if bulks:\n",
    "        df = df[ df['Cell_Number'] > 1] # Include only bulks.\n",
    "        print('Discarding single cells.  {} bulks remaining'.format(len(df)))\n",
    "    else:\n",
    "        df = df[ df['Cell_Number'] == 1] # Get rid of bulks.\n",
    "        print('Discarding bulks.  {} single cells remaining'.format(len(df)))\n",
    "    if report:\n",
    "        if bulks:\n",
    "            print('{} bulks found in experiment {}'.format(len(df), experiment))\n",
    "        else:\n",
    "            print('{} single cells found in experiment.'.format(len(df)))\n",
    "        clones = df['Clone_ID'].unique()\n",
    "        print('{} Clones: {}'.format(len(clones), ', '.join(clones)))\n",
    "        print('The first five rows of the dataframe are below')\n",
    "        display(df[:5])\n",
    "    return df"
   ]
  },
  {
   "cell_type": "code",
   "execution_count": 5,
   "metadata": {
    "ExecuteTime": {
     "end_time": "2021-05-28T13:49:39.644440Z",
     "start_time": "2021-05-28T13:49:39.611040Z"
    }
   },
   "outputs": [
    {
     "name": "stdout",
     "output_type": "stream",
     "text": [
      "Data loaded,  2364 samples.\n",
      "Discarding samples without Sample ID.  2345 samples remaining.\n",
      "2345 samples found in experiments ['P1299', 'P1902', 'P3128'].\n",
      "Discarding samples without Clone ID.  1978 samples remaining.\n",
      "Discarding samples that are not in-vivo.  1236 samples remaining\n",
      "Discarding bulks.  1236 single cells remaining\n",
      "1236 single cells found in experiment.\n",
      "179 Clones: 0, 153, 156, 176, 159, 322, 160, 162, 164, 130, 150, 167, 132, 244, 170, 112, 188, 107, 547, 174, 222, 177, 178, 121, 149, 134, 183, 193, 595, 189, 192, 194, 289, 291, 293, 294, 301, 280, 356, 109, 304, 307, 131, 308, 224, 312, 313, 316, 321, 325, 326, 225, 329, 287, 277, 391, 2, 389, 428, 15, 410, 226, 137, 414, 282, 419, 420, 456, 241, 459, 122, 382, 283, 477, 255, 264, 98, 95, 499, 501, 142, 509, 104, 100, 364, 504, 111, 129, 240, 369, 376, 92, 94, 508, 353, 242, 118, 615, 230, 515, 248, 234, 127, 525, 228, 247, 359, 387, 383, 97, 147, 106, 140, 259, 548, 552, 115, 281, 102, 143, 55, 57, 59, 74, 60, 61, 64, 67, 68, 69, 71, 72, 430, 86, 75, 77, 78, 79, 80, 81, 82, 83, 85, 88, 89, 91, 195, 197, 199, 200, 201, 334, 204, 205, 207, 208, 210, 212, 214, 434, 442, 93, 361, 103, 108, 119, 124, 125, 126, 227, 229, 272, 235, 243, 275, 273, 537, 258, 286\n",
      "The first five rows of the dataframe are below\n"
     ]
    },
    {
     "data": {
      "text/html": [
       "<div>\n",
       "<style scoped>\n",
       "    .dataframe tbody tr th:only-of-type {\n",
       "        vertical-align: middle;\n",
       "    }\n",
       "\n",
       "    .dataframe tbody tr th {\n",
       "        vertical-align: top;\n",
       "    }\n",
       "\n",
       "    .dataframe thead th {\n",
       "        text-align: right;\n",
       "    }\n",
       "</style>\n",
       "<table border=\"1\" class=\"dataframe\">\n",
       "  <thead>\n",
       "    <tr style=\"text-align: right;\">\n",
       "      <th></th>\n",
       "      <th>Condition</th>\n",
       "      <th>Cell_Number</th>\n",
       "      <th>Clone_ID</th>\n",
       "      <th>Day</th>\n",
       "      <th>In_Vivo_Clone_ID</th>\n",
       "      <th>Project_ID</th>\n",
       "    </tr>\n",
       "  </thead>\n",
       "  <tbody>\n",
       "    <tr>\n",
       "      <th>P1299_1097</th>\n",
       "      <td>In_Vivo</td>\n",
       "      <td>1.0</td>\n",
       "      <td>0</td>\n",
       "      <td>15.0</td>\n",
       "      <td>NaN</td>\n",
       "      <td>P1299</td>\n",
       "    </tr>\n",
       "    <tr>\n",
       "      <th>P1299_1098</th>\n",
       "      <td>In_Vivo</td>\n",
       "      <td>1.0</td>\n",
       "      <td>0</td>\n",
       "      <td>15.0</td>\n",
       "      <td>NaN</td>\n",
       "      <td>P1299</td>\n",
       "    </tr>\n",
       "    <tr>\n",
       "      <th>P1299_1099</th>\n",
       "      <td>In_Vivo</td>\n",
       "      <td>1.0</td>\n",
       "      <td>153</td>\n",
       "      <td>15.0</td>\n",
       "      <td>NaN</td>\n",
       "      <td>P1299</td>\n",
       "    </tr>\n",
       "    <tr>\n",
       "      <th>P1299_1100</th>\n",
       "      <td>In_Vivo</td>\n",
       "      <td>1.0</td>\n",
       "      <td>0</td>\n",
       "      <td>15.0</td>\n",
       "      <td>NaN</td>\n",
       "      <td>P1299</td>\n",
       "    </tr>\n",
       "    <tr>\n",
       "      <th>P1299_1101</th>\n",
       "      <td>In_Vivo</td>\n",
       "      <td>1.0</td>\n",
       "      <td>153</td>\n",
       "      <td>15.0</td>\n",
       "      <td>NaN</td>\n",
       "      <td>P1299</td>\n",
       "    </tr>\n",
       "  </tbody>\n",
       "</table>\n",
       "</div>"
      ],
      "text/plain": [
       "           Condition  Cell_Number Clone_ID   Day  In_Vivo_Clone_ID Project_ID\n",
       "P1299_1097   In_Vivo          1.0        0  15.0               NaN      P1299\n",
       "P1299_1098   In_Vivo          1.0        0  15.0               NaN      P1299\n",
       "P1299_1099   In_Vivo          1.0      153  15.0               NaN      P1299\n",
       "P1299_1100   In_Vivo          1.0        0  15.0               NaN      P1299\n",
       "P1299_1101   In_Vivo          1.0      153  15.0               NaN      P1299"
      ]
     },
     "metadata": {},
     "output_type": "display_data"
    }
   ],
   "source": [
    "meta_df = get_meta(filename = '../../data/YFV2001_gene_expression/metadata_marty_NFCORE_Sept2019.csv')\n",
    "cells = list(meta_df.index)"
   ]
  },
  {
   "cell_type": "markdown",
   "metadata": {},
   "source": [
    "## Loading gene metadata\n",
    "\n",
    "Now we load relevant information about the genes. We've downloaded the [GRCh37 human gene data set](https://grch37.ensembl.org/index.html) set from the biomart."
   ]
  },
  {
   "cell_type": "code",
   "execution_count": 6,
   "metadata": {
    "ExecuteTime": {
     "end_time": "2021-05-28T13:49:40.383263Z",
     "start_time": "2021-05-28T13:49:40.379752Z"
    }
   },
   "outputs": [],
   "source": [
    "def get_genes(filename):\n",
    "    df = pd.read_csv(filename, sep='\\t',\n",
    "                     index_col=0, header=0, low_memory=False)\n",
    "    df.columns = ['Transcript_length', 'Gene_name', 'GC_content','Transcript stable ID', 'TSS']\n",
    "    print('{} genes found in {}.'.format(len(df), filename))\n",
    "    return df"
   ]
  },
  {
   "cell_type": "code",
   "execution_count": 7,
   "metadata": {
    "ExecuteTime": {
     "end_time": "2021-05-28T13:49:41.095684Z",
     "start_time": "2021-05-28T13:49:40.732508Z"
    }
   },
   "outputs": [
    {
     "name": "stdout",
     "output_type": "stream",
     "text": [
      "215404 genes found in ../../data/YFV2001_gene_expression/GRCh37_Biomart.txt.\n"
     ]
    },
    {
     "data": {
      "text/html": [
       "<div>\n",
       "<style scoped>\n",
       "    .dataframe tbody tr th:only-of-type {\n",
       "        vertical-align: middle;\n",
       "    }\n",
       "\n",
       "    .dataframe tbody tr th {\n",
       "        vertical-align: top;\n",
       "    }\n",
       "\n",
       "    .dataframe thead th {\n",
       "        text-align: right;\n",
       "    }\n",
       "</style>\n",
       "<table border=\"1\" class=\"dataframe\">\n",
       "  <thead>\n",
       "    <tr style=\"text-align: right;\">\n",
       "      <th></th>\n",
       "      <th>Transcript_length</th>\n",
       "      <th>Gene_name</th>\n",
       "      <th>GC_content</th>\n",
       "      <th>Transcript stable ID</th>\n",
       "      <th>TSS</th>\n",
       "    </tr>\n",
       "    <tr>\n",
       "      <th>Gene stable ID</th>\n",
       "      <th></th>\n",
       "      <th></th>\n",
       "      <th></th>\n",
       "      <th></th>\n",
       "      <th></th>\n",
       "    </tr>\n",
       "  </thead>\n",
       "  <tbody>\n",
       "    <tr>\n",
       "      <th>ENSG00000261657</th>\n",
       "      <td>2673</td>\n",
       "      <td>SLC25A26</td>\n",
       "      <td>40.0</td>\n",
       "      <td>ENST00000566782</td>\n",
       "      <td>66119285</td>\n",
       "    </tr>\n",
       "    <tr>\n",
       "      <th>ENSG00000261657</th>\n",
       "      <td>1096</td>\n",
       "      <td>SLC25A26</td>\n",
       "      <td>40.0</td>\n",
       "      <td>ENST00000562780</td>\n",
       "      <td>66320895</td>\n",
       "    </tr>\n",
       "    <tr>\n",
       "      <th>ENSG00000261657</th>\n",
       "      <td>1840</td>\n",
       "      <td>SLC25A26</td>\n",
       "      <td>40.0</td>\n",
       "      <td>ENST00000569579</td>\n",
       "      <td>66320895</td>\n",
       "    </tr>\n",
       "    <tr>\n",
       "      <th>ENSG00000261657</th>\n",
       "      <td>3405</td>\n",
       "      <td>SLC25A26</td>\n",
       "      <td>40.0</td>\n",
       "      <td>ENST00000568242</td>\n",
       "      <td>66320895</td>\n",
       "    </tr>\n",
       "    <tr>\n",
       "      <th>ENSG00000261657</th>\n",
       "      <td>375</td>\n",
       "      <td>SLC25A26</td>\n",
       "      <td>40.0</td>\n",
       "      <td>ENST00000565530</td>\n",
       "      <td>66339287</td>\n",
       "    </tr>\n",
       "  </tbody>\n",
       "</table>\n",
       "</div>"
      ],
      "text/plain": [
       "                 Transcript_length Gene_name  GC_content Transcript stable ID  \\\n",
       "Gene stable ID                                                                  \n",
       "ENSG00000261657               2673  SLC25A26        40.0      ENST00000566782   \n",
       "ENSG00000261657               1096  SLC25A26        40.0      ENST00000562780   \n",
       "ENSG00000261657               1840  SLC25A26        40.0      ENST00000569579   \n",
       "ENSG00000261657               3405  SLC25A26        40.0      ENST00000568242   \n",
       "ENSG00000261657                375  SLC25A26        40.0      ENST00000565530   \n",
       "\n",
       "                      TSS  \n",
       "Gene stable ID             \n",
       "ENSG00000261657  66119285  \n",
       "ENSG00000261657  66320895  \n",
       "ENSG00000261657  66320895  \n",
       "ENSG00000261657  66320895  \n",
       "ENSG00000261657  66339287  "
      ]
     },
     "execution_count": 7,
     "metadata": {},
     "output_type": "execute_result"
    }
   ],
   "source": [
    "gene_raw = get_genes('../../data/YFV2001_gene_expression/GRCh37_Biomart.txt')\n",
    "gene_raw.head()"
   ]
  },
  {
   "cell_type": "code",
   "execution_count": 8,
   "metadata": {
    "ExecuteTime": {
     "end_time": "2021-05-28T13:49:41.430843Z",
     "start_time": "2021-05-28T13:49:41.097686Z"
    }
   },
   "outputs": [
    {
     "name": "stdout",
     "output_type": "stream",
     "text": [
      "63677 distinct Ensembl gene IDs found.\n"
     ]
    },
    {
     "data": {
      "text/html": [
       "<div>\n",
       "<style scoped>\n",
       "    .dataframe tbody tr th:only-of-type {\n",
       "        vertical-align: middle;\n",
       "    }\n",
       "\n",
       "    .dataframe tbody tr th {\n",
       "        vertical-align: top;\n",
       "    }\n",
       "\n",
       "    .dataframe thead th {\n",
       "        text-align: right;\n",
       "    }\n",
       "</style>\n",
       "<table border=\"1\" class=\"dataframe\">\n",
       "  <thead>\n",
       "    <tr style=\"text-align: right;\">\n",
       "      <th></th>\n",
       "      <th>Transcript_length</th>\n",
       "      <th>GC_content</th>\n",
       "      <th>Gene_name</th>\n",
       "    </tr>\n",
       "    <tr>\n",
       "      <th>Gene stable ID</th>\n",
       "      <th></th>\n",
       "      <th></th>\n",
       "      <th></th>\n",
       "    </tr>\n",
       "  </thead>\n",
       "  <tbody>\n",
       "    <tr>\n",
       "      <th>ENSG00000000003</th>\n",
       "      <td>1350.333333</td>\n",
       "      <td>40.87</td>\n",
       "      <td>TSPAN6</td>\n",
       "    </tr>\n",
       "    <tr>\n",
       "      <th>ENSG00000000005</th>\n",
       "      <td>940.500000</td>\n",
       "      <td>40.80</td>\n",
       "      <td>TNMD</td>\n",
       "    </tr>\n",
       "    <tr>\n",
       "      <th>ENSG00000000419</th>\n",
       "      <td>974.714286</td>\n",
       "      <td>39.85</td>\n",
       "      <td>DPM1</td>\n",
       "    </tr>\n",
       "    <tr>\n",
       "      <th>ENSG00000000457</th>\n",
       "      <td>3274.400000</td>\n",
       "      <td>40.14</td>\n",
       "      <td>SCYL3</td>\n",
       "    </tr>\n",
       "    <tr>\n",
       "      <th>ENSG00000000460</th>\n",
       "      <td>2197.200000</td>\n",
       "      <td>39.22</td>\n",
       "      <td>C1orf112</td>\n",
       "    </tr>\n",
       "  </tbody>\n",
       "</table>\n",
       "</div>"
      ],
      "text/plain": [
       "                 Transcript_length  GC_content Gene_name\n",
       "Gene stable ID                                          \n",
       "ENSG00000000003        1350.333333       40.87    TSPAN6\n",
       "ENSG00000000005         940.500000       40.80      TNMD\n",
       "ENSG00000000419         974.714286       39.85      DPM1\n",
       "ENSG00000000457        3274.400000       40.14     SCYL3\n",
       "ENSG00000000460        2197.200000       39.22  C1orf112"
      ]
     },
     "execution_count": 8,
     "metadata": {},
     "output_type": "execute_result"
    }
   ],
   "source": [
    "gene_lengths = gene_raw['Transcript_length'].groupby(gene_raw.index).mean()\n",
    "gene_GCs = gene_raw['GC_content'].groupby(gene_raw.index).mean()\n",
    "gene_df = pd.DataFrame(gene_lengths, index=gene_lengths.index)\n",
    "gene_df['GC_content'] = gene_GCs\n",
    "gene_df['Gene_name'] = gene_raw['Gene_name'].groupby(gene_raw.index).first()\n",
    "print('{} distinct Ensembl gene IDs found.'.format(len(gene_df)))\n",
    "gene_df.head()"
   ]
  },
  {
   "cell_type": "code",
   "execution_count": 9,
   "metadata": {
    "ExecuteTime": {
     "end_time": "2021-05-28T13:49:41.615340Z",
     "start_time": "2021-05-28T13:49:41.578238Z"
    }
   },
   "outputs": [
    {
     "name": "stdout",
     "output_type": "stream",
     "text": [
      "63677 ENSG gene ids loaded with 56638 unique gene names.\n"
     ]
    },
    {
     "data": {
      "text/plain": [
       "Gene stable ID\n",
       "ENSG00000000003      TSPAN6\n",
       "ENSG00000000005        TNMD\n",
       "ENSG00000000419        DPM1\n",
       "ENSG00000000457       SCYL3\n",
       "ENSG00000000460    C1orf112\n",
       "Name: Gene_name, dtype: object"
      ]
     },
     "execution_count": 9,
     "metadata": {},
     "output_type": "execute_result"
    }
   ],
   "source": [
    "genes = list(gene_df.index)\n",
    "gene_names = gene_df['Gene_name']\n",
    "print('{} ENSG gene ids loaded with {} unique gene names.'.format(len(genes), len(gene_names.unique())))\n",
    "gene_names.head()"
   ]
  },
  {
   "cell_type": "markdown",
   "metadata": {},
   "source": [
    "## Load expression counts\n",
    "\n",
    "Now we load the expression counts.  This might take a minute."
   ]
  },
  {
   "cell_type": "code",
   "execution_count": 10,
   "metadata": {
    "ExecuteTime": {
     "end_time": "2021-05-28T13:49:42.423037Z",
     "start_time": "2021-05-28T13:49:42.419379Z"
    }
   },
   "outputs": [],
   "source": [
    "def get_counts(filename, gdf):\n",
    "    df = pd.read_csv(filename, sep='\\t',\n",
    "                     index_col=0, header=0, low_memory=False)\n",
    "    df = df[df.columns[1:]]\n",
    "    cols = list(df.columns)\n",
    "    cols = ['_'.join(col.split('_')[3:5]) for col in cols]\n",
    "    df.columns = cols\n",
    "    return df"
   ]
  },
  {
   "cell_type": "code",
   "execution_count": 11,
   "metadata": {
    "ExecuteTime": {
     "end_time": "2021-05-28T13:50:04.341898Z",
     "start_time": "2021-05-28T13:49:42.835563Z"
    }
   },
   "outputs": [
    {
     "data": {
      "text/html": [
       "<div>\n",
       "<style scoped>\n",
       "    .dataframe tbody tr th:only-of-type {\n",
       "        vertical-align: middle;\n",
       "    }\n",
       "\n",
       "    .dataframe tbody tr th {\n",
       "        vertical-align: top;\n",
       "    }\n",
       "\n",
       "    .dataframe thead th {\n",
       "        text-align: right;\n",
       "    }\n",
       "</style>\n",
       "<table border=\"1\" class=\"dataframe\">\n",
       "  <thead>\n",
       "    <tr style=\"text-align: right;\">\n",
       "      <th></th>\n",
       "      <th>P1299_1097</th>\n",
       "      <th>P1299_1098</th>\n",
       "      <th>P1299_1099</th>\n",
       "      <th>P1299_1100</th>\n",
       "      <th>P1299_1101</th>\n",
       "      <th>P1299_1102</th>\n",
       "      <th>P1299_1103</th>\n",
       "      <th>P1299_1104</th>\n",
       "      <th>P1299_1105</th>\n",
       "      <th>P1299_1107</th>\n",
       "      <th>...</th>\n",
       "      <th>P3128_1182</th>\n",
       "      <th>P3128_1183</th>\n",
       "      <th>P3128_1184</th>\n",
       "      <th>P3128_1185</th>\n",
       "      <th>P3128_1186</th>\n",
       "      <th>P3128_1187</th>\n",
       "      <th>P3128_1188</th>\n",
       "      <th>P3128_1189</th>\n",
       "      <th>P3128_1190</th>\n",
       "      <th>P3128_1191</th>\n",
       "    </tr>\n",
       "    <tr>\n",
       "      <th>Geneid</th>\n",
       "      <th></th>\n",
       "      <th></th>\n",
       "      <th></th>\n",
       "      <th></th>\n",
       "      <th></th>\n",
       "      <th></th>\n",
       "      <th></th>\n",
       "      <th></th>\n",
       "      <th></th>\n",
       "      <th></th>\n",
       "      <th></th>\n",
       "      <th></th>\n",
       "      <th></th>\n",
       "      <th></th>\n",
       "      <th></th>\n",
       "      <th></th>\n",
       "      <th></th>\n",
       "      <th></th>\n",
       "      <th></th>\n",
       "      <th></th>\n",
       "      <th></th>\n",
       "    </tr>\n",
       "  </thead>\n",
       "  <tbody>\n",
       "    <tr>\n",
       "      <th>ENSG00000223972</th>\n",
       "      <td>0</td>\n",
       "      <td>0</td>\n",
       "      <td>0</td>\n",
       "      <td>0</td>\n",
       "      <td>0</td>\n",
       "      <td>0</td>\n",
       "      <td>0</td>\n",
       "      <td>0</td>\n",
       "      <td>0</td>\n",
       "      <td>0</td>\n",
       "      <td>...</td>\n",
       "      <td>0</td>\n",
       "      <td>0</td>\n",
       "      <td>0</td>\n",
       "      <td>0</td>\n",
       "      <td>0</td>\n",
       "      <td>0</td>\n",
       "      <td>0</td>\n",
       "      <td>0</td>\n",
       "      <td>0</td>\n",
       "      <td>0</td>\n",
       "    </tr>\n",
       "    <tr>\n",
       "      <th>ENSG00000227232</th>\n",
       "      <td>0</td>\n",
       "      <td>0</td>\n",
       "      <td>0</td>\n",
       "      <td>1</td>\n",
       "      <td>0</td>\n",
       "      <td>0</td>\n",
       "      <td>1</td>\n",
       "      <td>1</td>\n",
       "      <td>0</td>\n",
       "      <td>0</td>\n",
       "      <td>...</td>\n",
       "      <td>0</td>\n",
       "      <td>14</td>\n",
       "      <td>3</td>\n",
       "      <td>0</td>\n",
       "      <td>0</td>\n",
       "      <td>0</td>\n",
       "      <td>0</td>\n",
       "      <td>6</td>\n",
       "      <td>0</td>\n",
       "      <td>18</td>\n",
       "    </tr>\n",
       "    <tr>\n",
       "      <th>ENSG00000243485</th>\n",
       "      <td>0</td>\n",
       "      <td>0</td>\n",
       "      <td>0</td>\n",
       "      <td>0</td>\n",
       "      <td>0</td>\n",
       "      <td>0</td>\n",
       "      <td>0</td>\n",
       "      <td>0</td>\n",
       "      <td>0</td>\n",
       "      <td>0</td>\n",
       "      <td>...</td>\n",
       "      <td>0</td>\n",
       "      <td>0</td>\n",
       "      <td>0</td>\n",
       "      <td>0</td>\n",
       "      <td>0</td>\n",
       "      <td>0</td>\n",
       "      <td>0</td>\n",
       "      <td>0</td>\n",
       "      <td>0</td>\n",
       "      <td>0</td>\n",
       "    </tr>\n",
       "    <tr>\n",
       "      <th>ENSG00000237613</th>\n",
       "      <td>0</td>\n",
       "      <td>0</td>\n",
       "      <td>0</td>\n",
       "      <td>0</td>\n",
       "      <td>0</td>\n",
       "      <td>0</td>\n",
       "      <td>0</td>\n",
       "      <td>0</td>\n",
       "      <td>0</td>\n",
       "      <td>0</td>\n",
       "      <td>...</td>\n",
       "      <td>0</td>\n",
       "      <td>0</td>\n",
       "      <td>0</td>\n",
       "      <td>0</td>\n",
       "      <td>0</td>\n",
       "      <td>0</td>\n",
       "      <td>0</td>\n",
       "      <td>0</td>\n",
       "      <td>0</td>\n",
       "      <td>0</td>\n",
       "    </tr>\n",
       "    <tr>\n",
       "      <th>ENSG00000268020</th>\n",
       "      <td>0</td>\n",
       "      <td>0</td>\n",
       "      <td>0</td>\n",
       "      <td>0</td>\n",
       "      <td>0</td>\n",
       "      <td>0</td>\n",
       "      <td>0</td>\n",
       "      <td>0</td>\n",
       "      <td>0</td>\n",
       "      <td>0</td>\n",
       "      <td>...</td>\n",
       "      <td>0</td>\n",
       "      <td>0</td>\n",
       "      <td>0</td>\n",
       "      <td>0</td>\n",
       "      <td>0</td>\n",
       "      <td>0</td>\n",
       "      <td>0</td>\n",
       "      <td>0</td>\n",
       "      <td>0</td>\n",
       "      <td>0</td>\n",
       "    </tr>\n",
       "  </tbody>\n",
       "</table>\n",
       "<p>5 rows × 1236 columns</p>\n",
       "</div>"
      ],
      "text/plain": [
       "                 P1299_1097  P1299_1098  P1299_1099  P1299_1100  P1299_1101  \\\n",
       "Geneid                                                                        \n",
       "ENSG00000223972           0           0           0           0           0   \n",
       "ENSG00000227232           0           0           0           1           0   \n",
       "ENSG00000243485           0           0           0           0           0   \n",
       "ENSG00000237613           0           0           0           0           0   \n",
       "ENSG00000268020           0           0           0           0           0   \n",
       "\n",
       "                 P1299_1102  P1299_1103  P1299_1104  P1299_1105  P1299_1107  \\\n",
       "Geneid                                                                        \n",
       "ENSG00000223972           0           0           0           0           0   \n",
       "ENSG00000227232           0           1           1           0           0   \n",
       "ENSG00000243485           0           0           0           0           0   \n",
       "ENSG00000237613           0           0           0           0           0   \n",
       "ENSG00000268020           0           0           0           0           0   \n",
       "\n",
       "                 ...  P3128_1182  P3128_1183  P3128_1184  P3128_1185  \\\n",
       "Geneid           ...                                                   \n",
       "ENSG00000223972  ...           0           0           0           0   \n",
       "ENSG00000227232  ...           0          14           3           0   \n",
       "ENSG00000243485  ...           0           0           0           0   \n",
       "ENSG00000237613  ...           0           0           0           0   \n",
       "ENSG00000268020  ...           0           0           0           0   \n",
       "\n",
       "                 P3128_1186  P3128_1187  P3128_1188  P3128_1189  P3128_1190  \\\n",
       "Geneid                                                                        \n",
       "ENSG00000223972           0           0           0           0           0   \n",
       "ENSG00000227232           0           0           0           6           0   \n",
       "ENSG00000243485           0           0           0           0           0   \n",
       "ENSG00000237613           0           0           0           0           0   \n",
       "ENSG00000268020           0           0           0           0           0   \n",
       "\n",
       "                 P3128_1191  \n",
       "Geneid                       \n",
       "ENSG00000223972           0  \n",
       "ENSG00000227232          18  \n",
       "ENSG00000243485           0  \n",
       "ENSG00000237613           0  \n",
       "ENSG00000268020           0  \n",
       "\n",
       "[5 rows x 1236 columns]"
      ]
     },
     "execution_count": 11,
     "metadata": {},
     "output_type": "execute_result"
    }
   ],
   "source": [
    "foldername = '../../data/YFV2001_gene_expression/NFCore_Joanna_Mapped_Sept2019/'\n",
    "counts_df = get_counts(foldername+'P1299_merged_gene_counts.txt', gene_df)\n",
    "counts_df = counts_df.join(get_counts(foldername+'P1902_merged_gene_counts.txt', gene_df), how='left')\n",
    "counts_df = counts_df.join(get_counts(foldername+'P3128_merged_gene_counts.txt', gene_df), how='left')\n",
    "counts_df = counts_df[cells]\n",
    "counts_df.head()"
   ]
  },
  {
   "cell_type": "markdown",
   "metadata": {},
   "source": [
    "We check to make sure that the genes in the count-dataframe are also found in our gene metadata."
   ]
  },
  {
   "cell_type": "code",
   "execution_count": 12,
   "metadata": {
    "ExecuteTime": {
     "end_time": "2021-05-28T13:50:04.887477Z",
     "start_time": "2021-05-28T13:50:04.343953Z"
    }
   },
   "outputs": [
    {
     "name": "stdout",
     "output_type": "stream",
     "text": [
      "63677 genes contained in counts and also in gene metadata.\n",
      "0 genes have been lost :)\n"
     ]
    }
   ],
   "source": [
    "genes = [gene for gene in counts_df.index if gene in gene_df.index]\n",
    "print('{} genes contained in counts and also in gene metadata.'.format(len(genes)))\n",
    "gene_diff = len(counts_df) - len(genes)\n",
    "if gene_diff == 0:\n",
    "    emoticon = ':)'\n",
    "else:\n",
    "    emoticon = ':('\n",
    "print('{} genes have been lost {}'.format(gene_diff, emoticon))\n",
    "\n",
    "counts_df = counts_df.loc[genes]\n",
    "gene_df = gene_df.loc[genes]"
   ]
  },
  {
   "cell_type": "markdown",
   "metadata": {},
   "source": [
    "## Removing T-cell receptor genes\n",
    "\n",
    "If desired, we remove TCR genes right away, so they don't confuse things later on.  We load these genes from a file, and drop all the suspect ENSG IDs."
   ]
  },
  {
   "cell_type": "code",
   "execution_count": 13,
   "metadata": {
    "ExecuteTime": {
     "end_time": "2021-05-28T13:50:04.905625Z",
     "start_time": "2021-05-28T13:50:04.889442Z"
    }
   },
   "outputs": [
    {
     "name": "stdout",
     "output_type": "stream",
     "text": [
      "291 TCRs will be excluded.\n"
     ]
    }
   ],
   "source": [
    "TR_df = pd.read_csv('../../data/YFV2001_gene_expression/TR_genelist.tsv', sep='\\t')\n",
    "TR_symbols = TR_df['Approved symbol'].unique()\n",
    "TR_ENSG = gene_names[gene_names.isin(TR_symbols)].index # Work from symbols, not ENSG here.\n",
    "print('{} TCRs will be excluded.'.format(len(TR_ENSG)))"
   ]
  },
  {
   "cell_type": "code",
   "execution_count": 14,
   "metadata": {
    "ExecuteTime": {
     "end_time": "2021-05-28T13:50:05.325578Z",
     "start_time": "2021-05-28T13:50:04.907501Z"
    }
   },
   "outputs": [
    {
     "name": "stdout",
     "output_type": "stream",
     "text": [
      "Dropping 291 TCR genes.\n"
     ]
    }
   ],
   "source": [
    "TR_drops = [gene for gene in TR_ENSG if gene in counts_df.index]\n",
    "print('Dropping {} TCR genes.'.format(len(TR_drops)))\n",
    "counts_df.drop(TR_drops, axis=0, inplace=True)"
   ]
  },
  {
   "cell_type": "code",
   "execution_count": 15,
   "metadata": {
    "ExecuteTime": {
     "end_time": "2021-05-28T13:50:05.488133Z",
     "start_time": "2021-05-28T13:50:05.327554Z"
    }
   },
   "outputs": [
    {
     "name": "stdout",
     "output_type": "stream",
     "text": [
      "0 genes remaining that begin with TRA\n",
      "0 genes remaining that begin with TRB\n",
      "0 genes remaining that begin with TRG\n",
      "0 genes remaining that begin with TRJ\n"
     ]
    }
   ],
   "source": [
    "for greek in ['A','B','G','J']:\n",
    "    leftgenes = [gene for gene in gene_names[counts_df.index].values if gene[:2] == 'TR'+greek]\n",
    "    print('{} genes remaining that begin with TR{}'.format(len(leftgenes), greek))"
   ]
  },
  {
   "cell_type": "markdown",
   "metadata": {},
   "source": [
    "## Loading mutation data"
   ]
  },
  {
   "cell_type": "markdown",
   "metadata": {},
   "source": [
    "### Add memory score to metadata"
   ]
  },
  {
   "cell_type": "code",
   "execution_count": 16,
   "metadata": {
    "ExecuteTime": {
     "end_time": "2021-05-28T13:50:05.497291Z",
     "start_time": "2021-05-28T13:50:05.489948Z"
    }
   },
   "outputs": [],
   "source": [
    "clones_map = pd.read_csv('../../data/YFV2001_gene_expression/YFV2001_metadata_with_tree_id.csv')\n",
    "# Remove bulk\n",
    "clones_map = clones_map[clones_map.tree_id != 's0'].copy()"
   ]
  },
  {
   "cell_type": "code",
   "execution_count": 17,
   "metadata": {
    "ExecuteTime": {
     "end_time": "2021-05-28T13:50:05.502741Z",
     "start_time": "2021-05-28T13:50:05.499122Z"
    }
   },
   "outputs": [
    {
     "data": {
      "text/plain": [
       "(373, 6)"
      ]
     },
     "execution_count": 17,
     "metadata": {},
     "output_type": "execute_result"
    }
   ],
   "source": [
    "clones_map.shape"
   ]
  },
  {
   "cell_type": "code",
   "execution_count": 18,
   "metadata": {
    "ExecuteTime": {
     "end_time": "2021-05-28T13:50:06.584944Z",
     "start_time": "2021-05-28T13:50:06.571885Z"
    }
   },
   "outputs": [
    {
     "data": {
      "text/html": [
       "<div>\n",
       "<style scoped>\n",
       "    .dataframe tbody tr th:only-of-type {\n",
       "        vertical-align: middle;\n",
       "    }\n",
       "\n",
       "    .dataframe tbody tr th {\n",
       "        vertical-align: top;\n",
       "    }\n",
       "\n",
       "    .dataframe thead th {\n",
       "        text-align: right;\n",
       "    }\n",
       "</style>\n",
       "<table border=\"1\" class=\"dataframe\">\n",
       "  <thead>\n",
       "    <tr style=\"text-align: right;\">\n",
       "      <th></th>\n",
       "      <th>cell_id</th>\n",
       "      <th>Condition</th>\n",
       "      <th>Cell_Number</th>\n",
       "      <th>Clone_ID</th>\n",
       "      <th>Day</th>\n",
       "      <th>In_Vivo_Clone_ID</th>\n",
       "      <th>Project_ID</th>\n",
       "    </tr>\n",
       "  </thead>\n",
       "  <tbody>\n",
       "    <tr>\n",
       "      <th>0</th>\n",
       "      <td>P1299_1097</td>\n",
       "      <td>In_Vivo</td>\n",
       "      <td>1.0</td>\n",
       "      <td>0</td>\n",
       "      <td>15.0</td>\n",
       "      <td>NaN</td>\n",
       "      <td>P1299</td>\n",
       "    </tr>\n",
       "    <tr>\n",
       "      <th>1</th>\n",
       "      <td>P1299_1098</td>\n",
       "      <td>In_Vivo</td>\n",
       "      <td>1.0</td>\n",
       "      <td>0</td>\n",
       "      <td>15.0</td>\n",
       "      <td>NaN</td>\n",
       "      <td>P1299</td>\n",
       "    </tr>\n",
       "    <tr>\n",
       "      <th>2</th>\n",
       "      <td>P1299_1099</td>\n",
       "      <td>In_Vivo</td>\n",
       "      <td>1.0</td>\n",
       "      <td>153</td>\n",
       "      <td>15.0</td>\n",
       "      <td>NaN</td>\n",
       "      <td>P1299</td>\n",
       "    </tr>\n",
       "    <tr>\n",
       "      <th>3</th>\n",
       "      <td>P1299_1100</td>\n",
       "      <td>In_Vivo</td>\n",
       "      <td>1.0</td>\n",
       "      <td>0</td>\n",
       "      <td>15.0</td>\n",
       "      <td>NaN</td>\n",
       "      <td>P1299</td>\n",
       "    </tr>\n",
       "    <tr>\n",
       "      <th>4</th>\n",
       "      <td>P1299_1101</td>\n",
       "      <td>In_Vivo</td>\n",
       "      <td>1.0</td>\n",
       "      <td>153</td>\n",
       "      <td>15.0</td>\n",
       "      <td>NaN</td>\n",
       "      <td>P1299</td>\n",
       "    </tr>\n",
       "  </tbody>\n",
       "</table>\n",
       "</div>"
      ],
      "text/plain": [
       "      cell_id Condition  Cell_Number Clone_ID   Day  In_Vivo_Clone_ID  \\\n",
       "0  P1299_1097   In_Vivo          1.0        0  15.0               NaN   \n",
       "1  P1299_1098   In_Vivo          1.0        0  15.0               NaN   \n",
       "2  P1299_1099   In_Vivo          1.0      153  15.0               NaN   \n",
       "3  P1299_1100   In_Vivo          1.0        0  15.0               NaN   \n",
       "4  P1299_1101   In_Vivo          1.0      153  15.0               NaN   \n",
       "\n",
       "  Project_ID  \n",
       "0      P1299  \n",
       "1      P1299  \n",
       "2      P1299  \n",
       "3      P1299  \n",
       "4      P1299  "
      ]
     },
     "execution_count": 18,
     "metadata": {},
     "output_type": "execute_result"
    }
   ],
   "source": [
    "meta_df.reset_index().rename({'index': 'cell_id'}, axis=1).head()"
   ]
  },
  {
   "cell_type": "code",
   "execution_count": 19,
   "metadata": {
    "ExecuteTime": {
     "end_time": "2021-05-28T13:50:07.782666Z",
     "start_time": "2021-05-28T13:50:07.778518Z"
    }
   },
   "outputs": [
    {
     "data": {
      "text/plain": [
       "(1236, 6)"
      ]
     },
     "execution_count": 19,
     "metadata": {},
     "output_type": "execute_result"
    }
   ],
   "source": [
    "meta_df.shape"
   ]
  },
  {
   "cell_type": "code",
   "execution_count": 20,
   "metadata": {
    "ExecuteTime": {
     "end_time": "2021-05-28T13:50:09.865109Z",
     "start_time": "2021-05-28T13:50:09.851707Z"
    }
   },
   "outputs": [],
   "source": [
    "meta_df = meta_df.reset_index().rename({'index': 'cell_id'}, axis=1).merge(\n",
    "    clones_map[['cell_id', 'mem_score']], \n",
    "    how='left', \n",
    "    on='cell_id',\n",
    "    validate='1:1',\n",
    ")"
   ]
  },
  {
   "cell_type": "code",
   "execution_count": 21,
   "metadata": {
    "ExecuteTime": {
     "end_time": "2021-05-28T13:50:15.181779Z",
     "start_time": "2021-05-28T13:50:15.178298Z"
    }
   },
   "outputs": [
    {
     "data": {
      "text/plain": [
       "(1236, 8)"
      ]
     },
     "execution_count": 21,
     "metadata": {},
     "output_type": "execute_result"
    }
   ],
   "source": [
    "meta_df.shape"
   ]
  },
  {
   "cell_type": "markdown",
   "metadata": {},
   "source": [
    "## Add number of mutations on tree"
   ]
  },
  {
   "cell_type": "code",
   "execution_count": 22,
   "metadata": {
    "ExecuteTime": {
     "end_time": "2021-05-28T13:52:18.762930Z",
     "start_time": "2021-05-28T13:52:18.749773Z"
    }
   },
   "outputs": [
    {
     "data": {
      "text/html": [
       "<div>\n",
       "<style scoped>\n",
       "    .dataframe tbody tr th:only-of-type {\n",
       "        vertical-align: middle;\n",
       "    }\n",
       "\n",
       "    .dataframe tbody tr th {\n",
       "        vertical-align: top;\n",
       "    }\n",
       "\n",
       "    .dataframe thead th {\n",
       "        text-align: right;\n",
       "    }\n",
       "</style>\n",
       "<table border=\"1\" class=\"dataframe\">\n",
       "  <thead>\n",
       "    <tr style=\"text-align: right;\">\n",
       "      <th></th>\n",
       "      <th>cell_id</th>\n",
       "      <th>clone_id</th>\n",
       "      <th>day</th>\n",
       "      <th>n_mutations_tree</th>\n",
       "    </tr>\n",
       "  </thead>\n",
       "  <tbody>\n",
       "    <tr>\n",
       "      <th>0</th>\n",
       "      <td>P1299_1099</td>\n",
       "      <td>153</td>\n",
       "      <td>15.0</td>\n",
       "      <td>7</td>\n",
       "    </tr>\n",
       "    <tr>\n",
       "      <th>1</th>\n",
       "      <td>P1299_1101</td>\n",
       "      <td>153</td>\n",
       "      <td>15.0</td>\n",
       "      <td>6</td>\n",
       "    </tr>\n",
       "    <tr>\n",
       "      <th>2</th>\n",
       "      <td>P1299_1103</td>\n",
       "      <td>156</td>\n",
       "      <td>15.0</td>\n",
       "      <td>11</td>\n",
       "    </tr>\n",
       "    <tr>\n",
       "      <th>3</th>\n",
       "      <td>P1299_1105</td>\n",
       "      <td>176</td>\n",
       "      <td>15.0</td>\n",
       "      <td>4</td>\n",
       "    </tr>\n",
       "    <tr>\n",
       "      <th>4</th>\n",
       "      <td>P1299_1108</td>\n",
       "      <td>159</td>\n",
       "      <td>15.0</td>\n",
       "      <td>3</td>\n",
       "    </tr>\n",
       "  </tbody>\n",
       "</table>\n",
       "</div>"
      ],
      "text/plain": [
       "      cell_id  clone_id   day  n_mutations_tree\n",
       "0  P1299_1099       153  15.0                 7\n",
       "1  P1299_1101       153  15.0                 6\n",
       "2  P1299_1103       156  15.0                11\n",
       "3  P1299_1105       176  15.0                 4\n",
       "4  P1299_1108       159  15.0                 3"
      ]
     },
     "execution_count": 22,
     "metadata": {},
     "output_type": "execute_result"
    }
   ],
   "source": [
    "cells_info = pd.read_csv('../../data/YFV2001_gene_expression/YFV2001_202105_metadata_with_tree_mutations.csv')\n",
    "cells_info.head()"
   ]
  },
  {
   "cell_type": "code",
   "execution_count": 23,
   "metadata": {
    "ExecuteTime": {
     "end_time": "2021-05-28T13:53:23.565546Z",
     "start_time": "2021-05-28T13:53:23.554291Z"
    }
   },
   "outputs": [],
   "source": [
    "meta_df = meta_df.merge(\n",
    "    cells_info[['cell_id', 'n_mutations_tree']], \n",
    "    how='left', \n",
    "    on='cell_id',\n",
    "    validate='1:1',\n",
    ")"
   ]
  },
  {
   "cell_type": "code",
   "execution_count": 24,
   "metadata": {
    "ExecuteTime": {
     "end_time": "2021-05-28T13:53:26.286978Z",
     "start_time": "2021-05-28T13:53:26.274721Z"
    }
   },
   "outputs": [
    {
     "data": {
      "text/html": [
       "<div>\n",
       "<style scoped>\n",
       "    .dataframe tbody tr th:only-of-type {\n",
       "        vertical-align: middle;\n",
       "    }\n",
       "\n",
       "    .dataframe tbody tr th {\n",
       "        vertical-align: top;\n",
       "    }\n",
       "\n",
       "    .dataframe thead th {\n",
       "        text-align: right;\n",
       "    }\n",
       "</style>\n",
       "<table border=\"1\" class=\"dataframe\">\n",
       "  <thead>\n",
       "    <tr style=\"text-align: right;\">\n",
       "      <th></th>\n",
       "      <th>cell_id</th>\n",
       "      <th>Condition</th>\n",
       "      <th>Cell_Number</th>\n",
       "      <th>Clone_ID</th>\n",
       "      <th>Day</th>\n",
       "      <th>In_Vivo_Clone_ID</th>\n",
       "      <th>Project_ID</th>\n",
       "      <th>mem_score</th>\n",
       "      <th>n_mutations_tree</th>\n",
       "    </tr>\n",
       "  </thead>\n",
       "  <tbody>\n",
       "    <tr>\n",
       "      <th>0</th>\n",
       "      <td>P1299_1097</td>\n",
       "      <td>In_Vivo</td>\n",
       "      <td>1.0</td>\n",
       "      <td>0</td>\n",
       "      <td>15.0</td>\n",
       "      <td>NaN</td>\n",
       "      <td>P1299</td>\n",
       "      <td>NaN</td>\n",
       "      <td>NaN</td>\n",
       "    </tr>\n",
       "    <tr>\n",
       "      <th>1</th>\n",
       "      <td>P1299_1098</td>\n",
       "      <td>In_Vivo</td>\n",
       "      <td>1.0</td>\n",
       "      <td>0</td>\n",
       "      <td>15.0</td>\n",
       "      <td>NaN</td>\n",
       "      <td>P1299</td>\n",
       "      <td>NaN</td>\n",
       "      <td>NaN</td>\n",
       "    </tr>\n",
       "    <tr>\n",
       "      <th>2</th>\n",
       "      <td>P1299_1099</td>\n",
       "      <td>In_Vivo</td>\n",
       "      <td>1.0</td>\n",
       "      <td>153</td>\n",
       "      <td>15.0</td>\n",
       "      <td>NaN</td>\n",
       "      <td>P1299</td>\n",
       "      <td>NaN</td>\n",
       "      <td>7.0</td>\n",
       "    </tr>\n",
       "    <tr>\n",
       "      <th>3</th>\n",
       "      <td>P1299_1100</td>\n",
       "      <td>In_Vivo</td>\n",
       "      <td>1.0</td>\n",
       "      <td>0</td>\n",
       "      <td>15.0</td>\n",
       "      <td>NaN</td>\n",
       "      <td>P1299</td>\n",
       "      <td>NaN</td>\n",
       "      <td>NaN</td>\n",
       "    </tr>\n",
       "    <tr>\n",
       "      <th>4</th>\n",
       "      <td>P1299_1101</td>\n",
       "      <td>In_Vivo</td>\n",
       "      <td>1.0</td>\n",
       "      <td>153</td>\n",
       "      <td>15.0</td>\n",
       "      <td>NaN</td>\n",
       "      <td>P1299</td>\n",
       "      <td>NaN</td>\n",
       "      <td>6.0</td>\n",
       "    </tr>\n",
       "  </tbody>\n",
       "</table>\n",
       "</div>"
      ],
      "text/plain": [
       "      cell_id Condition  Cell_Number Clone_ID   Day  In_Vivo_Clone_ID  \\\n",
       "0  P1299_1097   In_Vivo          1.0        0  15.0               NaN   \n",
       "1  P1299_1098   In_Vivo          1.0        0  15.0               NaN   \n",
       "2  P1299_1099   In_Vivo          1.0      153  15.0               NaN   \n",
       "3  P1299_1100   In_Vivo          1.0        0  15.0               NaN   \n",
       "4  P1299_1101   In_Vivo          1.0      153  15.0               NaN   \n",
       "\n",
       "  Project_ID  mem_score  n_mutations_tree  \n",
       "0      P1299        NaN               NaN  \n",
       "1      P1299        NaN               NaN  \n",
       "2      P1299        NaN               7.0  \n",
       "3      P1299        NaN               NaN  \n",
       "4      P1299        NaN               6.0  "
      ]
     },
     "execution_count": 24,
     "metadata": {},
     "output_type": "execute_result"
    }
   ],
   "source": [
    "meta_df.head()"
   ]
  },
  {
   "cell_type": "code",
   "execution_count": 25,
   "metadata": {
    "ExecuteTime": {
     "end_time": "2021-05-28T13:53:29.149811Z",
     "start_time": "2021-05-28T13:53:29.145813Z"
    }
   },
   "outputs": [
    {
     "data": {
      "text/plain": [
       "(1236, 9)"
      ]
     },
     "execution_count": 25,
     "metadata": {},
     "output_type": "execute_result"
    }
   ],
   "source": [
    "meta_df.shape"
   ]
  },
  {
   "cell_type": "markdown",
   "metadata": {},
   "source": [
    "## Loading things into ScanPy\n",
    "\n",
    "Here we move our data into ScanPy's AnnData structure.  See [the AnnData docs](https://anndata.readthedocs.io/en/latest/index.html) for more."
   ]
  },
  {
   "cell_type": "code",
   "execution_count": 26,
   "metadata": {
    "ExecuteTime": {
     "end_time": "2021-05-28T13:53:30.286538Z",
     "start_time": "2021-05-28T13:53:30.281779Z"
    }
   },
   "outputs": [
    {
     "name": "stderr",
     "output_type": "stream",
     "text": [
      "/Users/johard/miniconda3/envs/scanpy/lib/python3.10/site-packages/tqdm/auto.py:22: TqdmWarning: IProgress not found. Please update jupyter and ipywidgets. See https://ipywidgets.readthedocs.io/en/stable/user_install.html\n",
      "  from .autonotebook import tqdm as notebook_tqdm\n"
     ]
    },
    {
     "name": "stdout",
     "output_type": "stream",
     "text": [
      "scanpy==1.9.1 anndata==0.8.0 umap==0.5.3 numpy==1.23.5 scipy==1.10.0 pandas==1.5.3 scikit-learn==1.2.1 statsmodels==0.13.5 python-igraph==0.10.3 pynndescent==0.5.8\n"
     ]
    }
   ],
   "source": [
    "import scanpy as sc\n",
    "sc.settings.verbosity = 1             # verbosity: errors (0), warnings (1), info (2), hints (3)\n",
    "sc.logging.print_header()\n",
    "sc.settings.set_figure_params(dpi=80, facecolor='white')"
   ]
  },
  {
   "cell_type": "code",
   "execution_count": 27,
   "metadata": {
    "ExecuteTime": {
     "end_time": "2021-05-28T13:53:31.655232Z",
     "start_time": "2021-05-28T13:53:31.642973Z"
    }
   },
   "outputs": [
    {
     "data": {
      "text/html": [
       "<div>\n",
       "<style scoped>\n",
       "    .dataframe tbody tr th:only-of-type {\n",
       "        vertical-align: middle;\n",
       "    }\n",
       "\n",
       "    .dataframe tbody tr th {\n",
       "        vertical-align: top;\n",
       "    }\n",
       "\n",
       "    .dataframe thead th {\n",
       "        text-align: right;\n",
       "    }\n",
       "</style>\n",
       "<table border=\"1\" class=\"dataframe\">\n",
       "  <thead>\n",
       "    <tr style=\"text-align: right;\">\n",
       "      <th></th>\n",
       "      <th>cell_id</th>\n",
       "      <th>Condition</th>\n",
       "      <th>Cell_Number</th>\n",
       "      <th>Clone_ID</th>\n",
       "      <th>Day</th>\n",
       "      <th>In_Vivo_Clone_ID</th>\n",
       "      <th>Project_ID</th>\n",
       "      <th>mem_score</th>\n",
       "      <th>n_mutations_tree</th>\n",
       "    </tr>\n",
       "  </thead>\n",
       "  <tbody>\n",
       "    <tr>\n",
       "      <th>0</th>\n",
       "      <td>P1299_1097</td>\n",
       "      <td>In_Vivo</td>\n",
       "      <td>1.0</td>\n",
       "      <td>0</td>\n",
       "      <td>15.0</td>\n",
       "      <td>NaN</td>\n",
       "      <td>P1299</td>\n",
       "      <td>NaN</td>\n",
       "      <td>NaN</td>\n",
       "    </tr>\n",
       "    <tr>\n",
       "      <th>1</th>\n",
       "      <td>P1299_1098</td>\n",
       "      <td>In_Vivo</td>\n",
       "      <td>1.0</td>\n",
       "      <td>0</td>\n",
       "      <td>15.0</td>\n",
       "      <td>NaN</td>\n",
       "      <td>P1299</td>\n",
       "      <td>NaN</td>\n",
       "      <td>NaN</td>\n",
       "    </tr>\n",
       "    <tr>\n",
       "      <th>2</th>\n",
       "      <td>P1299_1099</td>\n",
       "      <td>In_Vivo</td>\n",
       "      <td>1.0</td>\n",
       "      <td>153</td>\n",
       "      <td>15.0</td>\n",
       "      <td>NaN</td>\n",
       "      <td>P1299</td>\n",
       "      <td>NaN</td>\n",
       "      <td>7.0</td>\n",
       "    </tr>\n",
       "    <tr>\n",
       "      <th>3</th>\n",
       "      <td>P1299_1100</td>\n",
       "      <td>In_Vivo</td>\n",
       "      <td>1.0</td>\n",
       "      <td>0</td>\n",
       "      <td>15.0</td>\n",
       "      <td>NaN</td>\n",
       "      <td>P1299</td>\n",
       "      <td>NaN</td>\n",
       "      <td>NaN</td>\n",
       "    </tr>\n",
       "    <tr>\n",
       "      <th>4</th>\n",
       "      <td>P1299_1101</td>\n",
       "      <td>In_Vivo</td>\n",
       "      <td>1.0</td>\n",
       "      <td>153</td>\n",
       "      <td>15.0</td>\n",
       "      <td>NaN</td>\n",
       "      <td>P1299</td>\n",
       "      <td>NaN</td>\n",
       "      <td>6.0</td>\n",
       "    </tr>\n",
       "  </tbody>\n",
       "</table>\n",
       "</div>"
      ],
      "text/plain": [
       "      cell_id Condition  Cell_Number Clone_ID   Day  In_Vivo_Clone_ID  \\\n",
       "0  P1299_1097   In_Vivo          1.0        0  15.0               NaN   \n",
       "1  P1299_1098   In_Vivo          1.0        0  15.0               NaN   \n",
       "2  P1299_1099   In_Vivo          1.0      153  15.0               NaN   \n",
       "3  P1299_1100   In_Vivo          1.0        0  15.0               NaN   \n",
       "4  P1299_1101   In_Vivo          1.0      153  15.0               NaN   \n",
       "\n",
       "  Project_ID  mem_score  n_mutations_tree  \n",
       "0      P1299        NaN               NaN  \n",
       "1      P1299        NaN               NaN  \n",
       "2      P1299        NaN               7.0  \n",
       "3      P1299        NaN               NaN  \n",
       "4      P1299        NaN               6.0  "
      ]
     },
     "execution_count": 27,
     "metadata": {},
     "output_type": "execute_result"
    }
   ],
   "source": [
    "meta_df.head()"
   ]
  },
  {
   "cell_type": "code",
   "execution_count": 28,
   "metadata": {
    "ExecuteTime": {
     "end_time": "2021-05-28T13:56:16.842167Z",
     "start_time": "2021-05-28T13:56:16.483505Z"
    }
   },
   "outputs": [
    {
     "name": "stderr",
     "output_type": "stream",
     "text": [
      "/var/folders/vw/hdz80fyj66q3q6n5fkgfmvf80000gs/T/ipykernel_29115/2612063469.py:2: FutureWarning: X.dtype being converted to np.float32 from int64. In the next version of anndata (0.9) conversion will not be automatic. Pass dtype explicitly to avoid this warning. Pass `AnnData(X, dtype=X.dtype, ...)` to get the future behavour.\n",
      "  adata = sc.AnnData(counts_df.T) # Plunk it into an AnnData structure.\n",
      "/Users/johard/miniconda3/envs/scanpy/lib/python3.10/site-packages/anndata/utils.py:111: UserWarning: Suffix used (-[0-9]+) to deduplicate index values may make index values difficult to interpret. There values with a similar suffixes in the index. Consider using a different delimiter by passing `join={delimiter}`Example key collisions generated by the make_index_unique algorithm: ['SNORD116-1', 'SNORD116-2', 'SNORD116-3', 'SNORD113-1', 'SNORD113-2']\n",
      "  warnings.warn(\n"
     ]
    },
    {
     "data": {
      "text/plain": [
       "AnnData object with n_obs × n_vars = 1236 × 63386\n",
       "    obs: 'Day', 'Project_ID', 'Clone_ID', 'mem_score', 'n_mutations_tree'\n",
       "    var: 'transcript_length', 'ENSG_ID', 'plain_name'"
      ]
     },
     "execution_count": 28,
     "metadata": {},
     "output_type": "execute_result"
    }
   ],
   "source": [
    "## Expression matrix\n",
    "adata = sc.AnnData(counts_df.T) # Plunk it into an AnnData structure.\n",
    "\n",
    "## Gene metadata\n",
    "adata.var['transcript_length'] = gene_df['Transcript_length']\n",
    "adata.var['ENSG_ID'] = adata.var.index\n",
    "adata.var['plain_name'] = gene_names[adata.var.index]\n",
    "adata.var.index = adata.var['plain_name'] # Reindex by gene name\n",
    "adata.var_names_make_unique() # Use common gene names, but uniquify them.\n",
    "adata.var.index.name = 'unique_name'\n",
    "\n",
    "## Cell metadata.\n",
    "meta_df_idx = meta_df.set_index('cell_id')\n",
    "adata.obs['Day'] = meta_df_idx['Day'].astype(int)\n",
    "adata.obs['Project_ID'] = meta_df_idx['Project_ID']+'_Day_'+adata.obs['Day'].astype(str)\n",
    "adata.obs['Clone_ID'] = meta_df_idx['Clone_ID']\n",
    "adata.obs['mem_score'] = meta_df_idx['mem_score']\n",
    "adata.obs['n_mutations_tree'] = meta_df_idx['n_mutations_tree']\n",
    "adata.obs\n",
    "\n",
    "adata"
   ]
  },
  {
   "cell_type": "code",
   "execution_count": 32,
   "metadata": {
    "ExecuteTime": {
     "end_time": "2021-05-28T13:56:26.918846Z",
     "start_time": "2021-05-28T13:56:25.410831Z"
    }
   },
   "outputs": [],
   "source": [
    "adata.write('../../data/YFV2001_gene_expression/results/YFV2001_230127_scanpy_data.h5ad')"
   ]
  }
 ],
 "metadata": {
  "hide_input": false,
  "kernelspec": {
   "display_name": "scanpy",
   "language": "python",
   "name": "scanpy"
  },
  "language_info": {
   "codemirror_mode": {
    "name": "ipython",
    "version": 3
   },
   "file_extension": ".py",
   "mimetype": "text/x-python",
   "name": "python",
   "nbconvert_exporter": "python",
   "pygments_lexer": "ipython3",
   "version": "3.10.8"
  },
  "toc": {
   "nav_menu": {
    "height": "156px",
    "width": "252px"
   },
   "navigate_menu": true,
   "number_sections": true,
   "sideBar": true,
   "threshold": 4,
   "toc_cell": false,
   "toc_section_display": "block",
   "toc_window_display": false
  }
 },
 "nbformat": 4,
 "nbformat_minor": 2
}
