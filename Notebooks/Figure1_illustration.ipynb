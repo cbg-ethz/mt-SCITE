{
 "cells": [
  {
   "cell_type": "code",
   "execution_count": 72,
   "id": "9ee5105e",
   "metadata": {},
   "outputs": [],
   "source": [
    "from Bio import SeqIO\n",
    "from glob import glob\n",
    "import os\n",
    "import seaborn as sns\n",
    "import matplotlib.pyplot as plt\n",
    "import re\n",
    "from graphviz import Source\n",
    "import networkx as nx\n",
    "\n",
    "def plot_style(figsize=(12, 6), labelsize=24, titlesize=28, ticklabelsize=20, **kwargs):\n",
    "   basic_style = {\n",
    "       'figure.figsize': figsize,\n",
    "       'axes.labelsize': labelsize,\n",
    "       'axes.titlesize': titlesize,\n",
    "       'xtick.labelsize': ticklabelsize,\n",
    "       'ytick.labelsize': ticklabelsize,\n",
    "       'axes.spines.top': False,\n",
    "       'axes.spines.right': False,\n",
    "       'axes.spines.left': False,\n",
    "       'axes.grid': False,\n",
    "       'axes.grid.axis': 'y',\n",
    "   }\n",
    "   basic_style.update(kwargs)\n",
    "   return plt.rc_context(rc=basic_style)\n",
    "\n",
    "blue = sns.xkcd_rgb['ocean blue']\n"
   ]
  },
  {
   "cell_type": "code",
   "execution_count": 2,
   "id": "7c005ade",
   "metadata": {},
   "outputs": [
    {
     "data": {
      "text/plain": [
       "'1.22.3'"
      ]
     },
     "execution_count": 2,
     "metadata": {},
     "output_type": "execute_result"
    }
   ],
   "source": [
    "import numpy\n",
    "numpy.__version__"
   ]
  },
  {
   "cell_type": "code",
   "execution_count": 3,
   "id": "f926611e",
   "metadata": {},
   "outputs": [],
   "source": [
    "from mito.genotyping import *"
   ]
  },
  {
   "cell_type": "markdown",
   "id": "539f4957",
   "metadata": {},
   "source": [
    "## Load reference"
   ]
  },
  {
   "cell_type": "code",
   "execution_count": 4,
   "id": "5a956aef",
   "metadata": {},
   "outputs": [],
   "source": [
    "# Path to reference genome\n",
    "reference_path = '../../data/reference/mito_GRCh38_gimlet.fasta'\n",
    "\n",
    "with open(reference_path, 'r'):\n",
    "    reference_seq = next(SeqIO.parse(reference_path, \"fasta\"))\n",
    "reference = pd.Series(list(reference_seq.seq))"
   ]
  },
  {
   "cell_type": "markdown",
   "id": "3e899e2e",
   "metadata": {},
   "source": [
    "## Load read matrices"
   ]
  },
  {
   "cell_type": "code",
   "execution_count": 5,
   "id": "22cacc26",
   "metadata": {},
   "outputs": [],
   "source": [
    "# Path to allele count files\n",
    "INPUT_PATH = '../../data/P9855_and_bulk_ac_for_fig1_illustration'"
   ]
  },
  {
   "cell_type": "code",
   "execution_count": 6,
   "id": "c5e26b1b",
   "metadata": {},
   "outputs": [
    {
     "name": "stdout",
     "output_type": "stream",
     "text": [
      "Reading ../../data/P9855_and_bulk_ac_for_fig1_illustration/P3861_218.clean.dedup_ac.txt\n",
      "Reading ../../data/P9855_and_bulk_ac_for_fig1_illustration/P9855_2089_S112_L004_ac.txt\n",
      "Reading ../../data/P9855_and_bulk_ac_for_fig1_illustration/P9855_2090_S113_L004_ac.txt\n",
      "Reading ../../data/P9855_and_bulk_ac_for_fig1_illustration/P9855_2104_S127_L006_ac.txt\n",
      "Reading ../../data/P9855_and_bulk_ac_for_fig1_illustration/P9855_2110_S133_L007_ac.txt\n",
      "Reading ../../data/P9855_and_bulk_ac_for_fig1_illustration/P9855_2111_S134_L007_ac.txt\n",
      "Reading ../../data/P9855_and_bulk_ac_for_fig1_illustration/P9855_2112_S135_L007_ac.txt\n"
     ]
    }
   ],
   "source": [
    "cell_count = []\n",
    "\n",
    "# Get all allele counts files in the input path\n",
    "cell_count_filenames = list(glob(os.path.join(INPUT_PATH, '*.txt'))) #*.txt\n",
    "\n",
    "for filename in sorted(cell_count_filenames):\n",
    "    print('Reading {}'.format(filename))\n",
    "    name = os.path.basename(filename).split('.')[0]\n",
    "    \n",
    "\n",
    "    # Load one allele count file\n",
    "    counts = pd.read_csv(filename, sep='\\t')\n",
    "    counts.name = name\n",
    "    cell_count.append(counts)\n",
    "    \n",
    "# Get sample order\n",
    "\n",
    "sample_list = []\n",
    "\n",
    "for filename in sorted(cell_count_filenames):\n",
    "    name = os.path.basename(filename).split('-')[0]\n",
    "    sample_list.append(name)\n",
    "\n",
    "sample_list_df = pd.DataFrame(sample_list)\n",
    "sample_list_df = sample_list_df.rename(columns={0: 'cell'})"
   ]
  },
  {
   "cell_type": "code",
   "execution_count": 7,
   "id": "a5b75ec0",
   "metadata": {},
   "outputs": [],
   "source": [
    "e_rates = [0.001]"
   ]
  },
  {
   "cell_type": "markdown",
   "id": "ac213a64",
   "metadata": {},
   "source": [
    "## Compute mutations probabilities"
   ]
  },
  {
   "cell_type": "code",
   "execution_count": 8,
   "id": "535f29c4",
   "metadata": {},
   "outputs": [],
   "source": [
    "def cell_prob(e_rate):\n",
    "    \n",
    "    error_rate_when_no_mutation = error_rate_when_mutation = e_rate\n",
    "    p_mutation = 1 / 1000.0\n",
    "\n",
    "    cell_prob = []\n",
    "    for count in cell_count:\n",
    "        count = count.iloc[:reference.shape[0]]  # discard trailing positions\n",
    "        p = nucleotide_mutation_prob(\n",
    "            cell_counts=count,\n",
    "            reference=reference,\n",
    "            error_rate_when_no_mutation=error_rate_when_no_mutation,\n",
    "            error_rate_when_mutation=error_rate_when_mutation,\n",
    "            p_mutation=p_mutation,\n",
    "        )\n",
    "\n",
    "        cell_prob.append(p)\n",
    "        \n",
    "    # Compute P(mutation | read counts)\n",
    "    cells_p_mutation = []\n",
    "    for cell_prob in cell_prob:\n",
    "        p = mutation_prob(cell_prob, reference)\n",
    "        cells_p_mutation.append(p)\n",
    "        \n",
    "        \n",
    "    # Make mutation matrix\n",
    "    mutation_matrix = cells_p_mutation[0][['#CHR', 'POS']].copy()\n",
    "    mutation_matrix_data = pd.DataFrame(np.dstack([c['Prob_mutation'].values for c in cells_p_mutation]).squeeze())\n",
    "    mutation_matrix = pd.concat([mutation_matrix, mutation_matrix_data], axis=1)\n",
    "    return mutation_matrix      "
   ]
  },
  {
   "cell_type": "markdown",
   "id": "cfa83fce",
   "metadata": {},
   "source": [
    "## Filter pmat"
   ]
  },
  {
   "cell_type": "code",
   "execution_count": 98,
   "id": "4d0bc336",
   "metadata": {},
   "outputs": [],
   "source": [
    "def flt_pmat(e_rate):\n",
    "    mutation_matrix = cell_prob(e_rate)\n",
    "\n",
    "    # Remove germline mutations\n",
    "    mutation_matrix = mutation_matrix.loc[mutation_matrix[0] < 0.9]\n",
    "    \n",
    "    # Probabilities for location with mutation at any of the cells\n",
    "    mutation_threshold = 0.9\n",
    "    data = mutation_matrix.set_index('POS').drop('#CHR', axis=1)\n",
    "    mutation_any_cell = data[(data > mutation_threshold).any(axis=1)]\n",
    "    \n",
    "    # select rows that have a value greater than mutation_threshold in more than x cells\n",
    "    mutation_threshold = 0.9\n",
    "    mask = (data.values > mutation_threshold).sum(axis=1) > 1 #create an array with boolean values and sum these along the axis and select rows with more than 1 True\n",
    "    two_cells_have_mut = data[mask]\n",
    "\n",
    "    # Fix matrix\n",
    "    half = len(two_cells_have_mut.columns) / 2\n",
    "\n",
    "    # Remove rows where 50% of cols are nan and save in new df\n",
    "    nan_rows = two_cells_have_mut.drop(two_cells_have_mut[(two_cells_have_mut.isna()).sum(axis=1)> half].index)\n",
    "\n",
    "    # Replace NaN with row mean\n",
    "    imputed = nan_rows.transpose().fillna(nan_rows.mean(axis=1)).transpose()\n",
    "    \n",
    "    # To skip removal of sites with overall high probability for mut\n",
    "    high_prob_rows = imputed.copy()\n",
    "    \n",
    "    # Replace 1.0\n",
    "    high_prob_rows = high_prob_rows.replace(1.0, 0.99999)\n",
    "    \n",
    "    #np.set_printoptions(suppress=True)\n",
    "    #e_rate_name = str(e_rate)\n",
    "    #matrix_path = '../../data/illustration_fig1_matrix_output/' + e_rate_name + '.csv'\n",
    "    #high_prob_rows.to_csv(matrix_path, index=False, sep=' ', header= False)\n",
    "    return high_prob_rows\n",
    "    \n",
    "    #print positions\n",
    "    #matrix_path = '../../data/P9855_matrix_output_w_pos/' + e_rate_name + '.csv'\n",
    "    #high_prob_rows.to_csv(matrix_path, sep='\\t', header=False)\n",
    "    \n"
   ]
  },
  {
   "cell_type": "code",
   "execution_count": 99,
   "id": "c342cc49",
   "metadata": {},
   "outputs": [
    {
     "name": "stderr",
     "output_type": "stream",
     "text": [
      "/Users/johard/Documents/mcmt/MCMT/Notebooks/mito/genotyping.py:251: FutureWarning: The 'lookup' method is deprecated and will be removed in a future version. You can use DataFrame.melt and DataFrame.loc as a substitute.\n",
      "  prob_mutation['Prob_mutation'] = 1 - p.lookup(p.index, reference.values)\n",
      "/Users/johard/Documents/mcmt/MCMT/Notebooks/mito/genotyping.py:251: FutureWarning: The 'lookup' method is deprecated and will be removed in a future version. You can use DataFrame.melt and DataFrame.loc as a substitute.\n",
      "  prob_mutation['Prob_mutation'] = 1 - p.lookup(p.index, reference.values)\n",
      "/Users/johard/Documents/mcmt/MCMT/Notebooks/mito/genotyping.py:251: FutureWarning: The 'lookup' method is deprecated and will be removed in a future version. You can use DataFrame.melt and DataFrame.loc as a substitute.\n",
      "  prob_mutation['Prob_mutation'] = 1 - p.lookup(p.index, reference.values)\n",
      "/Users/johard/Documents/mcmt/MCMT/Notebooks/mito/genotyping.py:251: FutureWarning: The 'lookup' method is deprecated and will be removed in a future version. You can use DataFrame.melt and DataFrame.loc as a substitute.\n",
      "  prob_mutation['Prob_mutation'] = 1 - p.lookup(p.index, reference.values)\n",
      "/Users/johard/Documents/mcmt/MCMT/Notebooks/mito/genotyping.py:251: FutureWarning: The 'lookup' method is deprecated and will be removed in a future version. You can use DataFrame.melt and DataFrame.loc as a substitute.\n",
      "  prob_mutation['Prob_mutation'] = 1 - p.lookup(p.index, reference.values)\n",
      "/Users/johard/Documents/mcmt/MCMT/Notebooks/mito/genotyping.py:251: FutureWarning: The 'lookup' method is deprecated and will be removed in a future version. You can use DataFrame.melt and DataFrame.loc as a substitute.\n",
      "  prob_mutation['Prob_mutation'] = 1 - p.lookup(p.index, reference.values)\n",
      "/Users/johard/Documents/mcmt/MCMT/Notebooks/mito/genotyping.py:251: FutureWarning: The 'lookup' method is deprecated and will be removed in a future version. You can use DataFrame.melt and DataFrame.loc as a substitute.\n",
      "  prob_mutation['Prob_mutation'] = 1 - p.lookup(p.index, reference.values)\n"
     ]
    }
   ],
   "source": [
    "for e_rate in e_rates:\n",
    "    high_prob_rows = flt_pmat(e_rate)"
   ]
  },
  {
   "cell_type": "code",
   "execution_count": 215,
   "id": "3543e020",
   "metadata": {},
   "outputs": [],
   "source": [
    "# Remove some mutations\n",
    "rows_to_remove = [3109, 36, 1782, 10799, 5798, 7151, 15523, 1126]\n",
    "pmat = high_prob_rows.drop(rows_to_remove)"
   ]
  },
  {
   "cell_type": "markdown",
   "id": "612c7d21",
   "metadata": {},
   "source": [
    "## Probability distribution"
   ]
  },
  {
   "cell_type": "code",
   "execution_count": null,
   "id": "17933722",
   "metadata": {},
   "outputs": [],
   "source": []
  },
  {
   "cell_type": "code",
   "execution_count": 217,
   "id": "f2f5c381",
   "metadata": {},
   "outputs": [],
   "source": [
    "# change order of rows so that shared mutations come first, then clonal mutations\n",
    "row_order = [6533, 14320, 7632, 9478, 12946, 2361, 2844, 5130]\n",
    "\n",
    "\n",
    "pmat = pmat.reindex(row_order)\n"
   ]
  },
  {
   "cell_type": "code",
   "execution_count": 195,
   "id": "59534cd7",
   "metadata": {},
   "outputs": [],
   "source": [
    "# Save the pmat\n",
    "e_rate_name = str(e_rate)\n",
    "matrix_path = '../../data/illustration_fig1_matrix_output/' + e_rate_name + '.csv'\n",
    "pmat.to_csv(matrix_path, index=False, sep=' ', header= False)\n"
   ]
  },
  {
   "cell_type": "code",
   "execution_count": 220,
   "id": "a4b05bf2",
   "metadata": {},
   "outputs": [],
   "source": [
    "# change order of cols so that clonal samples are together\n",
    "column_labels = pd.Series(['s' + str(i) for i in pmat.columns])\n",
    "pmat.columns = column_labels\n",
    "cols = ['s0', 's1', 's2', 's3', 's6', 's4', 's5']\n",
    "pmat = pmat[cols]"
   ]
  },
  {
   "cell_type": "code",
   "execution_count": 226,
   "id": "46a1cffa",
   "metadata": {},
   "outputs": [
    {
     "data": {
      "text/html": [
       "<div>\n",
       "<style scoped>\n",
       "    .dataframe tbody tr th:only-of-type {\n",
       "        vertical-align: middle;\n",
       "    }\n",
       "\n",
       "    .dataframe tbody tr th {\n",
       "        vertical-align: top;\n",
       "    }\n",
       "\n",
       "    .dataframe thead th {\n",
       "        text-align: right;\n",
       "    }\n",
       "</style>\n",
       "<table border=\"1\" class=\"dataframe\">\n",
       "  <thead>\n",
       "    <tr style=\"text-align: right;\">\n",
       "      <th></th>\n",
       "      <th>s0</th>\n",
       "      <th>s1</th>\n",
       "      <th>s2</th>\n",
       "      <th>s3</th>\n",
       "      <th>s6</th>\n",
       "      <th>s4</th>\n",
       "      <th>s5</th>\n",
       "    </tr>\n",
       "  </thead>\n",
       "  <tbody>\n",
       "    <tr>\n",
       "      <th>1</th>\n",
       "      <td>5.159130e-07</td>\n",
       "      <td>9.999900e-01</td>\n",
       "      <td>9.999900e-01</td>\n",
       "      <td>9.999900e-01</td>\n",
       "      <td>9.999900e-01</td>\n",
       "      <td>9.999900e-01</td>\n",
       "      <td>9.999900e-01</td>\n",
       "    </tr>\n",
       "    <tr>\n",
       "      <th>2</th>\n",
       "      <td>1.886357e-07</td>\n",
       "      <td>9.999900e-01</td>\n",
       "      <td>9.999900e-01</td>\n",
       "      <td>9.999900e-01</td>\n",
       "      <td>9.999900e-01</td>\n",
       "      <td>9.999900e-01</td>\n",
       "      <td>3.088887e-01</td>\n",
       "    </tr>\n",
       "    <tr>\n",
       "      <th>3</th>\n",
       "      <td>2.349223e-07</td>\n",
       "      <td>9.999299e-01</td>\n",
       "      <td>6.427157e-01</td>\n",
       "      <td>9.999900e-01</td>\n",
       "      <td>8.981229e-02</td>\n",
       "      <td>9.527401e-01</td>\n",
       "      <td>1.146645e-06</td>\n",
       "    </tr>\n",
       "    <tr>\n",
       "      <th>4</th>\n",
       "      <td>5.930433e-07</td>\n",
       "      <td>9.999914e-01</td>\n",
       "      <td>8.600483e-01</td>\n",
       "      <td>8.738560e-04</td>\n",
       "      <td>9.998191e-01</td>\n",
       "      <td>9.676291e-01</td>\n",
       "      <td>6.570731e-05</td>\n",
       "    </tr>\n",
       "    <tr>\n",
       "      <th>5</th>\n",
       "      <td>1.455155e-07</td>\n",
       "      <td>9.999900e-01</td>\n",
       "      <td>1.000000e+00</td>\n",
       "      <td>8.901764e-09</td>\n",
       "      <td>1.625345e-09</td>\n",
       "      <td>3.107531e-08</td>\n",
       "      <td>3.854333e-08</td>\n",
       "    </tr>\n",
       "    <tr>\n",
       "      <th>6</th>\n",
       "      <td>1.578699e-07</td>\n",
       "      <td>2.682286e-08</td>\n",
       "      <td>6.084795e-09</td>\n",
       "      <td>9.999900e-01</td>\n",
       "      <td>9.999900e-01</td>\n",
       "      <td>6.617613e-09</td>\n",
       "      <td>1.286364e-08</td>\n",
       "    </tr>\n",
       "    <tr>\n",
       "      <th>7</th>\n",
       "      <td>1.626445e-07</td>\n",
       "      <td>1.463487e-07</td>\n",
       "      <td>4.131325e-07</td>\n",
       "      <td>2.923153e-08</td>\n",
       "      <td>3.642401e-06</td>\n",
       "      <td>9.999900e-01</td>\n",
       "      <td>9.999900e-01</td>\n",
       "    </tr>\n",
       "    <tr>\n",
       "      <th>8</th>\n",
       "      <td>2.434848e-07</td>\n",
       "      <td>9.559440e-08</td>\n",
       "      <td>3.509680e-08</td>\n",
       "      <td>3.526981e-08</td>\n",
       "      <td>1.753388e-07</td>\n",
       "      <td>9.999900e-01</td>\n",
       "      <td>9.999900e-01</td>\n",
       "    </tr>\n",
       "  </tbody>\n",
       "</table>\n",
       "</div>"
      ],
      "text/plain": [
       "             s0            s1            s2            s3            s6  \\\n",
       "1  5.159130e-07  9.999900e-01  9.999900e-01  9.999900e-01  9.999900e-01   \n",
       "2  1.886357e-07  9.999900e-01  9.999900e-01  9.999900e-01  9.999900e-01   \n",
       "3  2.349223e-07  9.999299e-01  6.427157e-01  9.999900e-01  8.981229e-02   \n",
       "4  5.930433e-07  9.999914e-01  8.600483e-01  8.738560e-04  9.998191e-01   \n",
       "5  1.455155e-07  9.999900e-01  1.000000e+00  8.901764e-09  1.625345e-09   \n",
       "6  1.578699e-07  2.682286e-08  6.084795e-09  9.999900e-01  9.999900e-01   \n",
       "7  1.626445e-07  1.463487e-07  4.131325e-07  2.923153e-08  3.642401e-06   \n",
       "8  2.434848e-07  9.559440e-08  3.509680e-08  3.526981e-08  1.753388e-07   \n",
       "\n",
       "             s4            s5  \n",
       "1  9.999900e-01  9.999900e-01  \n",
       "2  9.999900e-01  3.088887e-01  \n",
       "3  9.527401e-01  1.146645e-06  \n",
       "4  9.676291e-01  6.570731e-05  \n",
       "5  3.107531e-08  3.854333e-08  \n",
       "6  6.617613e-09  1.286364e-08  \n",
       "7  9.999900e-01  9.999900e-01  \n",
       "8  9.999900e-01  9.999900e-01  "
      ]
     },
     "execution_count": 226,
     "metadata": {},
     "output_type": "execute_result"
    }
   ],
   "source": [
    "pmat.reset_index(drop=True, inplace=True)\n",
    "pmat.index += 1\n",
    "pmat"
   ]
  },
  {
   "cell_type": "code",
   "execution_count": 233,
   "id": "e13777c5",
   "metadata": {},
   "outputs": [
    {
     "data": {
      "image/png": "[encoded data removed]",
      "text/plain": [
       "<Figure size 500x500 with 2 Axes>"
      ]
     },
     "metadata": {},
     "output_type": "display_data"
    }
   ],
   "source": [
    "plot_pmat = pmat.copy()#.fillna(0)\n",
    "#plot_pmat.columns = column_labels\n",
    "\n",
    "with plot_style(figsize=(5, 5)):\n",
    "    sns.heatmap(plot_pmat, cmap='viridis', linecolor='white', linewidths=1)\n",
    "    plt.xlabel('')\n",
    "\n",
    "plt.savefig(f'../../data/illustration_fig1_figures/0.001_pmat_heatmap.svg')\n"
   ]
  },
  {
   "cell_type": "code",
   "execution_count": null,
   "id": "7e5468ae",
   "metadata": {},
   "outputs": [],
   "source": []
  },
  {
   "cell_type": "markdown",
   "id": "c16fb41a",
   "metadata": {},
   "source": [
    "## Now run mt-SCITE"
   ]
  },
  {
   "cell_type": "code",
   "execution_count": null,
   "id": "0d893638",
   "metadata": {},
   "outputs": [],
   "source": []
  },
  {
   "cell_type": "code",
   "execution_count": 198,
   "id": "6492b2df",
   "metadata": {},
   "outputs": [
    {
     "data": {
      "text/html": [
       "<div>\n",
       "<style scoped>\n",
       "    .dataframe tbody tr th:only-of-type {\n",
       "        vertical-align: middle;\n",
       "    }\n",
       "\n",
       "    .dataframe tbody tr th {\n",
       "        vertical-align: top;\n",
       "    }\n",
       "\n",
       "    .dataframe thead th {\n",
       "        text-align: right;\n",
       "    }\n",
       "</style>\n",
       "<table border=\"1\" class=\"dataframe\">\n",
       "  <thead>\n",
       "    <tr style=\"text-align: right;\">\n",
       "      <th></th>\n",
       "      <th>pmat_names</th>\n",
       "      <th>len</th>\n",
       "    </tr>\n",
       "  </thead>\n",
       "  <tbody>\n",
       "    <tr>\n",
       "      <th>0</th>\n",
       "      <td>0.001</td>\n",
       "      <td>8</td>\n",
       "    </tr>\n",
       "  </tbody>\n",
       "</table>\n",
       "</div>"
      ],
      "text/plain": [
       "  pmat_names  len\n",
       "0      0.001    8"
      ]
     },
     "execution_count": 198,
     "metadata": {},
     "output_type": "execute_result"
    }
   ],
   "source": [
    "# prepare pmat data\n",
    "\n",
    "pmat_names = []\n",
    "shapes = []\n",
    "\n",
    "pmat_input_path = f'../../data/illustration_fig1_matrix_output/'\n",
    "#print(pmat_input_path)\n",
    "pmats = list(glob(os.path.join(pmat_input_path, '*.csv')))\n",
    "tree_name = []\n",
    "\n",
    "for filename in sorted(pmats):\n",
    "    name = os.path.basename(filename).split('-')[0].rsplit('.', 1)[0]\n",
    "    #print(name)\n",
    "    pmat_names.append(name)\n",
    "    df = pd.read_csv(filename, sep=' ', header=None)\n",
    "    shapes.append(len(df))\n",
    "\n",
    "# make df with pmat info\n",
    "pmat_data = pd.DataFrame(\n",
    "    {'pmat_names': pmat_names,\n",
    "     'len': shapes,\n",
    "    })\n",
    "\n",
    "pmat_data"
   ]
  },
  {
   "cell_type": "code",
   "execution_count": 199,
   "id": "c2f24199",
   "metadata": {},
   "outputs": [
    {
     "data": {
      "text/plain": [
       "7"
      ]
     },
     "execution_count": 199,
     "metadata": {},
     "output_type": "execute_result"
    }
   ],
   "source": [
    "# Check n samples\n",
    "a_pmat = pd.read_csv('../../data/illustration_fig1_matrix_output/0.001.csv', sep=' ', header=None)\n",
    "n_cells = a_pmat.shape[1]\n",
    "n_cells"
   ]
  },
  {
   "cell_type": "code",
   "execution_count": 200,
   "id": "27e2142f",
   "metadata": {},
   "outputs": [
    {
     "name": "stdout",
     "output_type": "stream",
     "text": [
      "Running tree inference for error rate 0.001 repetition 1\n"
     ]
    }
   ],
   "source": [
    "# Run mt-SCITE\n",
    "\n",
    "SCITE_PATH = '../../../mt-SCITE'\n",
    "PMAT_PATH = f'../../data/illustration_fig1_matrix_output/'\n",
    "OUTPUT = f'../../../mt-SCITE/mt-SCITE_output/llustration_fig1/'\n",
    "\n",
    "for rep in range(1,2): #11\n",
    "    \n",
    "    for pmat in pmat_names:        \n",
    "        run_id = pmat + '_' + str(rep)\n",
    "        print('Running tree inference for error rate ' + pmat + ' repetition ' + str(rep))\n",
    "\n",
    "        # Get number of mutations\n",
    "        n = pmat_data.loc[pmat_data['pmat_names'] == pmat, 'len'].iloc[0].astype(str)\n",
    "\n",
    "        try:\n",
    "            os.makedirs(OUTPUT + '/stdout/') \n",
    "        except FileExistsError :\n",
    "            pass\n",
    "        except :\n",
    "            raise\n",
    "\n",
    "        ! $SCITE_PATH/mt-SCITE/scite -i $PMAT_PATH/$pmat\\.csv -n $n -m $n_cells -r 1 -l 200000 -fd 0.0001 -ad 0.0001 -cc 0.0 -s -a -o $OUTPUT/$run_id 1> $OUTPUT/stdout/$run_id\\.stdout.txt\n",
    "        \n",
    " "
   ]
  },
  {
   "cell_type": "code",
   "execution_count": null,
   "id": "270e8a3b",
   "metadata": {},
   "outputs": [],
   "source": []
  },
  {
   "cell_type": "markdown",
   "id": "78162936",
   "metadata": {},
   "source": [
    "## Plot a tree"
   ]
  },
  {
   "cell_type": "code",
   "execution_count": null,
   "id": "4a8a91c9",
   "metadata": {},
   "outputs": [],
   "source": []
  },
  {
   "cell_type": "code",
   "execution_count": 201,
   "id": "b64a839d",
   "metadata": {},
   "outputs": [
    {
     "name": "stderr",
     "output_type": "stream",
     "text": [
      "<>:14: SyntaxWarning: \"is not\" with a literal. Did you mean \"!=\"?\n",
      "<>:14: SyntaxWarning: \"is not\" with a literal. Did you mean \"!=\"?\n",
      "/var/folders/vw/hdz80fyj66q3q6n5fkgfmvf80000gs/T/ipykernel_10190/3756212178.py:14: SyntaxWarning: \"is not\" with a literal. Did you mean \"!=\"?\n",
      "  if edge_label is not 'reverse' or pre_node == post_node:\n"
     ]
    }
   ],
   "source": [
    "def new_count_row(all_clone_names, clone_name=None):\n",
    "    \"\"\" Create a DataFrame row with one entry per clone name. \n",
    "    \n",
    "    If `clone_name` is not None, initialize that entry to 1.\n",
    "    \"\"\"\n",
    "    row = pd.Series(data=0, index=all_clone_names)\n",
    "    if clone_name is not None:\n",
    "        row[clone_name] = 1\n",
    "    return row\n",
    "\n",
    "def dfs_clones_count(g, clones, all_clone_names, source_node):\n",
    "    clones_count = pd.DataFrame({sample_name: new_count_row(all_clones, clone_name) for sample_name, clone_name in clones.items()})\n",
    "    for pre_node, post_node, edge_label in nx.dfs_labeled_edges(g, source_node):\n",
    "        if edge_label is not 'reverse' or pre_node == post_node: \n",
    "            continue\n",
    "        pre_node_counter = clones_count.get(pre_node, new_count_row(all_clones))\n",
    "        if post_node not in clones_count.columns:\n",
    "            print('!! possible mutation in a leaf: not found', post_node)\n",
    "            continue\n",
    "        clones_count[pre_node] = pre_node_counter + clones_count[post_node]\n",
    "\n",
    "    return clones_count\n",
    "\n",
    "def purity(clones_count):\n",
    "    return clones_count.div(clones_count.sum(axis=0), axis=1)\n",
    "\n",
    "def get_root_node(t):\n",
    "    root_nodes = [n for n,d in t.in_degree() if d==0]\n",
    "    print(root_nodes)\n",
    "    #assert len(root_nodes) == 1\n",
    "    root_node = root_nodes[0]\n",
    "    return root_node"
   ]
  },
  {
   "cell_type": "code",
   "execution_count": 202,
   "id": "bbfd9b73",
   "metadata": {},
   "outputs": [
    {
     "data": {
      "text/html": [
       "<div>\n",
       "<style scoped>\n",
       "    .dataframe tbody tr th:only-of-type {\n",
       "        vertical-align: middle;\n",
       "    }\n",
       "\n",
       "    .dataframe tbody tr th {\n",
       "        vertical-align: top;\n",
       "    }\n",
       "\n",
       "    .dataframe thead th {\n",
       "        text-align: right;\n",
       "    }\n",
       "</style>\n",
       "<table border=\"1\" class=\"dataframe\">\n",
       "  <thead>\n",
       "    <tr style=\"text-align: right;\">\n",
       "      <th></th>\n",
       "      <th>clone</th>\n",
       "      <th>tree_id</th>\n",
       "      <th>cell_id</th>\n",
       "      <th>node_name</th>\n",
       "    </tr>\n",
       "  </thead>\n",
       "  <tbody>\n",
       "    <tr>\n",
       "      <th>0</th>\n",
       "      <td>bulk</td>\n",
       "      <td>s0</td>\n",
       "      <td>P3861_218.clean.dedup_ac.txt</td>\n",
       "      <td>ss0</td>\n",
       "    </tr>\n",
       "    <tr>\n",
       "      <th>1</th>\n",
       "      <td>A</td>\n",
       "      <td>s1</td>\n",
       "      <td>P9855_2089_S112_L004_ac.txt</td>\n",
       "      <td>ss1</td>\n",
       "    </tr>\n",
       "    <tr>\n",
       "      <th>2</th>\n",
       "      <td>A</td>\n",
       "      <td>s2</td>\n",
       "      <td>P9855_2090_S113_L004_ac.txt</td>\n",
       "      <td>ss2</td>\n",
       "    </tr>\n",
       "    <tr>\n",
       "      <th>3</th>\n",
       "      <td>B</td>\n",
       "      <td>s3</td>\n",
       "      <td>P9855_2104_S127_L006_ac.txt</td>\n",
       "      <td>ss3</td>\n",
       "    </tr>\n",
       "    <tr>\n",
       "      <th>4</th>\n",
       "      <td>C</td>\n",
       "      <td>s4</td>\n",
       "      <td>P9855_2110_S133_L007_ac.txt</td>\n",
       "      <td>ss4</td>\n",
       "    </tr>\n",
       "    <tr>\n",
       "      <th>5</th>\n",
       "      <td>C</td>\n",
       "      <td>s5</td>\n",
       "      <td>P9855_2111_S134_L007_ac.txt</td>\n",
       "      <td>ss5</td>\n",
       "    </tr>\n",
       "    <tr>\n",
       "      <th>6</th>\n",
       "      <td>B</td>\n",
       "      <td>s6</td>\n",
       "      <td>P9855_2112_S135_L007_ac.txt</td>\n",
       "      <td>ss6</td>\n",
       "    </tr>\n",
       "  </tbody>\n",
       "</table>\n",
       "</div>"
      ],
      "text/plain": [
       "  clone tree_id                       cell_id node_name\n",
       "0  bulk      s0  P3861_218.clean.dedup_ac.txt       ss0\n",
       "1     A      s1   P9855_2089_S112_L004_ac.txt       ss1\n",
       "2     A      s2   P9855_2090_S113_L004_ac.txt       ss2\n",
       "3     B      s3   P9855_2104_S127_L006_ac.txt       ss3\n",
       "4     C      s4   P9855_2110_S133_L007_ac.txt       ss4\n",
       "5     C      s5   P9855_2111_S134_L007_ac.txt       ss5\n",
       "6     B      s6   P9855_2112_S135_L007_ac.txt       ss6"
      ]
     },
     "execution_count": 202,
     "metadata": {},
     "output_type": "execute_result"
    }
   ],
   "source": [
    "# Load clones map\n",
    "data = [['bulk', 's0', 'P3861_218.clean.dedup_ac.txt', 'ss0'],\n",
    "        ['A', 's1', 'P9855_2089_S112_L004_ac.txt', 'ss1'],\n",
    "        ['A', 's2', 'P9855_2090_S113_L004_ac.txt', 'ss2'],\n",
    "        ['B', 's3', 'P9855_2104_S127_L006_ac.txt', 'ss3'],\n",
    "        ['C', 's4', 'P9855_2110_S133_L007_ac.txt', 'ss4'],\n",
    "        ['C', 's5', 'P9855_2111_S134_L007_ac.txt', 'ss5'],\n",
    "        ['B', 's6', 'P9855_2112_S135_L007_ac.txt', 'ss6']]\n",
    "\n",
    "clones_map_raw = pd.DataFrame(data, columns=['clone', 'tree_id', 'cell_id', 'node_name'])\n",
    "\n",
    "clones_map_raw"
   ]
  },
  {
   "cell_type": "code",
   "execution_count": 203,
   "id": "ce03398a",
   "metadata": {},
   "outputs": [],
   "source": [
    "clones_map = dict(clones_map_raw[['tree_id', 'clone']].values)\n",
    "all_clones = list(clones_map_raw.clone.unique())"
   ]
  },
  {
   "cell_type": "code",
   "execution_count": 204,
   "id": "89371cc0",
   "metadata": {},
   "outputs": [
    {
     "data": {
      "text/plain": [
       "['bulk', 'A', 'B', 'C']"
      ]
     },
     "execution_count": 204,
     "metadata": {},
     "output_type": "execute_result"
    }
   ],
   "source": [
    "all_clones"
   ]
  },
  {
   "cell_type": "code",
   "execution_count": 205,
   "id": "1995223b",
   "metadata": {},
   "outputs": [
    {
     "data": {
      "image/png": "[encoded data removed]",
      "text/plain": [
       "<Figure size 300x100 with 1 Axes>"
      ]
     },
     "metadata": {},
     "output_type": "display_data"
    }
   ],
   "source": [
    "flatui = ['#91CFCF', '#978CB7', '#F2C381'] \n",
    "sns.palplot(sns.color_palette(flatui))"
   ]
  },
  {
   "cell_type": "code",
   "execution_count": 206,
   "id": "76168370",
   "metadata": {},
   "outputs": [],
   "source": [
    "colors = sns.color_palette(sns.color_palette(flatui))\n",
    "\n",
    "clone_color = {\n",
    "    'bulk': (0, 0, 0),\n",
    "    'A': np.array(colors[0]) * 255,\n",
    "    'B': np.array(colors[1]) * 255,\n",
    "    'C': np.array(colors[2]) * 255,\n",
    "}"
   ]
  },
  {
   "cell_type": "code",
   "execution_count": 207,
   "id": "e4094f89",
   "metadata": {},
   "outputs": [
    {
     "data": {
      "text/plain": [
       "{'bulk': (0, 0, 0),\n",
       " 'A': array([145., 207., 207.]),\n",
       " 'B': array([151., 140., 183.]),\n",
       " 'C': array([242., 195., 129.])}"
      ]
     },
     "execution_count": 207,
     "metadata": {},
     "output_type": "execute_result"
    }
   ],
   "source": [
    "clone_color"
   ]
  },
  {
   "cell_type": "code",
   "execution_count": 208,
   "id": "11f9d16c",
   "metadata": {},
   "outputs": [],
   "source": [
    "# Load target tree\n",
    "tree_filename = f'../../../mt-SCITE/mt-SCITE_output/llustration_fig1/0.001_1_map0.gv'\n",
    "tree = nx.drawing.nx_pydot.read_dot(tree_filename)"
   ]
  },
  {
   "cell_type": "code",
   "execution_count": 209,
   "id": "d529aff3",
   "metadata": {},
   "outputs": [
    {
     "name": "stdout",
     "output_type": "stream",
     "text": [
      "17\n",
      "16\n"
     ]
    }
   ],
   "source": [
    "# tree contains some empty trailing node. Check that it is removed.\n",
    "print(len(tree.nodes()))\n",
    "tree.remove_node('\\\\n')\n",
    "print(len(tree.nodes()))"
   ]
  },
  {
   "cell_type": "code",
   "execution_count": 210,
   "id": "77eb5ab3",
   "metadata": {},
   "outputs": [
    {
     "data": {
      "image/svg+xml": [
       "<?xml version=\"1.0\" encoding=\"UTF-8\" standalone=\"no\"?>\n",
       "<!DOCTYPE svg PUBLIC \"-//W3C//DTD SVG 1.1//EN\"\n",
       " \"http://www.w3.org/Graphics/SVG/1.1/DTD/svg11.dtd\">\n",
       "<!-- Generated by graphviz version 7.0.0 (20221023.0053)\n",
       " -->\n",
       "<!-- Title: G Pages: 1 -->\n",
       "<svg width=\"350pt\" height=\"476pt\"\n",
       " viewBox=\"0.00 0.00 350.00 476.00\" xmlns=\"http://www.w3.org/2000/svg\" xmlns:xlink=\"http://www.w3.org/1999/xlink\">\n",
       "<g id=\"graph0\" class=\"graph\" transform=\"scale(1 1) rotate(0) translate(4 472)\">\n",
       "<title>G</title>\n",
       "<polygon fill=\"white\" stroke=\"none\" points=\"-4,4 -4,-472 346,-472 346,4 -4,4\"/>\n",
       "<!-- 2 -->\n",
       "<g id=\"node1\" class=\"node\">\n",
       "<title>2</title>\n",
       "<ellipse fill=\"#8b0a50\" stroke=\"#8b0a50\" cx=\"207\" cy=\"-378\" rx=\"27\" ry=\"18\"/>\n",
       "<text text-anchor=\"middle\" x=\"207\" y=\"-374.3\" font-family=\"Times,serif\" font-size=\"14.00\" fill=\"white\">2</text>\n",
       "</g>\n",
       "<!-- 1 -->\n",
       "<g id=\"node2\" class=\"node\">\n",
       "<title>1</title>\n",
       "<ellipse fill=\"#8b0a50\" stroke=\"#8b0a50\" cx=\"207\" cy=\"-306\" rx=\"27\" ry=\"18\"/>\n",
       "<text text-anchor=\"middle\" x=\"207\" y=\"-302.3\" font-family=\"Times,serif\" font-size=\"14.00\" fill=\"white\">1</text>\n",
       "</g>\n",
       "<!-- 2&#45;&gt;1 -->\n",
       "<g id=\"edge1\" class=\"edge\">\n",
       "<title>2&#45;&gt;1</title>\n",
       "<path fill=\"none\" stroke=\"black\" d=\"M207,-359.7C207,-352.41 207,-343.73 207,-335.54\"/>\n",
       "<polygon fill=\"black\" stroke=\"black\" points=\"210.5,-335.62 207,-325.62 203.5,-335.62 210.5,-335.62\"/>\n",
       "</g>\n",
       "<!-- 3 -->\n",
       "<g id=\"node3\" class=\"node\">\n",
       "<title>3</title>\n",
       "<ellipse fill=\"#8b0a50\" stroke=\"#8b0a50\" cx=\"171\" cy=\"-234\" rx=\"27\" ry=\"18\"/>\n",
       "<text text-anchor=\"middle\" x=\"171\" y=\"-230.3\" font-family=\"Times,serif\" font-size=\"14.00\" fill=\"white\">3</text>\n",
       "</g>\n",
       "<!-- 1&#45;&gt;3 -->\n",
       "<g id=\"edge2\" class=\"edge\">\n",
       "<title>1&#45;&gt;3</title>\n",
       "<path fill=\"none\" stroke=\"black\" d=\"M198.65,-288.76C194.42,-280.55 189.19,-270.37 184.42,-261.09\"/>\n",
       "<polygon fill=\"black\" stroke=\"black\" points=\"187.68,-259.79 180,-252.49 181.46,-262.99 187.68,-259.79\"/>\n",
       "</g>\n",
       "<!-- 7 -->\n",
       "<g id=\"node4\" class=\"node\">\n",
       "<title>7</title>\n",
       "<ellipse fill=\"#8b0a50\" stroke=\"#8b0a50\" cx=\"243\" cy=\"-234\" rx=\"27\" ry=\"18\"/>\n",
       "<text text-anchor=\"middle\" x=\"243\" y=\"-230.3\" font-family=\"Times,serif\" font-size=\"14.00\" fill=\"white\">7</text>\n",
       "</g>\n",
       "<!-- 1&#45;&gt;7 -->\n",
       "<g id=\"edge3\" class=\"edge\">\n",
       "<title>1&#45;&gt;7</title>\n",
       "<path fill=\"none\" stroke=\"black\" d=\"M215.35,-288.76C219.58,-280.55 224.81,-270.37 229.58,-261.09\"/>\n",
       "<polygon fill=\"black\" stroke=\"black\" points=\"232.54,-262.99 234,-252.49 226.32,-259.79 232.54,-262.99\"/>\n",
       "</g>\n",
       "<!-- 4 -->\n",
       "<g id=\"node5\" class=\"node\">\n",
       "<title>4</title>\n",
       "<ellipse fill=\"#8b0a50\" stroke=\"#8b0a50\" cx=\"171\" cy=\"-162\" rx=\"27\" ry=\"18\"/>\n",
       "<text text-anchor=\"middle\" x=\"171\" y=\"-158.3\" font-family=\"Times,serif\" font-size=\"14.00\" fill=\"white\">4</text>\n",
       "</g>\n",
       "<!-- 3&#45;&gt;4 -->\n",
       "<g id=\"edge4\" class=\"edge\">\n",
       "<title>3&#45;&gt;4</title>\n",
       "<path fill=\"none\" stroke=\"black\" d=\"M171,-215.7C171,-208.41 171,-199.73 171,-191.54\"/>\n",
       "<polygon fill=\"black\" stroke=\"black\" points=\"174.5,-191.62 171,-181.62 167.5,-191.62 174.5,-191.62\"/>\n",
       "</g>\n",
       "<!-- 8 -->\n",
       "<g id=\"node6\" class=\"node\">\n",
       "<title>8</title>\n",
       "<ellipse fill=\"#8b0a50\" stroke=\"#8b0a50\" cx=\"243\" cy=\"-162\" rx=\"27\" ry=\"18\"/>\n",
       "<text text-anchor=\"middle\" x=\"243\" y=\"-158.3\" font-family=\"Times,serif\" font-size=\"14.00\" fill=\"white\">8</text>\n",
       "</g>\n",
       "<!-- 7&#45;&gt;8 -->\n",
       "<g id=\"edge5\" class=\"edge\">\n",
       "<title>7&#45;&gt;8</title>\n",
       "<path fill=\"none\" stroke=\"black\" d=\"M243,-215.7C243,-208.41 243,-199.73 243,-191.54\"/>\n",
       "<polygon fill=\"black\" stroke=\"black\" points=\"246.5,-191.62 243,-181.62 239.5,-191.62 246.5,-191.62\"/>\n",
       "</g>\n",
       "<!-- 5 -->\n",
       "<g id=\"node7\" class=\"node\">\n",
       "<title>5</title>\n",
       "<ellipse fill=\"#8b0a50\" stroke=\"#8b0a50\" cx=\"99\" cy=\"-90\" rx=\"27\" ry=\"18\"/>\n",
       "<text text-anchor=\"middle\" x=\"99\" y=\"-86.3\" font-family=\"Times,serif\" font-size=\"14.00\" fill=\"white\">5</text>\n",
       "</g>\n",
       "<!-- 4&#45;&gt;5 -->\n",
       "<g id=\"edge6\" class=\"edge\">\n",
       "<title>4&#45;&gt;5</title>\n",
       "<path fill=\"none\" stroke=\"black\" d=\"M156.08,-146.5C146.23,-136.92 133.14,-124.19 121.97,-113.34\"/>\n",
       "<polygon fill=\"black\" stroke=\"black\" points=\"124.59,-111 114.98,-106.54 119.71,-116.02 124.59,-111\"/>\n",
       "</g>\n",
       "<!-- 6 -->\n",
       "<g id=\"node8\" class=\"node\">\n",
       "<title>6</title>\n",
       "<ellipse fill=\"#8b0a50\" stroke=\"#8b0a50\" cx=\"171\" cy=\"-90\" rx=\"27\" ry=\"18\"/>\n",
       "<text text-anchor=\"middle\" x=\"171\" y=\"-86.3\" font-family=\"Times,serif\" font-size=\"14.00\" fill=\"white\">6</text>\n",
       "</g>\n",
       "<!-- 4&#45;&gt;6 -->\n",
       "<g id=\"edge7\" class=\"edge\">\n",
       "<title>4&#45;&gt;6</title>\n",
       "<path fill=\"none\" stroke=\"black\" d=\"M171,-143.7C171,-136.41 171,-127.73 171,-119.54\"/>\n",
       "<polygon fill=\"black\" stroke=\"black\" points=\"174.5,-119.62 171,-109.62 167.5,-119.62 174.5,-119.62\"/>\n",
       "</g>\n",
       "<!-- s4 -->\n",
       "<g id=\"node9\" class=\"node\">\n",
       "<title>s4</title>\n",
       "<ellipse fill=\"#8b0a50\" stroke=\"#8b0a50\" cx=\"243\" cy=\"-90\" rx=\"27\" ry=\"18\"/>\n",
       "<text text-anchor=\"middle\" x=\"243\" y=\"-86.3\" font-family=\"Times,serif\" font-size=\"14.00\" fill=\"white\">s4</text>\n",
       "</g>\n",
       "<!-- 8&#45;&gt;s4 -->\n",
       "<g id=\"edge8\" class=\"edge\">\n",
       "<title>8&#45;&gt;s4</title>\n",
       "<path fill=\"none\" stroke=\"black\" d=\"M243,-143.7C243,-136.41 243,-127.73 243,-119.54\"/>\n",
       "<polygon fill=\"black\" stroke=\"black\" points=\"246.5,-119.62 243,-109.62 239.5,-119.62 246.5,-119.62\"/>\n",
       "</g>\n",
       "<!-- s5 -->\n",
       "<g id=\"node10\" class=\"node\">\n",
       "<title>s5</title>\n",
       "<ellipse fill=\"#8b0a50\" stroke=\"#8b0a50\" cx=\"315\" cy=\"-90\" rx=\"27\" ry=\"18\"/>\n",
       "<text text-anchor=\"middle\" x=\"315\" y=\"-86.3\" font-family=\"Times,serif\" font-size=\"14.00\" fill=\"white\">s5</text>\n",
       "</g>\n",
       "<!-- 8&#45;&gt;s5 -->\n",
       "<g id=\"edge9\" class=\"edge\">\n",
       "<title>8&#45;&gt;s5</title>\n",
       "<path fill=\"none\" stroke=\"black\" d=\"M257.92,-146.5C267.77,-136.92 280.86,-124.19 292.03,-113.34\"/>\n",
       "<polygon fill=\"black\" stroke=\"black\" points=\"294.29,-116.02 299.02,-106.54 289.41,-111 294.29,-116.02\"/>\n",
       "</g>\n",
       "<!-- s1 -->\n",
       "<g id=\"node13\" class=\"node\">\n",
       "<title>s1</title>\n",
       "<ellipse fill=\"#8b0a50\" stroke=\"#8b0a50\" cx=\"27\" cy=\"-18\" rx=\"27\" ry=\"18\"/>\n",
       "<text text-anchor=\"middle\" x=\"27\" y=\"-14.3\" font-family=\"Times,serif\" font-size=\"14.00\" fill=\"white\">s1</text>\n",
       "</g>\n",
       "<!-- 5&#45;&gt;s1 -->\n",
       "<g id=\"edge12\" class=\"edge\">\n",
       "<title>5&#45;&gt;s1</title>\n",
       "<path fill=\"none\" stroke=\"black\" d=\"M84.08,-74.5C74.23,-64.92 61.14,-52.19 49.97,-41.34\"/>\n",
       "<polygon fill=\"black\" stroke=\"black\" points=\"52.59,-39 42.98,-34.54 47.71,-44.02 52.59,-39\"/>\n",
       "</g>\n",
       "<!-- s2 -->\n",
       "<g id=\"node14\" class=\"node\">\n",
       "<title>s2</title>\n",
       "<ellipse fill=\"#8b0a50\" stroke=\"#8b0a50\" cx=\"99\" cy=\"-18\" rx=\"27\" ry=\"18\"/>\n",
       "<text text-anchor=\"middle\" x=\"99\" y=\"-14.3\" font-family=\"Times,serif\" font-size=\"14.00\" fill=\"white\">s2</text>\n",
       "</g>\n",
       "<!-- 5&#45;&gt;s2 -->\n",
       "<g id=\"edge13\" class=\"edge\">\n",
       "<title>5&#45;&gt;s2</title>\n",
       "<path fill=\"none\" stroke=\"black\" d=\"M99,-71.7C99,-64.41 99,-55.73 99,-47.54\"/>\n",
       "<polygon fill=\"black\" stroke=\"black\" points=\"102.5,-47.62 99,-37.62 95.5,-47.62 102.5,-47.62\"/>\n",
       "</g>\n",
       "<!-- s3 -->\n",
       "<g id=\"node15\" class=\"node\">\n",
       "<title>s3</title>\n",
       "<ellipse fill=\"#8b0a50\" stroke=\"#8b0a50\" cx=\"171\" cy=\"-18\" rx=\"27\" ry=\"18\"/>\n",
       "<text text-anchor=\"middle\" x=\"171\" y=\"-14.3\" font-family=\"Times,serif\" font-size=\"14.00\" fill=\"white\">s3</text>\n",
       "</g>\n",
       "<!-- 6&#45;&gt;s3 -->\n",
       "<g id=\"edge14\" class=\"edge\">\n",
       "<title>6&#45;&gt;s3</title>\n",
       "<path fill=\"none\" stroke=\"black\" d=\"M171,-71.7C171,-64.41 171,-55.73 171,-47.54\"/>\n",
       "<polygon fill=\"black\" stroke=\"black\" points=\"174.5,-47.62 171,-37.62 167.5,-47.62 174.5,-47.62\"/>\n",
       "</g>\n",
       "<!-- s6 -->\n",
       "<g id=\"node16\" class=\"node\">\n",
       "<title>s6</title>\n",
       "<ellipse fill=\"#8b0a50\" stroke=\"#8b0a50\" cx=\"243\" cy=\"-18\" rx=\"27\" ry=\"18\"/>\n",
       "<text text-anchor=\"middle\" x=\"243\" y=\"-14.3\" font-family=\"Times,serif\" font-size=\"14.00\" fill=\"white\">s6</text>\n",
       "</g>\n",
       "<!-- 6&#45;&gt;s6 -->\n",
       "<g id=\"edge15\" class=\"edge\">\n",
       "<title>6&#45;&gt;s6</title>\n",
       "<path fill=\"none\" stroke=\"black\" d=\"M185.92,-74.5C195.77,-64.92 208.86,-52.19 220.03,-41.34\"/>\n",
       "<polygon fill=\"black\" stroke=\"black\" points=\"222.29,-44.02 227.02,-34.54 217.41,-39 222.29,-44.02\"/>\n",
       "</g>\n",
       "<!-- 9 -->\n",
       "<g id=\"node11\" class=\"node\">\n",
       "<title>9</title>\n",
       "<ellipse fill=\"#8b0a50\" stroke=\"#8b0a50\" cx=\"243\" cy=\"-450\" rx=\"27\" ry=\"18\"/>\n",
       "<text text-anchor=\"middle\" x=\"243\" y=\"-446.3\" font-family=\"Times,serif\" font-size=\"14.00\" fill=\"white\">9</text>\n",
       "</g>\n",
       "<!-- 9&#45;&gt;2 -->\n",
       "<g id=\"edge10\" class=\"edge\">\n",
       "<title>9&#45;&gt;2</title>\n",
       "<path fill=\"none\" stroke=\"black\" d=\"M234.65,-432.76C230.42,-424.55 225.19,-414.37 220.42,-405.09\"/>\n",
       "<polygon fill=\"black\" stroke=\"black\" points=\"223.68,-403.79 216,-396.49 217.46,-406.99 223.68,-403.79\"/>\n",
       "</g>\n",
       "<!-- s0 -->\n",
       "<g id=\"node12\" class=\"node\">\n",
       "<title>s0</title>\n",
       "<ellipse fill=\"#8b0a50\" stroke=\"#8b0a50\" cx=\"279\" cy=\"-378\" rx=\"27\" ry=\"18\"/>\n",
       "<text text-anchor=\"middle\" x=\"279\" y=\"-374.3\" font-family=\"Times,serif\" font-size=\"14.00\" fill=\"white\">s0</text>\n",
       "</g>\n",
       "<!-- 9&#45;&gt;s0 -->\n",
       "<g id=\"edge11\" class=\"edge\">\n",
       "<title>9&#45;&gt;s0</title>\n",
       "<path fill=\"none\" stroke=\"black\" d=\"M251.35,-432.76C255.58,-424.55 260.81,-414.37 265.58,-405.09\"/>\n",
       "<polygon fill=\"black\" stroke=\"black\" points=\"268.54,-406.99 270,-396.49 262.32,-403.79 268.54,-406.99\"/>\n",
       "</g>\n",
       "</g>\n",
       "</svg>\n"
      ],
      "text/plain": [
       "<graphviz.files.Source at 0x283d7f5e0>"
      ]
     },
     "execution_count": 210,
     "metadata": {},
     "output_type": "execute_result"
    }
   ],
   "source": [
    "from networkx.drawing.nx_agraph import graphviz_layout, to_agraph\n",
    "g = to_agraph(tree)\n",
    "g.layout('dot')\n",
    "#g.draw(f'figs/trees/{error_rate}_map{tree_number}.pdf')\n",
    "Source(g)"
   ]
  },
  {
   "cell_type": "code",
   "execution_count": 211,
   "id": "522b8fb6",
   "metadata": {},
   "outputs": [
    {
     "name": "stdout",
     "output_type": "stream",
     "text": [
      "['9']\n"
     ]
    }
   ],
   "source": [
    "def rgb_to_hex(colortuple):\n",
    "    return '#' + ''.join(f'{int(i):02X}' for i in colortuple)\n",
    "\n",
    "def mix_clones_colors(node_name, purities):\n",
    "    node_purities = purities[node_name]\n",
    "    color = 0\n",
    "    for clone, frac in node_purities.iteritems():\n",
    "        color += frac * np.array(clone_color[clone])\n",
    "    return color.astype(int)\n",
    "\n",
    "\n",
    "clones_count = dfs_clones_count(tree, clones_map, all_clones, source_node=get_root_node(tree))\n",
    "clones_purity = purity(clones_count)\n",
    "\n",
    "for n in tree.nodes:\n",
    "    node_dict = tree.nodes[n]\n",
    "    if n.startswith('s'):\n",
    "        # This is the style for sample nodes\n",
    "        clone = clones_map[n]\n",
    "        node_dict['color'] = rgb_to_hex(clone_color[clone])\n",
    "        node_dict['shape'] = 'circle' #square\n",
    "    else:\n",
    "        if n in clones_purity:\n",
    "            # This is the style for mutation nodes\n",
    "            # Color is a mix of purities\n",
    "            node_dict['color'] = rgb_to_hex(mix_clones_colors(n, clones_purity))\n",
    "        else:\n",
    "            # Dangling mutation node\n",
    "            node_dict['color'] = 'black'"
   ]
  },
  {
   "cell_type": "code",
   "execution_count": 212,
   "id": "2fa9ed47",
   "metadata": {},
   "outputs": [
    {
     "data": {
      "text/plain": [
       "{'name': 'G',\n",
       " 'node': {'color': 'deeppink4',\n",
       "  'style': 'filled',\n",
       "  'fontcolor': 'white',\n",
       "  'shape': 'square'},\n",
       " 'edges': {'arrowsize': '4'}}"
      ]
     },
     "execution_count": 212,
     "metadata": {},
     "output_type": "execute_result"
    }
   ],
   "source": [
    "# Global graph style\n",
    "tree.graph['node']['shape'] = 'square' #circle\n",
    "tree.graph['node']['fontcolor'] = 'white'\n",
    "tree.graph['edges'] = {'arrowsize': '4'}\n",
    "tree.graph"
   ]
  },
  {
   "cell_type": "code",
   "execution_count": 213,
   "id": "98db4494",
   "metadata": {},
   "outputs": [],
   "source": [
    "from networkx.drawing.nx_agraph import graphviz_layout, to_agraph\n",
    "g = to_agraph(tree)"
   ]
  },
  {
   "cell_type": "code",
   "execution_count": 214,
   "id": "2b770096",
   "metadata": {},
   "outputs": [
    {
     "data": {
      "image/svg+xml": [
       "<?xml version=\"1.0\" encoding=\"UTF-8\" standalone=\"no\"?>\n",
       "<!DOCTYPE svg PUBLIC \"-//W3C//DTD SVG 1.1//EN\"\n",
       " \"http://www.w3.org/Graphics/SVG/1.1/DTD/svg11.dtd\">\n",
       "<!-- Generated by graphviz version 7.0.0 (20221023.0053)\n",
       " -->\n",
       "<!-- Title: G Pages: 1 -->\n",
       "<svg width=\"269pt\" height=\"482pt\"\n",
       " viewBox=\"0.00 0.00 269.00 482.00\" xmlns=\"http://www.w3.org/2000/svg\" xmlns:xlink=\"http://www.w3.org/1999/xlink\">\n",
       "<g id=\"graph0\" class=\"graph\" transform=\"scale(1 1) rotate(0) translate(4 478)\">\n",
       "<title>G</title>\n",
       "<polygon fill=\"white\" stroke=\"none\" points=\"-4,4 -4,-478 265,-478 265,4 -4,4\"/>\n",
       "<!-- 2 -->\n",
       "<g id=\"node1\" class=\"node\">\n",
       "<title>2</title>\n",
       "<polygon fill=\"#b3b4ad\" stroke=\"#b3b4ad\" points=\"176,-401 140,-401 140,-365 176,-365 176,-401\"/>\n",
       "<text text-anchor=\"middle\" x=\"158\" y=\"-379.3\" font-family=\"Times,serif\" font-size=\"14.00\" fill=\"white\">2</text>\n",
       "</g>\n",
       "<!-- 1 -->\n",
       "<g id=\"node2\" class=\"node\">\n",
       "<title>1</title>\n",
       "<polygon fill=\"#b3b4ad\" stroke=\"#b3b4ad\" points=\"176,-328 140,-328 140,-292 176,-292 176,-328\"/>\n",
       "<text text-anchor=\"middle\" x=\"158\" y=\"-306.3\" font-family=\"Times,serif\" font-size=\"14.00\" fill=\"white\">1</text>\n",
       "</g>\n",
       "<!-- 2&#45;&gt;1 -->\n",
       "<g id=\"edge1\" class=\"edge\">\n",
       "<title>2&#45;&gt;1</title>\n",
       "<path fill=\"none\" stroke=\"black\" d=\"M158,-364.81C158,-357.23 158,-348.1 158,-339.54\"/>\n",
       "<polygon fill=\"black\" stroke=\"black\" points=\"161.5,-339.54 158,-329.54 154.5,-339.54 161.5,-339.54\"/>\n",
       "</g>\n",
       "<!-- 3 -->\n",
       "<g id=\"node3\" class=\"node\">\n",
       "<title>3</title>\n",
       "<polygon fill=\"#94adc3\" stroke=\"#94adc3\" points=\"149,-256 113,-256 113,-220 149,-220 149,-256\"/>\n",
       "<text text-anchor=\"middle\" x=\"131\" y=\"-234.3\" font-family=\"Times,serif\" font-size=\"14.00\" fill=\"white\">3</text>\n",
       "</g>\n",
       "<!-- 1&#45;&gt;3 -->\n",
       "<g id=\"edge2\" class=\"edge\">\n",
       "<title>1&#45;&gt;3</title>\n",
       "<path fill=\"none\" stroke=\"black\" d=\"M151.33,-291.7C148.42,-284.15 144.93,-275.12 141.68,-266.68\"/>\n",
       "<polygon fill=\"black\" stroke=\"black\" points=\"145.01,-265.59 138.14,-257.52 138.48,-268.11 145.01,-265.59\"/>\n",
       "</g>\n",
       "<!-- 7 -->\n",
       "<g id=\"node4\" class=\"node\">\n",
       "<title>7</title>\n",
       "<polygon fill=\"#f2c381\" stroke=\"#f2c381\" points=\"204,-256 168,-256 168,-220 204,-220 204,-256\"/>\n",
       "<text text-anchor=\"middle\" x=\"186\" y=\"-234.3\" font-family=\"Times,serif\" font-size=\"14.00\" fill=\"white\">7</text>\n",
       "</g>\n",
       "<!-- 1&#45;&gt;7 -->\n",
       "<g id=\"edge3\" class=\"edge\">\n",
       "<title>1&#45;&gt;7</title>\n",
       "<path fill=\"none\" stroke=\"black\" d=\"M164.92,-291.7C167.94,-284.15 171.55,-275.12 174.93,-266.68\"/>\n",
       "<polygon fill=\"black\" stroke=\"black\" points=\"178.13,-268.09 178.6,-257.51 171.63,-265.49 178.13,-268.09\"/>\n",
       "</g>\n",
       "<!-- 4 -->\n",
       "<g id=\"node5\" class=\"node\">\n",
       "<title>4</title>\n",
       "<polygon fill=\"#94adc3\" stroke=\"#94adc3\" points=\"149,-184 113,-184 113,-148 149,-148 149,-184\"/>\n",
       "<text text-anchor=\"middle\" x=\"131\" y=\"-162.3\" font-family=\"Times,serif\" font-size=\"14.00\" fill=\"white\">4</text>\n",
       "</g>\n",
       "<!-- 3&#45;&gt;4 -->\n",
       "<g id=\"edge4\" class=\"edge\">\n",
       "<title>3&#45;&gt;4</title>\n",
       "<path fill=\"none\" stroke=\"black\" d=\"M131,-219.7C131,-212.41 131,-203.73 131,-195.54\"/>\n",
       "<polygon fill=\"black\" stroke=\"black\" points=\"134.5,-195.62 131,-185.62 127.5,-195.62 134.5,-195.62\"/>\n",
       "</g>\n",
       "<!-- 8 -->\n",
       "<g id=\"node6\" class=\"node\">\n",
       "<title>8</title>\n",
       "<polygon fill=\"#f2c381\" stroke=\"#f2c381\" points=\"204,-184 168,-184 168,-148 204,-148 204,-184\"/>\n",
       "<text text-anchor=\"middle\" x=\"186\" y=\"-162.3\" font-family=\"Times,serif\" font-size=\"14.00\" fill=\"white\">8</text>\n",
       "</g>\n",
       "<!-- 7&#45;&gt;8 -->\n",
       "<g id=\"edge5\" class=\"edge\">\n",
       "<title>7&#45;&gt;8</title>\n",
       "<path fill=\"none\" stroke=\"black\" d=\"M186,-219.7C186,-212.41 186,-203.73 186,-195.54\"/>\n",
       "<polygon fill=\"black\" stroke=\"black\" points=\"189.5,-195.62 186,-185.62 182.5,-195.62 189.5,-195.62\"/>\n",
       "</g>\n",
       "<!-- 5 -->\n",
       "<g id=\"node7\" class=\"node\">\n",
       "<title>5</title>\n",
       "<polygon fill=\"#91cfcf\" stroke=\"#91cfcf\" points=\"93,-111 57,-111 57,-75 93,-75 93,-111\"/>\n",
       "<text text-anchor=\"middle\" x=\"75\" y=\"-89.3\" font-family=\"Times,serif\" font-size=\"14.00\" fill=\"white\">5</text>\n",
       "</g>\n",
       "<!-- 4&#45;&gt;5 -->\n",
       "<g id=\"edge6\" class=\"edge\">\n",
       "<title>4&#45;&gt;5</title>\n",
       "<path fill=\"none\" stroke=\"black\" d=\"M117.44,-147.81C110.84,-139.44 102.76,-129.2 95.43,-119.9\"/>\n",
       "<polygon fill=\"black\" stroke=\"black\" points=\"98.31,-117.9 89.37,-112.22 92.81,-122.24 98.31,-117.9\"/>\n",
       "</g>\n",
       "<!-- 6 -->\n",
       "<g id=\"node8\" class=\"node\">\n",
       "<title>6</title>\n",
       "<polygon fill=\"#978cb7\" stroke=\"#978cb7\" points=\"149,-111 113,-111 113,-75 149,-75 149,-111\"/>\n",
       "<text text-anchor=\"middle\" x=\"131\" y=\"-89.3\" font-family=\"Times,serif\" font-size=\"14.00\" fill=\"white\">6</text>\n",
       "</g>\n",
       "<!-- 4&#45;&gt;6 -->\n",
       "<g id=\"edge7\" class=\"edge\">\n",
       "<title>4&#45;&gt;6</title>\n",
       "<path fill=\"none\" stroke=\"black\" d=\"M131,-147.81C131,-140.23 131,-131.1 131,-122.54\"/>\n",
       "<polygon fill=\"black\" stroke=\"black\" points=\"134.5,-122.54 131,-112.54 127.5,-122.54 134.5,-122.54\"/>\n",
       "</g>\n",
       "<!-- s4 -->\n",
       "<g id=\"node9\" class=\"node\">\n",
       "<title>s4</title>\n",
       "<ellipse fill=\"#f2c381\" stroke=\"#f2c381\" cx=\"186\" cy=\"-93\" rx=\"19\" ry=\"19\"/>\n",
       "<text text-anchor=\"middle\" x=\"186\" y=\"-89.3\" font-family=\"Times,serif\" font-size=\"14.00\" fill=\"white\">s4</text>\n",
       "</g>\n",
       "<!-- 8&#45;&gt;s4 -->\n",
       "<g id=\"edge8\" class=\"edge\">\n",
       "<title>8&#45;&gt;s4</title>\n",
       "<path fill=\"none\" stroke=\"black\" d=\"M186,-147.81C186,-140.59 186,-131.97 186,-123.77\"/>\n",
       "<polygon fill=\"black\" stroke=\"black\" points=\"189.5,-123.78 186,-113.78 182.5,-123.78 189.5,-123.78\"/>\n",
       "</g>\n",
       "<!-- s5 -->\n",
       "<g id=\"node10\" class=\"node\">\n",
       "<title>s5</title>\n",
       "<ellipse fill=\"#f2c381\" stroke=\"#f2c381\" cx=\"242\" cy=\"-93\" rx=\"19\" ry=\"19\"/>\n",
       "<text text-anchor=\"middle\" x=\"242\" y=\"-89.3\" font-family=\"Times,serif\" font-size=\"14.00\" fill=\"white\">s5</text>\n",
       "</g>\n",
       "<!-- 8&#45;&gt;s5 -->\n",
       "<g id=\"edge9\" class=\"edge\">\n",
       "<title>8&#45;&gt;s5</title>\n",
       "<path fill=\"none\" stroke=\"black\" d=\"M199.56,-147.81C206.72,-138.73 215.62,-127.45 223.42,-117.56\"/>\n",
       "<polygon fill=\"black\" stroke=\"black\" points=\"226.08,-119.84 229.52,-109.82 220.58,-115.5 226.08,-119.84\"/>\n",
       "</g>\n",
       "<!-- s1 -->\n",
       "<g id=\"node13\" class=\"node\">\n",
       "<title>s1</title>\n",
       "<ellipse fill=\"#91cfcf\" stroke=\"#91cfcf\" cx=\"19\" cy=\"-19\" rx=\"19\" ry=\"19\"/>\n",
       "<text text-anchor=\"middle\" x=\"19\" y=\"-15.3\" font-family=\"Times,serif\" font-size=\"14.00\" fill=\"white\">s1</text>\n",
       "</g>\n",
       "<!-- 5&#45;&gt;s1 -->\n",
       "<g id=\"edge12\" class=\"edge\">\n",
       "<title>5&#45;&gt;s1</title>\n",
       "<path fill=\"none\" stroke=\"black\" d=\"M61.44,-74.57C54.11,-65.14 44.95,-53.37 37.02,-43.17\"/>\n",
       "<polygon fill=\"black\" stroke=\"black\" points=\"40,-41.3 31.1,-35.56 34.48,-45.6 40,-41.3\"/>\n",
       "</g>\n",
       "<!-- s2 -->\n",
       "<g id=\"node14\" class=\"node\">\n",
       "<title>s2</title>\n",
       "<ellipse fill=\"#91cfcf\" stroke=\"#91cfcf\" cx=\"75\" cy=\"-19\" rx=\"19\" ry=\"19\"/>\n",
       "<text text-anchor=\"middle\" x=\"75\" y=\"-15.3\" font-family=\"Times,serif\" font-size=\"14.00\" fill=\"white\">s2</text>\n",
       "</g>\n",
       "<!-- 5&#45;&gt;s2 -->\n",
       "<g id=\"edge13\" class=\"edge\">\n",
       "<title>5&#45;&gt;s2</title>\n",
       "<path fill=\"none\" stroke=\"black\" d=\"M75,-74.57C75,-67.1 75,-58.17 75,-49.71\"/>\n",
       "<polygon fill=\"black\" stroke=\"black\" points=\"78.5,-49.79 75,-39.79 71.5,-49.79 78.5,-49.79\"/>\n",
       "</g>\n",
       "<!-- s3 -->\n",
       "<g id=\"node15\" class=\"node\">\n",
       "<title>s3</title>\n",
       "<ellipse fill=\"#978cb7\" stroke=\"#978cb7\" cx=\"131\" cy=\"-19\" rx=\"19\" ry=\"19\"/>\n",
       "<text text-anchor=\"middle\" x=\"131\" y=\"-15.3\" font-family=\"Times,serif\" font-size=\"14.00\" fill=\"white\">s3</text>\n",
       "</g>\n",
       "<!-- 6&#45;&gt;s3 -->\n",
       "<g id=\"edge14\" class=\"edge\">\n",
       "<title>6&#45;&gt;s3</title>\n",
       "<path fill=\"none\" stroke=\"black\" d=\"M131,-74.57C131,-67.1 131,-58.17 131,-49.71\"/>\n",
       "<polygon fill=\"black\" stroke=\"black\" points=\"134.5,-49.79 131,-39.79 127.5,-49.79 134.5,-49.79\"/>\n",
       "</g>\n",
       "<!-- s6 -->\n",
       "<g id=\"node16\" class=\"node\">\n",
       "<title>s6</title>\n",
       "<ellipse fill=\"#978cb7\" stroke=\"#978cb7\" cx=\"187\" cy=\"-19\" rx=\"19\" ry=\"19\"/>\n",
       "<text text-anchor=\"middle\" x=\"187\" y=\"-15.3\" font-family=\"Times,serif\" font-size=\"14.00\" fill=\"white\">s6</text>\n",
       "</g>\n",
       "<!-- 6&#45;&gt;s6 -->\n",
       "<g id=\"edge15\" class=\"edge\">\n",
       "<title>6&#45;&gt;s6</title>\n",
       "<path fill=\"none\" stroke=\"black\" d=\"M144.56,-74.57C151.89,-65.14 161.05,-53.37 168.98,-43.17\"/>\n",
       "<polygon fill=\"black\" stroke=\"black\" points=\"171.52,-45.6 174.9,-35.56 166,-41.3 171.52,-45.6\"/>\n",
       "</g>\n",
       "<!-- 9 -->\n",
       "<g id=\"node11\" class=\"node\">\n",
       "<title>9</title>\n",
       "<polygon fill=\"#999a94\" stroke=\"#999a94\" points=\"203,-474 167,-474 167,-438 203,-438 203,-474\"/>\n",
       "<text text-anchor=\"middle\" x=\"185\" y=\"-452.3\" font-family=\"Times,serif\" font-size=\"14.00\" fill=\"white\">9</text>\n",
       "</g>\n",
       "<!-- 9&#45;&gt;2 -->\n",
       "<g id=\"edge10\" class=\"edge\">\n",
       "<title>9&#45;&gt;2</title>\n",
       "<path fill=\"none\" stroke=\"black\" d=\"M178.46,-437.81C175.48,-429.96 171.87,-420.47 168.52,-411.66\"/>\n",
       "<polygon fill=\"black\" stroke=\"black\" points=\"171.84,-410.55 165.01,-402.44 165.3,-413.03 171.84,-410.55\"/>\n",
       "</g>\n",
       "<!-- s0 -->\n",
       "<g id=\"node12\" class=\"node\">\n",
       "<title>s0</title>\n",
       "<ellipse fill=\"#000000\" stroke=\"#000000\" cx=\"213\" cy=\"-383\" rx=\"19\" ry=\"19\"/>\n",
       "<text text-anchor=\"middle\" x=\"213\" y=\"-379.3\" font-family=\"Times,serif\" font-size=\"14.00\" fill=\"white\">s0</text>\n",
       "</g>\n",
       "<!-- 9&#45;&gt;s0 -->\n",
       "<g id=\"edge11\" class=\"edge\">\n",
       "<title>9&#45;&gt;s0</title>\n",
       "<path fill=\"none\" stroke=\"black\" d=\"M191.78,-437.81C194.87,-429.96 198.62,-420.47 202.09,-411.66\"/>\n",
       "<polygon fill=\"black\" stroke=\"black\" points=\"205.32,-413.02 205.73,-402.44 198.8,-410.46 205.32,-413.02\"/>\n",
       "</g>\n",
       "</g>\n",
       "</svg>\n"
      ],
      "text/plain": [
       "<graphviz.files.Source at 0x2841c23e0>"
      ]
     },
     "execution_count": 214,
     "metadata": {},
     "output_type": "execute_result"
    }
   ],
   "source": [
    "from networkx.drawing.nx_agraph import graphviz_layout, to_agraph\n",
    "g = to_agraph(tree)\n",
    "g.layout('dot')\n",
    "g.draw(f'../../data/illustration_fig1_figures/0.001_1_map0.svg')\n",
    "Source(g)"
   ]
  },
  {
   "cell_type": "code",
   "execution_count": null,
   "id": "7f0f5655",
   "metadata": {},
   "outputs": [],
   "source": []
  }
 ],
 "metadata": {
  "kernelspec": {
   "display_name": "mtSCITE",
   "language": "python",
   "name": "mtscite"
  },
  "language_info": {
   "codemirror_mode": {
    "name": "ipython",
    "version": 3
   },
   "file_extension": ".py",
   "mimetype": "text/x-python",
   "name": "python",
   "nbconvert_exporter": "python",
   "pygments_lexer": "ipython3",
   "version": "3.10.6"
  }
 },
 "nbformat": 4,
 "nbformat_minor": 5
}
