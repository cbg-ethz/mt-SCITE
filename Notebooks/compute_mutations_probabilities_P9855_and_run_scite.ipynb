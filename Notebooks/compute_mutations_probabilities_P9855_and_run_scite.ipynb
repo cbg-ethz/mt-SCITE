{
 "cells": [
  {
   "cell_type": "code",
   "execution_count": 40,
   "id": "9ee5105e",
   "metadata": {},
   "outputs": [],
   "source": [
    "from Bio import SeqIO\n",
    "from glob import glob\n",
    "import os\n",
    "import seaborn as sns\n",
    "import matplotlib.pyplot as plt\n",
    "import re"
   ]
  },
  {
   "cell_type": "code",
   "execution_count": 41,
   "id": "7c005ade",
   "metadata": {},
   "outputs": [
    {
     "data": {
      "text/plain": [
       "'1.21.5'"
      ]
     },
     "execution_count": 41,
     "metadata": {},
     "output_type": "execute_result"
    }
   ],
   "source": [
    "import numpy\n",
    "numpy.__version__"
   ]
  },
  {
   "cell_type": "code",
   "execution_count": 42,
   "id": "f926611e",
   "metadata": {},
   "outputs": [],
   "source": [
    "from mito.genotyping import *"
   ]
  },
  {
   "cell_type": "markdown",
   "id": "539f4957",
   "metadata": {},
   "source": [
    "## Load reference"
   ]
  },
  {
   "cell_type": "code",
   "execution_count": 43,
   "id": "5a956aef",
   "metadata": {},
   "outputs": [],
   "source": [
    "# Path to reference genome\n",
    "reference_path = '../../data/reference/mito_GRCh38_gimlet.fasta'\n",
    "\n",
    "with open(reference_path, 'r'):\n",
    "    reference_seq = next(SeqIO.parse(reference_path, \"fasta\"))\n",
    "reference = pd.Series(list(reference_seq.seq))"
   ]
  },
  {
   "cell_type": "markdown",
   "id": "3e899e2e",
   "metadata": {},
   "source": [
    "## Load read matrices"
   ]
  },
  {
   "cell_type": "code",
   "execution_count": 44,
   "id": "22cacc26",
   "metadata": {},
   "outputs": [],
   "source": [
    "# Path to allele count files\n",
    "INPUT_PATH = '../../data/P9855_and_bulk_ac/'"
   ]
  },
  {
   "cell_type": "code",
   "execution_count": 45,
   "id": "c5e26b1b",
   "metadata": {},
   "outputs": [
    {
     "name": "stdout",
     "output_type": "stream",
     "text": [
      "Reading ../../data/P9855_and_bulk_ac/P3861_218.clean.dedup_ac.txt\n",
      "Reading ../../data/P9855_and_bulk_ac/P9855_2085_S108_L004_ac.txt\n",
      "Reading ../../data/P9855_and_bulk_ac/P9855_2089_S112_L004_ac.txt\n",
      "Reading ../../data/P9855_and_bulk_ac/P9855_2090_S113_L004_ac.txt\n",
      "Reading ../../data/P9855_and_bulk_ac/P9855_2091_S114_L004_ac.txt\n",
      "Reading ../../data/P9855_and_bulk_ac/P9855_2093_S116_L005_ac.txt\n",
      "Reading ../../data/P9855_and_bulk_ac/P9855_2096_S119_L005_ac.txt\n",
      "Reading ../../data/P9855_and_bulk_ac/P9855_2101_S124_L006_ac.txt\n",
      "Reading ../../data/P9855_and_bulk_ac/P9855_2102_S125_L006_ac.txt\n",
      "Reading ../../data/P9855_and_bulk_ac/P9855_2104_S127_L006_ac.txt\n",
      "Reading ../../data/P9855_and_bulk_ac/P9855_2110_S133_L007_ac.txt\n",
      "Reading ../../data/P9855_and_bulk_ac/P9855_2111_S134_L007_ac.txt\n",
      "Reading ../../data/P9855_and_bulk_ac/P9855_2112_S135_L007_ac.txt\n"
     ]
    }
   ],
   "source": [
    "cell_count = []\n",
    "\n",
    "# Get all allele counts files in the input path\n",
    "cell_count_filenames = list(glob(os.path.join(INPUT_PATH, '*.txt'))) #*.txt\n",
    "\n",
    "for filename in sorted(cell_count_filenames):\n",
    "    print('Reading {}'.format(filename))\n",
    "    name = os.path.basename(filename).split('.')[0]\n",
    "    \n",
    "\n",
    "    # Load one allele count file\n",
    "    counts = pd.read_csv(filename, sep='\\t')\n",
    "    counts.name = name\n",
    "    cell_count.append(counts)\n",
    "    \n",
    "# Get sample order\n",
    "\n",
    "sample_list = []\n",
    "\n",
    "for filename in sorted(cell_count_filenames):\n",
    "    name = os.path.basename(filename).split('-')[0]\n",
    "    sample_list.append(name)\n",
    "\n",
    "sample_list_df = pd.DataFrame(sample_list)\n",
    "sample_list_df = sample_list_df.rename(columns={0: 'cell'})"
   ]
  },
  {
   "cell_type": "code",
   "execution_count": null,
   "id": "accec7e2",
   "metadata": {},
   "outputs": [],
   "source": []
  },
  {
   "cell_type": "code",
   "execution_count": 15,
   "id": "a5b75ec0",
   "metadata": {},
   "outputs": [],
   "source": [
    "#e_rates = [0.0001, 0.0002, 0.0003, 0.0004, 0.0005, 0.0006, 0.0007, 0.0008, 0.0009, 0.001]\n",
    "#e_rates = [0.0011, 0.0012, 0.0013, 0.0014, 0.0015, 0.0016, 0.0017, 0.0019, 0.0019, 0.002]\n",
    "#e_rates = [0.002, 0.003, 0.004, 0.005, 0.006, 0.007, 0.008, 0.009, 0.01]\n",
    "#e_rates = [0.02, 0.025, 0.03, 0.035]\n",
    "\n",
    "\n",
    "#e_rates = [0.00009]"
   ]
  },
  {
   "cell_type": "markdown",
   "id": "7b17b7ca",
   "metadata": {},
   "source": [
    "## Get e_rates\n",
    "## 0.0001 -> 0.05 in steps of 0.0001"
   ]
  },
  {
   "cell_type": "code",
   "execution_count": 16,
   "id": "fb4ecf1f",
   "metadata": {},
   "outputs": [],
   "source": [
    "#0.0001 -> 0.05 in steps of 0.0001"
   ]
  },
  {
   "cell_type": "code",
   "execution_count": 31,
   "id": "034c16b8",
   "metadata": {},
   "outputs": [
    {
     "name": "stdout",
     "output_type": "stream",
     "text": [
      "[0.0001, 0.0002, 0.0003, 0.0004, 0.0005, 0.0006, 0.0007, 0.0008, 0.0009, 0.001, 0.0011, 0.0012, 0.0013, 0.0014, 0.0015, 0.0016, 0.0017, 0.0018, 0.0019, 0.002, 0.0021, 0.0022, 0.0023, 0.0024, 0.0025, 0.0026, 0.0027, 0.0028, 0.0029, 0.003, 0.0031, 0.0032, 0.0033, 0.0034, 0.0035, 0.0036, 0.0037, 0.0038, 0.0039, 0.004, 0.0041, 0.0042, 0.0043, 0.0044, 0.0045, 0.0046, 0.0047, 0.0048, 0.0049, 0.005, 0.0051, 0.0052, 0.0053, 0.0054, 0.0055, 0.0056, 0.0057, 0.0058, 0.0059, 0.006, 0.0061, 0.0062, 0.0063, 0.0064, 0.0065, 0.0066, 0.0067, 0.0068, 0.0069, 0.007, 0.0071, 0.0072, 0.0073, 0.0074, 0.0075, 0.0076, 0.0077, 0.0078, 0.0079, 0.008, 0.0081, 0.0082, 0.0083, 0.0084, 0.0085, 0.0086, 0.0087, 0.0088, 0.0089, 0.009, 0.0091, 0.0092, 0.0093, 0.0094, 0.0095, 0.0096, 0.0097, 0.0098, 0.0099, 0.01, 0.0101, 0.0102, 0.0103, 0.0104, 0.0105, 0.0106, 0.0107, 0.0108, 0.0109, 0.011, 0.0111, 0.0112, 0.0113, 0.0114, 0.0115, 0.0116, 0.0117, 0.0118, 0.0119, 0.012, 0.0121, 0.0122, 0.0123, 0.0124, 0.0125, 0.0126, 0.0127, 0.0128, 0.0129, 0.013, 0.0131, 0.0132, 0.0133, 0.0134, 0.0135, 0.0136, 0.0137, 0.0138, 0.0139, 0.014, 0.0141, 0.0142, 0.0143, 0.0144, 0.0145, 0.0146, 0.0147, 0.0148, 0.0149, 0.015, 0.0151, 0.0152, 0.0153, 0.0154, 0.0155, 0.0156, 0.0157, 0.0158, 0.0159, 0.016, 0.0161, 0.0162, 0.0163, 0.0164, 0.0165, 0.0166, 0.0167, 0.0168, 0.0169, 0.017, 0.0171, 0.0172, 0.0173, 0.0174, 0.0175, 0.0176, 0.0177, 0.0178, 0.0179, 0.018, 0.0181, 0.0182, 0.0183, 0.0184, 0.0185, 0.0186, 0.0187, 0.0188, 0.0189, 0.019, 0.0191, 0.0192, 0.0193, 0.0194, 0.0195, 0.0196, 0.0197, 0.0198, 0.0199, 0.02, 0.0201, 0.0202, 0.0203, 0.0204, 0.0205, 0.0206, 0.0207, 0.0208, 0.0209, 0.021, 0.0211, 0.0212, 0.0213, 0.0214, 0.0215, 0.0216, 0.0217, 0.0218, 0.0219, 0.022, 0.0221, 0.0222, 0.0223, 0.0224, 0.0225, 0.0226, 0.0227, 0.0228, 0.0229, 0.023, 0.0231, 0.0232, 0.0233, 0.0234, 0.0235, 0.0236, 0.0237, 0.0238, 0.0239, 0.024, 0.0241, 0.0242, 0.0243, 0.0244, 0.0245, 0.0246, 0.0247, 0.0248, 0.0249, 0.025, 0.0251, 0.0252, 0.0253, 0.0254, 0.0255, 0.0256, 0.0257, 0.0258, 0.0259, 0.026, 0.0261, 0.0262, 0.0263, 0.0264, 0.0265, 0.0266, 0.0267, 0.0268, 0.0269, 0.027, 0.0271, 0.0272, 0.0273, 0.0274, 0.0275, 0.0276, 0.0277, 0.0278, 0.0279, 0.028, 0.0281, 0.0282, 0.0283, 0.0284, 0.0285, 0.0286, 0.0287, 0.0288, 0.0289, 0.029, 0.0291, 0.0292, 0.0293, 0.0294, 0.0295, 0.0296, 0.0297, 0.0298, 0.0299, 0.03, 0.0301, 0.0302, 0.0303, 0.0304, 0.0305, 0.0306, 0.0307, 0.0308, 0.0309, 0.031, 0.0311, 0.0312, 0.0313, 0.0314, 0.0315, 0.0316, 0.0317, 0.0318, 0.0319, 0.032, 0.0321, 0.0322, 0.0323, 0.0324, 0.0325, 0.0326, 0.0327, 0.0328, 0.0329, 0.033, 0.0331, 0.0332, 0.0333, 0.0334, 0.0335, 0.0336, 0.0337, 0.0338, 0.0339, 0.034, 0.0341, 0.0342, 0.0343, 0.0344, 0.0345, 0.0346, 0.0347, 0.0348, 0.0349, 0.035, 0.0351, 0.0352, 0.0353, 0.0354, 0.0355, 0.0356, 0.0357, 0.0358, 0.0359]\n"
     ]
    }
   ],
   "source": [
    "start = 0.0001\n",
    "end = 0.036\n",
    "step = 0.0001\n",
    "\n",
    "e_rates = []\n",
    "\n",
    "for number in range(int(start / step), int(end / step) + 1):\n",
    "    current_number = number * step\n",
    "    rounded_number = round(current_number, 4)\n",
    "    e_rates.append(rounded_number)\n",
    "print(e_rates)"
   ]
  },
  {
   "cell_type": "markdown",
   "id": "ac213a64",
   "metadata": {},
   "source": [
    "## Compute mutations probabilities"
   ]
  },
  {
   "cell_type": "code",
   "execution_count": 32,
   "id": "535f29c4",
   "metadata": {},
   "outputs": [],
   "source": [
    "def cell_prob(e_rate):\n",
    "    \n",
    "    error_rate_when_no_mutation = error_rate_when_mutation = e_rate\n",
    "    p_mutation = 1 / 1000.0\n",
    "\n",
    "    cell_prob = []\n",
    "    for count in cell_count:\n",
    "        count = count.iloc[:reference.shape[0]]  # discard trailing positions\n",
    "        p = nucleotide_mutation_prob(\n",
    "            cell_counts=count,\n",
    "            reference=reference,\n",
    "            error_rate_when_no_mutation=error_rate_when_no_mutation,\n",
    "            error_rate_when_mutation=error_rate_when_mutation,\n",
    "            p_mutation=p_mutation,\n",
    "        )\n",
    "\n",
    "        cell_prob.append(p)\n",
    "        \n",
    "    # Compute P(mutation | read counts)\n",
    "    cells_p_mutation = []\n",
    "    for cell_prob in cell_prob:\n",
    "        p = mutation_prob(cell_prob, reference)\n",
    "        cells_p_mutation.append(p)\n",
    "        \n",
    "        \n",
    "    # Make mutation matrix\n",
    "    mutation_matrix = cells_p_mutation[0][['#CHR', 'POS']].copy()\n",
    "    mutation_matrix_data = pd.DataFrame(np.dstack([c['Prob_mutation'].values for c in cells_p_mutation]).squeeze())\n",
    "    mutation_matrix = pd.concat([mutation_matrix, mutation_matrix_data], axis=1)\n",
    "    return mutation_matrix      "
   ]
  },
  {
   "cell_type": "code",
   "execution_count": null,
   "id": "e5138331",
   "metadata": {},
   "outputs": [],
   "source": []
  },
  {
   "cell_type": "markdown",
   "id": "cfa83fce",
   "metadata": {},
   "source": [
    "## Filter pmat"
   ]
  },
  {
   "cell_type": "code",
   "execution_count": 33,
   "id": "4d0bc336",
   "metadata": {},
   "outputs": [],
   "source": [
    "def flt_pmat(e_rate):\n",
    "    mutation_matrix = cell_prob(e_rate)\n",
    "\n",
    "    # Remove germline mutations\n",
    "    mutation_matrix = mutation_matrix.loc[mutation_matrix[0] < 0.9]\n",
    "    \n",
    "    # Probabilities for location with mutation at any of the cells\n",
    "    mutation_threshold = 0.9\n",
    "    data = mutation_matrix.set_index('POS').drop('#CHR', axis=1)\n",
    "    mutation_any_cell = data[(data > mutation_threshold).any(axis=1)]\n",
    "    \n",
    "    # select rows that have a value greater than mutation_threshold in more than x cells\n",
    "    mutation_threshold = 0.9\n",
    "    mask = (data.values > mutation_threshold).sum(axis=1) > 1 #create an array with boolean values and sum these along the axis and select rows with more than 1 True\n",
    "    two_cells_have_mut = data[mask]\n",
    "\n",
    "    # Fix matrix\n",
    "    half = len(two_cells_have_mut.columns) / 2\n",
    "\n",
    "    # Remove rows where 50% of cols are nan and save in new df\n",
    "    nan_rows = two_cells_have_mut.drop(two_cells_have_mut[(two_cells_have_mut.isna()).sum(axis=1)> half].index)\n",
    "\n",
    "    # Replace NaN with row mean\n",
    "    imputed = nan_rows.transpose().fillna(nan_rows.mean(axis=1)).transpose()\n",
    "    \n",
    "    # To skip removal of sites with overall high probability for mut\n",
    "    high_prob_rows = imputed.copy()\n",
    "    \n",
    "    # Replace 1.0\n",
    "    high_prob_rows = high_prob_rows.replace(1.0, 0.99999)\n",
    "    \n",
    "    np.set_printoptions(suppress=True)\n",
    "    e_rate_name = str(e_rate)\n",
    "    matrix_path = '../../data/P9855_matrix_output/' + e_rate_name + '.csv'\n",
    "    high_prob_rows.to_csv(matrix_path, index=False, sep=' ', header= False)\n",
    "    \n",
    "    #print positions\n",
    "    #matrix_path = '../../data/P9855_matrix_output_w_pos/' + e_rate_name + '.csv'\n",
    "    #high_prob_rows.to_csv(matrix_path, sep='\\t', header=False)\n",
    "    \n"
   ]
  },
  {
   "cell_type": "code",
   "execution_count": 34,
   "id": "c342cc49",
   "metadata": {},
   "outputs": [
    {
     "name": "stderr",
     "output_type": "stream",
     "text": [
      "/Users/johard/Documents/mcmt/MCMT/Notebooks/mito/genotyping.py:251: FutureWarning: The 'lookup' method is deprecated and will beremoved in a future version.You can use DataFrame.melt and DataFrame.locas a substitute.\n",
      "  prob_mutation['Prob_mutation'] = 1 - p.lookup(p.index, reference.values)\n"
     ]
    }
   ],
   "source": [
    "for e_rate in e_rates:\n",
    "    flt_pmat(e_rate)"
   ]
  },
  {
   "cell_type": "markdown",
   "id": "c16fb41a",
   "metadata": {},
   "source": [
    "## Now run mt-SCITE"
   ]
  },
  {
   "cell_type": "code",
   "execution_count": null,
   "id": "0d893638",
   "metadata": {},
   "outputs": [],
   "source": []
  },
  {
   "cell_type": "code",
   "execution_count": 46,
   "id": "6492b2df",
   "metadata": {},
   "outputs": [
    {
     "data": {
      "text/html": [
       "<div>\n",
       "<style scoped>\n",
       "    .dataframe tbody tr th:only-of-type {\n",
       "        vertical-align: middle;\n",
       "    }\n",
       "\n",
       "    .dataframe tbody tr th {\n",
       "        vertical-align: top;\n",
       "    }\n",
       "\n",
       "    .dataframe thead th {\n",
       "        text-align: right;\n",
       "    }\n",
       "</style>\n",
       "<table border=\"1\" class=\"dataframe\">\n",
       "  <thead>\n",
       "    <tr style=\"text-align: right;\">\n",
       "      <th></th>\n",
       "      <th>pmat_names</th>\n",
       "      <th>len</th>\n",
       "    </tr>\n",
       "  </thead>\n",
       "  <tbody>\n",
       "    <tr>\n",
       "      <th>0</th>\n",
       "      <td>0.0001</td>\n",
       "      <td>176</td>\n",
       "    </tr>\n",
       "    <tr>\n",
       "      <th>1</th>\n",
       "      <td>0.0002</td>\n",
       "      <td>64</td>\n",
       "    </tr>\n",
       "    <tr>\n",
       "      <th>2</th>\n",
       "      <td>0.0003</td>\n",
       "      <td>40</td>\n",
       "    </tr>\n",
       "    <tr>\n",
       "      <th>3</th>\n",
       "      <td>0.0004</td>\n",
       "      <td>35</td>\n",
       "    </tr>\n",
       "    <tr>\n",
       "      <th>4</th>\n",
       "      <td>0.0005</td>\n",
       "      <td>34</td>\n",
       "    </tr>\n",
       "    <tr>\n",
       "      <th>...</th>\n",
       "      <td>...</td>\n",
       "      <td>...</td>\n",
       "    </tr>\n",
       "    <tr>\n",
       "      <th>354</th>\n",
       "      <td>0.0355</td>\n",
       "      <td>2</td>\n",
       "    </tr>\n",
       "    <tr>\n",
       "      <th>355</th>\n",
       "      <td>0.0356</td>\n",
       "      <td>2</td>\n",
       "    </tr>\n",
       "    <tr>\n",
       "      <th>356</th>\n",
       "      <td>0.0357</td>\n",
       "      <td>2</td>\n",
       "    </tr>\n",
       "    <tr>\n",
       "      <th>357</th>\n",
       "      <td>0.0358</td>\n",
       "      <td>2</td>\n",
       "    </tr>\n",
       "    <tr>\n",
       "      <th>358</th>\n",
       "      <td>0.0359</td>\n",
       "      <td>2</td>\n",
       "    </tr>\n",
       "  </tbody>\n",
       "</table>\n",
       "<p>359 rows × 2 columns</p>\n",
       "</div>"
      ],
      "text/plain": [
       "    pmat_names  len\n",
       "0       0.0001  176\n",
       "1       0.0002   64\n",
       "2       0.0003   40\n",
       "3       0.0004   35\n",
       "4       0.0005   34\n",
       "..         ...  ...\n",
       "354     0.0355    2\n",
       "355     0.0356    2\n",
       "356     0.0357    2\n",
       "357     0.0358    2\n",
       "358     0.0359    2\n",
       "\n",
       "[359 rows x 2 columns]"
      ]
     },
     "execution_count": 46,
     "metadata": {},
     "output_type": "execute_result"
    }
   ],
   "source": [
    "# prepare pmat data\n",
    "\n",
    "pmat_names = []\n",
    "shapes = []\n",
    "\n",
    "pmat_input_path = f'../../data/P9855_matrix_output/'\n",
    "#print(pmat_input_path)\n",
    "pmats = list(glob(os.path.join(pmat_input_path, '*.csv')))\n",
    "tree_name = []\n",
    "\n",
    "for filename in sorted(pmats):\n",
    "    name = os.path.basename(filename).split('-')[0].rsplit('.', 1)[0]\n",
    "    #print(name)\n",
    "    pmat_names.append(name)\n",
    "    df = pd.read_csv(filename, sep=' ', header=None)\n",
    "    shapes.append(len(df))\n",
    "\n",
    "# make df with pmat info\n",
    "pmat_data = pd.DataFrame(\n",
    "    {'pmat_names': pmat_names,\n",
    "     'len': shapes,\n",
    "    })\n",
    "\n",
    "pmat_data"
   ]
  },
  {
   "cell_type": "code",
   "execution_count": 47,
   "id": "c2f24199",
   "metadata": {},
   "outputs": [
    {
     "data": {
      "text/plain": [
       "13"
      ]
     },
     "execution_count": 47,
     "metadata": {},
     "output_type": "execute_result"
    }
   ],
   "source": [
    "# Check n samples\n",
    "a_pmat = pd.read_csv('../../data/P9855_matrix_output/0.0006.csv', sep=' ', header=None)\n",
    "n_cells = a_pmat.shape[1]\n",
    "n_cells"
   ]
  },
  {
   "cell_type": "code",
   "execution_count": null,
   "id": "27e2142f",
   "metadata": {},
   "outputs": [
    {
     "name": "stdout",
     "output_type": "stream",
     "text": [
      "Running tree inference for error rate 0.0001 repetition 1\n",
      "Running tree inference for error rate 0.0002 repetition 1\n",
      "Running tree inference for error rate 0.0003 repetition 1\n",
      "Running tree inference for error rate 0.0004 repetition 1\n",
      "Running tree inference for error rate 0.0005 repetition 1\n",
      "Running tree inference for error rate 0.0006 repetition 1\n",
      "Running tree inference for error rate 0.0007 repetition 1\n"
     ]
    }
   ],
   "source": [
    "# Run mt-SCITE\n",
    "\n",
    "SCITE_PATH = '../../../mt-SCITE'\n",
    "PMAT_PATH = f'../../data/P9855_matrix_output/'\n",
    "OUTPUT = f'../../../mt-SCITE/mt-SCITE_output/P9855/'\n",
    "\n",
    "for rep in range(1,11): #11\n",
    "    \n",
    "    for pmat in pmat_names:        \n",
    "        run_id = pmat + '_' + str(rep)\n",
    "        print('Running tree inference for error rate ' + pmat + ' repetition ' + str(rep))\n",
    "\n",
    "        # Get number of mutations\n",
    "        n = pmat_data.loc[pmat_data['pmat_names'] == pmat, 'len'].iloc[0].astype(str)\n",
    "\n",
    "        try:\n",
    "            os.makedirs(OUTPUT + '/stdout/') \n",
    "        except FileExistsError :\n",
    "            pass\n",
    "        except :\n",
    "            raise\n",
    "\n",
    "        ! $SCITE_PATH/mt-SCITE/scite -i $PMAT_PATH/$pmat\\.csv -n $n -m $n_cells -r 1 -l 200000 -fd 0.0001 -ad 0.0001 -cc 0.0 -s -a -o $OUTPUT/$run_id 1> $OUTPUT/stdout/$run_id\\.stdout.txt\n",
    "        \n",
    " "
   ]
  },
  {
   "cell_type": "code",
   "execution_count": 14,
   "id": "270e8a3b",
   "metadata": {},
   "outputs": [],
   "source": [
    "#true_tree = pd.read_csv('../../data/P9855_matrix_output_w_pos/0.0007.csv', sep='\\t', header=None)\n",
    "#true_tree"
   ]
  },
  {
   "cell_type": "code",
   "execution_count": null,
   "id": "b64a839d",
   "metadata": {},
   "outputs": [],
   "source": []
  }
 ],
 "metadata": {
  "kernelspec": {
   "display_name": "mtSCITE",
   "language": "python",
   "name": "mtscite"
  },
  "language_info": {
   "codemirror_mode": {
    "name": "ipython",
    "version": 3
   },
   "file_extension": ".py",
   "mimetype": "text/x-python",
   "name": "python",
   "nbconvert_exporter": "python",
   "pygments_lexer": "ipython3",
   "version": "3.7.13"
  }
 },
 "nbformat": 4,
 "nbformat_minor": 5
}
