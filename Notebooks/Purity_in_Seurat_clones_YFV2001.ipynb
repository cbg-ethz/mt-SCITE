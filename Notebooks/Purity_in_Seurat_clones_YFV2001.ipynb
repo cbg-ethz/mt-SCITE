{
 "cells": [
  {
   "cell_type": "code",
   "execution_count": 1,
   "id": "abc34e4d",
   "metadata": {},
   "outputs": [],
   "source": [
    "import pandas as pd"
   ]
  },
  {
   "cell_type": "code",
   "execution_count": 9,
   "id": "4fc88d4f",
   "metadata": {},
   "outputs": [
    {
     "data": {
      "text/html": [
       "<div>\n",
       "<style scoped>\n",
       "    .dataframe tbody tr th:only-of-type {\n",
       "        vertical-align: middle;\n",
       "    }\n",
       "\n",
       "    .dataframe tbody tr th {\n",
       "        vertical-align: top;\n",
       "    }\n",
       "\n",
       "    .dataframe thead th {\n",
       "        text-align: right;\n",
       "    }\n",
       "</style>\n",
       "<table border=\"1\" class=\"dataframe\">\n",
       "  <thead>\n",
       "    <tr style=\"text-align: right;\">\n",
       "      <th></th>\n",
       "      <th>cell_id</th>\n",
       "      <th>cluster_id</th>\n",
       "    </tr>\n",
       "  </thead>\n",
       "  <tbody>\n",
       "    <tr>\n",
       "      <th>1</th>\n",
       "      <td>P1299_1482</td>\n",
       "      <td>0</td>\n",
       "    </tr>\n",
       "    <tr>\n",
       "      <th>2</th>\n",
       "      <td>P1299_1372</td>\n",
       "      <td>0</td>\n",
       "    </tr>\n",
       "    <tr>\n",
       "      <th>3</th>\n",
       "      <td>P1299_1535</td>\n",
       "      <td>0</td>\n",
       "    </tr>\n",
       "    <tr>\n",
       "      <th>4</th>\n",
       "      <td>P1299_1488</td>\n",
       "      <td>0</td>\n",
       "    </tr>\n",
       "    <tr>\n",
       "      <th>5</th>\n",
       "      <td>P1299_1760</td>\n",
       "      <td>0</td>\n",
       "    </tr>\n",
       "    <tr>\n",
       "      <th>...</th>\n",
       "      <td>...</td>\n",
       "      <td>...</td>\n",
       "    </tr>\n",
       "    <tr>\n",
       "      <th>68</th>\n",
       "      <td>P3128_1147</td>\n",
       "      <td>3</td>\n",
       "    </tr>\n",
       "    <tr>\n",
       "      <th>69</th>\n",
       "      <td>P3128_1062</td>\n",
       "      <td>3</td>\n",
       "    </tr>\n",
       "    <tr>\n",
       "      <th>70</th>\n",
       "      <td>P1299_1555</td>\n",
       "      <td>3</td>\n",
       "    </tr>\n",
       "    <tr>\n",
       "      <th>71</th>\n",
       "      <td>P1902_1047</td>\n",
       "      <td>3</td>\n",
       "    </tr>\n",
       "    <tr>\n",
       "      <th>72</th>\n",
       "      <td>P1299_1757</td>\n",
       "      <td>3</td>\n",
       "    </tr>\n",
       "  </tbody>\n",
       "</table>\n",
       "<p>72 rows × 2 columns</p>\n",
       "</div>"
      ],
      "text/plain": [
       "       cell_id  cluster_id\n",
       "1   P1299_1482           0\n",
       "2   P1299_1372           0\n",
       "3   P1299_1535           0\n",
       "4   P1299_1488           0\n",
       "5   P1299_1760           0\n",
       "..         ...         ...\n",
       "68  P3128_1147           3\n",
       "69  P3128_1062           3\n",
       "70  P1299_1555           3\n",
       "71  P1902_1047           3\n",
       "72  P1299_1757           3\n",
       "\n",
       "[72 rows x 2 columns]"
      ]
     },
     "execution_count": 9,
     "metadata": {},
     "output_type": "execute_result"
    }
   ],
   "source": [
    "YFV2001_clusters_Seurat = pd.read_csv('/Users/johard/Documents/mgatk_for_mtSCITE_ms/output/YFV2001_clusters.txt', sep='\\t')\n",
    "YFV2001_clusters_Seurat['cell_id'] = YFV2001_clusters_Seurat['cell_id'].str.replace('_sorted', '')\n",
    "YFV2001_clusters_Seurat"
   ]
  },
  {
   "cell_type": "code",
   "execution_count": 10,
   "id": "ae90de88",
   "metadata": {},
   "outputs": [
    {
     "data": {
      "text/html": [
       "<div>\n",
       "<style scoped>\n",
       "    .dataframe tbody tr th:only-of-type {\n",
       "        vertical-align: middle;\n",
       "    }\n",
       "\n",
       "    .dataframe tbody tr th {\n",
       "        vertical-align: top;\n",
       "    }\n",
       "\n",
       "    .dataframe thead th {\n",
       "        text-align: right;\n",
       "    }\n",
       "</style>\n",
       "<table border=\"1\" class=\"dataframe\">\n",
       "  <thead>\n",
       "    <tr style=\"text-align: right;\">\n",
       "      <th></th>\n",
       "      <th>clone</th>\n",
       "      <th>tree_id</th>\n",
       "      <th>cell_id</th>\n",
       "      <th>node_name</th>\n",
       "    </tr>\n",
       "  </thead>\n",
       "  <tbody>\n",
       "    <tr>\n",
       "      <th>0</th>\n",
       "      <td>bulk</td>\n",
       "      <td>s0</td>\n",
       "      <td>P3861_210.txt</td>\n",
       "      <td>ss0</td>\n",
       "    </tr>\n",
       "    <tr>\n",
       "      <th>1</th>\n",
       "      <td>107</td>\n",
       "      <td>s10</td>\n",
       "      <td>P1299_1141</td>\n",
       "      <td>ss10</td>\n",
       "    </tr>\n",
       "    <tr>\n",
       "      <th>2</th>\n",
       "      <td>107</td>\n",
       "      <td>s54</td>\n",
       "      <td>P1299_1514</td>\n",
       "      <td>ss54</td>\n",
       "    </tr>\n",
       "    <tr>\n",
       "      <th>3</th>\n",
       "      <td>107</td>\n",
       "      <td>s55</td>\n",
       "      <td>P1299_1529</td>\n",
       "      <td>ss55</td>\n",
       "    </tr>\n",
       "    <tr>\n",
       "      <th>4</th>\n",
       "      <td>107</td>\n",
       "      <td>s56</td>\n",
       "      <td>P1299_1535</td>\n",
       "      <td>ss56</td>\n",
       "    </tr>\n",
       "  </tbody>\n",
       "</table>\n",
       "</div>"
      ],
      "text/plain": [
       "  clone tree_id        cell_id node_name\n",
       "0  bulk      s0  P3861_210.txt       ss0\n",
       "1   107     s10     P1299_1141      ss10\n",
       "2   107     s54     P1299_1514      ss54\n",
       "3   107     s55     P1299_1529      ss55\n",
       "4   107     s56     P1299_1535      ss56"
      ]
     },
     "execution_count": 10,
     "metadata": {},
     "output_type": "execute_result"
    }
   ],
   "source": [
    "clones_map = pd.read_csv('../../../mcmt/data/YFV2001_clone_key/YFV2001_clone_key', sep = '\\t')\n",
    "clones_map.head()"
   ]
  },
  {
   "cell_type": "code",
   "execution_count": 12,
   "id": "07c4afc1",
   "metadata": {},
   "outputs": [
    {
     "data": {
      "text/plain": [
       "0.6102092352092352"
      ]
     },
     "execution_count": 12,
     "metadata": {},
     "output_type": "execute_result"
    }
   ],
   "source": [
    "merged_df = pd.merge(clones_map[['clone', 'cell_id']], YFV2001_clusters_Seurat[['cell_id', 'cluster_id']], on='cell_id', how='inner')\n",
    "grouped_counts = merged_df.groupby('cluster_id')['clone'].value_counts()\n",
    "max_counts = grouped_counts.groupby(level='cluster_id').max()\n",
    "total_counts = grouped_counts.groupby(level='cluster_id').sum()\n",
    "proportions = max_counts / total_counts\n",
    "average_proportion = proportions.mean()\n",
    "average_proportion"
   ]
  },
  {
   "cell_type": "code",
   "execution_count": null,
   "id": "dccc94b6",
   "metadata": {},
   "outputs": [],
   "source": []
  },
  {
   "cell_type": "code",
   "execution_count": null,
   "id": "0dd79ca7",
   "metadata": {},
   "outputs": [],
   "source": []
  }
 ],
 "metadata": {
  "kernelspec": {
   "display_name": "Python 3",
   "language": "python",
   "name": "python3"
  },
  "language_info": {
   "codemirror_mode": {
    "name": "ipython",
    "version": 3
   },
   "file_extension": ".py",
   "mimetype": "text/x-python",
   "name": "python",
   "nbconvert_exporter": "python",
   "pygments_lexer": "ipython3",
   "version": "3.7.13"
  }
 },
 "nbformat": 4,
 "nbformat_minor": 5
}
