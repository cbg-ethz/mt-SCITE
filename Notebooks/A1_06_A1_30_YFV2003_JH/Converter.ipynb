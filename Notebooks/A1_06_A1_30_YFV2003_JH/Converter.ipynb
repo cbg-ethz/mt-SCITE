{
 "cells": [
  {
   "cell_type": "code",
   "execution_count": null,
   "metadata": {
    "ExecuteTime": {
     "end_time": "2021-05-28T12:39:36.002941Z",
     "start_time": "2021-05-28T12:39:35.514196Z"
    }
   },
   "outputs": [],
   "source": [
    "from graphviz import Source\n",
    "from networkx.drawing.nx_agraph import to_agraph\n",
    "from networkx.readwrite.gpickle import read_gpickle\n",
    "import networkx as nx\n",
    "import pandas as pd "
   ]
  },
  {
   "cell_type": "code",
   "execution_count": null,
   "metadata": {
    "ExecuteTime": {
     "end_time": "2021-05-28T12:41:24.923640Z",
     "start_time": "2021-05-28T12:41:24.919609Z"
    }
   },
   "outputs": [],
   "source": [
    "def recursive_newick(tree, node, count):\n",
    "    successors = list(tree.successors(node))\n",
    "    if len(successors) == 0:\n",
    "        cell_id = node\n",
    "        return f'{cell_id}:{count}'\n",
    "    elif len(successors) == 1:\n",
    "        count += 1\n",
    "        return recursive_newick(tree, successors[0], count)\n",
    "    else:\n",
    "        children = []\n",
    "        for child in successors:\n",
    "            child_repr = recursive_newick(tree, child, 1)\n",
    "            children.append(child_repr)\n",
    "        return '(' + ','.join(children) + f'):{count}'\n",
    "             "
   ]
  },
  {
   "cell_type": "code",
   "execution_count": null,
   "metadata": {
    "ExecuteTime": {
     "end_time": "2021-05-28T12:41:06.433899Z",
     "start_time": "2021-05-28T12:41:06.398610Z"
    }
   },
   "outputs": [],
   "source": []
  },
  {
   "cell_type": "code",
   "execution_count": null,
   "metadata": {},
   "outputs": [],
   "source": [
    "tree_filename = f'../../mt-SCITE_output/YFV2001/0.0556/0.0556_map0.gv'"
   ]
  },
  {
   "cell_type": "code",
   "execution_count": null,
   "metadata": {
    "ExecuteTime": {
     "end_time": "2021-05-28T12:41:08.798680Z",
     "start_time": "2021-05-28T12:41:06.880976Z"
    },
    "scrolled": false
   },
   "outputs": [],
   "source": [
    "tree = nx.drawing.nx_pydot.read_dot(tree_filename)\n",
    "\n",
    "from networkx.drawing.nx_agraph import graphviz_layout, to_agraph\n",
    "g = to_agraph(tree)\n",
    "\n",
    "g = to_agraph(tree)\n",
    "display(Source(g))"
   ]
  },
  {
   "cell_type": "code",
   "execution_count": null,
   "metadata": {},
   "outputs": [],
   "source": [
    "# Function to convert adjacency matrix (in the form of a pandas dataframe) to adjacency list\n",
    "def adjacency_matrix_to_list(adj_matrix):\n",
    "    adj_list = {}\n",
    "    for node in adj_matrix.index:\n",
    "        adj_list[node] = list(adj_matrix.columns[adj_matrix.loc[node] == 1])\n",
    "    return adj_list\n",
    "\n",
    "# Function to perform DFS and find all root-to-leaf paths\n",
    "def find_paths(adj_list, node, path, paths):\n",
    "    path.append(node)\n",
    "    if len(adj_list[node]) == 0:\n",
    "        paths.append(path.copy())\n",
    "    else:\n",
    "        for neighbor in adj_list[node]:\n",
    "            find_paths(adj_list, neighbor, path, paths)\n",
    "    path.pop()\n",
    "    \n",
    "def get_nodes(adj_matrix):\n",
    "    nodes = list(adj_matrix.index)\n",
    "    internal_nodes = [node for node in nodes if adj_matrix.loc[node].sum() > 1]\n",
    "    return internal_nodes\n",
    "\n",
    "\n",
    "# Function to create dataframe where leaf nodes are index and internal nodes are columns\n",
    "def create_leaf_internal_df(adj_matrix):\n",
    "    # Get list of leaf nodes\n",
    "    leaf_nodes = [node for node in adj_matrix.index if adj_matrix.loc[node].sum() == 0]\n",
    "    # Get list of internal nodes\n",
    "    internal_nodes = [node for node in adj_matrix.index if adj_matrix.loc[node].sum() > 0]\n",
    "    # Initialize dataframe with leaf nodes as index and internal nodes as columns\n",
    "    leaf_internal_df = pd.DataFrame(0, index=leaf_nodes, columns=internal_nodes)\n",
    "    return leaf_internal_df\n",
    "\n",
    "def set_groups(leaf_internal_df, paths):\n",
    "    leaf_internal_df = leaf_internal_df.copy()\n",
    "    for path in paths: \n",
    "        leaf_node = path[-1]\n",
    "        for node in path[:-1]:\n",
    "            leaf_internal_df.loc[leaf_node, node] = 1 \n",
    "    return leaf_internal_df\n",
    "\n",
    "\n",
    "adj_matrix = nx.to_pandas_adjacency(tree)\n",
    "adj_matrix = adj_matrix.loc[adj_matrix.index[1:], adj_matrix.columns[1:]]\n",
    "\n",
    "adj_list = adjacency_matrix_to_list(adj_matrix)\n",
    "nodes = get_nodes(adj_matrix)\n",
    "internal_nodes = get_nodes(adj_matrix)\n",
    "paths = []\n",
    "\n",
    "\n",
    "find_paths(adj_list, '42', [], paths)\n",
    "leaf_internal_df = create_leaf_internal_df(adj_matrix)\n",
    "cells_path_from_root_df = set_groups(leaf_internal_df, paths)"
   ]
  },
  {
   "cell_type": "code",
   "execution_count": null,
   "metadata": {},
   "outputs": [],
   "source": [
    "cells_path_from_root_df"
   ]
  },
  {
   "cell_type": "code",
   "execution_count": null,
   "metadata": {},
   "outputs": [],
   "source": [
    "cells_path_from_root_df.to_csv('../../data/mt_path_annotation/yfv2001_mt_path.csv')"
   ]
  },
  {
   "cell_type": "code",
   "execution_count": null,
   "metadata": {},
   "outputs": [],
   "source": [
    "    "
   ]
  }
 ],
 "metadata": {
  "hide_input": false,
  "kernelspec": {
   "display_name": "mtSCITE",
   "language": "python",
   "name": "mtscite"
  },
  "language_info": {
   "codemirror_mode": {
    "name": "ipython",
    "version": 3
   },
   "file_extension": ".py",
   "mimetype": "text/x-python",
   "name": "python",
   "nbconvert_exporter": "python",
   "pygments_lexer": "ipython3",
   "version": "3.10.8"
  },
  "toc": {
   "nav_menu": {
    "height": "12px",
    "width": "252px"
   },
   "navigate_menu": true,
   "number_sections": true,
   "sideBar": true,
   "threshold": 4,
   "toc_cell": false,
   "toc_section_display": "block",
   "toc_window_display": false
  }
 },
 "nbformat": 4,
 "nbformat_minor": 2
}
