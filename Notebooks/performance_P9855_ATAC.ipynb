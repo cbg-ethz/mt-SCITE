{
 "cells": [
  {
   "cell_type": "code",
   "execution_count": 1,
   "id": "15b03aba",
   "metadata": {},
   "outputs": [],
   "source": [
    "import os\n",
    "from glob import glob\n",
    "import matplotlib.pyplot as plt\n",
    "from matplotlib.ticker import EngFormatter\n",
    "import pandas as pd\n",
    "import numpy as np\n",
    "import seaborn as sns\n",
    "\n",
    "sns.set_style('white')\n",
    "sns.set_context('notebook')\n",
    "\n",
    "def plot_style(figsize=(12, 6), labelsize=20, titlesize=24, ticklabelsize=14, **kwargs):\n",
    "   basic_style = {\n",
    "       'figure.figsize': figsize,\n",
    "       'axes.labelsize': labelsize,\n",
    "       'axes.titlesize': titlesize,\n",
    "       'xtick.labelsize': ticklabelsize,\n",
    "       'ytick.labelsize': ticklabelsize,\n",
    "       'axes.spines.top': False,\n",
    "       'axes.spines.right': False,\n",
    "       'axes.spines.left': False,\n",
    "       'axes.grid': False,\n",
    "       'axes.grid.axis': 'y',\n",
    "   }\n",
    "   basic_style.update(kwargs)\n",
    "   return plt.rc_context(rc=basic_style)\n",
    "\n",
    "blue = sns.xkcd_rgb['ocean blue']"
   ]
  },
  {
   "cell_type": "markdown",
   "id": "8157e2f4",
   "metadata": {},
   "source": [
    "## Get tree and pmat data"
   ]
  },
  {
   "cell_type": "code",
   "execution_count": 2,
   "id": "a4ced540",
   "metadata": {},
   "outputs": [
    {
     "data": {
      "text/plain": [
       "['../../../mt-SCITE/mt-SCITE_output/stdout/0.002.stdout.txt',\n",
       " '../../../mt-SCITE/mt-SCITE_output/stdout/0.0003.stdout.txt',\n",
       " '../../../mt-SCITE/mt-SCITE_output/stdout/0.0006.stdout.txt',\n",
       " '../../../mt-SCITE/mt-SCITE_output/stdout/0.00009.stdout.txt',\n",
       " '../../../mt-SCITE/mt-SCITE_output/stdout/0.0001.stdout.txt',\n",
       " '../../../mt-SCITE/mt-SCITE_output/stdout/0.0004.stdout.txt',\n",
       " '../../../mt-SCITE/mt-SCITE_output/stdout/0.005.stdout.txt',\n",
       " '../../../mt-SCITE/mt-SCITE_output/stdout/0.0009.stdout.txt',\n",
       " '../../../mt-SCITE/mt-SCITE_output/stdout/0.00005.stdout.txt',\n",
       " '../../../mt-SCITE/mt-SCITE_output/stdout/0.0007.stdout.txt',\n",
       " '../../../mt-SCITE/mt-SCITE_output/stdout/0.025.stdout.txt',\n",
       " '../../../mt-SCITE/mt-SCITE_output/stdout/0.0002.stdout.txt',\n",
       " '../../../mt-SCITE/mt-SCITE_output/stdout/0.0005.stdout.txt',\n",
       " '../../../mt-SCITE/mt-SCITE_output/stdout/0.0008.stdout.txt',\n",
       " '../../../mt-SCITE/mt-SCITE_output/stdout/0.03.stdout.txt',\n",
       " '../../../mt-SCITE/mt-SCITE_output/stdout/0.001.stdout.txt']"
      ]
     },
     "execution_count": 2,
     "metadata": {},
     "output_type": "execute_result"
    }
   ],
   "source": [
    "scite_input_path = '../../../mt-SCITE/mt-SCITE_output/stdout/'\n",
    "scite_stdout_filenames = list(glob(os.path.join(scite_input_path, '*.txt')))\n",
    "scite_stdout_filenames"
   ]
  },
  {
   "cell_type": "code",
   "execution_count": 3,
   "id": "567990e8",
   "metadata": {},
   "outputs": [
    {
     "data": {
      "text/plain": [
       "['../../data/P9855_matrix_output/0.005.csv',\n",
       " '../../data/P9855_matrix_output/0.002.csv',\n",
       " '../../data/P9855_matrix_output/0.00009.csv',\n",
       " '../../data/P9855_matrix_output/0.001.csv',\n",
       " '../../data/P9855_matrix_output/0.0001.csv',\n",
       " '../../data/P9855_matrix_output/0.0003.csv',\n",
       " '../../data/P9855_matrix_output/0.0002.csv',\n",
       " '../../data/P9855_matrix_output/0.0006.csv',\n",
       " '../../data/P9855_matrix_output/0.0007.csv',\n",
       " '../../data/P9855_matrix_output/0.0005.csv',\n",
       " '../../data/P9855_matrix_output/0.0004.csv',\n",
       " '../../data/P9855_matrix_output/0.0009.csv',\n",
       " '../../data/P9855_matrix_output/0.0008.csv',\n",
       " '../../data/P9855_matrix_output/0.03.csv',\n",
       " '../../data/P9855_matrix_output/0.025.csv',\n",
       " '../../data/P9855_matrix_output/0.00005.csv']"
      ]
     },
     "execution_count": 3,
     "metadata": {},
     "output_type": "execute_result"
    }
   ],
   "source": [
    "pmat_input_path = '../../data/P9855_matrix_output/'\n",
    "pmats = list(glob(os.path.join(pmat_input_path, '*.csv')))\n",
    "pmats"
   ]
  },
  {
   "cell_type": "code",
   "execution_count": 4,
   "id": "fded305d",
   "metadata": {},
   "outputs": [],
   "source": [
    "# Get experiment IDs\n",
    "experiments = []\n",
    "for filename in sorted(scite_stdout_filenames):\n",
    "    name = os.path.basename(filename).split('-')[0].rsplit('.', 2)[0]\n",
    "    experiments.append(name)"
   ]
  },
  {
   "cell_type": "code",
   "execution_count": 5,
   "id": "676d9182",
   "metadata": {},
   "outputs": [],
   "source": [
    "# Get log likelihood scores\n",
    "lhood = []\n",
    "for filename in sorted(scite_stdout_filenames):\n",
    "    file = open(filename, \"r\")\n",
    "    for line in file:\n",
    "        if 'best log score for tree:' in line:\n",
    "            score = line.split('\t')[1].rstrip()\n",
    "            lhood.append(score)"
   ]
  },
  {
   "cell_type": "code",
   "execution_count": 6,
   "id": "c6ad462e",
   "metadata": {},
   "outputs": [],
   "source": [
    "# Get n mutations\n",
    "n_mut = []\n",
    "for filename in sorted(pmats):\n",
    "    file = open(filename, \"r\")\n",
    "    n = len(file.readlines())\n",
    "    n_mut.append(n)"
   ]
  },
  {
   "cell_type": "code",
   "execution_count": 8,
   "id": "d7f186c9",
   "metadata": {},
   "outputs": [],
   "source": [
    "#tree_data['n_muts']/tree_data['lhood']"
   ]
  },
  {
   "cell_type": "code",
   "execution_count": 9,
   "id": "a4735412",
   "metadata": {},
   "outputs": [
    {
     "data": {
      "text/html": [
       "<div>\n",
       "<style scoped>\n",
       "    .dataframe tbody tr th:only-of-type {\n",
       "        vertical-align: middle;\n",
       "    }\n",
       "\n",
       "    .dataframe tbody tr th {\n",
       "        vertical-align: top;\n",
       "    }\n",
       "\n",
       "    .dataframe thead th {\n",
       "        text-align: right;\n",
       "    }\n",
       "</style>\n",
       "<table border=\"1\" class=\"dataframe\">\n",
       "  <thead>\n",
       "    <tr style=\"text-align: right;\">\n",
       "      <th></th>\n",
       "      <th>lhood</th>\n",
       "      <th>n_muts</th>\n",
       "      <th>lhood_mut</th>\n",
       "      <th>entries</th>\n",
       "      <th>lhood_entries</th>\n",
       "    </tr>\n",
       "    <tr>\n",
       "      <th>error_rate</th>\n",
       "      <th></th>\n",
       "      <th></th>\n",
       "      <th></th>\n",
       "      <th></th>\n",
       "      <th></th>\n",
       "    </tr>\n",
       "  </thead>\n",
       "  <tbody>\n",
       "    <tr>\n",
       "      <th>0.00005</th>\n",
       "      <td>-11886.137229</td>\n",
       "      <td>1018</td>\n",
       "      <td>-11.675970</td>\n",
       "      <td>12216</td>\n",
       "      <td>-0.972997</td>\n",
       "    </tr>\n",
       "    <tr>\n",
       "      <th>0.00009</th>\n",
       "      <td>-2104.634643</td>\n",
       "      <td>239</td>\n",
       "      <td>-8.806003</td>\n",
       "      <td>2868</td>\n",
       "      <td>-0.733834</td>\n",
       "    </tr>\n",
       "    <tr>\n",
       "      <th>0.0001</th>\n",
       "      <td>-1665.747970</td>\n",
       "      <td>193</td>\n",
       "      <td>-8.630818</td>\n",
       "      <td>2316</td>\n",
       "      <td>-0.719235</td>\n",
       "    </tr>\n",
       "    <tr>\n",
       "      <th>0.0002</th>\n",
       "      <td>-389.108193</td>\n",
       "      <td>66</td>\n",
       "      <td>-5.895579</td>\n",
       "      <td>792</td>\n",
       "      <td>-0.491298</td>\n",
       "    </tr>\n",
       "    <tr>\n",
       "      <th>0.0003</th>\n",
       "      <td>-129.650810</td>\n",
       "      <td>41</td>\n",
       "      <td>-3.162215</td>\n",
       "      <td>492</td>\n",
       "      <td>-0.263518</td>\n",
       "    </tr>\n",
       "    <tr>\n",
       "      <th>0.0004</th>\n",
       "      <td>-124.117935</td>\n",
       "      <td>34</td>\n",
       "      <td>-3.650527</td>\n",
       "      <td>408</td>\n",
       "      <td>-0.304211</td>\n",
       "    </tr>\n",
       "    <tr>\n",
       "      <th>0.0005</th>\n",
       "      <td>-105.449658</td>\n",
       "      <td>34</td>\n",
       "      <td>-3.101461</td>\n",
       "      <td>408</td>\n",
       "      <td>-0.258455</td>\n",
       "    </tr>\n",
       "    <tr>\n",
       "      <th>0.0006</th>\n",
       "      <td>-58.557062</td>\n",
       "      <td>30</td>\n",
       "      <td>-1.951902</td>\n",
       "      <td>360</td>\n",
       "      <td>-0.162659</td>\n",
       "    </tr>\n",
       "    <tr>\n",
       "      <th>0.0007</th>\n",
       "      <td>-38.863853</td>\n",
       "      <td>28</td>\n",
       "      <td>-1.387995</td>\n",
       "      <td>336</td>\n",
       "      <td>-0.115666</td>\n",
       "    </tr>\n",
       "    <tr>\n",
       "      <th>0.0008</th>\n",
       "      <td>-33.511933</td>\n",
       "      <td>26</td>\n",
       "      <td>-1.288921</td>\n",
       "      <td>312</td>\n",
       "      <td>-0.107410</td>\n",
       "    </tr>\n",
       "    <tr>\n",
       "      <th>0.0009</th>\n",
       "      <td>-34.055324</td>\n",
       "      <td>24</td>\n",
       "      <td>-1.418972</td>\n",
       "      <td>288</td>\n",
       "      <td>-0.118248</td>\n",
       "    </tr>\n",
       "    <tr>\n",
       "      <th>0.001</th>\n",
       "      <td>-30.651227</td>\n",
       "      <td>24</td>\n",
       "      <td>-1.277134</td>\n",
       "      <td>288</td>\n",
       "      <td>-0.106428</td>\n",
       "    </tr>\n",
       "    <tr>\n",
       "      <th>0.002</th>\n",
       "      <td>-23.141884</td>\n",
       "      <td>22</td>\n",
       "      <td>-1.051904</td>\n",
       "      <td>264</td>\n",
       "      <td>-0.087659</td>\n",
       "    </tr>\n",
       "    <tr>\n",
       "      <th>0.005</th>\n",
       "      <td>-20.419492</td>\n",
       "      <td>20</td>\n",
       "      <td>-1.020975</td>\n",
       "      <td>240</td>\n",
       "      <td>-0.085081</td>\n",
       "    </tr>\n",
       "    <tr>\n",
       "      <th>0.025</th>\n",
       "      <td>-6.826827</td>\n",
       "      <td>6</td>\n",
       "      <td>-1.137804</td>\n",
       "      <td>72</td>\n",
       "      <td>-0.094817</td>\n",
       "    </tr>\n",
       "    <tr>\n",
       "      <th>0.03</th>\n",
       "      <td>-4.459935</td>\n",
       "      <td>3</td>\n",
       "      <td>-1.486645</td>\n",
       "      <td>36</td>\n",
       "      <td>-0.123887</td>\n",
       "    </tr>\n",
       "  </tbody>\n",
       "</table>\n",
       "</div>"
      ],
      "text/plain": [
       "                   lhood  n_muts  lhood_mut  entries  lhood_entries\n",
       "error_rate                                                         \n",
       "0.00005    -11886.137229    1018 -11.675970    12216      -0.972997\n",
       "0.00009     -2104.634643     239  -8.806003     2868      -0.733834\n",
       "0.0001      -1665.747970     193  -8.630818     2316      -0.719235\n",
       "0.0002       -389.108193      66  -5.895579      792      -0.491298\n",
       "0.0003       -129.650810      41  -3.162215      492      -0.263518\n",
       "0.0004       -124.117935      34  -3.650527      408      -0.304211\n",
       "0.0005       -105.449658      34  -3.101461      408      -0.258455\n",
       "0.0006        -58.557062      30  -1.951902      360      -0.162659\n",
       "0.0007        -38.863853      28  -1.387995      336      -0.115666\n",
       "0.0008        -33.511933      26  -1.288921      312      -0.107410\n",
       "0.0009        -34.055324      24  -1.418972      288      -0.118248\n",
       "0.001         -30.651227      24  -1.277134      288      -0.106428\n",
       "0.002         -23.141884      22  -1.051904      264      -0.087659\n",
       "0.005         -20.419492      20  -1.020975      240      -0.085081\n",
       "0.025          -6.826827       6  -1.137804       72      -0.094817\n",
       "0.03           -4.459935       3  -1.486645       36      -0.123887"
      ]
     },
     "execution_count": 9,
     "metadata": {},
     "output_type": "execute_result"
    }
   ],
   "source": [
    "# Create df\n",
    "samples = 12\n",
    "tree_data = pd.DataFrame(experiments)\n",
    "tree_data['lhood'] = lhood\n",
    "tree_data['n_muts'] = n_mut\n",
    "tree_data['lhood'] = tree_data['lhood'].astype(float)\n",
    "tree_data['lhood_mut'] = tree_data['lhood']/tree_data['n_muts']\n",
    "tree_data['entries'] = tree_data['n_muts']*samples\n",
    "tree_data['lhood_entries'] = tree_data['lhood']/tree_data['entries']\n",
    "tree_data = tree_data.rename(columns={0: 'error_rate'})\n",
    "tree_data = tree_data.set_index('error_rate')\n",
    "tree_data"
   ]
  },
  {
   "cell_type": "code",
   "execution_count": null,
   "id": "83ef8022",
   "metadata": {},
   "outputs": [],
   "source": []
  },
  {
   "cell_type": "markdown",
   "id": "cc45d605",
   "metadata": {},
   "source": [
    "## Plots"
   ]
  },
  {
   "cell_type": "code",
   "execution_count": 10,
   "id": "25cc2dbb",
   "metadata": {},
   "outputs": [
    {
     "data": {
      "image/png": "[encoded data removed]",
      "text/plain": [
       "<Figure size 432x288 with 1 Axes>"
      ]
     },
     "metadata": {
      "needs_background": "light"
     },
     "output_type": "display_data"
    }
   ],
   "source": [
    "with plot_style(figsize=(3, 2.7), ticklabelsize=10, labelsize=10):\n",
    "    tree_data.lhood.plot(marker='*', lw=1)\n",
    "    plt.grid(axis='both')\n",
    "    plt.xlabel('Error rate')\n",
    "    plt.ylabel('Likelihood score of best tree')\n",
    "    #plt.savefig('../../data/P9855_figures/P9855_lhood.svg', dpi=300, bbox_inches='tight', transparent=True)"
   ]
  },
  {
   "cell_type": "code",
   "execution_count": 11,
   "id": "d1aec3dc",
   "metadata": {},
   "outputs": [
    {
     "data": {
      "image/png": "[encoded data removed]",
      "text/plain": [
       "<Figure size 500x500 with 1 Axes>"
      ]
     },
     "metadata": {},
     "output_type": "display_data"
    }
   ],
   "source": [
    "with plot_style(figsize=(5, 5), ticklabelsize=18, labelsize=20):\n",
    "    tree_data.lhood_mut.plot(marker='o', lw=1)\n",
    "    plt.grid(axis='both')\n",
    "    #plt.xscale('log')\n",
    "    plt.xlabel('Error rate')\n",
    "    plt.ylabel('lhood / n mutations')\n",
    "    #plt.savefig('figs/performance/train_atac_log_lhood.png', dpi=300)"
   ]
  },
  {
   "cell_type": "code",
   "execution_count": 12,
   "id": "7ed12644",
   "metadata": {},
   "outputs": [
    {
     "data": {
      "image/png": "[encoded data removed]",
      "text/plain": [
       "<Figure size 300x270 with 1 Axes>"
      ]
     },
     "metadata": {},
     "output_type": "display_data"
    }
   ],
   "source": [
    "with plot_style(figsize=(3, 2.7), ticklabelsize=10, labelsize=10):\n",
    "    tree_data.lhood_entries.plot(marker='*', lw=1)\n",
    "    plt.grid(axis='both')\n",
    "    #plt.xscale('log')\n",
    "    plt.xlabel('Error rate')\n",
    "    plt.ylabel('Tree likelihood / matrix entries')\n",
    "    plt.savefig('../../data/P9855_figures/P9855_lhood_entries.svg', dpi=300, bbox_inches='tight', transparent=True)"
   ]
  },
  {
   "cell_type": "code",
   "execution_count": 13,
   "id": "e4138498",
   "metadata": {},
   "outputs": [
    {
     "data": {
      "image/png": "[encoded data removed]",
      "text/plain": [
       "<Figure size 300x270 with 1 Axes>"
      ]
     },
     "metadata": {},
     "output_type": "display_data"
    }
   ],
   "source": [
    "with plot_style(figsize=(3, 2.7), ticklabelsize=10, labelsize=10):\n",
    "    tree_data.entries.plot(marker='*', lw=1)\n",
    "    plt.grid(axis='both')\n",
    "    plt.yscale('log')\n",
    "    plt.xlabel('Error rate')\n",
    "    plt.ylabel('Matrix entries')\n",
    "    plt.savefig('../../data/P9855_figures/P9855_entries.svg', dpi=300, bbox_inches='tight', transparent=True)\n",
    "    #plt.savefig('figs/performance/train_atac_log_lhood.png', dpi=300)"
   ]
  },
  {
   "cell_type": "code",
   "execution_count": null,
   "id": "28d24c59",
   "metadata": {},
   "outputs": [],
   "source": [
    "    "
   ]
  },
  {
   "cell_type": "code",
   "execution_count": null,
   "id": "24a041e7",
   "metadata": {},
   "outputs": [],
   "source": []
  },
  {
   "cell_type": "code",
   "execution_count": null,
   "id": "83e5ed7a",
   "metadata": {},
   "outputs": [],
   "source": []
  },
  {
   "cell_type": "code",
   "execution_count": null,
   "id": "e8c0cb70",
   "metadata": {},
   "outputs": [],
   "source": []
  }
 ],
 "metadata": {
  "kernelspec": {
   "display_name": "mtSCITE",
   "language": "python",
   "name": "mtscite"
  },
  "language_info": {
   "codemirror_mode": {
    "name": "ipython",
    "version": 3
   },
   "file_extension": ".py",
   "mimetype": "text/x-python",
   "name": "python",
   "nbconvert_exporter": "python",
   "pygments_lexer": "ipython3",
   "version": "3.10.6"
  }
 },
 "nbformat": 4,
 "nbformat_minor": 5
}
